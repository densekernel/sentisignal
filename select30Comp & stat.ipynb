{
 "cells": [
  {
   "cell_type": "code",
   "execution_count": 1,
   "metadata": {
    "collapsed": true
   },
   "outputs": [],
   "source": [
    "import pandas as pd\n",
    "import numpy as np \n",
    "import pylab as P \n",
    "# Import the module for plotting\n",
    "import matplotlib.pyplot as plt\n",
    "from pandas import Series,DataFrame,merge,concat\n",
    "import pylab as P \n",
    "from datetime import datetime"
   ]
  },
  {
   "cell_type": "code",
   "execution_count": 2,
   "metadata": {
    "collapsed": true
   },
   "outputs": [],
   "source": [
    "# data import\n",
    "data = pd.read_csv('~/psychSignalData/output/selectedYear.csv')"
   ]
  },
  {
   "cell_type": "code",
   "execution_count": 3,
   "metadata": {
    "collapsed": true
   },
   "outputs": [
    {
     "data": {
      "text/plain": [
       "Index(['Unnamed: 0', 'SYMBOL', 'TIMESTAMP_UTC', 'BULLISH_INTENSITY',\n",
       "       'BEARISH_INTENSITY', 'BULL_MINUS_BEAR', 'BULL_SCORED_MESSAGES',\n",
       "       'BEAR_SCORED_MESSAGES', 'BULL_BEAR_MSG_RATIO',\n",
       "       'NEUTRAL_SCORED_MESSAGES', 'TOTAL_SENTIMENT_MESSAGES',\n",
       "       'TOTAL_SCANNED_MESSAGES', 'TITLE', 'EXCHANGE', 'BUSINESS_SECTOR'],\n",
       "      dtype='object')"
      ]
     },
     "execution_count": 3,
     "metadata": {},
     "output_type": "execute_result"
    }
   ],
   "source": [
    "data.columns"
   ]
  },
  {
   "cell_type": "code",
   "execution_count": 4,
   "metadata": {
    "collapsed": true
   },
   "outputs": [
    {
     "data": {
      "text/plain": [
       "<bound method IndexOpsMixin.unique of 0            AA\n",
       "1            AA\n",
       "2            AA\n",
       "3            AA\n",
       "4            AA\n",
       "5            AA\n",
       "6            AA\n",
       "7            AA\n",
       "8            AA\n",
       "9            AA\n",
       "10           AA\n",
       "11           AA\n",
       "12           AA\n",
       "13           AA\n",
       "14           AA\n",
       "15           AA\n",
       "16           AA\n",
       "17           AA\n",
       "18           AA\n",
       "19           AA\n",
       "20           AA\n",
       "21           AA\n",
       "22           AA\n",
       "23           AA\n",
       "24           AA\n",
       "25           AA\n",
       "26           AA\n",
       "27           AA\n",
       "28           AA\n",
       "29           AA\n",
       "           ... \n",
       "2506512    YORW\n",
       "2506513    YORW\n",
       "2506514    YORW\n",
       "2506515    YORW\n",
       "2506516    YORW\n",
       "2506517    YORW\n",
       "2506518    YORW\n",
       "2506519    YORW\n",
       "2506520    YORW\n",
       "2506521    YORW\n",
       "2506522    YORW\n",
       "2506523    YORW\n",
       "2506524    YORW\n",
       "2506525    YORW\n",
       "2506526    YORW\n",
       "2506527    YORW\n",
       "2506528    YORW\n",
       "2506529    YORW\n",
       "2506530    YORW\n",
       "2506531    YORW\n",
       "2506532    YORW\n",
       "2506533    YORW\n",
       "2506534    YORW\n",
       "2506535    YORW\n",
       "2506536    YORW\n",
       "2506537    YORW\n",
       "2506538    YORW\n",
       "2506539    YORW\n",
       "2506540    YORW\n",
       "2506541    YORW\n",
       "Name: SYMBOL, dtype: object>"
      ]
     },
     "execution_count": 4,
     "metadata": {},
     "output_type": "execute_result"
    }
   ],
   "source": [
    "data.SYMBOL.unique"
   ]
  },
  {
   "cell_type": "markdown",
   "metadata": {},
   "source": [
    "- Top 30 companies ranked on the total quantity of sentiment message in 2014 and 2015.\n",
    "- Do statistic on bull bear messege ratio for each 30 companies.\n",
    "- Transfor the ratio statistic data to DataFrame for visulization."
   ]
  },
  {
   "cell_type": "code",
   "execution_count": 51,
   "metadata": {
    "collapsed": false
   },
   "outputs": [],
   "source": [
    "SPY = data [data['SYMBOL'] == 'SPY']\n",
    "SPYs = SPY['BULL_BEAR_MSG_RATIO'].describe()\n",
    "SPYs = pd.DataFrame(SPYs).T"
   ]
  },
  {
   "cell_type": "code",
   "execution_count": 52,
   "metadata": {
    "collapsed": true
   },
   "outputs": [],
   "source": [
    "TSLA = data [data['SYMBOL'] == 'TSLA']\n",
    "TSLAs = TSLA['BULL_BEAR_MSG_RATIO'].describe()\n",
    "TSLAs = pd.DataFrame(TSLAs).T"
   ]
  },
  {
   "cell_type": "code",
   "execution_count": 53,
   "metadata": {
    "collapsed": true
   },
   "outputs": [],
   "source": [
    "AAPL = data [data['SYMBOL'] == 'AAPL']\n",
    "AAPLs = AAPL['BULL_BEAR_MSG_RATIO'].describe()\n",
    "AAPLs = pd.DataFrame(AAPLs).T"
   ]
  },
  {
   "cell_type": "code",
   "execution_count": 54,
   "metadata": {
    "collapsed": true
   },
   "outputs": [],
   "source": [
    "FB = data [data['SYMBOL'] == 'FB']\n",
    "FBs = FB['BULL_BEAR_MSG_RATIO'].describe()\n",
    "FBs = pd.DataFrame(FBs).T"
   ]
  },
  {
   "cell_type": "code",
   "execution_count": 55,
   "metadata": {
    "collapsed": true
   },
   "outputs": [],
   "source": [
    "TWTR = data [data['SYMBOL'] == 'TWTR']\n",
    "TWTRs = TWTR['BULL_BEAR_MSG_RATIO'].describe()\n",
    "TWTRs = pd.DataFrame(TWTRs).T"
   ]
  },
  {
   "cell_type": "code",
   "execution_count": 56,
   "metadata": {
    "collapsed": true
   },
   "outputs": [],
   "source": [
    "NFLX = data [data['SYMBOL'] == 'NFLX']\n",
    "NFLXs = NFLX['BULL_BEAR_MSG_RATIO'].describe()\n",
    "NFLXs = pd.DataFrame(NFLXs).T"
   ]
  },
  {
   "cell_type": "code",
   "execution_count": 57,
   "metadata": {
    "collapsed": true
   },
   "outputs": [],
   "source": [
    "QQQ = data [data['SYMBOL'] == 'QQQ']\n",
    "QQQs = QQQ['BULL_BEAR_MSG_RATIO'].describe()\n",
    "QQQs = pd.DataFrame(QQQs).T"
   ]
  },
  {
   "cell_type": "code",
   "execution_count": 58,
   "metadata": {
    "collapsed": true
   },
   "outputs": [],
   "source": [
    "AMZN = data [data['SYMBOL'] == 'AMZN']\n",
    "AMZNs = AMZN['BULL_BEAR_MSG_RATIO'].describe()\n",
    "AMZNs = pd.DataFrame(AMZNs).T"
   ]
  },
  {
   "cell_type": "code",
   "execution_count": 59,
   "metadata": {
    "collapsed": true
   },
   "outputs": [],
   "source": [
    "GPRO = data [data['SYMBOL'] == 'GPRO']\n",
    "GPROs = GPRO['BULL_BEAR_MSG_RATIO'].describe()\n",
    "GPROs = pd.DataFrame(GPROs).T"
   ]
  },
  {
   "cell_type": "code",
   "execution_count": 60,
   "metadata": {
    "collapsed": true
   },
   "outputs": [],
   "source": [
    "PLUG = data [data['SYMBOL'] == 'PLUG']\n",
    "PLUGs = PLUG['BULL_BEAR_MSG_RATIO'].describe()\n",
    "PLUGs = pd.DataFrame(PLUGs).T"
   ]
  },
  {
   "cell_type": "code",
   "execution_count": 61,
   "metadata": {
    "collapsed": true
   },
   "outputs": [],
   "source": [
    "BBRY = data [data['SYMBOL'] == 'BBRY']\n",
    "BBRYs = BBRY['BULL_BEAR_MSG_RATIO'].describe()\n",
    "BBRYs = pd.DataFrame(BBRYs).T"
   ]
  },
  {
   "cell_type": "code",
   "execution_count": 62,
   "metadata": {
    "collapsed": true
   },
   "outputs": [],
   "source": [
    "IWM = data [data['SYMBOL'] == 'IWM']\n",
    "IWMs = IWM['BULL_BEAR_MSG_RATIO'].describe()\n",
    "IWMs = pd.DataFrame(IWMs).T"
   ]
  },
  {
   "cell_type": "code",
   "execution_count": 63,
   "metadata": {
    "collapsed": true
   },
   "outputs": [],
   "source": [
    "GOOG = data [data['SYMBOL'] == 'GOOG']\n",
    "GOOGs = GOOG['BULL_BEAR_MSG_RATIO'].describe()\n",
    "GOOGs = pd.DataFrame(GOOGs).T"
   ]
  },
  {
   "cell_type": "code",
   "execution_count": 64,
   "metadata": {
    "collapsed": true
   },
   "outputs": [],
   "source": [
    "GLD = data [data['SYMBOL'] == 'GLD']\n",
    "GLDs = GLD['BULL_BEAR_MSG_RATIO'].describe()\n",
    "GLDs = pd.DataFrame(GLDs).T"
   ]
  },
  {
   "cell_type": "code",
   "execution_count": 65,
   "metadata": {
    "collapsed": true
   },
   "outputs": [],
   "source": [
    "GILD = data [data['SYMBOL'] == 'GILD']\n",
    "GILDs = GILD['BULL_BEAR_MSG_RATIO'].describe()\n",
    "GILDs = pd.DataFrame(GILDs).T"
   ]
  },
  {
   "cell_type": "code",
   "execution_count": 66,
   "metadata": {
    "collapsed": true
   },
   "outputs": [],
   "source": [
    "MNKD = data [data['SYMBOL'] == 'MNKD']\n",
    "MNKDs = MNKD['BULL_BEAR_MSG_RATIO'].describe()\n",
    "MNKDs = pd.DataFrame(MNKDs).T"
   ]
  },
  {
   "cell_type": "code",
   "execution_count": 67,
   "metadata": {
    "collapsed": true
   },
   "outputs": [],
   "source": [
    "USO = data [data['SYMBOL'] == 'USO']\n",
    "USOs = USO['BULL_BEAR_MSG_RATIO'].describe()\n",
    "USOs = pd.DataFrame(USOs).T"
   ]
  },
  {
   "cell_type": "code",
   "execution_count": 68,
   "metadata": {
    "collapsed": true
   },
   "outputs": [],
   "source": [
    "DIA = data [data['SYMBOL'] == 'DIA']\n",
    "DIAs = DIA['BULL_BEAR_MSG_RATIO'].describe()\n",
    "DIAs = pd.DataFrame(DIAs).T"
   ]
  },
  {
   "cell_type": "code",
   "execution_count": 69,
   "metadata": {
    "collapsed": true
   },
   "outputs": [],
   "source": [
    "KNDI = data [data['SYMBOL'] == 'KNDI']\n",
    "KNDIs = KNDI['BULL_BEAR_MSG_RATIO'].describe()\n",
    "KNDIs = pd.DataFrame(KNDIs).T"
   ]
  },
  {
   "cell_type": "code",
   "execution_count": 70,
   "metadata": {
    "collapsed": true
   },
   "outputs": [],
   "source": [
    "UVXY = data [data['SYMBOL'] == 'UVXY']\n",
    "UVXYs = UVXY['BULL_BEAR_MSG_RATIO'].describe()\n",
    "UVXYs = pd.DataFrame(UVXYs).T"
   ]
  },
  {
   "cell_type": "code",
   "execution_count": 71,
   "metadata": {
    "collapsed": true
   },
   "outputs": [],
   "source": [
    "YHOO = data [data['SYMBOL'] == 'YHOO']\n",
    "YHOOs = YHOO['BULL_BEAR_MSG_RATIO'].describe()\n",
    "YHOOs = pd.DataFrame(YHOOs).T"
   ]
  },
  {
   "cell_type": "code",
   "execution_count": 72,
   "metadata": {
    "collapsed": true
   },
   "outputs": [],
   "source": [
    "IBB = data [data['SYMBOL'] == 'IBB']\n",
    "IBBs = IBB['BULL_BEAR_MSG_RATIO'].describe()\n",
    "IBBs = pd.DataFrame(IBBs).T"
   ]
  },
  {
   "cell_type": "code",
   "execution_count": 73,
   "metadata": {
    "collapsed": true
   },
   "outputs": [],
   "source": [
    "MSFT = data [data['SYMBOL'] == 'MSFT']\n",
    "MSFTs = MSFT['BULL_BEAR_MSG_RATIO'].describe()\n",
    "MSFTs = pd.DataFrame(MSFTs).T"
   ]
  },
  {
   "cell_type": "code",
   "execution_count": 74,
   "metadata": {
    "collapsed": true
   },
   "outputs": [],
   "source": [
    "NQ = data [data['SYMBOL'] == 'NQ']\n",
    "NQs = NQ['BULL_BEAR_MSG_RATIO'].describe()\n",
    "NQs = pd.DataFrame(NQs).T"
   ]
  },
  {
   "cell_type": "code",
   "execution_count": 75,
   "metadata": {
    "collapsed": true
   },
   "outputs": [],
   "source": [
    "AP = data [data['SYMBOL'] == 'AP']\n",
    "APs = AP['BULL_BEAR_MSG_RATIO'].describe()\n",
    "APs = pd.DataFrame(APs).T"
   ]
  },
  {
   "cell_type": "code",
   "execution_count": 76,
   "metadata": {
    "collapsed": true
   },
   "outputs": [],
   "source": [
    "PCLN = data [data['SYMBOL'] == 'PCLN']\n",
    "PCLNs = PCLN['BULL_BEAR_MSG_RATIO'].describe()\n",
    "PCLNs = pd.DataFrame(PCLNs).T"
   ]
  },
  {
   "cell_type": "code",
   "execution_count": 77,
   "metadata": {
    "collapsed": true
   },
   "outputs": [],
   "source": [
    "VRX = data [data['SYMBOL'] == 'VRX']\n",
    "VRXs = VRX['BULL_BEAR_MSG_RATIO'].describe()\n",
    "VRXs = pd.DataFrame(VRXs).T"
   ]
  },
  {
   "cell_type": "code",
   "execution_count": 78,
   "metadata": {
    "collapsed": true
   },
   "outputs": [],
   "source": [
    "GDX = data [data['SYMBOL'] == 'GDX']\n",
    "GDXs = GDX['BULL_BEAR_MSG_RATIO'].describe()\n",
    "GDXs = pd.DataFrame(GDXs).T"
   ]
  },
  {
   "cell_type": "code",
   "execution_count": 79,
   "metadata": {
    "collapsed": true
   },
   "outputs": [],
   "source": [
    "NUGT = data [data['SYMBOL'] == 'NUGT']\n",
    "NUGTs = NUGT['BULL_BEAR_MSG_RATIO'].describe()\n",
    "NUGTs = pd.DataFrame(NUGTs).T"
   ]
  },
  {
   "cell_type": "code",
   "execution_count": 80,
   "metadata": {
    "collapsed": true
   },
   "outputs": [],
   "source": [
    "DIS = data [data['SYMBOL'] == 'DIS']\n",
    "DISs = DIS['BULL_BEAR_MSG_RATIO'].describe() \n",
    "DISs = pd.DataFrame(DISs).T"
   ]
  },
  {
   "cell_type": "markdown",
   "metadata": {
    "collapsed": true
   },
   "source": [
    "- Combine the bull bear msg ratio statistic, and then export to statComRatio.csv"
   ]
  },
  {
   "cell_type": "code",
   "execution_count": 85,
   "metadata": {
    "collapsed": false
   },
   "outputs": [],
   "source": [
    "statCom = concat([SPYs,AAPLs,FBs,TWTRs,TSLAs,NFLXs,QQQs,AMZNs,GPROs,PLUGs,BBRYs,IWMs,GOOGs,GLDs,GILDs,MNKDs,USOs,DIAs,\n",
    "                 KNDIs,UVXYs,YHOOs,IBBs,MSFTs,NQs,APs,PCLNs,VRXs,GDXs,NUGTs,DISs],\n",
    "                keys = ['SPY','AAPL','FB','TWTR','TSLA','NFLX','QQQ','AMZN','GPRO','PLUG','BBRY','IWM','GOOG','GLD',\n",
    "                        'GILD','MNKD','USO','DIA','KNDI','UVXY','YHOO','IBB','MSFT','NQ','AP','PCLN','VRX','GDX','NUGT','DIS'])\n",
    "statCom.to_csv('~/psychSignalData/output/statComRatio.csv', encoding='utf-8')"
   ]
  },
  {
   "cell_type": "markdown",
   "metadata": {
    "collapsed": true
   },
   "source": [
    "- Combine the 30 companies data information together, and then export to 30Companies.csv for further analysis"
   ]
  },
  {
   "cell_type": "code",
   "execution_count": 87,
   "metadata": {
    "collapsed": true
   },
   "outputs": [],
   "source": [
    "# merge the sectors datasets together\n",
    "Data = concat([SPY,AAPL,FB,TWTR,TSLA,NFLX,QQQ,AMZN,GPRO,PLUG,BBRY,IWM,GOOG,GLD,GILD,MNKD,USO,DIA,\n",
    "               KNDI,UVXY,YHOO,IBB,MSFT,NQ,AP,PCLN,VRX,GDX,NUGT,DIS])\n",
    "Data.to_csv('~/psychSignalData/output/30Companies.csv', encoding='utf-8')"
   ]
  },
  {
   "cell_type": "code",
   "execution_count": null,
   "metadata": {
    "collapsed": true
   },
   "outputs": [],
   "source": []
  }
 ],
 "metadata": {
  "kernelspec": {
   "display_name": "Python 3",
   "language": "python",
   "name": "python3"
  },
  "language_info": {
   "codemirror_mode": {
    "name": "ipython",
    "version": 3
   },
   "file_extension": ".py",
   "mimetype": "text/x-python",
   "name": "python",
   "nbconvert_exporter": "python",
   "pygments_lexer": "ipython3",
   "version": "3.5.1"
  }
 },
 "nbformat": 4,
 "nbformat_minor": 0
}
