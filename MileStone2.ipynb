{
 "cells": [
  {
   "cell_type": "code",
   "execution_count": 1,
   "metadata": {
    "collapsed": true
   },
   "outputs": [],
   "source": [
    "import pandas as pd\n",
    "import numpy as np \n",
    "import pylab as P \n",
    "from yahoo_finance import Share\n",
    "from pprint import pprint\n",
    "# Import the module for plotting\n",
    "import matplotlib.pyplot as plt\n",
    "from pandas import Series,DataFrame,merge,concat\n",
    "import pylab as P \n",
    "from datetime import datetime\n",
    "from pandas.tseries.offsets import Day, BusinessDay\n",
    "%matplotlib inline"
   ]
  },
  {
   "cell_type": "markdown",
   "metadata": {},
   "source": [
    "# Finance Data"
   ]
  },
  {
   "cell_type": "code",
   "execution_count": 2,
   "metadata": {
    "collapsed": false
   },
   "outputs": [
    {
     "name": "stdout",
     "output_type": "stream",
     "text": [
      "<class 'pandas.core.frame.DataFrame'>\n",
      "DatetimeIndex: 756 entries, 2015-12-31 to 2013-01-02\n",
      "Data columns (total 8 columns):\n",
      "Adj_Close    756 non-null object\n",
      "Close        756 non-null object\n",
      "Date         756 non-null datetime64[ns]\n",
      "High         756 non-null object\n",
      "Low          756 non-null object\n",
      "Open         756 non-null object\n",
      "Symbol       756 non-null object\n",
      "Volume       756 non-null object\n",
      "dtypes: datetime64[ns](1), object(7)\n",
      "memory usage: 53.2+ KB\n"
     ]
    }
   ],
   "source": [
    "googleS = Share('GOOGL')\n",
    "google_hist = googleS.get_historical('2013-01-01', '2016-01-01')\n",
    "googleF = DataFrame(google_hist)\n",
    "googleF['Date'] = googleF['Date'].apply(lambda x: datetime.strptime(str(x),'%Y-%m-%d'))\n",
    "googleF.index = googleF['Date']\n",
    "googleF.info()"
   ]
  },
  {
   "cell_type": "code",
   "execution_count": 3,
   "metadata": {
    "collapsed": false
   },
   "outputs": [
    {
     "data": {
      "text/html": [
       "<div>\n",
       "<table border=\"1\" class=\"dataframe\">\n",
       "  <thead>\n",
       "    <tr style=\"text-align: right;\">\n",
       "      <th></th>\n",
       "      <th>Adj_Close</th>\n",
       "      <th>Close</th>\n",
       "      <th>Date</th>\n",
       "      <th>High</th>\n",
       "      <th>Low</th>\n",
       "      <th>Open</th>\n",
       "      <th>Symbol</th>\n",
       "      <th>Volume</th>\n",
       "    </tr>\n",
       "    <tr>\n",
       "      <th>Date</th>\n",
       "      <th></th>\n",
       "      <th></th>\n",
       "      <th></th>\n",
       "      <th></th>\n",
       "      <th></th>\n",
       "      <th></th>\n",
       "      <th></th>\n",
       "      <th></th>\n",
       "    </tr>\n",
       "  </thead>\n",
       "  <tbody>\n",
       "    <tr>\n",
       "      <th>2013-01-08</th>\n",
       "      <td>367.017034</td>\n",
       "      <td>733.300033</td>\n",
       "      <td>2013-01-08</td>\n",
       "      <td>736.300021</td>\n",
       "      <td>724.430006</td>\n",
       "      <td>735.540039</td>\n",
       "      <td>GOOGL</td>\n",
       "      <td>3348800</td>\n",
       "    </tr>\n",
       "    <tr>\n",
       "      <th>2013-01-07</th>\n",
       "      <td>367.742742</td>\n",
       "      <td>734.749998</td>\n",
       "      <td>2013-01-07</td>\n",
       "      <td>739.380007</td>\n",
       "      <td>730.580038</td>\n",
       "      <td>735.449981</td>\n",
       "      <td>GOOGL</td>\n",
       "      <td>3308000</td>\n",
       "    </tr>\n",
       "    <tr>\n",
       "      <th>2013-01-04</th>\n",
       "      <td>369.354344</td>\n",
       "      <td>737.96998</td>\n",
       "      <td>2013-01-04</td>\n",
       "      <td>741.470017</td>\n",
       "      <td>727.679987</td>\n",
       "      <td>729.340008</td>\n",
       "      <td>GOOGL</td>\n",
       "      <td>5521400</td>\n",
       "    </tr>\n",
       "    <tr>\n",
       "      <th>2013-01-03</th>\n",
       "      <td>362.197209</td>\n",
       "      <td>723.670024</td>\n",
       "      <td>2013-01-03</td>\n",
       "      <td>731.930005</td>\n",
       "      <td>720.720035</td>\n",
       "      <td>724.929993</td>\n",
       "      <td>GOOGL</td>\n",
       "      <td>4631700</td>\n",
       "    </tr>\n",
       "    <tr>\n",
       "      <th>2013-01-02</th>\n",
       "      <td>361.987004</td>\n",
       "      <td>723.250034</td>\n",
       "      <td>2013-01-02</td>\n",
       "      <td>727.000004</td>\n",
       "      <td>716.550015</td>\n",
       "      <td>719.420006</td>\n",
       "      <td>GOOGL</td>\n",
       "      <td>5077500</td>\n",
       "    </tr>\n",
       "  </tbody>\n",
       "</table>\n",
       "</div>"
      ],
      "text/plain": [
       "             Adj_Close       Close       Date        High         Low  \\\n",
       "Date                                                                    \n",
       "2013-01-08  367.017034  733.300033 2013-01-08  736.300021  724.430006   \n",
       "2013-01-07  367.742742  734.749998 2013-01-07  739.380007  730.580038   \n",
       "2013-01-04  369.354344   737.96998 2013-01-04  741.470017  727.679987   \n",
       "2013-01-03  362.197209  723.670024 2013-01-03  731.930005  720.720035   \n",
       "2013-01-02  361.987004  723.250034 2013-01-02  727.000004  716.550015   \n",
       "\n",
       "                  Open Symbol   Volume  \n",
       "Date                                    \n",
       "2013-01-08  735.540039  GOOGL  3348800  \n",
       "2013-01-07  735.449981  GOOGL  3308000  \n",
       "2013-01-04  729.340008  GOOGL  5521400  \n",
       "2013-01-03  724.929993  GOOGL  4631700  \n",
       "2013-01-02  719.420006  GOOGL  5077500  "
      ]
     },
     "execution_count": 3,
     "metadata": {},
     "output_type": "execute_result"
    }
   ],
   "source": [
    "googleF.tail()"
   ]
  },
  {
   "cell_type": "markdown",
   "metadata": {},
   "source": [
    "# Tweets Data"
   ]
  },
  {
   "cell_type": "code",
   "execution_count": 5,
   "metadata": {
    "collapsed": false
   },
   "outputs": [],
   "source": [
    "# data import using the Data combined by Sectors\n",
    "rawdata = pd.read_csv('../data/preprocessed/DataBySectors.csv')\n",
    "data = rawdata.ix[:,3:]"
   ]
  },
  {
   "cell_type": "code",
   "execution_count": 6,
   "metadata": {
    "collapsed": false
   },
   "outputs": [
    {
     "name": "stdout",
     "output_type": "stream",
     "text": [
      "['NASDAQ']\n",
      "[2289]\n",
      "['Technology']\n"
     ]
    },
    {
     "data": {
      "text/html": [
       "<div>\n",
       "<table border=\"1\" class=\"dataframe\">\n",
       "  <thead>\n",
       "    <tr style=\"text-align: right;\">\n",
       "      <th></th>\n",
       "      <th>SYMBOL</th>\n",
       "      <th>TIMESTAMP_UTC</th>\n",
       "      <th>BULLISH_INTENSITY</th>\n",
       "      <th>BEARISH_INTENSITY</th>\n",
       "      <th>BULL_MINUS_BEAR</th>\n",
       "      <th>BULL_SCORED_MESSAGES</th>\n",
       "      <th>BEAR_SCORED_MESSAGES</th>\n",
       "      <th>BULL_BEAR_MSG_RATIO</th>\n",
       "      <th>TOTAL_SCANNED_MESSAGES</th>\n",
       "      <th>TITLE</th>\n",
       "      <th>EXCHANGE</th>\n",
       "      <th>BUSINESS_SECTOR</th>\n",
       "    </tr>\n",
       "  </thead>\n",
       "  <tbody>\n",
       "    <tr>\n",
       "      <th>5289172</th>\n",
       "      <td>GOOG</td>\n",
       "      <td>2009-07-10T04:00:00Z</td>\n",
       "      <td>2.3</td>\n",
       "      <td>0</td>\n",
       "      <td>2.3</td>\n",
       "      <td>1</td>\n",
       "      <td>0</td>\n",
       "      <td>0</td>\n",
       "      <td>2</td>\n",
       "      <td>Google Inc.</td>\n",
       "      <td>NASDAQ</td>\n",
       "      <td>Technology</td>\n",
       "    </tr>\n",
       "    <tr>\n",
       "      <th>5289173</th>\n",
       "      <td>GOOG</td>\n",
       "      <td>2009-07-11T04:00:00Z</td>\n",
       "      <td>0.0</td>\n",
       "      <td>0</td>\n",
       "      <td>0.0</td>\n",
       "      <td>0</td>\n",
       "      <td>0</td>\n",
       "      <td>0</td>\n",
       "      <td>2</td>\n",
       "      <td>Google Inc.</td>\n",
       "      <td>NASDAQ</td>\n",
       "      <td>Technology</td>\n",
       "    </tr>\n",
       "    <tr>\n",
       "      <th>5289174</th>\n",
       "      <td>GOOG</td>\n",
       "      <td>2009-08-21T04:00:00Z</td>\n",
       "      <td>0.0</td>\n",
       "      <td>0</td>\n",
       "      <td>0.0</td>\n",
       "      <td>0</td>\n",
       "      <td>0</td>\n",
       "      <td>0</td>\n",
       "      <td>1</td>\n",
       "      <td>Google Inc.</td>\n",
       "      <td>NASDAQ</td>\n",
       "      <td>Technology</td>\n",
       "    </tr>\n",
       "    <tr>\n",
       "      <th>5289175</th>\n",
       "      <td>GOOG</td>\n",
       "      <td>2009-08-23T04:00:00Z</td>\n",
       "      <td>0.0</td>\n",
       "      <td>0</td>\n",
       "      <td>0.0</td>\n",
       "      <td>0</td>\n",
       "      <td>0</td>\n",
       "      <td>0</td>\n",
       "      <td>1</td>\n",
       "      <td>Google Inc.</td>\n",
       "      <td>NASDAQ</td>\n",
       "      <td>Technology</td>\n",
       "    </tr>\n",
       "    <tr>\n",
       "      <th>5289176</th>\n",
       "      <td>GOOG</td>\n",
       "      <td>2009-08-31T04:00:00Z</td>\n",
       "      <td>0.0</td>\n",
       "      <td>0</td>\n",
       "      <td>0.0</td>\n",
       "      <td>0</td>\n",
       "      <td>0</td>\n",
       "      <td>0</td>\n",
       "      <td>1</td>\n",
       "      <td>Google Inc.</td>\n",
       "      <td>NASDAQ</td>\n",
       "      <td>Technology</td>\n",
       "    </tr>\n",
       "  </tbody>\n",
       "</table>\n",
       "</div>"
      ],
      "text/plain": [
       "        SYMBOL         TIMESTAMP_UTC  BULLISH_INTENSITY  BEARISH_INTENSITY  \\\n",
       "5289172   GOOG  2009-07-10T04:00:00Z                2.3                  0   \n",
       "5289173   GOOG  2009-07-11T04:00:00Z                0.0                  0   \n",
       "5289174   GOOG  2009-08-21T04:00:00Z                0.0                  0   \n",
       "5289175   GOOG  2009-08-23T04:00:00Z                0.0                  0   \n",
       "5289176   GOOG  2009-08-31T04:00:00Z                0.0                  0   \n",
       "\n",
       "         BULL_MINUS_BEAR  BULL_SCORED_MESSAGES  BEAR_SCORED_MESSAGES  \\\n",
       "5289172              2.3                     1                     0   \n",
       "5289173              0.0                     0                     0   \n",
       "5289174              0.0                     0                     0   \n",
       "5289175              0.0                     0                     0   \n",
       "5289176              0.0                     0                     0   \n",
       "\n",
       "         BULL_BEAR_MSG_RATIO  TOTAL_SCANNED_MESSAGES        TITLE EXCHANGE  \\\n",
       "5289172                    0                       2  Google Inc.   NASDAQ   \n",
       "5289173                    0                       2  Google Inc.   NASDAQ   \n",
       "5289174                    0                       1  Google Inc.   NASDAQ   \n",
       "5289175                    0                       1  Google Inc.   NASDAQ   \n",
       "5289176                    0                       1  Google Inc.   NASDAQ   \n",
       "\n",
       "        BUSINESS_SECTOR  \n",
       "5289172      Technology  \n",
       "5289173      Technology  \n",
       "5289174      Technology  \n",
       "5289175      Technology  \n",
       "5289176      Technology  "
      ]
     },
     "execution_count": 6,
     "metadata": {},
     "output_type": "execute_result"
    }
   ],
   "source": [
    "# select company data\n",
    "googleT = data[data['SYMBOL'] == 'GOOG']\n",
    "print(googleT['EXCHANGE'].unique())\n",
    "print(googleT.count().unique())\n",
    "print(googleT['BUSINESS_SECTOR'].unique())\n",
    "googleT.head()"
   ]
  },
  {
   "cell_type": "code",
   "execution_count": 7,
   "metadata": {
    "collapsed": false
   },
   "outputs": [
    {
     "name": "stderr",
     "output_type": "stream",
     "text": [
      "/Library/Frameworks/Python.framework/Versions/2.7/lib/python2.7/site-packages/ipykernel/__main__.py:2: SettingWithCopyWarning: \n",
      "A value is trying to be set on a copy of a slice from a DataFrame.\n",
      "Try using .loc[row_indexer,col_indexer] = value instead\n",
      "\n",
      "See the caveats in the documentation: http://pandas.pydata.org/pandas-docs/stable/indexing.html#indexing-view-versus-copy\n",
      "  from ipykernel import kernelapp as app\n",
      "/Library/Frameworks/Python.framework/Versions/2.7/lib/python2.7/site-packages/ipykernel/__main__.py:3: SettingWithCopyWarning: \n",
      "A value is trying to be set on a copy of a slice from a DataFrame.\n",
      "Try using .loc[row_indexer,col_indexer] = value instead\n",
      "\n",
      "See the caveats in the documentation: http://pandas.pydata.org/pandas-docs/stable/indexing.html#indexing-view-versus-copy\n",
      "  app.launch_new_instance()\n",
      "/Library/Frameworks/Python.framework/Versions/2.7/lib/python2.7/site-packages/ipykernel/__main__.py:4: SettingWithCopyWarning: \n",
      "A value is trying to be set on a copy of a slice from a DataFrame.\n",
      "Try using .loc[row_indexer,col_indexer] = value instead\n",
      "\n",
      "See the caveats in the documentation: http://pandas.pydata.org/pandas-docs/stable/indexing.html#indexing-view-versus-copy\n"
     ]
    },
    {
     "name": "stdout",
     "output_type": "stream",
     "text": [
      "<class 'pandas.core.frame.DataFrame'>\n",
      "Int64Index: 2289 entries, 5289172 to 5291460\n",
      "Data columns (total 13 columns):\n",
      "SYMBOL                    2289 non-null object\n",
      "TIMESTAMP_UTC             2289 non-null datetime64[ns]\n",
      "BULLISH_INTENSITY         2289 non-null float64\n",
      "BEARISH_INTENSITY         2289 non-null float64\n",
      "BULL_MINUS_BEAR           2289 non-null float64\n",
      "BULL_SCORED_MESSAGES      2289 non-null float64\n",
      "BEAR_SCORED_MESSAGES      2289 non-null float64\n",
      "BULL_BEAR_MSG_RATIO       2289 non-null float64\n",
      "TOTAL_SCANNED_MESSAGES    2289 non-null float64\n",
      "TITLE                     2289 non-null object\n",
      "EXCHANGE                  2289 non-null object\n",
      "BUSINESS_SECTOR           2289 non-null object\n",
      "Date                      2289 non-null datetime64[ns]\n",
      "dtypes: datetime64[ns](2), float64(7), object(4)\n",
      "memory usage: 250.4+ KB\n"
     ]
    }
   ],
   "source": [
    "# change timestamp for table merge\n",
    "googleT['TIMESTAMP_UTC'] = googleT['TIMESTAMP_UTC'].apply(lambda x: datetime.strptime(x,'%Y-%m-%dT%H:%M:%SZ'))\n",
    "googleT['Date'] = googleT['TIMESTAMP_UTC'].apply(lambda x: x.strftime('%x'))\n",
    "googleT['Date'] = googleT['Date'].apply(lambda x: pd.to_datetime(x))\n",
    "googleT.info()"
   ]
  },
  {
   "cell_type": "markdown",
   "metadata": {},
   "source": [
    "# Merge Finance and Tweets Data"
   ]
  },
  {
   "cell_type": "code",
   "execution_count": 8,
   "metadata": {
    "collapsed": true
   },
   "outputs": [],
   "source": [
    "# merge\n",
    "google = merge(googleT,googleF,on='Date',how = \"right\")"
   ]
  },
  {
   "cell_type": "code",
   "execution_count": 9,
   "metadata": {
    "collapsed": false
   },
   "outputs": [
    {
     "name": "stdout",
     "output_type": "stream",
     "text": [
      "<class 'pandas.core.frame.DataFrame'>\n",
      "Int64Index: 756 entries, 0 to 755\n",
      "Data columns (total 20 columns):\n",
      "SYMBOL                    756 non-null object\n",
      "TIMESTAMP_UTC             756 non-null datetime64[ns]\n",
      "BULLISH_INTENSITY         756 non-null float64\n",
      "BEARISH_INTENSITY         756 non-null float64\n",
      "BULL_MINUS_BEAR           756 non-null float64\n",
      "BULL_SCORED_MESSAGES      756 non-null float64\n",
      "BEAR_SCORED_MESSAGES      756 non-null float64\n",
      "BULL_BEAR_MSG_RATIO       756 non-null float64\n",
      "TOTAL_SCANNED_MESSAGES    756 non-null float64\n",
      "TITLE                     756 non-null object\n",
      "EXCHANGE                  756 non-null object\n",
      "BUSINESS_SECTOR           756 non-null object\n",
      "Date                      756 non-null datetime64[ns]\n",
      "Adj_Close                 756 non-null object\n",
      "Close                     756 non-null object\n",
      "High                      756 non-null object\n",
      "Low                       756 non-null object\n",
      "Open                      756 non-null object\n",
      "Symbol                    756 non-null object\n",
      "Volume                    756 non-null object\n",
      "dtypes: datetime64[ns](2), float64(7), object(11)\n",
      "memory usage: 124.0+ KB\n"
     ]
    }
   ],
   "source": [
    "google.info()"
   ]
  },
  {
   "cell_type": "markdown",
   "metadata": {},
   "source": [
    "# Dataset Preprocessing"
   ]
  },
  {
   "cell_type": "code",
   "execution_count": 10,
   "metadata": {
    "collapsed": false
   },
   "outputs": [],
   "source": [
    "def volume_dataset(df):\n",
    "    df.Volume = df.Volume.astype(float)\n",
    "    df.Adj_Close = df.Adj_Close.astype(float)\n",
    "    return df.ix[:,[12,2,3,4,5,6,7,13,15,16,17,19,10,11,0]]\n",
    "\n",
    "def log_return(df):\n",
    "    return df.Adj_Close.pct_change()\n",
    "\n",
    "def log_bulliness(df):\n",
    "    f = DataFrame(df.ix[:,['BULL_SCORED_MESSAGES','BEAR_SCORED_MESSAGES']])\n",
    "    f['posVol'] = 1 + f['BULL_SCORED_MESSAGES']\n",
    "    f['negVol'] = 1 + f['BEAR_SCORED_MESSAGES']\n",
    "    return np.log(f.posVol)-np.log(f.negVol)\n",
    "\n",
    "def log_ratio(df):\n",
    "    f = DataFrame(df.ix[:,['BULL_SCORED_MESSAGES','BEAR_SCORED_MESSAGES']])\n",
    "    return np.log(f.BULL_SCORED_MESSAGES)-np.log(f.BEAR_SCORED_MESSAGES)\n",
    "\n",
    "def TISf(df):\n",
    "    f = DataFrame(df.ix[:,['BULL_SCORED_MESSAGES','BEAR_SCORED_MESSAGES']])\n",
    "    return (1+f['BULL_SCORED_MESSAGES'])/(1+ f['BULL_SCORED_MESSAGES']+f['BEAR_SCORED_MESSAGES'])\n",
    "\n",
    "def RTISf(df):\n",
    "    return df.TIS.pct_change()"
   ]
  },
  {
   "cell_type": "code",
   "execution_count": 11,
   "metadata": {
    "collapsed": false
   },
   "outputs": [
    {
     "name": "stderr",
     "output_type": "stream",
     "text": [
      "/Library/Frameworks/Python.framework/Versions/2.7/lib/python2.7/site-packages/ipykernel/__main__.py:4: SettingWithCopyWarning: \n",
      "A value is trying to be set on a copy of a slice from a DataFrame.\n",
      "Try using .loc[row_indexer,col_indexer] = value instead\n",
      "\n",
      "See the caveats in the documentation: http://pandas.pydata.org/pandas-docs/stable/indexing.html#indexing-view-versus-copy\n",
      "/Library/Frameworks/Python.framework/Versions/2.7/lib/python2.7/site-packages/ipykernel/__main__.py:5: SettingWithCopyWarning: \n",
      "A value is trying to be set on a copy of a slice from a DataFrame.\n",
      "Try using .loc[row_indexer,col_indexer] = value instead\n",
      "\n",
      "See the caveats in the documentation: http://pandas.pydata.org/pandas-docs/stable/indexing.html#indexing-view-versus-copy\n",
      "/Library/Frameworks/Python.framework/Versions/2.7/lib/python2.7/site-packages/ipykernel/__main__.py:6: SettingWithCopyWarning: \n",
      "A value is trying to be set on a copy of a slice from a DataFrame.\n",
      "Try using .loc[row_indexer,col_indexer] = value instead\n",
      "\n",
      "See the caveats in the documentation: http://pandas.pydata.org/pandas-docs/stable/indexing.html#indexing-view-versus-copy\n",
      "/Library/Frameworks/Python.framework/Versions/2.7/lib/python2.7/site-packages/ipykernel/__main__.py:7: SettingWithCopyWarning: \n",
      "A value is trying to be set on a copy of a slice from a DataFrame.\n",
      "Try using .loc[row_indexer,col_indexer] = value instead\n",
      "\n",
      "See the caveats in the documentation: http://pandas.pydata.org/pandas-docs/stable/indexing.html#indexing-view-versus-copy\n"
     ]
    },
    {
     "data": {
      "text/html": [
       "<div>\n",
       "<table border=\"1\" class=\"dataframe\">\n",
       "  <thead>\n",
       "    <tr style=\"text-align: right;\">\n",
       "      <th></th>\n",
       "      <th>Date</th>\n",
       "      <th>BULLISH_INTENSITY</th>\n",
       "      <th>BEARISH_INTENSITY</th>\n",
       "      <th>BULL_MINUS_BEAR</th>\n",
       "      <th>BULL_SCORED_MESSAGES</th>\n",
       "      <th>BEAR_SCORED_MESSAGES</th>\n",
       "      <th>BULL_BEAR_MSG_RATIO</th>\n",
       "      <th>Adj_Close</th>\n",
       "      <th>High</th>\n",
       "      <th>Low</th>\n",
       "      <th>Open</th>\n",
       "      <th>Volume</th>\n",
       "      <th>EXCHANGE</th>\n",
       "      <th>BUSINESS_SECTOR</th>\n",
       "      <th>SYMBOL</th>\n",
       "      <th>Bullishness</th>\n",
       "      <th>BuBeRatio</th>\n",
       "      <th>TIS</th>\n",
       "      <th>RTIS</th>\n",
       "      <th>Return</th>\n",
       "    </tr>\n",
       "    <tr>\n",
       "      <th>Date</th>\n",
       "      <th></th>\n",
       "      <th></th>\n",
       "      <th></th>\n",
       "      <th></th>\n",
       "      <th></th>\n",
       "      <th></th>\n",
       "      <th></th>\n",
       "      <th></th>\n",
       "      <th></th>\n",
       "      <th></th>\n",
       "      <th></th>\n",
       "      <th></th>\n",
       "      <th></th>\n",
       "      <th></th>\n",
       "      <th></th>\n",
       "      <th></th>\n",
       "      <th></th>\n",
       "      <th></th>\n",
       "      <th></th>\n",
       "      <th></th>\n",
       "    </tr>\n",
       "  </thead>\n",
       "  <tbody>\n",
       "    <tr>\n",
       "      <th>2013-01-02</th>\n",
       "      <td>2013-01-02</td>\n",
       "      <td>1.95</td>\n",
       "      <td>1.64</td>\n",
       "      <td>0.31</td>\n",
       "      <td>65</td>\n",
       "      <td>38</td>\n",
       "      <td>1.71</td>\n",
       "      <td>361.987004</td>\n",
       "      <td>727.000004</td>\n",
       "      <td>716.550015</td>\n",
       "      <td>719.420006</td>\n",
       "      <td>5077500</td>\n",
       "      <td>NASDAQ</td>\n",
       "      <td>Technology</td>\n",
       "      <td>GOOG</td>\n",
       "      <td>0.526093</td>\n",
       "      <td>0.536801</td>\n",
       "      <td>0.634615</td>\n",
       "      <td>NaN</td>\n",
       "      <td>NaN</td>\n",
       "    </tr>\n",
       "    <tr>\n",
       "      <th>2013-01-03</th>\n",
       "      <td>2013-01-03</td>\n",
       "      <td>1.72</td>\n",
       "      <td>1.77</td>\n",
       "      <td>-0.05</td>\n",
       "      <td>216</td>\n",
       "      <td>84</td>\n",
       "      <td>2.57</td>\n",
       "      <td>362.197209</td>\n",
       "      <td>731.930005</td>\n",
       "      <td>720.720035</td>\n",
       "      <td>724.929993</td>\n",
       "      <td>4631700</td>\n",
       "      <td>NASDAQ</td>\n",
       "      <td>Technology</td>\n",
       "      <td>GOOG</td>\n",
       "      <td>0.937246</td>\n",
       "      <td>0.944462</td>\n",
       "      <td>0.720930</td>\n",
       "      <td>0.136011</td>\n",
       "      <td>0.000581</td>\n",
       "    </tr>\n",
       "    <tr>\n",
       "      <th>2013-01-04</th>\n",
       "      <td>2013-01-04</td>\n",
       "      <td>1.84</td>\n",
       "      <td>1.63</td>\n",
       "      <td>0.21</td>\n",
       "      <td>229</td>\n",
       "      <td>96</td>\n",
       "      <td>2.39</td>\n",
       "      <td>369.354344</td>\n",
       "      <td>741.470017</td>\n",
       "      <td>727.679987</td>\n",
       "      <td>729.340008</td>\n",
       "      <td>5521400</td>\n",
       "      <td>NASDAQ</td>\n",
       "      <td>Technology</td>\n",
       "      <td>GOOG</td>\n",
       "      <td>0.863368</td>\n",
       "      <td>0.869374</td>\n",
       "      <td>0.705521</td>\n",
       "      <td>-0.021373</td>\n",
       "      <td>0.019760</td>\n",
       "    </tr>\n",
       "    <tr>\n",
       "      <th>2013-01-07</th>\n",
       "      <td>2013-01-07</td>\n",
       "      <td>1.79</td>\n",
       "      <td>1.42</td>\n",
       "      <td>0.37</td>\n",
       "      <td>105</td>\n",
       "      <td>67</td>\n",
       "      <td>1.57</td>\n",
       "      <td>367.742742</td>\n",
       "      <td>739.380007</td>\n",
       "      <td>730.580038</td>\n",
       "      <td>735.449981</td>\n",
       "      <td>3308000</td>\n",
       "      <td>NASDAQ</td>\n",
       "      <td>Technology</td>\n",
       "      <td>GOOG</td>\n",
       "      <td>0.443931</td>\n",
       "      <td>0.449268</td>\n",
       "      <td>0.612717</td>\n",
       "      <td>-0.131541</td>\n",
       "      <td>-0.004363</td>\n",
       "    </tr>\n",
       "    <tr>\n",
       "      <th>2013-01-08</th>\n",
       "      <td>2013-01-08</td>\n",
       "      <td>1.64</td>\n",
       "      <td>1.58</td>\n",
       "      <td>0.06</td>\n",
       "      <td>96</td>\n",
       "      <td>67</td>\n",
       "      <td>1.43</td>\n",
       "      <td>367.017034</td>\n",
       "      <td>736.300021</td>\n",
       "      <td>724.430006</td>\n",
       "      <td>735.540039</td>\n",
       "      <td>3348800</td>\n",
       "      <td>NASDAQ</td>\n",
       "      <td>Technology</td>\n",
       "      <td>GOOG</td>\n",
       "      <td>0.355203</td>\n",
       "      <td>0.359656</td>\n",
       "      <td>0.591463</td>\n",
       "      <td>-0.034687</td>\n",
       "      <td>-0.001973</td>\n",
       "    </tr>\n",
       "  </tbody>\n",
       "</table>\n",
       "</div>"
      ],
      "text/plain": [
       "                 Date  BULLISH_INTENSITY  BEARISH_INTENSITY  BULL_MINUS_BEAR  \\\n",
       "Date                                                                           \n",
       "2013-01-02 2013-01-02               1.95               1.64             0.31   \n",
       "2013-01-03 2013-01-03               1.72               1.77            -0.05   \n",
       "2013-01-04 2013-01-04               1.84               1.63             0.21   \n",
       "2013-01-07 2013-01-07               1.79               1.42             0.37   \n",
       "2013-01-08 2013-01-08               1.64               1.58             0.06   \n",
       "\n",
       "            BULL_SCORED_MESSAGES  BEAR_SCORED_MESSAGES  BULL_BEAR_MSG_RATIO  \\\n",
       "Date                                                                          \n",
       "2013-01-02                    65                    38                 1.71   \n",
       "2013-01-03                   216                    84                 2.57   \n",
       "2013-01-04                   229                    96                 2.39   \n",
       "2013-01-07                   105                    67                 1.57   \n",
       "2013-01-08                    96                    67                 1.43   \n",
       "\n",
       "             Adj_Close        High         Low        Open   Volume EXCHANGE  \\\n",
       "Date                                                                           \n",
       "2013-01-02  361.987004  727.000004  716.550015  719.420006  5077500   NASDAQ   \n",
       "2013-01-03  362.197209  731.930005  720.720035  724.929993  4631700   NASDAQ   \n",
       "2013-01-04  369.354344  741.470017  727.679987  729.340008  5521400   NASDAQ   \n",
       "2013-01-07  367.742742  739.380007  730.580038  735.449981  3308000   NASDAQ   \n",
       "2013-01-08  367.017034  736.300021  724.430006  735.540039  3348800   NASDAQ   \n",
       "\n",
       "           BUSINESS_SECTOR SYMBOL  Bullishness  BuBeRatio       TIS      RTIS  \\\n",
       "Date                                                                            \n",
       "2013-01-02      Technology   GOOG     0.526093   0.536801  0.634615       NaN   \n",
       "2013-01-03      Technology   GOOG     0.937246   0.944462  0.720930  0.136011   \n",
       "2013-01-04      Technology   GOOG     0.863368   0.869374  0.705521 -0.021373   \n",
       "2013-01-07      Technology   GOOG     0.443931   0.449268  0.612717 -0.131541   \n",
       "2013-01-08      Technology   GOOG     0.355203   0.359656  0.591463 -0.034687   \n",
       "\n",
       "              Return  \n",
       "Date                  \n",
       "2013-01-02       NaN  \n",
       "2013-01-03  0.000581  \n",
       "2013-01-04  0.019760  \n",
       "2013-01-07 -0.004363  \n",
       "2013-01-08 -0.001973  "
      ]
     },
     "execution_count": 11,
     "metadata": {},
     "output_type": "execute_result"
    }
   ],
   "source": [
    "# Message Volumns \n",
    "google.index = google['Date']\n",
    "googleV = volume_dataset(google)\n",
    "googleV['Bullishness'] = log_bulliness(googleV)\n",
    "googleV['BuBeRatio'] = log_ratio(googleV)\n",
    "googleV['TIS'] = TISf(googleV)\n",
    "googleV['RTIS'] = RTISf(googleV)\n",
    "googleV['Return'] = log_return(googleV)\n",
    "googleV.head()"
   ]
  },
  {
   "cell_type": "markdown",
   "metadata": {},
   "source": [
    "# Correlation Analysis\n",
    "\n",
    "- stock return with sentiment strength and message volume\n",
    "- stock trading volume with sentiment strength and message volume"
   ]
  },
  {
   "cell_type": "code",
   "execution_count": 12,
   "metadata": {
    "collapsed": false
   },
   "outputs": [
    {
     "data": {
      "text/html": [
       "<div>\n",
       "<table border=\"1\" class=\"dataframe\">\n",
       "  <thead>\n",
       "    <tr style=\"text-align: right;\">\n",
       "      <th></th>\n",
       "      <th>Return Correlation</th>\n",
       "      <th>Volume Correlation</th>\n",
       "    </tr>\n",
       "  </thead>\n",
       "  <tbody>\n",
       "    <tr>\n",
       "      <th>BULLISH_INTENSITY</th>\n",
       "      <td>0.148921</td>\n",
       "      <td>-0.080251</td>\n",
       "    </tr>\n",
       "    <tr>\n",
       "      <th>BEARISH_INTENSITY</th>\n",
       "      <td>-0.156589</td>\n",
       "      <td>-0.149391</td>\n",
       "    </tr>\n",
       "    <tr>\n",
       "      <th>BULL_MINUS_BEAR</th>\n",
       "      <td>0.220866</td>\n",
       "      <td>0.0710794</td>\n",
       "    </tr>\n",
       "    <tr>\n",
       "      <th>BULL_SCORED_MESSAGES</th>\n",
       "      <td>0.122681</td>\n",
       "      <td>0.105288</td>\n",
       "    </tr>\n",
       "    <tr>\n",
       "      <th>BEAR_SCORED_MESSAGES</th>\n",
       "      <td>0.0903416</td>\n",
       "      <td>0.632048</td>\n",
       "    </tr>\n",
       "    <tr>\n",
       "      <th>Bullishness</th>\n",
       "      <td>0.232106</td>\n",
       "      <td>-0.13226</td>\n",
       "    </tr>\n",
       "    <tr>\n",
       "      <th>TIS</th>\n",
       "      <td>0.244237</td>\n",
       "      <td>-0.144958</td>\n",
       "    </tr>\n",
       "    <tr>\n",
       "      <th>RTIS</th>\n",
       "      <td>0.0529734</td>\n",
       "      <td>-0.0458358</td>\n",
       "    </tr>\n",
       "  </tbody>\n",
       "</table>\n",
       "</div>"
      ],
      "text/plain": [
       "                     Return Correlation Volume Correlation\n",
       "BULLISH_INTENSITY              0.148921          -0.080251\n",
       "BEARISH_INTENSITY             -0.156589          -0.149391\n",
       "BULL_MINUS_BEAR                0.220866          0.0710794\n",
       "BULL_SCORED_MESSAGES           0.122681           0.105288\n",
       "BEAR_SCORED_MESSAGES          0.0903416           0.632048\n",
       "Bullishness                    0.232106           -0.13226\n",
       "TIS                            0.244237          -0.144958\n",
       "RTIS                          0.0529734         -0.0458358"
      ]
     },
     "execution_count": 12,
     "metadata": {},
     "output_type": "execute_result"
    }
   ],
   "source": [
    "i = 0\n",
    "resCorr = DataFrame(index = ['BULLISH_INTENSITY','BEARISH_INTENSITY','BULL_MINUS_BEAR','BULL_SCORED_MESSAGES',\n",
    "       'BEAR_SCORED_MESSAGES','Bullishness','TIS','RTIS'] ,columns = ['Return Correlation','Volume Correlation'])\n",
    "for column in resCorr.index:\n",
    "    resCorr.ix[i,0] = googleV.Return.corr(googleV[column])\n",
    "    resCorr.ix[i,1] = googleV.Volume.corr(googleV[column])\n",
    "    i += 1\n",
    "resCorr"
   ]
  },
  {
   "cell_type": "markdown",
   "metadata": {},
   "source": [
    "# Mutual Information Method"
   ]
  },
  {
   "cell_type": "code",
   "execution_count": 13,
   "metadata": {
    "collapsed": false
   },
   "outputs": [],
   "source": [
    "def calc_MI(X,Y,bins):\n",
    "\n",
    "   c_XY = np.histogram2d(X,Y,bins)[0]\n",
    "   c_X = np.histogram(X,bins)[0]\n",
    "   c_Y = np.histogram(Y,bins)[0]\n",
    "\n",
    "   H_X = shan_entropy(c_X)\n",
    "   H_Y = shan_entropy(c_Y)\n",
    "   H_XY = shan_entropy(c_XY)\n",
    "\n",
    "   MI = H_X + H_Y - H_XY\n",
    "   return MI\n",
    "\n",
    "def shan_entropy(c):\n",
    "    c_normalized = c / float(np.sum(c))\n",
    "    c_normalized = c_normalized[np.nonzero(c_normalized)]\n",
    "    H = -sum(c_normalized* np.log2(c_normalized))  \n",
    "    return H\n",
    "\n",
    "def increaseMI(non,s):\n",
    "    return ((s-non)/non)*100\n",
    "\n",
    "# Test set\n",
    "# A = np.array([[ 2.0,  140.0,  128.23, -150.5, -5.4  ],\n",
    "#               [ 2.4,  153.11, 130.34, -130.1, -9.5  ],\n",
    "#               [ 1.2,  156.9,  120.11, -110.45,-1.12 ]])\n",
    "\n",
    "# bins = 6 \n",
    "# n = A.shape[1]\n",
    "# matMI = np.zeros((n, n))\n",
    "\n",
    "# for ix in np.arange(n):\n",
    "#     for jx in np.arange(ix+1,n):\n",
    "#         matMI[ix,jx] = calc_MI(A[:,ix], A[:,jx], bins)\n",
    "        \n",
    "# matMI\n",
    "\n",
    "# another way calculate MI\n",
    "from sklearn.metrics import mutual_info_score\n",
    "\n",
    "def calc_MIa(x, y, bins):\n",
    "    c_xy = np.histogram2d(x, y, bins)[0]\n",
    "    mi = mutual_info_score(None, None, contingency=c_xy)\n",
    "    return mi"
   ]
  },
  {
   "cell_type": "markdown",
   "metadata": {},
   "source": [
    "# Surplus Information"
   ]
  },
  {
   "cell_type": "code",
   "execution_count": 14,
   "metadata": {
    "collapsed": true
   },
   "outputs": [],
   "source": [
    "def calc_suplsMI(df):\n",
    "    i = 0\n",
    "    suplsMI = DataFrame(index = ['BULLISH_INTENSITY','BEARISH_INTENSITY','BULL_MINUS_BEAR','BULL_SCORED_MESSAGES',\n",
    "       'BEAR_SCORED_MESSAGES','Bullishness','TIS','RTIS'] ,columns = ['Return Surplus','Volume Surplus'])\n",
    "    shift1_r = df.Return.shift(1)\n",
    "    shift1_v = df.Volume.shift(1)\n",
    "    for column in suplsMI.index:\n",
    "#       MI for finance return and social data\n",
    "        nonshift_r = calc_MI(df[column][1:],df.Return[1:],756)\n",
    "        shifted_r = calc_MI(df[column][2:],shift1_r[2:],756)\n",
    "#       MI for finance volume and social data\n",
    "        nonshift_v = calc_MI(df[column][1:],df.Volume[1:],756)\n",
    "        shifted_v = calc_MI(df[column][1:],shift1_v[1:],756)\n",
    "#       surplus information for return and volume\n",
    "        suplsMI.ix[i,0] = increaseMI(nonshift_r,shifted_r)\n",
    "        suplsMI.ix[i,1] = increaseMI(nonshift_v,shifted_v)\n",
    "        i += 1\n",
    "    return suplsMI"
   ]
  },
  {
   "cell_type": "code",
   "execution_count": 15,
   "metadata": {
    "collapsed": false
   },
   "outputs": [
    {
     "data": {
      "text/html": [
       "<div>\n",
       "<table border=\"1\" class=\"dataframe\">\n",
       "  <thead>\n",
       "    <tr style=\"text-align: right;\">\n",
       "      <th></th>\n",
       "      <th>Return Surplus</th>\n",
       "      <th>Volume Surplus</th>\n",
       "    </tr>\n",
       "  </thead>\n",
       "  <tbody>\n",
       "    <tr>\n",
       "      <th>BULLISH_INTENSITY</th>\n",
       "      <td>0.36794</td>\n",
       "      <td>0.210321</td>\n",
       "    </tr>\n",
       "    <tr>\n",
       "      <th>BEARISH_INTENSITY</th>\n",
       "      <td>-0.253979</td>\n",
       "      <td>0.60288</td>\n",
       "    </tr>\n",
       "    <tr>\n",
       "      <th>BULL_MINUS_BEAR</th>\n",
       "      <td>0.114736</td>\n",
       "      <td>0.207715</td>\n",
       "    </tr>\n",
       "    <tr>\n",
       "      <th>BULL_SCORED_MESSAGES</th>\n",
       "      <td>1.90443</td>\n",
       "      <td>-3.56775</td>\n",
       "    </tr>\n",
       "    <tr>\n",
       "      <th>BEAR_SCORED_MESSAGES</th>\n",
       "      <td>-0.379987</td>\n",
       "      <td>0.351438</td>\n",
       "    </tr>\n",
       "    <tr>\n",
       "      <th>Bullishness</th>\n",
       "      <td>0.0217993</td>\n",
       "      <td>-0.138218</td>\n",
       "    </tr>\n",
       "    <tr>\n",
       "      <th>TIS</th>\n",
       "      <td>0.118223</td>\n",
       "      <td>0.154559</td>\n",
       "    </tr>\n",
       "    <tr>\n",
       "      <th>RTIS</th>\n",
       "      <td>-0.282256</td>\n",
       "      <td>0.60654</td>\n",
       "    </tr>\n",
       "  </tbody>\n",
       "</table>\n",
       "</div>"
      ],
      "text/plain": [
       "                     Return Surplus Volume Surplus\n",
       "BULLISH_INTENSITY           0.36794       0.210321\n",
       "BEARISH_INTENSITY         -0.253979        0.60288\n",
       "BULL_MINUS_BEAR            0.114736       0.207715\n",
       "BULL_SCORED_MESSAGES        1.90443       -3.56775\n",
       "BEAR_SCORED_MESSAGES      -0.379987       0.351438\n",
       "Bullishness               0.0217993      -0.138218\n",
       "TIS                        0.118223       0.154559\n",
       "RTIS                      -0.282256        0.60654"
      ]
     },
     "execution_count": 15,
     "metadata": {},
     "output_type": "execute_result"
    }
   ],
   "source": [
    "calc_suplsMI(googleV)"
   ]
  },
  {
   "cell_type": "code",
   "execution_count": 16,
   "metadata": {
    "collapsed": false
   },
   "outputs": [
    {
     "name": "stdout",
     "output_type": "stream",
     "text": [
      "(4.1653926756831279, 4.1521271418714853)\n"
     ]
    },
    {
     "data": {
      "text/plain": [
       "-0.31847018623440992"
      ]
     },
     "execution_count": 16,
     "metadata": {},
     "output_type": "execute_result"
    }
   ],
   "source": [
    "nonshift = calc_MI(googleV.ix[1:,3],googleV.Return[1:],500)\n",
    "shift1 = googleV.Return.shift(1)\n",
    "shifted = calc_MI(googleV.ix[2:,3],shift1[2:],500)\n",
    "print(nonshift, shifted)\n",
    "incres = increaseMI(nonshift,shifted)\n",
    "incres"
   ]
  },
  {
   "cell_type": "code",
   "execution_count": 20,
   "metadata": {
    "collapsed": false
   },
   "outputs": [
    {
     "name": "stdout",
     "output_type": "stream",
     "text": [
      "(2.8902094481190925, 2.8810184320308512)\n"
     ]
    },
    {
     "data": {
      "text/plain": [
       "-0.31800519143077116"
      ]
     },
     "execution_count": 20,
     "metadata": {},
     "output_type": "execute_result"
    }
   ],
   "source": [
    "nonshift_ = calc_MIa(googleV.ix[1:,3],googleV.Return[1:],500)\n",
    "shift1_ = googleV.Return.shift(1)\n",
    "shifted_ = calc_MIa(googleV.ix[2:,3],shift1[2:],500)\n",
    "print(nonshift_, shifted_)\n",
    "increaseMI(nonshift_,shifted_)"
   ]
  },
  {
   "cell_type": "code",
   "execution_count": null,
   "metadata": {
    "collapsed": false
   },
   "outputs": [],
   "source": [
    "data.EXCHANGE.unique()"
   ]
  },
  {
   "cell_type": "code",
   "execution_count": null,
   "metadata": {
    "collapsed": true
   },
   "outputs": [],
   "source": [
    "# googleV.ix[:,['Bullishness','Ratio']].plot()\n",
    "googleV.Adj_Close.plot()\n",
    "# rollMean = pd.rolling_mean(googleV.Adj_Close, 10)\n",
    "# rollMean.plot()\n",
    "rollStd = pd.rolling_std(googleV.Adj_Close, 5)\n",
    "rollStd.plot()"
   ]
  },
  {
   "cell_type": "code",
   "execution_count": null,
   "metadata": {
    "collapsed": true
   },
   "outputs": [],
   "source": [
    "googleV.Adj_Close['2014'].plot()"
   ]
  },
  {
   "cell_type": "code",
   "execution_count": null,
   "metadata": {
    "collapsed": false
   },
   "outputs": [],
   "source": [
    "data.SYMBOL.unique()"
   ]
  },
  {
   "cell_type": "code",
   "execution_count": null,
   "metadata": {
    "collapsed": true
   },
   "outputs": [],
   "source": []
  }
 ],
 "metadata": {
  "kernelspec": {
   "display_name": "Python 2",
   "language": "python",
   "name": "python2"
  },
  "language_info": {
   "codemirror_mode": {
    "name": "ipython",
    "version": 2
   },
   "file_extension": ".py",
   "mimetype": "text/x-python",
   "name": "python",
   "nbconvert_exporter": "python",
   "pygments_lexer": "ipython2",
   "version": "2.7.10"
  }
 },
 "nbformat": 4,
 "nbformat_minor": 0
}
