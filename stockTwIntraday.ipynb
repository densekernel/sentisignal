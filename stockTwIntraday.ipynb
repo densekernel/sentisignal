{
 "cells": [
  {
   "cell_type": "code",
   "execution_count": 1,
   "metadata": {
    "collapsed": true
   },
   "outputs": [],
   "source": [
    "import pandas as pd\n",
    "import numpy as np \n",
    "import pylab as P \n",
    "# Import the module for plotting\n",
    "import matplotlib.pyplot as plt\n",
    "from pandas import Series,DataFrame,merge,concat"
   ]
  },
  {
   "cell_type": "code",
   "execution_count": 5,
   "metadata": {
    "collapsed": true
   },
   "outputs": [],
   "source": [
    "# data import\n",
    "intradayData = pd.read_csv('~/psychSignalData/data/stocktwits_twitter_withretweets_intraday.csv')"
   ]
  },
  {
   "cell_type": "code",
   "execution_count": 2,
   "metadata": {
    "collapsed": true
   },
   "outputs": [],
   "source": [
    "# symbols\n",
    "symbStocks = pd.read_csv('~/psychSignalData/data/symbols/stocks.csv')\n",
    "# section symbols\n",
    "secMat = pd.read_csv('~/psychSignalData/data/symbols/basic_materials.csv')\n",
    "secCong = pd.read_csv('~/psychSignalData/data/symbols/conglomerates.csv')\n",
    "secConsu = pd.read_csv('~/psychSignalData/data/symbols/consumer_goods.csv')\n",
    "secFinan = pd.read_csv('~/psychSignalData/data/symbols/financial.csv')\n",
    "secHealth = pd.read_csv('~/psychSignalData/data/symbols/healthcare.csv')\n",
    "secIndus = pd.read_csv('~/psychSignalData/data/symbols/industrial_goods.csv')\n",
    "secServ = pd.read_csv('~/psychSignalData/data/symbols/services.csv')\n",
    "secTech = pd.read_csv('~/psychSignalData/data/symbols/technology.csv')\n",
    "secUtil = pd.read_csv('~/psychSignalData/data/symbols/utilities.csv')"
   ]
  },
  {
   "cell_type": "code",
   "execution_count": 4,
   "metadata": {
    "collapsed": false
   },
   "outputs": [],
   "source": [
    "symbStocks.dtypes\n",
    "symbStocks = symbStocks.ix[:,0:3]"
   ]
  },
  {
   "cell_type": "code",
   "execution_count": 3,
   "metadata": {
    "collapsed": false
   },
   "outputs": [
    {
     "ename": "NameError",
     "evalue": "name 'intradayData' is not defined",
     "output_type": "error",
     "traceback": [
      "\u001b[0;31m---------------------------------------------------------------------------\u001b[0m",
      "\u001b[0;31mNameError\u001b[0m                                 Traceback (most recent call last)",
      "\u001b[0;32m<ipython-input-3-ca82aeeb4e8e>\u001b[0m in \u001b[0;36m<module>\u001b[0;34m()\u001b[0m\n\u001b[0;32m----> 1\u001b[0;31m \u001b[0mintradayData\u001b[0m\u001b[0;34m.\u001b[0m\u001b[0mdtypes\u001b[0m\u001b[0;34m\u001b[0m\u001b[0m\n\u001b[0m",
      "\u001b[0;31mNameError\u001b[0m: name 'intradayData' is not defined"
     ]
    }
   ],
   "source": [
    "intradayData.dtypes"
   ]
  },
  {
   "cell_type": "code",
   "execution_count": null,
   "metadata": {
    "collapsed": false
   },
   "outputs": [],
   "source": [
    "# intraday data rows = 980,881,844\n",
    "intradayData.info()"
   ]
  },
  {
   "cell_type": "markdown",
   "metadata": {},
   "source": [
    "> Dataset merge on stock exchanges"
   ]
  },
  {
   "cell_type": "code",
   "execution_count": 22,
   "metadata": {
    "collapsed": false
   },
   "outputs": [
    {
     "data": {
      "text/html": [
       "<div>\n",
       "<table border=\"1\" class=\"dataframe\">\n",
       "  <thead>\n",
       "    <tr style=\"text-align: right;\">\n",
       "      <th></th>\n",
       "      <th>SOURCE</th>\n",
       "      <th>SYMBOL</th>\n",
       "      <th>TIMESTAMP_UTC</th>\n",
       "      <th>BULLISH_INTENSITY</th>\n",
       "      <th>BEARISH_INTENSITY</th>\n",
       "      <th>BULL_MINUS_BEAR</th>\n",
       "      <th>BULL_SCORED_MESSAGES</th>\n",
       "      <th>BEAR_SCORED_MESSAGES</th>\n",
       "      <th>BULL_BEAR_MSG_RATIO</th>\n",
       "      <th>TOTAL_SCANNED_MESSAGES</th>\n",
       "      <th>EXCHANGE</th>\n",
       "      <th>SYMBOL</th>\n",
       "      <th>TITLE</th>\n",
       "    </tr>\n",
       "  </thead>\n",
       "  <tbody>\n",
       "    <tr>\n",
       "      <th>0</th>\n",
       "      <td>stocktwits+twitter_withretweets</td>\n",
       "      <td>10GEN</td>\n",
       "      <td>2011-04-08T13:00:00Z</td>\n",
       "      <td>0</td>\n",
       "      <td>0</td>\n",
       "      <td>0</td>\n",
       "      <td>0</td>\n",
       "      <td>0</td>\n",
       "      <td>0</td>\n",
       "      <td>1</td>\n",
       "      <td>PRIVATE</td>\n",
       "      <td>10GEN</td>\n",
       "      <td>10gen</td>\n",
       "    </tr>\n",
       "    <tr>\n",
       "      <th>1</th>\n",
       "      <td>stocktwits+twitter_withretweets</td>\n",
       "      <td>10GEN</td>\n",
       "      <td>2011-04-08T13:05:00Z</td>\n",
       "      <td>0</td>\n",
       "      <td>0</td>\n",
       "      <td>0</td>\n",
       "      <td>0</td>\n",
       "      <td>0</td>\n",
       "      <td>0</td>\n",
       "      <td>1</td>\n",
       "      <td>PRIVATE</td>\n",
       "      <td>10GEN</td>\n",
       "      <td>10gen</td>\n",
       "    </tr>\n",
       "    <tr>\n",
       "      <th>2</th>\n",
       "      <td>stocktwits+twitter_withretweets</td>\n",
       "      <td>10GEN</td>\n",
       "      <td>2011-04-16T15:13:00Z</td>\n",
       "      <td>0</td>\n",
       "      <td>0</td>\n",
       "      <td>0</td>\n",
       "      <td>0</td>\n",
       "      <td>0</td>\n",
       "      <td>0</td>\n",
       "      <td>1</td>\n",
       "      <td>PRIVATE</td>\n",
       "      <td>10GEN</td>\n",
       "      <td>10gen</td>\n",
       "    </tr>\n",
       "    <tr>\n",
       "      <th>3</th>\n",
       "      <td>stocktwits+twitter_withretweets</td>\n",
       "      <td>10GEN</td>\n",
       "      <td>2011-04-16T15:15:00Z</td>\n",
       "      <td>0</td>\n",
       "      <td>0</td>\n",
       "      <td>0</td>\n",
       "      <td>0</td>\n",
       "      <td>0</td>\n",
       "      <td>0</td>\n",
       "      <td>1</td>\n",
       "      <td>PRIVATE</td>\n",
       "      <td>10GEN</td>\n",
       "      <td>10gen</td>\n",
       "    </tr>\n",
       "    <tr>\n",
       "      <th>4</th>\n",
       "      <td>stocktwits+twitter_withretweets</td>\n",
       "      <td>10GEN</td>\n",
       "      <td>2011-04-16T15:16:00Z</td>\n",
       "      <td>0</td>\n",
       "      <td>0</td>\n",
       "      <td>0</td>\n",
       "      <td>0</td>\n",
       "      <td>0</td>\n",
       "      <td>0</td>\n",
       "      <td>1</td>\n",
       "      <td>PRIVATE</td>\n",
       "      <td>10GEN</td>\n",
       "      <td>10gen</td>\n",
       "    </tr>\n",
       "  </tbody>\n",
       "</table>\n",
       "</div>"
      ],
      "text/plain": [
       "                            SOURCE SYMBOL         TIMESTAMP_UTC  \\\n",
       "0  stocktwits+twitter_withretweets  10GEN  2011-04-08T13:00:00Z   \n",
       "1  stocktwits+twitter_withretweets  10GEN  2011-04-08T13:05:00Z   \n",
       "2  stocktwits+twitter_withretweets  10GEN  2011-04-16T15:13:00Z   \n",
       "3  stocktwits+twitter_withretweets  10GEN  2011-04-16T15:15:00Z   \n",
       "4  stocktwits+twitter_withretweets  10GEN  2011-04-16T15:16:00Z   \n",
       "\n",
       "   BULLISH_INTENSITY  BEARISH_INTENSITY  BULL_MINUS_BEAR  \\\n",
       "0                  0                  0                0   \n",
       "1                  0                  0                0   \n",
       "2                  0                  0                0   \n",
       "3                  0                  0                0   \n",
       "4                  0                  0                0   \n",
       "\n",
       "   BULL_SCORED_MESSAGES  BEAR_SCORED_MESSAGES  BULL_BEAR_MSG_RATIO  \\\n",
       "0                     0                     0                    0   \n",
       "1                     0                     0                    0   \n",
       "2                     0                     0                    0   \n",
       "3                     0                     0                    0   \n",
       "4                     0                     0                    0   \n",
       "\n",
       "   TOTAL_SCANNED_MESSAGES EXCHANGE  SYMBOL  TITLE  \n",
       "0                       1  PRIVATE   10GEN  10gen  \n",
       "1                       1  PRIVATE   10GEN  10gen  \n",
       "2                       1  PRIVATE   10GEN  10gen  \n",
       "3                       1  PRIVATE   10GEN  10gen  \n",
       "4                       1  PRIVATE   10GEN  10gen  "
      ]
     },
     "execution_count": 22,
     "metadata": {},
     "output_type": "execute_result"
    }
   ],
   "source": [
    "intrStockSymb = merge(intradayData,symbStocks,left_on='SYMBOL',right_on = ' SYMBOL',how = \"left\")\n",
    "intrStockSymb.head()"
   ]
  },
  {
   "cell_type": "code",
   "execution_count": null,
   "metadata": {
    "collapsed": true
   },
   "outputs": [],
   "source": [
    "intrStockSymb = intrStockSymb.ix[:,1:11]\n",
    "intrStockSymb.head()"
   ]
  },
  {
   "cell_type": "code",
   "execution_count": null,
   "metadata": {
    "collapsed": true
   },
   "outputs": [],
   "source": [
    "# export the stock exchanges mereged dataset\n",
    "intrStockSymb.to_csv('~/psychSignalData/output/DataExchange_intraday.csv', encoding='utf-8')"
   ]
  },
  {
   "cell_type": "markdown",
   "metadata": {},
   "source": [
    "> Group Data by stock exchange"
   ]
  },
  {
   "cell_type": "code",
   "execution_count": 21,
   "metadata": {
    "collapsed": false
   },
   "outputs": [
    {
     "ename": "NameError",
     "evalue": "name 'intrStockSymb' is not defined",
     "output_type": "error",
     "traceback": [
      "\u001b[0;31m---------------------------------------------------------------------------\u001b[0m",
      "\u001b[0;31mNameError\u001b[0m                                 Traceback (most recent call last)",
      "\u001b[0;32m<ipython-input-21-827e96ffa7b5>\u001b[0m in \u001b[0;36m<module>\u001b[0;34m()\u001b[0m\n\u001b[1;32m      1\u001b[0m \u001b[0;31m# Group By Stock Exchange\u001b[0m\u001b[0;34m\u001b[0m\u001b[0;34m\u001b[0m\u001b[0m\n\u001b[0;32m----> 2\u001b[0;31m \u001b[0mexchangeGrouped_in\u001b[0m \u001b[0;34m=\u001b[0m \u001b[0mintrStockSymb\u001b[0m\u001b[0;34m.\u001b[0m\u001b[0mgroupby\u001b[0m\u001b[0;34m(\u001b[0m\u001b[0mintrStockSymb\u001b[0m\u001b[0;34m[\u001b[0m\u001b[0;34m'EXCHANGE'\u001b[0m\u001b[0;34m]\u001b[0m\u001b[0;34m)\u001b[0m\u001b[0;34m\u001b[0m\u001b[0m\n\u001b[0m\u001b[1;32m      3\u001b[0m \u001b[0msumByExchange_in\u001b[0m \u001b[0;34m=\u001b[0m \u001b[0mexchangeGrouped_in\u001b[0m\u001b[0;34m.\u001b[0m\u001b[0msum\u001b[0m\u001b[0;34m(\u001b[0m\u001b[0;34m)\u001b[0m\u001b[0;34m\u001b[0m\u001b[0m\n\u001b[1;32m      4\u001b[0m \u001b[0mprint\u001b[0m\u001b[0;34m(\u001b[0m\u001b[0msumByExchange_in\u001b[0m\u001b[0;34m.\u001b[0m\u001b[0mcolumns\u001b[0m\u001b[0;34m)\u001b[0m\u001b[0;34m\u001b[0m\u001b[0m\n\u001b[1;32m      5\u001b[0m \u001b[0msumByExchange_in\u001b[0m\u001b[0;34m\u001b[0m\u001b[0m\n",
      "\u001b[0;31mNameError\u001b[0m: name 'intrStockSymb' is not defined"
     ]
    }
   ],
   "source": [
    "# Group By Stock Exchange\n",
    "exchangeGrouped_in = intrStockSymb.groupby(intrStockSymb['EXCHANGE'])\n",
    "sumByExchange_in = exchangeGrouped_in.sum()\n",
    "print(sumByExchange_in.columns)\n",
    "sumByExchange_in"
   ]
  },
  {
   "cell_type": "code",
   "execution_count": null,
   "metadata": {
    "collapsed": false
   },
   "outputs": [],
   "source": [
    "# statistic description for bull bear messages ratio by exchanges\n",
    "# statByExchange_Ratio_in = exchangeGrouped_in['BULL_BEAR_MSG_RATIO'].describe()\n",
    "# statByExchange_Ratio_in.head()"
   ]
  },
  {
   "cell_type": "code",
   "execution_count": null,
   "metadata": {
    "collapsed": false
   },
   "outputs": [],
   "source": [
    "# export the statistic description by exchanges\n",
    "statByExchange_in = exchangeGrouped_in.describe()\n",
    "# statByExchange_in.to_csv('/Users/jessia/psychSignalData/output/StatisticExchange_intraday.csv', encoding='utf-8')\n",
    "statByExchange_in"
   ]
  },
  {
   "cell_type": "markdown",
   "metadata": {},
   "source": [
    "> Group by Stock exchange and companies"
   ]
  },
  {
   "cell_type": "code",
   "execution_count": null,
   "metadata": {
    "collapsed": false
   },
   "outputs": [],
   "source": [
    "# Group By Stock Exchange and company\n",
    "exComGrouped_in = intrStockSymb.groupby([intrStockSymb['EXCHANGE'],intrStockSymb['SYMBOL']])\n",
    "sumByExCom_in = exComGrouped_in.sum()\n",
    "print(sumByExCom_in.columns)\n",
    "sumByExCom_in"
   ]
  },
  {
   "cell_type": "code",
   "execution_count": null,
   "metadata": {
    "collapsed": false
   },
   "outputs": [],
   "source": [
    "# output statistic results for exchanges and companies\n",
    "stat_exCom_in = exComGrouped_in.describe()\n",
    "# stat_exCom_in.to_csv('/Users/jessia/psychSignalData/output/StatisticExchangeCompany_intraday.csv', encoding='utf-8')"
   ]
  },
  {
   "cell_type": "code",
   "execution_count": null,
   "metadata": {
    "collapsed": true
   },
   "outputs": [],
   "source": [
    "# statistic description for bull bear messages ratio by exchanges\n",
    "stat_exchange_Ratio_in = exchangeGrouped_in['BULL_BEAR_MSG_RATIO'].describe()\n",
    "stat_exchange_Ratio_in.head()"
   ]
  },
  {
   "cell_type": "markdown",
   "metadata": {},
   "source": [
    "> For the dataset grouped by stock exchange: do sentiment summary based on messages quantity"
   ]
  },
  {
   "cell_type": "code",
   "execution_count": null,
   "metadata": {
    "collapsed": false
   },
   "outputs": [],
   "source": [
    "# a table only contains the total quality of bullish, bearish and total messages for each exchange\n",
    "messagesTable_in = sumByExchange_in.ix[:,[3,4,6]]\n",
    "messagesTable_in.head()"
   ]
  },
  {
   "cell_type": "code",
   "execution_count": null,
   "metadata": {
    "collapsed": true
   },
   "outputs": [],
   "source": [
    "# neutral = total - bull - bear\n",
    "neutralCounts_in = messagesTable_in['TOTAL_SCANNED_MESSAGES']-messagesTable_in['BULL_SCORED_MESSAGES']-messagesTable_in['BEAR_SCORED_MESSAGES']\n",
    "# print (neutralCounts)"
   ]
  },
  {
   "cell_type": "code",
   "execution_count": null,
   "metadata": {
    "collapsed": false
   },
   "outputs": [],
   "source": [
    "# add new columns to the table. by using 'insert(idx, col_name, value)'\n",
    "messagesTable_in.insert(2, 'NEUTRAL_SCORED_MESSAGES', neutralCounts_in)\n",
    "messagesTable_in.head()"
   ]
  },
  {
   "cell_type": "code",
   "execution_count": null,
   "metadata": {
    "collapsed": true
   },
   "outputs": [],
   "source": [
    "# the percentage of bull messages \n",
    "bullPerc_in = messagesTable_in['BULL_SCORED_MESSAGES']/messagesTable_in['TOTAL_SCANNED_MESSAGES']\n",
    "# the percentage of bear messages\n",
    "bearPerc_in = messagesTable_in['BEAR_SCORED_MESSAGES']/messagesTable_in['TOTAL_SCANNED_MESSAGES']\n",
    "neutralPerc_in = neutralCounts_in/messagesTable_in['TOTAL_SCANNED_MESSAGES']"
   ]
  },
  {
   "cell_type": "code",
   "execution_count": null,
   "metadata": {
    "collapsed": true
   },
   "outputs": [],
   "source": [
    "# change data format to %\n",
    "bullPerc_in = bullPerc_in.apply(lambda x: format(x, '.2%'))\n",
    "bearPerc_in = bearPerc_in.apply(lambda x: format(x, '.2%'))\n",
    "neutralPerc_in = neutralPerc_in.apply(lambda x: format(x, '.2%'))"
   ]
  },
  {
   "cell_type": "code",
   "execution_count": null,
   "metadata": {
    "collapsed": false
   },
   "outputs": [],
   "source": [
    "# sentiment summary by stock exchange\n",
    "sentiOutcome_in = messagesTable_in\n",
    "sentiOutcome_in.insert(1,'BULL_PERC', bullPerc_in)\n",
    "sentiOutcome_in.insert(3,'BEAR_PERC', bearPerc_in)\n",
    "sentiOutcome_in.insert(5,'NEUTRAL_PERC', neutralPerc_in)\n",
    "sentiOutcome_in.head()"
   ]
  },
  {
   "cell_type": "code",
   "execution_count": null,
   "metadata": {
    "collapsed": true
   },
   "outputs": [],
   "source": [
    "# export to a csv file\n",
    "sentiOutcome_in.to_csv('~/psychSignalData/output/sentimentSummaryByExchange_intraday.csv', encoding='utf-8')"
   ]
  },
  {
   "cell_type": "markdown",
   "metadata": {},
   "source": [
    "> Dataset merge on business sectors.\n",
    "\n",
    "    1. material:   6,618,061;\n",
    "    2. conglomerates:  291,255; \n",
    "    3. consumer_goods: 4,476,435; \n",
    "    4. financial:   15,843,759; \n",
    "    5. healthcare: 7,682,499; \n",
    "    6. industrial_goods: 2,703,620; \n",
    "    7. services: 10,100,739; \n",
    "    8. technology: 14,076,260; \n",
    "    9. utilities: 999,042;\n"
   ]
  },
  {
   "cell_type": "code",
   "execution_count": 6,
   "metadata": {
    "collapsed": true
   },
   "outputs": [
    {
     "name": "stdout",
     "output_type": "stream",
     "text": [
      "<class 'pandas.core.frame.DataFrame'>\n",
      "Int64Index: 6618061 entries, 0 to 6618060\n",
      "Data columns (total 13 columns):\n",
      "SOURCE                    object\n",
      "SYMBOL                    object\n",
      "TIMESTAMP_UTC             object\n",
      "BULLISH_INTENSITY         float64\n",
      "BEARISH_INTENSITY         float64\n",
      "BULL_MINUS_BEAR           float64\n",
      "BULL_SCORED_MESSAGES      float64\n",
      "BEAR_SCORED_MESSAGES      float64\n",
      "BULL_BEAR_MSG_RATIO       float64\n",
      "TOTAL_SCANNED_MESSAGES    float64\n",
      "TITLE                     object\n",
      "EXCHANGE                  object\n",
      "BUSINESS_SECTOR           object\n",
      "dtypes: float64(7), object(6)\n",
      "memory usage: 706.9+ MB\n"
     ]
    }
   ],
   "source": [
    "# merge\n",
    "# merge dataset right join to sector business\n",
    "secMatMerge = merge(intradayData,secMat,on='SYMBOL',how = \"right\")\n",
    "# secMatMerge.isnull()\n",
    "secMatMerge = secMatMerge.dropna()\n",
    "secMatMerge['BUSINESS_SECTOR'] = 'Material'\n",
    "secMatMerge.info()"
   ]
  },
  {
   "cell_type": "code",
   "execution_count": 7,
   "metadata": {
    "collapsed": true
   },
   "outputs": [
    {
     "name": "stdout",
     "output_type": "stream",
     "text": [
      "<class 'pandas.core.frame.DataFrame'>\n",
      "Int64Index: 291255 entries, 0 to 291254\n",
      "Data columns (total 13 columns):\n",
      "SOURCE                    291255 non-null object\n",
      "SYMBOL                    291255 non-null object\n",
      "TIMESTAMP_UTC             291255 non-null object\n",
      "BULLISH_INTENSITY         291255 non-null float64\n",
      "BEARISH_INTENSITY         291255 non-null float64\n",
      "BULL_MINUS_BEAR           291255 non-null float64\n",
      "BULL_SCORED_MESSAGES      291255 non-null int64\n",
      "BEAR_SCORED_MESSAGES      291255 non-null int64\n",
      "BULL_BEAR_MSG_RATIO       291255 non-null float64\n",
      "TOTAL_SCANNED_MESSAGES    291255 non-null int64\n",
      "TITLE                     291255 non-null object\n",
      "EXCHANGE                  291255 non-null object\n",
      "BUSINESS_SECTOR           291255 non-null object\n",
      "dtypes: float64(4), int64(3), object(6)\n",
      "memory usage: 31.1+ MB\n"
     ]
    }
   ],
   "source": [
    "secCongMerge = merge(intradayData,secCong,on='SYMBOL',how = \"right\")\n",
    "secCongMerge = secCongMerge.dropna()\n",
    "secCongMerge['BUSINESS_SECTOR'] = 'Conglomerates'\n",
    "secCongMerge.info()"
   ]
  },
  {
   "cell_type": "code",
   "execution_count": 8,
   "metadata": {
    "collapsed": true
   },
   "outputs": [
    {
     "name": "stdout",
     "output_type": "stream",
     "text": [
      "<class 'pandas.core.frame.DataFrame'>\n",
      "Int64Index: 4476435 entries, 0 to 4476434\n",
      "Data columns (total 13 columns):\n",
      "SOURCE                    object\n",
      "SYMBOL                    object\n",
      "TIMESTAMP_UTC             object\n",
      "BULLISH_INTENSITY         float64\n",
      "BEARISH_INTENSITY         float64\n",
      "BULL_MINUS_BEAR           float64\n",
      "BULL_SCORED_MESSAGES      float64\n",
      "BEAR_SCORED_MESSAGES      float64\n",
      "BULL_BEAR_MSG_RATIO       float64\n",
      "TOTAL_SCANNED_MESSAGES    float64\n",
      "TITLE                     object\n",
      "EXCHANGE                  object\n",
      "BUSINESS_SECTOR           object\n",
      "dtypes: float64(7), object(6)\n",
      "memory usage: 478.1+ MB\n"
     ]
    }
   ],
   "source": [
    "secConsuMerge = merge(intradayData,secConsu,on='SYMBOL',how = \"right\")\n",
    "secConsuMerge = secConsuMerge.dropna()\n",
    "secConsuMerge['BUSINESS_SECTOR'] = 'Consumer_goods'\n",
    "secConsuMerge.info()"
   ]
  },
  {
   "cell_type": "code",
   "execution_count": 9,
   "metadata": {
    "collapsed": true
   },
   "outputs": [
    {
     "name": "stdout",
     "output_type": "stream",
     "text": [
      "<class 'pandas.core.frame.DataFrame'>\n",
      "Int64Index: 15843759 entries, 0 to 15843758\n",
      "Data columns (total 13 columns):\n",
      "SOURCE                    object\n",
      "SYMBOL                    object\n",
      "TIMESTAMP_UTC             object\n",
      "BULLISH_INTENSITY         float64\n",
      "BEARISH_INTENSITY         float64\n",
      "BULL_MINUS_BEAR           float64\n",
      "BULL_SCORED_MESSAGES      float64\n",
      "BEAR_SCORED_MESSAGES      float64\n",
      "BULL_BEAR_MSG_RATIO       float64\n",
      "TOTAL_SCANNED_MESSAGES    float64\n",
      "TITLE                     object\n",
      "EXCHANGE                  object\n",
      "BUSINESS_SECTOR           object\n",
      "dtypes: float64(7), object(6)\n",
      "memory usage: 1.7+ GB\n"
     ]
    }
   ],
   "source": [
    "secFinanMerge = merge(intradayData,secFinan,on='SYMBOL',how = \"right\")\n",
    "secFinanMerge = secFinanMerge.dropna()\n",
    "secFinanMerge['BUSINESS_SECTOR'] = 'Financial'\n",
    "secFinanMerge.info()"
   ]
  },
  {
   "cell_type": "code",
   "execution_count": 10,
   "metadata": {
    "collapsed": true
   },
   "outputs": [
    {
     "name": "stdout",
     "output_type": "stream",
     "text": [
      "<class 'pandas.core.frame.DataFrame'>\n",
      "Int64Index: 7682499 entries, 0 to 7682498\n",
      "Data columns (total 13 columns):\n",
      "SOURCE                    object\n",
      "SYMBOL                    object\n",
      "TIMESTAMP_UTC             object\n",
      "BULLISH_INTENSITY         float64\n",
      "BEARISH_INTENSITY         float64\n",
      "BULL_MINUS_BEAR           float64\n",
      "BULL_SCORED_MESSAGES      float64\n",
      "BEAR_SCORED_MESSAGES      float64\n",
      "BULL_BEAR_MSG_RATIO       float64\n",
      "TOTAL_SCANNED_MESSAGES    float64\n",
      "TITLE                     object\n",
      "EXCHANGE                  object\n",
      "BUSINESS_SECTOR           object\n",
      "dtypes: float64(7), object(6)\n",
      "memory usage: 820.6+ MB\n"
     ]
    }
   ],
   "source": [
    "secHealthMerge = merge(intradayData,secHealth,on='SYMBOL',how = \"right\")\n",
    "secHealthMerge = secHealthMerge.dropna()\n",
    "secHealthMerge['BUSINESS_SECTOR'] = 'Healthcare'\n",
    "secHealthMerge.info()"
   ]
  },
  {
   "cell_type": "code",
   "execution_count": 11,
   "metadata": {
    "collapsed": true
   },
   "outputs": [
    {
     "name": "stdout",
     "output_type": "stream",
     "text": [
      "<class 'pandas.core.frame.DataFrame'>\n",
      "Int64Index: 2703620 entries, 0 to 2703619\n",
      "Data columns (total 13 columns):\n",
      "SOURCE                    object\n",
      "SYMBOL                    object\n",
      "TIMESTAMP_UTC             object\n",
      "BULLISH_INTENSITY         float64\n",
      "BEARISH_INTENSITY         float64\n",
      "BULL_MINUS_BEAR           float64\n",
      "BULL_SCORED_MESSAGES      int64\n",
      "BEAR_SCORED_MESSAGES      int64\n",
      "BULL_BEAR_MSG_RATIO       float64\n",
      "TOTAL_SCANNED_MESSAGES    int64\n",
      "TITLE                     object\n",
      "EXCHANGE                  object\n",
      "BUSINESS_SECTOR           object\n",
      "dtypes: float64(4), int64(3), object(6)\n",
      "memory usage: 288.8+ MB\n"
     ]
    }
   ],
   "source": [
    "secIndusMerge = merge(intradayData,secIndus,on='SYMBOL',how = \"right\")\n",
    "secIndusMerge = secIndusMerge.dropna()\n",
    "secIndusMerge['BUSINESS_SECTOR'] ='Industrial_goods'\n",
    "secIndusMerge.info()"
   ]
  },
  {
   "cell_type": "code",
   "execution_count": 12,
   "metadata": {
    "collapsed": true
   },
   "outputs": [
    {
     "name": "stdout",
     "output_type": "stream",
     "text": [
      "<class 'pandas.core.frame.DataFrame'>\n",
      "Int64Index: 10100739 entries, 0 to 10100738\n",
      "Data columns (total 13 columns):\n",
      "SOURCE                    object\n",
      "SYMBOL                    object\n",
      "TIMESTAMP_UTC             object\n",
      "BULLISH_INTENSITY         float64\n",
      "BEARISH_INTENSITY         float64\n",
      "BULL_MINUS_BEAR           float64\n",
      "BULL_SCORED_MESSAGES      float64\n",
      "BEAR_SCORED_MESSAGES      float64\n",
      "BULL_BEAR_MSG_RATIO       float64\n",
      "TOTAL_SCANNED_MESSAGES    float64\n",
      "TITLE                     object\n",
      "EXCHANGE                  object\n",
      "BUSINESS_SECTOR           object\n",
      "dtypes: float64(7), object(6)\n",
      "memory usage: 1.1+ GB\n"
     ]
    }
   ],
   "source": [
    "secServMerge = merge(intradayData,secServ,on='SYMBOL',how = \"right\")\n",
    "secServMerge = secServMerge.dropna()\n",
    "secServMerge['BUSINESS_SECTOR'] = 'Services'\n",
    "secServMerge.info()"
   ]
  },
  {
   "cell_type": "code",
   "execution_count": 13,
   "metadata": {
    "collapsed": true
   },
   "outputs": [
    {
     "name": "stdout",
     "output_type": "stream",
     "text": [
      "<class 'pandas.core.frame.DataFrame'>\n",
      "Int64Index: 14076260 entries, 0 to 14076259\n",
      "Data columns (total 13 columns):\n",
      "SOURCE                    object\n",
      "SYMBOL                    object\n",
      "TIMESTAMP_UTC             object\n",
      "BULLISH_INTENSITY         float64\n",
      "BEARISH_INTENSITY         float64\n",
      "BULL_MINUS_BEAR           float64\n",
      "BULL_SCORED_MESSAGES      float64\n",
      "BEAR_SCORED_MESSAGES      float64\n",
      "BULL_BEAR_MSG_RATIO       float64\n",
      "TOTAL_SCANNED_MESSAGES    float64\n",
      "TITLE                     object\n",
      "EXCHANGE                  object\n",
      "BUSINESS_SECTOR           object\n",
      "dtypes: float64(7), object(6)\n",
      "memory usage: 1.5+ GB\n"
     ]
    }
   ],
   "source": [
    "secTechMerge = merge(intradayData,secTech,on='SYMBOL',how = \"right\")\n",
    "secTechMerge = secTechMerge.dropna()\n",
    "secTechMerge['BUSINESS_SECTOR'] ='Technology'\n",
    "secTechMerge.info()"
   ]
  },
  {
   "cell_type": "code",
   "execution_count": 14,
   "metadata": {
    "collapsed": false
   },
   "outputs": [
    {
     "name": "stdout",
     "output_type": "stream",
     "text": [
      "<class 'pandas.core.frame.DataFrame'>\n",
      "Int64Index: 999042 entries, 0 to 999041\n",
      "Data columns (total 13 columns):\n",
      "SOURCE                    999042 non-null object\n",
      "SYMBOL                    999042 non-null object\n",
      "TIMESTAMP_UTC             999042 non-null object\n",
      "BULLISH_INTENSITY         999042 non-null float64\n",
      "BEARISH_INTENSITY         999042 non-null float64\n",
      "BULL_MINUS_BEAR           999042 non-null float64\n",
      "BULL_SCORED_MESSAGES      999042 non-null int64\n",
      "BEAR_SCORED_MESSAGES      999042 non-null int64\n",
      "BULL_BEAR_MSG_RATIO       999042 non-null float64\n",
      "TOTAL_SCANNED_MESSAGES    999042 non-null int64\n",
      "TITLE                     999042 non-null object\n",
      "EXCHANGE                  999042 non-null object\n",
      "BUSINESS_SECTOR           999042 non-null object\n",
      "dtypes: float64(4), int64(3), object(6)\n",
      "memory usage: 106.7+ MB\n"
     ]
    }
   ],
   "source": [
    "secUtilMerge = merge(intradayData,secUtil,on='SYMBOL',how = \"right\")\n",
    "secUtilMerge = secUtilMerge.dropna()\n",
    "secUtilMerge['BUSINESS_SECTOR'] = 'Utilities'\n",
    "secUtilMerge.info()"
   ]
  },
  {
   "cell_type": "code",
   "execution_count": 15,
   "metadata": {
    "collapsed": false
   },
   "outputs": [
    {
     "data": {
      "text/html": [
       "<div>\n",
       "<table border=\"1\" class=\"dataframe\">\n",
       "  <thead>\n",
       "    <tr style=\"text-align: right;\">\n",
       "      <th></th>\n",
       "      <th></th>\n",
       "      <th>SOURCE</th>\n",
       "      <th>SYMBOL</th>\n",
       "      <th>TIMESTAMP_UTC</th>\n",
       "      <th>BULLISH_INTENSITY</th>\n",
       "      <th>BEARISH_INTENSITY</th>\n",
       "      <th>BULL_MINUS_BEAR</th>\n",
       "      <th>BULL_SCORED_MESSAGES</th>\n",
       "      <th>BEAR_SCORED_MESSAGES</th>\n",
       "      <th>BULL_BEAR_MSG_RATIO</th>\n",
       "      <th>TOTAL_SCANNED_MESSAGES</th>\n",
       "      <th>TITLE</th>\n",
       "      <th>EXCHANGE</th>\n",
       "      <th>BUSINESS_SECTOR</th>\n",
       "    </tr>\n",
       "    <tr>\n",
       "      <th>SECTOR</th>\n",
       "      <th>Sector_Index</th>\n",
       "      <th></th>\n",
       "      <th></th>\n",
       "      <th></th>\n",
       "      <th></th>\n",
       "      <th></th>\n",
       "      <th></th>\n",
       "      <th></th>\n",
       "      <th></th>\n",
       "      <th></th>\n",
       "      <th></th>\n",
       "      <th></th>\n",
       "      <th></th>\n",
       "      <th></th>\n",
       "    </tr>\n",
       "  </thead>\n",
       "  <tbody>\n",
       "    <tr>\n",
       "      <th rowspan=\"5\" valign=\"top\">Matrial</th>\n",
       "      <th>0</th>\n",
       "      <td>stocktwits+twitter_withretweets</td>\n",
       "      <td>AA</td>\n",
       "      <td>2009-08-24T17:15:00Z</td>\n",
       "      <td>0.00</td>\n",
       "      <td>0</td>\n",
       "      <td>0.00</td>\n",
       "      <td>0</td>\n",
       "      <td>0</td>\n",
       "      <td>0</td>\n",
       "      <td>1</td>\n",
       "      <td>Alcoa Inc.</td>\n",
       "      <td>NYSE</td>\n",
       "      <td>Material</td>\n",
       "    </tr>\n",
       "    <tr>\n",
       "      <th>1</th>\n",
       "      <td>stocktwits+twitter_withretweets</td>\n",
       "      <td>AA</td>\n",
       "      <td>2009-08-24T17:19:00Z</td>\n",
       "      <td>1.19</td>\n",
       "      <td>0</td>\n",
       "      <td>1.19</td>\n",
       "      <td>1</td>\n",
       "      <td>0</td>\n",
       "      <td>0</td>\n",
       "      <td>1</td>\n",
       "      <td>Alcoa Inc.</td>\n",
       "      <td>NYSE</td>\n",
       "      <td>Material</td>\n",
       "    </tr>\n",
       "    <tr>\n",
       "      <th>2</th>\n",
       "      <td>stocktwits+twitter_withretweets</td>\n",
       "      <td>AA</td>\n",
       "      <td>2009-09-03T13:50:00Z</td>\n",
       "      <td>0.00</td>\n",
       "      <td>0</td>\n",
       "      <td>0.00</td>\n",
       "      <td>0</td>\n",
       "      <td>0</td>\n",
       "      <td>0</td>\n",
       "      <td>1</td>\n",
       "      <td>Alcoa Inc.</td>\n",
       "      <td>NYSE</td>\n",
       "      <td>Material</td>\n",
       "    </tr>\n",
       "    <tr>\n",
       "      <th>3</th>\n",
       "      <td>stocktwits+twitter_withretweets</td>\n",
       "      <td>AA</td>\n",
       "      <td>2009-09-03T14:07:00Z</td>\n",
       "      <td>1.33</td>\n",
       "      <td>0</td>\n",
       "      <td>1.33</td>\n",
       "      <td>1</td>\n",
       "      <td>0</td>\n",
       "      <td>0</td>\n",
       "      <td>1</td>\n",
       "      <td>Alcoa Inc.</td>\n",
       "      <td>NYSE</td>\n",
       "      <td>Material</td>\n",
       "    </tr>\n",
       "    <tr>\n",
       "      <th>4</th>\n",
       "      <td>stocktwits+twitter_withretweets</td>\n",
       "      <td>AA</td>\n",
       "      <td>2009-09-10T14:27:00Z</td>\n",
       "      <td>2.50</td>\n",
       "      <td>0</td>\n",
       "      <td>2.50</td>\n",
       "      <td>1</td>\n",
       "      <td>0</td>\n",
       "      <td>0</td>\n",
       "      <td>1</td>\n",
       "      <td>Alcoa Inc.</td>\n",
       "      <td>NYSE</td>\n",
       "      <td>Material</td>\n",
       "    </tr>\n",
       "  </tbody>\n",
       "</table>\n",
       "</div>"
      ],
      "text/plain": [
       "                                               SOURCE SYMBOL  \\\n",
       "SECTOR  Sector_Index                                           \n",
       "Matrial 0             stocktwits+twitter_withretweets     AA   \n",
       "        1             stocktwits+twitter_withretweets     AA   \n",
       "        2             stocktwits+twitter_withretweets     AA   \n",
       "        3             stocktwits+twitter_withretweets     AA   \n",
       "        4             stocktwits+twitter_withretweets     AA   \n",
       "\n",
       "                             TIMESTAMP_UTC  BULLISH_INTENSITY  \\\n",
       "SECTOR  Sector_Index                                            \n",
       "Matrial 0             2009-08-24T17:15:00Z               0.00   \n",
       "        1             2009-08-24T17:19:00Z               1.19   \n",
       "        2             2009-09-03T13:50:00Z               0.00   \n",
       "        3             2009-09-03T14:07:00Z               1.33   \n",
       "        4             2009-09-10T14:27:00Z               2.50   \n",
       "\n",
       "                      BEARISH_INTENSITY  BULL_MINUS_BEAR  \\\n",
       "SECTOR  Sector_Index                                       \n",
       "Matrial 0                             0             0.00   \n",
       "        1                             0             1.19   \n",
       "        2                             0             0.00   \n",
       "        3                             0             1.33   \n",
       "        4                             0             2.50   \n",
       "\n",
       "                      BULL_SCORED_MESSAGES  BEAR_SCORED_MESSAGES  \\\n",
       "SECTOR  Sector_Index                                               \n",
       "Matrial 0                                0                     0   \n",
       "        1                                1                     0   \n",
       "        2                                0                     0   \n",
       "        3                                1                     0   \n",
       "        4                                1                     0   \n",
       "\n",
       "                      BULL_BEAR_MSG_RATIO  TOTAL_SCANNED_MESSAGES       TITLE  \\\n",
       "SECTOR  Sector_Index                                                            \n",
       "Matrial 0                               0                       1  Alcoa Inc.   \n",
       "        1                               0                       1  Alcoa Inc.   \n",
       "        2                               0                       1  Alcoa Inc.   \n",
       "        3                               0                       1  Alcoa Inc.   \n",
       "        4                               0                       1  Alcoa Inc.   \n",
       "\n",
       "                     EXCHANGE BUSINESS_SECTOR  \n",
       "SECTOR  Sector_Index                           \n",
       "Matrial 0                NYSE        Material  \n",
       "        1                NYSE        Material  \n",
       "        2                NYSE        Material  \n",
       "        3                NYSE        Material  \n",
       "        4                NYSE        Material  "
      ]
     },
     "execution_count": 15,
     "metadata": {},
     "output_type": "execute_result"
    }
   ],
   "source": [
    "# merge the sectors datasets together\n",
    "sectorsData_intraday = concat([secMatMerge,secCongMerge,secConsuMerge,secFinanMerge,secHealthMerge,\n",
    "                      secIndusMerge,secServMerge,secTechMerge,secUtilMerge],\n",
    "                     keys=['Matrial','Conglomerates','Consumer_goods','Financial','Healthcare',\n",
    "                           'Industrial_goods','Services','Technology','Utilities'],\n",
    "                     names = ['SECTOR','Sector_Index'])\n",
    "sectorsData_intraday.head()"
   ]
  },
  {
   "cell_type": "code",
   "execution_count": null,
   "metadata": {
    "collapsed": true
   },
   "outputs": [],
   "source": [
    "sectorsData_intraday.to_csv('~/psychSignalData/output/DataBySectors_intraday.csv', encoding='utf-8')"
   ]
  },
  {
   "cell_type": "code",
   "execution_count": 20,
   "metadata": {
    "collapsed": false
   },
   "outputs": [
    {
     "data": {
      "text/plain": [
       "SECTOR\n",
       "Matrial              6618061\n",
       "Conglomerates         291255\n",
       "Consumer_goods       4476435\n",
       "Financial           15843759\n",
       "Healthcare           7682499\n",
       "Industrial_goods     2703620\n",
       "Services            10100739\n",
       "Technology          14076260\n",
       "Utilities             999042\n",
       "dtype: int64"
      ]
     },
     "execution_count": 20,
     "metadata": {},
     "output_type": "execute_result"
    }
   ],
   "source": [
    "# count the available rows for each sector\n",
    "sectorsData_intraday['SOURCE'].groupby(level = 'SECTOR').count()"
   ]
  },
  {
   "cell_type": "code",
   "execution_count": null,
   "metadata": {
    "collapsed": true
   },
   "outputs": [],
   "source": []
  }
 ],
 "metadata": {
  "kernelspec": {
   "display_name": "Python 3",
   "language": "python",
   "name": "python3"
  },
  "language_info": {
   "codemirror_mode": {
    "name": "ipython",
    "version": 3
   },
   "file_extension": ".py",
   "mimetype": "text/x-python",
   "name": "python",
   "nbconvert_exporter": "python",
   "pygments_lexer": "ipython3",
   "version": "3.5.1"
  }
 },
 "nbformat": 4,
 "nbformat_minor": 0
}
