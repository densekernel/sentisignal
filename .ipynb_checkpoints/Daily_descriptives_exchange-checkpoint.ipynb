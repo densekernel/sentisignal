{
 "cells": [
  {
   "cell_type": "code",
   "execution_count": 43,
   "metadata": {
    "collapsed": false
   },
   "outputs": [],
   "source": [
    "import pandas as pd\n",
    "import numpy as np \n",
    "import pylab as P \n",
    "# Import the module for plotting\n",
    "import matplotlib.pyplot as plt\n",
    "from pandas import Series,DataFrame,merge\n",
    "plt.style.use('ggplot')"
   ]
  },
  {
   "cell_type": "code",
   "execution_count": 13,
   "metadata": {
    "collapsed": false
   },
   "outputs": [
    {
     "data": {
      "text/html": [
       "<div>\n",
       "<table border=\"1\" class=\"dataframe\">\n",
       "  <thead>\n",
       "    <tr style=\"text-align: right;\">\n",
       "      <th></th>\n",
       "      <th>SOURCE</th>\n",
       "      <th>SYMBOL</th>\n",
       "      <th>TIMESTAMP_UTC</th>\n",
       "      <th>BULLISH_INTENSITY</th>\n",
       "      <th>BEARISH_INTENSITY</th>\n",
       "      <th>BULL_MINUS_BEAR</th>\n",
       "      <th>BULL_SCORED_MESSAGES</th>\n",
       "      <th>BEAR_SCORED_MESSAGES</th>\n",
       "      <th>BULL_BEAR_MSG_RATIO</th>\n",
       "      <th>TOTAL_SCANNED_MESSAGES</th>\n",
       "    </tr>\n",
       "  </thead>\n",
       "  <tbody>\n",
       "    <tr>\n",
       "      <th>0</th>\n",
       "      <td>stocktwits+twitter_withretweets</td>\n",
       "      <td>10GEN</td>\n",
       "      <td>2011-04-08T04:00:00Z</td>\n",
       "      <td>0</td>\n",
       "      <td>0</td>\n",
       "      <td>0</td>\n",
       "      <td>0</td>\n",
       "      <td>0</td>\n",
       "      <td>0</td>\n",
       "      <td>2</td>\n",
       "    </tr>\n",
       "    <tr>\n",
       "      <th>1</th>\n",
       "      <td>stocktwits+twitter_withretweets</td>\n",
       "      <td>10GEN</td>\n",
       "      <td>2011-04-16T04:00:00Z</td>\n",
       "      <td>0</td>\n",
       "      <td>0</td>\n",
       "      <td>0</td>\n",
       "      <td>0</td>\n",
       "      <td>0</td>\n",
       "      <td>0</td>\n",
       "      <td>3</td>\n",
       "    </tr>\n",
       "    <tr>\n",
       "      <th>2</th>\n",
       "      <td>stocktwits+twitter_withretweets</td>\n",
       "      <td>10GEN</td>\n",
       "      <td>2011-04-17T04:00:00Z</td>\n",
       "      <td>0</td>\n",
       "      <td>0</td>\n",
       "      <td>0</td>\n",
       "      <td>0</td>\n",
       "      <td>0</td>\n",
       "      <td>0</td>\n",
       "      <td>2</td>\n",
       "    </tr>\n",
       "    <tr>\n",
       "      <th>3</th>\n",
       "      <td>stocktwits+twitter_withretweets</td>\n",
       "      <td>10GEN</td>\n",
       "      <td>2011-04-20T04:00:00Z</td>\n",
       "      <td>0</td>\n",
       "      <td>0</td>\n",
       "      <td>0</td>\n",
       "      <td>0</td>\n",
       "      <td>0</td>\n",
       "      <td>0</td>\n",
       "      <td>1</td>\n",
       "    </tr>\n",
       "    <tr>\n",
       "      <th>4</th>\n",
       "      <td>stocktwits+twitter_withretweets</td>\n",
       "      <td>10GEN</td>\n",
       "      <td>2011-07-19T04:00:00Z</td>\n",
       "      <td>0</td>\n",
       "      <td>0</td>\n",
       "      <td>0</td>\n",
       "      <td>0</td>\n",
       "      <td>0</td>\n",
       "      <td>0</td>\n",
       "      <td>3</td>\n",
       "    </tr>\n",
       "  </tbody>\n",
       "</table>\n",
       "</div>"
      ],
      "text/plain": [
       "                            SOURCE SYMBOL         TIMESTAMP_UTC  \\\n",
       "0  stocktwits+twitter_withretweets  10GEN  2011-04-08T04:00:00Z   \n",
       "1  stocktwits+twitter_withretweets  10GEN  2011-04-16T04:00:00Z   \n",
       "2  stocktwits+twitter_withretweets  10GEN  2011-04-17T04:00:00Z   \n",
       "3  stocktwits+twitter_withretweets  10GEN  2011-04-20T04:00:00Z   \n",
       "4  stocktwits+twitter_withretweets  10GEN  2011-07-19T04:00:00Z   \n",
       "\n",
       "   BULLISH_INTENSITY  BEARISH_INTENSITY  BULL_MINUS_BEAR  \\\n",
       "0                  0                  0                0   \n",
       "1                  0                  0                0   \n",
       "2                  0                  0                0   \n",
       "3                  0                  0                0   \n",
       "4                  0                  0                0   \n",
       "\n",
       "   BULL_SCORED_MESSAGES  BEAR_SCORED_MESSAGES  BULL_BEAR_MSG_RATIO  \\\n",
       "0                     0                     0                    0   \n",
       "1                     0                     0                    0   \n",
       "2                     0                     0                    0   \n",
       "3                     0                     0                    0   \n",
       "4                     0                     0                    0   \n",
       "\n",
       "   TOTAL_SCANNED_MESSAGES  \n",
       "0                       2  \n",
       "1                       3  \n",
       "2                       2  \n",
       "3                       1  \n",
       "4                       3  "
      ]
     },
     "execution_count": 13,
     "metadata": {},
     "output_type": "execute_result"
    }
   ],
   "source": [
    "# data import\n",
    "dailyData = pd.read_csv('../data/csv/stocktwits_twitter_withretweets_daily.csv')\n",
    "dailyData.head()"
   ]
  },
  {
   "cell_type": "code",
   "execution_count": 14,
   "metadata": {
    "collapsed": false
   },
   "outputs": [],
   "source": [
    "# symbols import\n",
    "symbStocks = pd.read_csv('../data/csv/symbology.csv')\n",
    "# section symbols\n",
    "secMat = pd.read_csv('../data/csv/symbols/basic_materials.csv')\n",
    "secCong = pd.read_csv('../data/csv/symbols/conglomerates.csv')\n",
    "secConsu = pd.read_csv('../data/csv/symbols/consumer_goods.csv')\n",
    "secFinan = pd.read_csv('../data/csv/symbols/financial.csv')\n",
    "secHealth = pd.read_csv('../data/csv/symbols/healthcare.csv')\n",
    "secIndus = pd.read_csv('../data/csv/symbols/industrial_goods.csv')\n",
    "secServ = pd.read_csv('../data/csv/symbols/services.csv')\n",
    "secTech = pd.read_csv('../data/csv/symbols/technology.csv')\n",
    "secUtil = pd.read_csv('../data/csv/symbols/utilities.csv')\n",
    "\n"
   ]
  },
  {
   "cell_type": "code",
   "execution_count": 24,
   "metadata": {
    "collapsed": false
   },
   "outputs": [],
   "source": [
    "symbStocks.dtypes\n",
    "symbStocks = symbStocks.ix[:,0:3]"
   ]
  },
  {
   "cell_type": "code",
   "execution_count": 16,
   "metadata": {
    "collapsed": false
   },
   "outputs": [
    {
     "data": {
      "text/html": [
       "<div>\n",
       "<table border=\"1\" class=\"dataframe\">\n",
       "  <thead>\n",
       "    <tr style=\"text-align: right;\">\n",
       "      <th></th>\n",
       "      <th>SOURCE</th>\n",
       "      <th>SYMBOL</th>\n",
       "      <th>TIMESTAMP_UTC</th>\n",
       "      <th>BULLISH_INTENSITY</th>\n",
       "      <th>BEARISH_INTENSITY</th>\n",
       "      <th>BULL_MINUS_BEAR</th>\n",
       "      <th>BULL_SCORED_MESSAGES</th>\n",
       "      <th>BEAR_SCORED_MESSAGES</th>\n",
       "      <th>BULL_BEAR_MSG_RATIO</th>\n",
       "      <th>TOTAL_SCANNED_MESSAGES</th>\n",
       "    </tr>\n",
       "  </thead>\n",
       "  <tbody>\n",
       "    <tr>\n",
       "      <th>0</th>\n",
       "      <td>stocktwits+twitter_withretweets</td>\n",
       "      <td>10GEN</td>\n",
       "      <td>2011-04-08T04:00:00Z</td>\n",
       "      <td>0</td>\n",
       "      <td>0</td>\n",
       "      <td>0</td>\n",
       "      <td>0</td>\n",
       "      <td>0</td>\n",
       "      <td>0</td>\n",
       "      <td>2</td>\n",
       "    </tr>\n",
       "    <tr>\n",
       "      <th>1</th>\n",
       "      <td>stocktwits+twitter_withretweets</td>\n",
       "      <td>10GEN</td>\n",
       "      <td>2011-04-16T04:00:00Z</td>\n",
       "      <td>0</td>\n",
       "      <td>0</td>\n",
       "      <td>0</td>\n",
       "      <td>0</td>\n",
       "      <td>0</td>\n",
       "      <td>0</td>\n",
       "      <td>3</td>\n",
       "    </tr>\n",
       "    <tr>\n",
       "      <th>2</th>\n",
       "      <td>stocktwits+twitter_withretweets</td>\n",
       "      <td>10GEN</td>\n",
       "      <td>2011-04-17T04:00:00Z</td>\n",
       "      <td>0</td>\n",
       "      <td>0</td>\n",
       "      <td>0</td>\n",
       "      <td>0</td>\n",
       "      <td>0</td>\n",
       "      <td>0</td>\n",
       "      <td>2</td>\n",
       "    </tr>\n",
       "    <tr>\n",
       "      <th>3</th>\n",
       "      <td>stocktwits+twitter_withretweets</td>\n",
       "      <td>10GEN</td>\n",
       "      <td>2011-04-20T04:00:00Z</td>\n",
       "      <td>0</td>\n",
       "      <td>0</td>\n",
       "      <td>0</td>\n",
       "      <td>0</td>\n",
       "      <td>0</td>\n",
       "      <td>0</td>\n",
       "      <td>1</td>\n",
       "    </tr>\n",
       "    <tr>\n",
       "      <th>4</th>\n",
       "      <td>stocktwits+twitter_withretweets</td>\n",
       "      <td>10GEN</td>\n",
       "      <td>2011-07-19T04:00:00Z</td>\n",
       "      <td>0</td>\n",
       "      <td>0</td>\n",
       "      <td>0</td>\n",
       "      <td>0</td>\n",
       "      <td>0</td>\n",
       "      <td>0</td>\n",
       "      <td>3</td>\n",
       "    </tr>\n",
       "  </tbody>\n",
       "</table>\n",
       "</div>"
      ],
      "text/plain": [
       "                            SOURCE SYMBOL         TIMESTAMP_UTC  \\\n",
       "0  stocktwits+twitter_withretweets  10GEN  2011-04-08T04:00:00Z   \n",
       "1  stocktwits+twitter_withretweets  10GEN  2011-04-16T04:00:00Z   \n",
       "2  stocktwits+twitter_withretweets  10GEN  2011-04-17T04:00:00Z   \n",
       "3  stocktwits+twitter_withretweets  10GEN  2011-04-20T04:00:00Z   \n",
       "4  stocktwits+twitter_withretweets  10GEN  2011-07-19T04:00:00Z   \n",
       "\n",
       "   BULLISH_INTENSITY  BEARISH_INTENSITY  BULL_MINUS_BEAR  \\\n",
       "0                  0                  0                0   \n",
       "1                  0                  0                0   \n",
       "2                  0                  0                0   \n",
       "3                  0                  0                0   \n",
       "4                  0                  0                0   \n",
       "\n",
       "   BULL_SCORED_MESSAGES  BEAR_SCORED_MESSAGES  BULL_BEAR_MSG_RATIO  \\\n",
       "0                     0                     0                    0   \n",
       "1                     0                     0                    0   \n",
       "2                     0                     0                    0   \n",
       "3                     0                     0                    0   \n",
       "4                     0                     0                    0   \n",
       "\n",
       "   TOTAL_SCANNED_MESSAGES  \n",
       "0                       2  \n",
       "1                       3  \n",
       "2                       2  \n",
       "3                       1  \n",
       "4                       3  "
      ]
     },
     "execution_count": 16,
     "metadata": {},
     "output_type": "execute_result"
    }
   ],
   "source": [
    "dailyData.head()"
   ]
  },
  {
   "cell_type": "code",
   "execution_count": 17,
   "metadata": {
    "collapsed": false
   },
   "outputs": [
    {
     "name": "stdout",
     "output_type": "stream",
     "text": [
      "SYMBOL      object\n",
      "TITLE       object\n",
      "EXCHANGE    object\n",
      "dtype: object\n",
      "SYMBOL      object\n",
      "TITLE       object\n",
      "EXCHANGE    object\n",
      "dtype: object\n",
      "SYMBOL      object\n",
      "TITLE       object\n",
      "EXCHANGE    object\n",
      "dtype: object\n",
      "SYMBOL      object\n",
      "TITLE       object\n",
      "EXCHANGE    object\n",
      "dtype: object\n",
      "SYMBOL      object\n",
      "TITLE       object\n",
      "EXCHANGE    object\n",
      "dtype: object\n",
      "SYMBOL      object\n",
      "TITLE       object\n",
      "EXCHANGE    object\n",
      "dtype: object\n",
      "SYMBOL      object\n",
      "TITLE       object\n",
      "EXCHANGE    object\n",
      "dtype: object\n",
      "SYMBOL      object\n",
      "TITLE       object\n",
      "EXCHANGE    object\n",
      "dtype: object\n",
      "SYMBOL      object\n",
      "TITLE       object\n",
      "EXCHANGE    object\n",
      "dtype: object\n"
     ]
    }
   ],
   "source": [
    "# type of sector data\n",
    "print(secMat.dtypes)\n",
    "print(secCong.dtypes)\n",
    "print(secConsu.dtypes)\n",
    "print(secFinan.dtypes)\n",
    "print(secHealth.dtypes)\n",
    "print(secIndus.dtypes)\n",
    "print(secServ.dtypes)\n",
    "print(secTech.dtypes)\n",
    "print(secUtil.dtypes)"
   ]
  },
  {
   "cell_type": "code",
   "execution_count": 18,
   "metadata": {
    "collapsed": false
   },
   "outputs": [
    {
     "name": "stdout",
     "output_type": "stream",
     "text": [
      "<class 'pandas.core.frame.DataFrame'>\n",
      "Int64Index: 7120506 entries, 0 to 7120505\n",
      "Data columns (total 10 columns):\n",
      "SOURCE                    object\n",
      "SYMBOL                    object\n",
      "TIMESTAMP_UTC             object\n",
      "BULLISH_INTENSITY         float64\n",
      "BEARISH_INTENSITY         float64\n",
      "BULL_MINUS_BEAR           float64\n",
      "BULL_SCORED_MESSAGES      int64\n",
      "BEAR_SCORED_MESSAGES      int64\n",
      "BULL_BEAR_MSG_RATIO       float64\n",
      "TOTAL_SCANNED_MESSAGES    int64\n",
      "dtypes: float64(4), int64(3), object(3)\n",
      "memory usage: 597.6+ MB\n"
     ]
    }
   ],
   "source": [
    "# information for data set - attribute types\n",
    "# daily data rows/instances = 7,120,506\n",
    "dailyData.info() "
   ]
  },
  {
   "cell_type": "code",
   "execution_count": 19,
   "metadata": {
    "collapsed": false
   },
   "outputs": [
    {
     "data": {
      "text/html": [
       "<div>\n",
       "<table border=\"1\" class=\"dataframe\">\n",
       "  <thead>\n",
       "    <tr style=\"text-align: right;\">\n",
       "      <th></th>\n",
       "      <th>exchange</th>\n",
       "      <th>symbol</th>\n",
       "      <th>sector</th>\n",
       "    </tr>\n",
       "  </thead>\n",
       "  <tbody>\n",
       "    <tr>\n",
       "      <th>count</th>\n",
       "      <td>10595</td>\n",
       "      <td>11444</td>\n",
       "      <td>7192</td>\n",
       "    </tr>\n",
       "    <tr>\n",
       "      <th>unique</th>\n",
       "      <td>15</td>\n",
       "      <td>11437</td>\n",
       "      <td>9</td>\n",
       "    </tr>\n",
       "    <tr>\n",
       "      <th>top</th>\n",
       "      <td>NASDAQ</td>\n",
       "      <td>RESN</td>\n",
       "      <td>Financial</td>\n",
       "    </tr>\n",
       "    <tr>\n",
       "      <th>freq</th>\n",
       "      <td>3754</td>\n",
       "      <td>3</td>\n",
       "      <td>2856</td>\n",
       "    </tr>\n",
       "  </tbody>\n",
       "</table>\n",
       "</div>"
      ],
      "text/plain": [
       "       exchange symbol     sector\n",
       "count     10595  11444       7192\n",
       "unique       15  11437          9\n",
       "top      NASDAQ   RESN  Financial\n",
       "freq       3754      3       2856"
      ]
     },
     "execution_count": 19,
     "metadata": {},
     "output_type": "execute_result"
    }
   ],
   "source": [
    "symbStocks.describe()"
   ]
  },
  {
   "cell_type": "code",
   "execution_count": 47,
   "metadata": {
    "collapsed": false
   },
   "outputs": [],
   "source": [
    "# PLOT A SAMPLE: TOTAL SCANNED MESSAGES BETWEEN 1 TO 11\n",
    "# dailyData['TOTAL_SCANNED_MESSAGES'].hist(range=(1,10))\n",
    "# P.show()\n",
    "\n",
    "# the histogram of the data\n",
    "plt.hist(dailyData['TOTAL_SCANNED_MESSAGES'], range=[1, 10])\n",
    "plt.xlabel('Number of Daily Messages')\n",
    "plt.ylabel('Total Counts')\n",
    "plt.grid(True)\n",
    "plt.show()"
   ]
  },
  {
   "cell_type": "code",
   "execution_count": 40,
   "metadata": {
    "collapsed": false
   },
   "outputs": [],
   "source": [
    "# plt.show(dailyData.plot(kind = 'box'))"
   ]
  },
  {
   "cell_type": "code",
   "execution_count": 26,
   "metadata": {
    "collapsed": false
   },
   "outputs": [],
   "source": [
    "# merge dataset left join\n",
    "dailyStockSymb = merge(dailyData,symbStocks,left_on='SYMBOL',right_on = 'symbol',how = \"left\")"
   ]
  },
  {
   "cell_type": "code",
   "execution_count": 27,
   "metadata": {
    "collapsed": false
   },
   "outputs": [
    {
     "data": {
      "text/plain": [
       "Index([u'SYMBOL', u'TIMESTAMP_UTC', u'BULLISH_INTENSITY', u'BEARISH_INTENSITY',\n",
       "       u'BULL_MINUS_BEAR', u'BULL_SCORED_MESSAGES', u'BEAR_SCORED_MESSAGES',\n",
       "       u'BULL_BEAR_MSG_RATIO', u'TOTAL_SCANNED_MESSAGES', u'exchange'],\n",
       "      dtype='object')"
      ]
     },
     "execution_count": 27,
     "metadata": {},
     "output_type": "execute_result"
    }
   ],
   "source": [
    "dailyStockSymb = dailyStockSymb.ix[:,1:11]\n",
    "dailyStockSymb.columns"
   ]
  },
  {
   "cell_type": "code",
   "execution_count": 29,
   "metadata": {
    "collapsed": false
   },
   "outputs": [
    {
     "name": "stdout",
     "output_type": "stream",
     "text": [
      "Index([u'BULLISH_INTENSITY', u'BEARISH_INTENSITY', u'BULL_MINUS_BEAR',\n",
      "       u'BULL_SCORED_MESSAGES', u'BEAR_SCORED_MESSAGES',\n",
      "       u'BULL_BEAR_MSG_RATIO', u'TOTAL_SCANNED_MESSAGES'],\n",
      "      dtype='object')\n"
     ]
    }
   ],
   "source": [
    "# Group By Stock Exchange\n",
    "exchangeGrouped = dailyStockSymb.groupby(dailyStockSymb['exchange'])\n",
    "sumByExchange = exchangeGrouped.sum()\n",
    "print(sumByExchange.columns)\n",
    "# sumByExchange"
   ]
  },
  {
   "cell_type": "code",
   "execution_count": 30,
   "metadata": {
    "collapsed": false
   },
   "outputs": [],
   "source": [
    "# statistic description for bull bear messages ratio by exchanges\n",
    "statByExchange_Ratio = exchangeGrouped['BULL_BEAR_MSG_RATIO'].describe()\n",
    "statByExchange = exchangeGrouped.describe()\n",
    "# export the statistic description by exchanges\n",
    "statByExchange.to_csv('../data/output/statByExchange.csv', encoding='utf-8')"
   ]
  },
  {
   "cell_type": "code",
   "execution_count": 50,
   "metadata": {
    "collapsed": false
   },
   "outputs": [
    {
     "name": "stderr",
     "output_type": "stream",
     "text": [
      "/Library/Frameworks/Python.framework/Versions/2.7/lib/python2.7/site-packages/ipykernel/__main__.py:3: FutureWarning: sort(columns=....) is deprecated, use sort_values(by=.....)\n",
      "  app.launch_new_instance()\n"
     ]
    },
    {
     "data": {
      "text/html": [
       "<div>\n",
       "<table border=\"1\" class=\"dataframe\">\n",
       "  <thead>\n",
       "    <tr style=\"text-align: right;\">\n",
       "      <th></th>\n",
       "      <th>BULL_SCORED_MESSAGES</th>\n",
       "      <th>BEAR_SCORED_MESSAGES</th>\n",
       "      <th>TOTAL_SCANNED_MESSAGES</th>\n",
       "    </tr>\n",
       "    <tr>\n",
       "      <th>exchange</th>\n",
       "      <th></th>\n",
       "      <th></th>\n",
       "      <th></th>\n",
       "    </tr>\n",
       "  </thead>\n",
       "  <tbody>\n",
       "    <tr>\n",
       "      <th>NASDAQ</th>\n",
       "      <td>8205892</td>\n",
       "      <td>3676381</td>\n",
       "      <td>44553170</td>\n",
       "    </tr>\n",
       "    <tr>\n",
       "      <th>NYSE</th>\n",
       "      <td>5860129</td>\n",
       "      <td>2394507</td>\n",
       "      <td>40777172</td>\n",
       "    </tr>\n",
       "    <tr>\n",
       "      <th>NYSEArca</th>\n",
       "      <td>2426483</td>\n",
       "      <td>1506987</td>\n",
       "      <td>14519426</td>\n",
       "    </tr>\n",
       "    <tr>\n",
       "      <th>FX</th>\n",
       "      <td>1051515</td>\n",
       "      <td>982110</td>\n",
       "      <td>4645852</td>\n",
       "    </tr>\n",
       "    <tr>\n",
       "      <th>NYSEMkt</th>\n",
       "      <td>485931</td>\n",
       "      <td>181296</td>\n",
       "      <td>2818000</td>\n",
       "    </tr>\n",
       "    <tr>\n",
       "      <th>INDEX</th>\n",
       "      <td>565271</td>\n",
       "      <td>391028</td>\n",
       "      <td>2723540</td>\n",
       "    </tr>\n",
       "    <tr>\n",
       "      <th>CME</th>\n",
       "      <td>498187</td>\n",
       "      <td>452882</td>\n",
       "      <td>2512677</td>\n",
       "    </tr>\n",
       "    <tr>\n",
       "      <th>OTC</th>\n",
       "      <td>52478</td>\n",
       "      <td>17793</td>\n",
       "      <td>363373</td>\n",
       "    </tr>\n",
       "    <tr>\n",
       "      <th>MISC</th>\n",
       "      <td>31766</td>\n",
       "      <td>16654</td>\n",
       "      <td>313425</td>\n",
       "    </tr>\n",
       "    <tr>\n",
       "      <th>PRIVATE</th>\n",
       "      <td>19345</td>\n",
       "      <td>8149</td>\n",
       "      <td>285967</td>\n",
       "    </tr>\n",
       "    <tr>\n",
       "      <th>TSX</th>\n",
       "      <td>30949</td>\n",
       "      <td>12720</td>\n",
       "      <td>181000</td>\n",
       "    </tr>\n",
       "    <tr>\n",
       "      <th>ICE</th>\n",
       "      <td>22573</td>\n",
       "      <td>28573</td>\n",
       "      <td>121343</td>\n",
       "    </tr>\n",
       "    <tr>\n",
       "      <th>OTCBB</th>\n",
       "      <td>9016</td>\n",
       "      <td>1929</td>\n",
       "      <td>82841</td>\n",
       "    </tr>\n",
       "    <tr>\n",
       "      <th>EUREX</th>\n",
       "      <td>1757</td>\n",
       "      <td>1256</td>\n",
       "      <td>21290</td>\n",
       "    </tr>\n",
       "    <tr>\n",
       "      <th>TSXV</th>\n",
       "      <td>379</td>\n",
       "      <td>119</td>\n",
       "      <td>1422</td>\n",
       "    </tr>\n",
       "  </tbody>\n",
       "</table>\n",
       "</div>"
      ],
      "text/plain": [
       "          BULL_SCORED_MESSAGES  BEAR_SCORED_MESSAGES  TOTAL_SCANNED_MESSAGES\n",
       "exchange                                                                    \n",
       "NASDAQ                 8205892               3676381                44553170\n",
       "NYSE                   5860129               2394507                40777172\n",
       "NYSEArca               2426483               1506987                14519426\n",
       "FX                     1051515                982110                 4645852\n",
       "NYSEMkt                 485931                181296                 2818000\n",
       "INDEX                   565271                391028                 2723540\n",
       "CME                     498187                452882                 2512677\n",
       "OTC                      52478                 17793                  363373\n",
       "MISC                     31766                 16654                  313425\n",
       "PRIVATE                  19345                  8149                  285967\n",
       "TSX                      30949                 12720                  181000\n",
       "ICE                      22573                 28573                  121343\n",
       "OTCBB                     9016                  1929                   82841\n",
       "EUREX                     1757                  1256                   21290\n",
       "TSXV                       379                   119                    1422"
      ]
     },
     "execution_count": 50,
     "metadata": {},
     "output_type": "execute_result"
    }
   ],
   "source": [
    "# a table only contains the total quality of bullish, bearish and total messages for each exchange\n",
    "messagesTable = sumByExchange.ix[:,[3,4,6]]\n",
    "messagesTable.sort('TOTAL_SCANNED_MESSAGES', ascending=False)"
   ]
  },
  {
   "cell_type": "code",
   "execution_count": 51,
   "metadata": {
    "collapsed": false
   },
   "outputs": [],
   "source": [
    "# the percentage of bull messages \n",
    "bullPerc = messagesTable['BULL_SCORED_MESSAGES']/messagesTable['TOTAL_SCANNED_MESSAGES']\n",
    "# the percentage of bear messages\n",
    "bearPerc = messagesTable['BEAR_SCORED_MESSAGES']/messagesTable['TOTAL_SCANNED_MESSAGES']"
   ]
  },
  {
   "cell_type": "code",
   "execution_count": 52,
   "metadata": {
    "collapsed": false
   },
   "outputs": [],
   "source": [
    "# neutral = total - bull - bear\n",
    "neutralCounts = messagesTable['TOTAL_SCANNED_MESSAGES']-messagesTable['BULL_SCORED_MESSAGES']-messagesTable['BEAR_SCORED_MESSAGES']\n",
    "# print (neutralCounts)\n",
    "neutralPerc = neutralCounts/messagesTable['TOTAL_SCANNED_MESSAGES']"
   ]
  },
  {
   "cell_type": "code",
   "execution_count": 53,
   "metadata": {
    "collapsed": false
   },
   "outputs": [],
   "source": [
    "# check the total percentage = 1 or not\n",
    "totalPerc = bullPerc + bearPerc + neutralPerc\n",
    "# totalPerc"
   ]
  },
  {
   "cell_type": "code",
   "execution_count": 54,
   "metadata": {
    "collapsed": false
   },
   "outputs": [],
   "source": [
    "# add new columns to the table. by using 'insert(idx, col_name, value)'\n",
    "messagesTable.insert(2, 'NEUTRAL_SCORED_MESSAGES', neutralCounts)\n",
    "# messagesTable"
   ]
  },
  {
   "cell_type": "code",
   "execution_count": 55,
   "metadata": {
    "collapsed": false
   },
   "outputs": [],
   "source": [
    "# change data format to %\n",
    "bullPerc = bullPerc.apply(lambda x: format(x, '.2%'))\n",
    "bearPerc = bearPerc.apply(lambda x: format(x, '.2%'))\n",
    "neutralPerc = neutralPerc.apply(lambda x: format(x, '.2%'))"
   ]
  },
  {
   "cell_type": "code",
   "execution_count": 56,
   "metadata": {
    "collapsed": false
   },
   "outputs": [],
   "source": [
    "# sentiment summary by stock exchange\n",
    "sentiOutcome = messagesTable\n",
    "sentiOutcome.insert(1,'BULL_PERC', bullPerc)\n",
    "sentiOutcome.insert(3,'BEAR_PERC', bearPerc)\n",
    "sentiOutcome.insert(5,'NEUTRAL_PERC', neutralPerc)\n",
    "# sentiOutcome"
   ]
  },
  {
   "cell_type": "code",
   "execution_count": 58,
   "metadata": {
    "collapsed": false
   },
   "outputs": [],
   "source": [
    "# export to a csv file\n",
    "sentiOutcome.to_csv('../data/output/sentimentSummaryByExchange.csv', encoding='utf-8')"
   ]
  }
 ],
 "metadata": {
  "kernelspec": {
   "display_name": "Python 2",
   "language": "python",
   "name": "python2"
  },
  "language_info": {
   "codemirror_mode": {
    "name": "ipython",
    "version": 2
   },
   "file_extension": ".py",
   "mimetype": "text/x-python",
   "name": "python",
   "nbconvert_exporter": "python",
   "pygments_lexer": "ipython2",
   "version": "2.7.10"
  }
 },
 "nbformat": 4,
 "nbformat_minor": 0
}
