{
 "cells": [
  {
   "cell_type": "markdown",
   "metadata": {},
   "source": [
    "# Top 30 Companies (2 years log returns)"
   ]
  },
  {
   "cell_type": "code",
   "execution_count": 24,
   "metadata": {
    "collapsed": true
   },
   "outputs": [],
   "source": [
    "import pandas as pd\n",
    "import numpy as np \n",
    "import pylab as P \n",
    "from datetime import datetime\n",
    "import matplotlib.dates as mdates\n",
    "import matplotlib.pyplot as plt\n",
    "from pandas import Series,DataFrame,merge\n",
    "plt.style.use('ggplot')\n",
    "from yahoo_finance import Share"
   ]
  },
  {
   "cell_type": "code",
   "execution_count": 18,
   "metadata": {
    "collapsed": false
   },
   "outputs": [
    {
     "data": {
      "text/html": [
       "<div>\n",
       "<table border=\"1\" class=\"dataframe\">\n",
       "  <thead>\n",
       "    <tr style=\"text-align: right;\">\n",
       "      <th></th>\n",
       "      <th>BUSINESS_SECTOR</th>\n",
       "      <th>EXCHANGE</th>\n",
       "      <th>SYMBOL</th>\n",
       "      <th>BULL_SCORED_MESSAGES</th>\n",
       "      <th>BULL_PERC</th>\n",
       "      <th>BEAR_SCORED_MESSAGES</th>\n",
       "      <th>BEAR_PERC</th>\n",
       "      <th>NEUTRAL_SCORED_MESSAGES</th>\n",
       "      <th>NEUTRAL_PERC</th>\n",
       "      <th>TOTAL_SCANNED_MESSAGES</th>\n",
       "      <th>TOTAL_SENTIMENT_MESSAGES</th>\n",
       "    </tr>\n",
       "  </thead>\n",
       "  <tbody>\n",
       "    <tr>\n",
       "      <th>0</th>\n",
       "      <td>Technology</td>\n",
       "      <td>NASDAQ</td>\n",
       "      <td>AAPL</td>\n",
       "      <td>880890</td>\n",
       "      <td>19.08%</td>\n",
       "      <td>519740</td>\n",
       "      <td>11.26%</td>\n",
       "      <td>3215431</td>\n",
       "      <td>69.66%</td>\n",
       "      <td>4616061</td>\n",
       "      <td>1400630</td>\n",
       "    </tr>\n",
       "    <tr>\n",
       "      <th>1</th>\n",
       "      <td>Financial</td>\n",
       "      <td>NYSEArca</td>\n",
       "      <td>SPY</td>\n",
       "      <td>654165</td>\n",
       "      <td>20.79%</td>\n",
       "      <td>465827</td>\n",
       "      <td>14.80%</td>\n",
       "      <td>2026601</td>\n",
       "      <td>64.41%</td>\n",
       "      <td>3146593</td>\n",
       "      <td>1119992</td>\n",
       "    </tr>\n",
       "    <tr>\n",
       "      <th>2</th>\n",
       "      <td>Technology</td>\n",
       "      <td>NASDAQ</td>\n",
       "      <td>FB</td>\n",
       "      <td>315576</td>\n",
       "      <td>19.22%</td>\n",
       "      <td>154990</td>\n",
       "      <td>9.44%</td>\n",
       "      <td>1171425</td>\n",
       "      <td>71.34%</td>\n",
       "      <td>1641991</td>\n",
       "      <td>470566</td>\n",
       "    </tr>\n",
       "    <tr>\n",
       "      <th>3</th>\n",
       "      <td>Consumer_goods</td>\n",
       "      <td>NASDAQ</td>\n",
       "      <td>TSLA</td>\n",
       "      <td>175345</td>\n",
       "      <td>19.11%</td>\n",
       "      <td>112664</td>\n",
       "      <td>12.28%</td>\n",
       "      <td>629338</td>\n",
       "      <td>68.60%</td>\n",
       "      <td>917347</td>\n",
       "      <td>288009</td>\n",
       "    </tr>\n",
       "    <tr>\n",
       "      <th>4</th>\n",
       "      <td>Services</td>\n",
       "      <td>NASDAQ</td>\n",
       "      <td>NFLX</td>\n",
       "      <td>165530</td>\n",
       "      <td>19.64%</td>\n",
       "      <td>112302</td>\n",
       "      <td>13.32%</td>\n",
       "      <td>565177</td>\n",
       "      <td>67.04%</td>\n",
       "      <td>843009</td>\n",
       "      <td>277832</td>\n",
       "    </tr>\n",
       "  </tbody>\n",
       "</table>\n",
       "</div>"
      ],
      "text/plain": [
       "  BUSINESS_SECTOR  EXCHANGE SYMBOL  BULL_SCORED_MESSAGES BULL_PERC  \\\n",
       "0      Technology    NASDAQ   AAPL                880890    19.08%   \n",
       "1       Financial  NYSEArca    SPY                654165    20.79%   \n",
       "2      Technology    NASDAQ     FB                315576    19.22%   \n",
       "3  Consumer_goods    NASDAQ   TSLA                175345    19.11%   \n",
       "4        Services    NASDAQ   NFLX                165530    19.64%   \n",
       "\n",
       "   BEAR_SCORED_MESSAGES BEAR_PERC  NEUTRAL_SCORED_MESSAGES NEUTRAL_PERC  \\\n",
       "0                519740    11.26%                  3215431       69.66%   \n",
       "1                465827    14.80%                  2026601       64.41%   \n",
       "2                154990     9.44%                  1171425       71.34%   \n",
       "3                112664    12.28%                   629338       68.60%   \n",
       "4                112302    13.32%                   565177       67.04%   \n",
       "\n",
       "   TOTAL_SCANNED_MESSAGES  TOTAL_SENTIMENT_MESSAGES  \n",
       "0                 4616061                   1400630  \n",
       "1                 3146593                   1119992  \n",
       "2                 1641991                    470566  \n",
       "3                  917347                    288009  \n",
       "4                  843009                    277832  "
      ]
     },
     "execution_count": 18,
     "metadata": {},
     "output_type": "execute_result"
    }
   ],
   "source": [
    "top30 = pd.read_csv('../data/output/Top30Com.csv')\n",
    "top30.head()"
   ]
  },
  {
   "cell_type": "code",
   "execution_count": 19,
   "metadata": {
    "collapsed": false
   },
   "outputs": [
    {
     "data": {
      "text/plain": [
       "array(['AAPL', 'SPY', 'FB', 'TSLA', 'NFLX', 'TWTR', 'GOOG', 'AMZN', 'QQQ',\n",
       "       'GLD', 'BBRY', 'IWM', 'PLUG', 'GPRO', 'BAC', 'MSFT', 'DIA', 'UVXY',\n",
       "       'AMRN', 'GILD', 'MNKD', 'PCLN', 'USO', 'GS', 'VRNG', 'YHOO', 'LNKD',\n",
       "       'BIDU', 'VXX', 'TLT'], dtype=object)"
      ]
     },
     "execution_count": 19,
     "metadata": {},
     "output_type": "execute_result"
    }
   ],
   "source": [
    "tickers = top30.SYMBOL.unique()\n",
    "tickers"
   ]
  },
  {
   "cell_type": "code",
   "execution_count": 20,
   "metadata": {
    "collapsed": true
   },
   "outputs": [],
   "source": [
    "start_date = '2014-01-01' \n",
    "end_date = '2015-12-31'\n",
    "\n",
    "# FTSE100 = Share('^FTSE')\n",
    "# FTSE100hist = FTSE100.get_historical('2015-01-01', '2016-01-01')"
   ]
  },
  {
   "cell_type": "code",
   "execution_count": 21,
   "metadata": {
    "collapsed": false
   },
   "outputs": [],
   "source": [
    "top30['FINANCE'] = top30['SYMBOL'].apply(lambda x: Share(x).get_historical(start_date, end_date))"
   ]
  },
  {
   "cell_type": "code",
   "execution_count": 22,
   "metadata": {
    "collapsed": false
   },
   "outputs": [
    {
     "data": {
      "text/html": [
       "<div>\n",
       "<table border=\"1\" class=\"dataframe\">\n",
       "  <thead>\n",
       "    <tr style=\"text-align: right;\">\n",
       "      <th></th>\n",
       "      <th>BUSINESS_SECTOR</th>\n",
       "      <th>EXCHANGE</th>\n",
       "      <th>SYMBOL</th>\n",
       "      <th>BULL_SCORED_MESSAGES</th>\n",
       "      <th>BULL_PERC</th>\n",
       "      <th>BEAR_SCORED_MESSAGES</th>\n",
       "      <th>BEAR_PERC</th>\n",
       "      <th>NEUTRAL_SCORED_MESSAGES</th>\n",
       "      <th>NEUTRAL_PERC</th>\n",
       "      <th>TOTAL_SCANNED_MESSAGES</th>\n",
       "      <th>TOTAL_SENTIMENT_MESSAGES</th>\n",
       "      <th>FINANCE</th>\n",
       "    </tr>\n",
       "  </thead>\n",
       "  <tbody>\n",
       "    <tr>\n",
       "      <th>0</th>\n",
       "      <td>Technology</td>\n",
       "      <td>NASDAQ</td>\n",
       "      <td>AAPL</td>\n",
       "      <td>880890</td>\n",
       "      <td>19.08%</td>\n",
       "      <td>519740</td>\n",
       "      <td>11.26%</td>\n",
       "      <td>3215431</td>\n",
       "      <td>69.66%</td>\n",
       "      <td>4616061</td>\n",
       "      <td>1400630</td>\n",
       "      <td>[{u'Volume': u'40912300', u'Symbol': u'AAPL', ...</td>\n",
       "    </tr>\n",
       "    <tr>\n",
       "      <th>1</th>\n",
       "      <td>Financial</td>\n",
       "      <td>NYSEArca</td>\n",
       "      <td>SPY</td>\n",
       "      <td>654165</td>\n",
       "      <td>20.79%</td>\n",
       "      <td>465827</td>\n",
       "      <td>14.80%</td>\n",
       "      <td>2026601</td>\n",
       "      <td>64.41%</td>\n",
       "      <td>3146593</td>\n",
       "      <td>1119992</td>\n",
       "      <td>[{u'Volume': u'114877900', u'Symbol': u'SPY', ...</td>\n",
       "    </tr>\n",
       "    <tr>\n",
       "      <th>2</th>\n",
       "      <td>Technology</td>\n",
       "      <td>NASDAQ</td>\n",
       "      <td>FB</td>\n",
       "      <td>315576</td>\n",
       "      <td>19.22%</td>\n",
       "      <td>154990</td>\n",
       "      <td>9.44%</td>\n",
       "      <td>1171425</td>\n",
       "      <td>71.34%</td>\n",
       "      <td>1641991</td>\n",
       "      <td>470566</td>\n",
       "      <td>[{u'Volume': u'18298700', u'Symbol': u'FB', u'...</td>\n",
       "    </tr>\n",
       "    <tr>\n",
       "      <th>3</th>\n",
       "      <td>Consumer_goods</td>\n",
       "      <td>NASDAQ</td>\n",
       "      <td>TSLA</td>\n",
       "      <td>175345</td>\n",
       "      <td>19.11%</td>\n",
       "      <td>112664</td>\n",
       "      <td>12.28%</td>\n",
       "      <td>629338</td>\n",
       "      <td>68.60%</td>\n",
       "      <td>917347</td>\n",
       "      <td>288009</td>\n",
       "      <td>[{u'Volume': u'2683200', u'Symbol': u'TSLA', u...</td>\n",
       "    </tr>\n",
       "    <tr>\n",
       "      <th>4</th>\n",
       "      <td>Services</td>\n",
       "      <td>NASDAQ</td>\n",
       "      <td>NFLX</td>\n",
       "      <td>165530</td>\n",
       "      <td>19.64%</td>\n",
       "      <td>112302</td>\n",
       "      <td>13.32%</td>\n",
       "      <td>565177</td>\n",
       "      <td>67.04%</td>\n",
       "      <td>843009</td>\n",
       "      <td>277832</td>\n",
       "      <td>[{u'Volume': u'9245000', u'Symbol': u'NFLX', u...</td>\n",
       "    </tr>\n",
       "  </tbody>\n",
       "</table>\n",
       "</div>"
      ],
      "text/plain": [
       "  BUSINESS_SECTOR  EXCHANGE SYMBOL  BULL_SCORED_MESSAGES BULL_PERC  \\\n",
       "0      Technology    NASDAQ   AAPL                880890    19.08%   \n",
       "1       Financial  NYSEArca    SPY                654165    20.79%   \n",
       "2      Technology    NASDAQ     FB                315576    19.22%   \n",
       "3  Consumer_goods    NASDAQ   TSLA                175345    19.11%   \n",
       "4        Services    NASDAQ   NFLX                165530    19.64%   \n",
       "\n",
       "   BEAR_SCORED_MESSAGES BEAR_PERC  NEUTRAL_SCORED_MESSAGES NEUTRAL_PERC  \\\n",
       "0                519740    11.26%                  3215431       69.66%   \n",
       "1                465827    14.80%                  2026601       64.41%   \n",
       "2                154990     9.44%                  1171425       71.34%   \n",
       "3                112664    12.28%                   629338       68.60%   \n",
       "4                112302    13.32%                   565177       67.04%   \n",
       "\n",
       "   TOTAL_SCANNED_MESSAGES  TOTAL_SENTIMENT_MESSAGES  \\\n",
       "0                 4616061                   1400630   \n",
       "1                 3146593                   1119992   \n",
       "2                 1641991                    470566   \n",
       "3                  917347                    288009   \n",
       "4                  843009                    277832   \n",
       "\n",
       "                                             FINANCE  \n",
       "0  [{u'Volume': u'40912300', u'Symbol': u'AAPL', ...  \n",
       "1  [{u'Volume': u'114877900', u'Symbol': u'SPY', ...  \n",
       "2  [{u'Volume': u'18298700', u'Symbol': u'FB', u'...  \n",
       "3  [{u'Volume': u'2683200', u'Symbol': u'TSLA', u...  \n",
       "4  [{u'Volume': u'9245000', u'Symbol': u'NFLX', u...  "
      ]
     },
     "execution_count": 22,
     "metadata": {},
     "output_type": "execute_result"
    }
   ],
   "source": [
    "top30.head()"
   ]
  },
  {
   "cell_type": "code",
   "execution_count": null,
   "metadata": {
    "collapsed": false
   },
   "outputs": [],
   "source": [
    "def plot_financial(row):\n",
    "#     print row.FINANCE\n",
    "#     df.B.apply(literal_eval)\n",
    "#     f = row.FINANCE.split('},')\n",
    "#     f = ast.literal_eval(f)\n",
    "#     f = [eval(d) for d in f]\n",
    "    f = row.FINANCE\n",
    "#     f = ast.literal_eval(f)\n",
    "#     print f\n",
    "#     print len(f)\n",
    "    Date = [datetime.strptime(d['Date'], '%Y-%m-%d').date() for d in f]\n",
    "#     Open = [d['Open'] for d in FTSE100hist]\n",
    "    Close = [d['Close'] for d in f]\n",
    "    plt.plot(Date,Close)\n",
    "             \n",
    "map(plot_financial,top30.itertuples())\n",
    "               \n",
    "plt.gca().xaxis.set_major_formatter(mdates.DateFormatter('%m/%d/%Y'))\n",
    "plt.gca().xaxis.set_major_locator(mdates.MonthLocator())\n",
    "plt.gcf().autofmt_xdate()\n",
    "plt.show()"
   ]
  },
  {
   "cell_type": "code",
   "execution_count": null,
   "metadata": {
    "collapsed": true
   },
   "outputs": [],
   "source": [
    "# my_dataframe.to_pickle('test_pickle.p')\n",
    "top30.to_pickle('../data/pickles/Top30ComFinance.p')"
   ]
  },
  {
   "cell_type": "code",
   "execution_count": 15,
   "metadata": {
    "collapsed": true
   },
   "outputs": [],
   "source": [
    "# export to a csv file\n",
    "top30.to_csv('../data/output/Top30ComFinance.csv.csv', encoding='utf-8')"
   ]
  }
 ],
 "metadata": {
  "kernelspec": {
   "display_name": "Python 2",
   "language": "python",
   "name": "python2"
  },
  "language_info": {
   "codemirror_mode": {
    "name": "ipython",
    "version": 2
   },
   "file_extension": ".py",
   "mimetype": "text/x-python",
   "name": "python",
   "nbconvert_exporter": "python",
   "pygments_lexer": "ipython2",
   "version": "2.7.10"
  }
 },
 "nbformat": 4,
 "nbformat_minor": 0
}
