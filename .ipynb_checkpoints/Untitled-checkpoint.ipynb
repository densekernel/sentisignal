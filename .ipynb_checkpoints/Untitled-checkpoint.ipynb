{
 "cells": [
  {
   "cell_type": "code",
   "execution_count": 3,
   "metadata": {
    "collapsed": false
   },
   "outputs": [
    {
     "name": "stdout",
     "output_type": "stream",
     "text": [
      "         one  two  dailyTrue  dailyFalse\n",
      "one                                     \n",
      "AAL  0   AAL    1          1           0\n",
      "     1   AAL    2          1           0\n",
      "AAPL 0  AAPL    1          1           0\n",
      "     1  AAPL    2          1           0\n"
     ]
    }
   ],
   "source": [
    "import pandas as pd\n",
    "df = pd.DataFrame({'one' : ['AAL', 'AAL', 'AAPL', 'AAPL'], 'two' : [1, 2, 3, 4]})\n",
    "\n",
    "def net_func(df):\n",
    "    df_res = daily_func(df, True)\n",
    "    df_res_valid = daily_func(df, False)\n",
    "    df_merge = pd.merge(df_res, df_res_valid)\n",
    "    return df_merge\n",
    "\n",
    "def daily_func(df, bool_param):\n",
    "\n",
    "#     df.drop(df.head(1).index, inplace=True)\n",
    "#     df = df[1:1]\n",
    "#     df.iloc[1:1,:]\n",
    "    df.loc[1:1,:]\n",
    "\n",
    "    if bool_param:\n",
    "        df['daily'+str(bool_param)] = 1\n",
    "    else:\n",
    "        df['daily'+str(bool_param)] = 0    \n",
    "    return df\n",
    "\n",
    "print df.groupby('one').apply(net_func)"
   ]
  },
  {
   "cell_type": "code",
   "execution_count": null,
   "metadata": {
    "collapsed": true
   },
   "outputs": [],
   "source": []
  }
 ],
 "metadata": {
  "kernelspec": {
   "display_name": "Python 2",
   "language": "python",
   "name": "python2"
  },
  "language_info": {
   "codemirror_mode": {
    "name": "ipython",
    "version": 2
   },
   "file_extension": ".py",
   "mimetype": "text/x-python",
   "name": "python",
   "nbconvert_exporter": "python",
   "pygments_lexer": "ipython2",
   "version": "2.7.10"
  }
 },
 "nbformat": 4,
 "nbformat_minor": 0
}
