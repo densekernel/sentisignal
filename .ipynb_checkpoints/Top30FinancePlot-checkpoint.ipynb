{
 "cells": [
  {
   "cell_type": "markdown",
   "metadata": {},
   "source": [
    "# Top 30 Companies Plot (2 years log returns)"
   ]
  },
  {
   "cell_type": "code",
   "execution_count": 1,
   "metadata": {
    "collapsed": true
   },
   "outputs": [],
   "source": [
    "import pandas as pd\n",
    "import numpy as np \n",
    "import pylab as P \n",
    "import ast\n",
    "from datetime import datetime\n",
    "import matplotlib.pyplot as plt\n",
    "import matplotlib.dates as mdates\n",
    "from pandas import Series,DataFrame,merge\n",
    "plt.style.use('ggplot')\n",
    "from yahoo_finance import Share\n",
    "# from ast import literal_eval"
   ]
  },
  {
   "cell_type": "code",
   "execution_count": 2,
   "metadata": {
    "collapsed": false
   },
   "outputs": [
    {
     "data": {
      "text/html": [
       "<div>\n",
       "<table border=\"1\" class=\"dataframe\">\n",
       "  <thead>\n",
       "    <tr style=\"text-align: right;\">\n",
       "      <th></th>\n",
       "      <th>BUSINESS_SECTOR</th>\n",
       "      <th>EXCHANGE</th>\n",
       "      <th>SYMBOL</th>\n",
       "      <th>BULL_SCORED_MESSAGES</th>\n",
       "      <th>BULL_PERC</th>\n",
       "      <th>BEAR_SCORED_MESSAGES</th>\n",
       "      <th>BEAR_PERC</th>\n",
       "      <th>NEUTRAL_SCORED_MESSAGES</th>\n",
       "      <th>NEUTRAL_PERC</th>\n",
       "      <th>TOTAL_SCANNED_MESSAGES</th>\n",
       "      <th>TOTAL_SENTIMENT_MESSAGES</th>\n",
       "      <th>FINANCE</th>\n",
       "    </tr>\n",
       "  </thead>\n",
       "  <tbody>\n",
       "    <tr>\n",
       "      <th>0</th>\n",
       "      <td>Technology</td>\n",
       "      <td>NASDAQ</td>\n",
       "      <td>AAPL</td>\n",
       "      <td>880890</td>\n",
       "      <td>19.08%</td>\n",
       "      <td>519740</td>\n",
       "      <td>11.26%</td>\n",
       "      <td>3215431</td>\n",
       "      <td>69.66%</td>\n",
       "      <td>4616061</td>\n",
       "      <td>1400630</td>\n",
       "      <td>[{u'High': u'107.029999', u'Symbol': u'AAPL', ...</td>\n",
       "    </tr>\n",
       "    <tr>\n",
       "      <th>1</th>\n",
       "      <td>Financial</td>\n",
       "      <td>NYSEArca</td>\n",
       "      <td>SPY</td>\n",
       "      <td>654165</td>\n",
       "      <td>20.79%</td>\n",
       "      <td>465827</td>\n",
       "      <td>14.80%</td>\n",
       "      <td>2026601</td>\n",
       "      <td>64.41%</td>\n",
       "      <td>3146593</td>\n",
       "      <td>1119992</td>\n",
       "      <td>[{u'High': u'205.889999', u'Symbol': u'SPY', u...</td>\n",
       "    </tr>\n",
       "    <tr>\n",
       "      <th>2</th>\n",
       "      <td>Technology</td>\n",
       "      <td>NASDAQ</td>\n",
       "      <td>FB</td>\n",
       "      <td>315576</td>\n",
       "      <td>19.22%</td>\n",
       "      <td>154990</td>\n",
       "      <td>9.44%</td>\n",
       "      <td>1171425</td>\n",
       "      <td>71.34%</td>\n",
       "      <td>1641991</td>\n",
       "      <td>470566</td>\n",
       "      <td>[{u'High': u'106.169998', u'Symbol': u'FB', u'...</td>\n",
       "    </tr>\n",
       "    <tr>\n",
       "      <th>3</th>\n",
       "      <td>Consumer_goods</td>\n",
       "      <td>NASDAQ</td>\n",
       "      <td>TSLA</td>\n",
       "      <td>175345</td>\n",
       "      <td>19.11%</td>\n",
       "      <td>112664</td>\n",
       "      <td>12.28%</td>\n",
       "      <td>629338</td>\n",
       "      <td>68.60%</td>\n",
       "      <td>917347</td>\n",
       "      <td>288009</td>\n",
       "      <td>[{u'High': u'243.449997', u'Symbol': u'TSLA', ...</td>\n",
       "    </tr>\n",
       "    <tr>\n",
       "      <th>4</th>\n",
       "      <td>Services</td>\n",
       "      <td>NASDAQ</td>\n",
       "      <td>NFLX</td>\n",
       "      <td>165530</td>\n",
       "      <td>19.64%</td>\n",
       "      <td>112302</td>\n",
       "      <td>13.32%</td>\n",
       "      <td>565177</td>\n",
       "      <td>67.04%</td>\n",
       "      <td>843009</td>\n",
       "      <td>277832</td>\n",
       "      <td>[{u'High': u'117.459999', u'Symbol': u'NFLX', ...</td>\n",
       "    </tr>\n",
       "  </tbody>\n",
       "</table>\n",
       "</div>"
      ],
      "text/plain": [
       "  BUSINESS_SECTOR  EXCHANGE SYMBOL  BULL_SCORED_MESSAGES BULL_PERC  \\\n",
       "0      Technology    NASDAQ   AAPL                880890    19.08%   \n",
       "1       Financial  NYSEArca    SPY                654165    20.79%   \n",
       "2      Technology    NASDAQ     FB                315576    19.22%   \n",
       "3  Consumer_goods    NASDAQ   TSLA                175345    19.11%   \n",
       "4        Services    NASDAQ   NFLX                165530    19.64%   \n",
       "\n",
       "   BEAR_SCORED_MESSAGES BEAR_PERC  NEUTRAL_SCORED_MESSAGES NEUTRAL_PERC  \\\n",
       "0                519740    11.26%                  3215431       69.66%   \n",
       "1                465827    14.80%                  2026601       64.41%   \n",
       "2                154990     9.44%                  1171425       71.34%   \n",
       "3                112664    12.28%                   629338       68.60%   \n",
       "4                112302    13.32%                   565177       67.04%   \n",
       "\n",
       "   TOTAL_SCANNED_MESSAGES  TOTAL_SENTIMENT_MESSAGES  \\\n",
       "0                 4616061                   1400630   \n",
       "1                 3146593                   1119992   \n",
       "2                 1641991                    470566   \n",
       "3                  917347                    288009   \n",
       "4                  843009                    277832   \n",
       "\n",
       "                                             FINANCE  \n",
       "0  [{u'High': u'107.029999', u'Symbol': u'AAPL', ...  \n",
       "1  [{u'High': u'205.889999', u'Symbol': u'SPY', u...  \n",
       "2  [{u'High': u'106.169998', u'Symbol': u'FB', u'...  \n",
       "3  [{u'High': u'243.449997', u'Symbol': u'TSLA', ...  \n",
       "4  [{u'High': u'117.459999', u'Symbol': u'NFLX', ...  "
      ]
     },
     "execution_count": 2,
     "metadata": {},
     "output_type": "execute_result"
    }
   ],
   "source": [
    "top30 = pd.read_pickle('../data/pickles/Top30ComFinance.p')\n",
    "top30.head()"
   ]
  },
  {
   "cell_type": "markdown",
   "metadata": {},
   "source": [
    "# Plot close prices "
   ]
  },
  {
   "cell_type": "code",
   "execution_count": 99,
   "metadata": {
    "collapsed": true
   },
   "outputs": [],
   "source": [
    "colorIter = 0\n",
    "\n",
    "def color_iter():\n",
    "    global colorIter\n",
    "    colorIter = colorIter+1\n",
    "    return colorIter -1\n",
    "    \n",
    "def reset_color_iter():\n",
    "    global colorIter\n",
    "    colorIter = 0"
   ]
  },
  {
   "cell_type": "code",
   "execution_count": 101,
   "metadata": {
    "collapsed": false
   },
   "outputs": [],
   "source": [
    "def plot_close_prices(df):\n",
    "    colors = plt.get_cmap('jet')(np.linspace(0, 1.0, len(df)))   \n",
    "    reset_color_iter()\n",
    "\n",
    "    def plot_close_price(row):\n",
    "        f = row.FINANCE\n",
    "        Date = [datetime.strptime(d['Date'], '%Y-%m-%d').date() for d in f]\n",
    "        Close = [d['Close'] for d in f]\n",
    "        plt.plot(Date,Close, label=row.SYMBOL, color = colors[color_iter()])\n",
    "\n",
    "    map(plot_close_price,df.itertuples())\n",
    "\n",
    "    plt.gca().xaxis.set_major_formatter(mdates.DateFormatter('%m/%d/%Y'))\n",
    "    plt.gca().xaxis.set_major_locator(mdates.MonthLocator())\n",
    "    plt.gcf().autofmt_xdate()\n",
    "    plt.legend(loc='center left', bbox_to_anchor=(1, 0.5))\n",
    "    plt.show()"
   ]
  },
  {
   "cell_type": "markdown",
   "metadata": {},
   "source": [
    "# Plot log returns"
   ]
  },
  {
   "cell_type": "code",
   "execution_count": 95,
   "metadata": {
    "collapsed": false
   },
   "outputs": [],
   "source": [
    "def plot_log_returns(df):\n",
    "    colors = plt.get_cmap('jet')(np.linspace(0, 1.0, len(df)))\n",
    "    reset_color_iter()\n",
    "    \n",
    "    def plot_log_return(row):\n",
    "        f = DataFrame(row.FINANCE)\n",
    "        f['Close'] = f['Close'].astype(float)\n",
    "        f['Change'] = f.Close.pct_change()\n",
    "    #     print df['pct_change']\n",
    "        f['log_return'] = np.log(1 + f.Change)\n",
    "    #     print df['log_return']\n",
    "    #     print f\n",
    "    #     Date = [datetime.strptime(d['Date'], '%Y-%m-%d').date() for d in row]\n",
    "        Date = f['Date'].apply(lambda x: datetime.strptime(x,'%Y-%m-%d'))\n",
    "        Log = f['log_return']\n",
    "        plt.plot(Date, Log, label=row.SYMBOL, color = colors[colorIter])\n",
    "\n",
    "    map(plot_log_return,df.itertuples())\n",
    "\n",
    "    plt.gca().xaxis.set_major_formatter(mdates.DateFormatter('%m/%d/%Y'))\n",
    "    plt.gca().xaxis.set_major_locator(mdates.MonthLocator())\n",
    "    plt.gcf().autofmt_xdate()\n",
    "    plt.legend(loc='center left', bbox_to_anchor=(1, 0.5))\n",
    "    plt.show()"
   ]
  },
  {
   "cell_type": "code",
   "execution_count": 102,
   "metadata": {
    "collapsed": false
   },
   "outputs": [],
   "source": [
    "plot_close_prices(top30)"
   ]
  },
  {
   "cell_type": "code",
   "execution_count": 103,
   "metadata": {
    "collapsed": true
   },
   "outputs": [],
   "source": [
    "plot_log_returns(top30)"
   ]
  },
  {
   "cell_type": "code",
   "execution_count": null,
   "metadata": {
    "collapsed": true
   },
   "outputs": [],
   "source": []
  }
 ],
 "metadata": {
  "kernelspec": {
   "display_name": "Python 2",
   "language": "python",
   "name": "python2"
  },
  "language_info": {
   "codemirror_mode": {
    "name": "ipython",
    "version": 2
   },
   "file_extension": ".py",
   "mimetype": "text/x-python",
   "name": "python",
   "nbconvert_exporter": "python",
   "pygments_lexer": "ipython2",
   "version": "2.7.10"
  }
 },
 "nbformat": 4,
 "nbformat_minor": 0
}
