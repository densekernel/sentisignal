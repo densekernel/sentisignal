{
 "cells": [
  {
   "cell_type": "code",
   "execution_count": 34,
   "metadata": {
    "collapsed": false
   },
   "outputs": [],
   "source": [
    "from sentisignal import *"
   ]
  },
  {
   "cell_type": "code",
   "execution_count": 35,
   "metadata": {
    "collapsed": true
   },
   "outputs": [],
   "source": [
    "%matplotlib inline"
   ]
  },
  {
   "cell_type": "code",
   "execution_count": 50,
   "metadata": {
    "collapsed": false
   },
   "outputs": [],
   "source": [
    "# function to subsample the large data sets for:\n",
    "# specific date range: start_data - end_date ('YYYY-MM-DD')\n",
    "#\n",
    "def subsample_data(filename_data, filename_symbology, start_date, end_date):\n",
    "    # read csv\n",
    "    data = pd.read_csv(filename_data)\n",
    "    # convert timestamps to datetime objects\n",
    "    data['datetime'] = data['TIMESTAMP_UTC'].apply(lambda x: datetime.strptime(x,'%Y-%m-%dT%H:%M:%SZ'))\n",
    "    # query between start and end date\n",
    "    data = data[(data['datetime'] > start_date) & (data['datetime'] < end_date)]\n",
    "    # merge with stocks csv for additional info\n",
    "    data_symbology = pd.read_csv(filename_symbology)\n",
    "    data = pd.merge(data, data_symbology, left_on='SYMBOL', right_on='SYMBOL', how = \"left\")\n",
    "    # perform filter query based on parameters\n",
    "    \n",
    "    # return dataframe\n",
    "    return data\n",
    "                   \n"
   ]
  },
  {
   "cell_type": "code",
   "execution_count": 48,
   "metadata": {
    "collapsed": false
   },
   "outputs": [],
   "source": [
    "# full dataset\n",
    "# subsampled_data = subsample_data('../../data/csv/stocktwits_twitter_withretweets_daily.csv', '2015-01-01', '2015-02-02')\n",
    "# subsamples dataset for speed\n",
    "subsampled_data = subsample_data('../../data/subsample_csv/stocktwits_twitter_withretweets_daily_subsample.csv', '../../data/csv/symbology.csv', '2014-01-01', '2015-01-01')"
   ]
  },
  {
   "cell_type": "code",
   "execution_count": 49,
   "metadata": {
    "collapsed": false
   },
   "outputs": [
    {
     "data": {
      "text/html": [
       "<div>\n",
       "<table border=\"1\" class=\"dataframe\">\n",
       "  <thead>\n",
       "    <tr style=\"text-align: right;\">\n",
       "      <th></th>\n",
       "      <th>SOURCE</th>\n",
       "      <th>SYMBOL</th>\n",
       "      <th>TIMESTAMP_UTC</th>\n",
       "      <th>BULLISH_INTENSITY</th>\n",
       "      <th>BEARISH_INTENSITY</th>\n",
       "      <th>BULL_MINUS_BEAR</th>\n",
       "      <th>BULL_SCORED_MESSAGES</th>\n",
       "      <th>BEAR_SCORED_MESSAGES</th>\n",
       "      <th>BULL_BEAR_MSG_RATIO</th>\n",
       "      <th>TOTAL_SCANNED_MESSAGES</th>\n",
       "      <th>datetime</th>\n",
       "      <th>EXCHANGE</th>\n",
       "      <th>TITLE</th>\n",
       "      <th>Unnamed: 3</th>\n",
       "      <th>Unnamed: 4</th>\n",
       "      <th>Unnamed: 5</th>\n",
       "    </tr>\n",
       "  </thead>\n",
       "  <tbody>\n",
       "    <tr>\n",
       "      <th>0</th>\n",
       "      <td>stocktwits+twitter_withretweets</td>\n",
       "      <td>GPI</td>\n",
       "      <td>2014-01-12T05:00:00Z</td>\n",
       "      <td>1.20</td>\n",
       "      <td>0.00</td>\n",
       "      <td>1.20</td>\n",
       "      <td>1</td>\n",
       "      <td>0</td>\n",
       "      <td>0</td>\n",
       "      <td>19</td>\n",
       "      <td>2014-01-12 05:00:00</td>\n",
       "      <td>NYSE</td>\n",
       "      <td>Group 1 Automotive Inc.</td>\n",
       "      <td>NaN</td>\n",
       "      <td>NaN</td>\n",
       "      <td>NaN</td>\n",
       "    </tr>\n",
       "    <tr>\n",
       "      <th>1</th>\n",
       "      <td>stocktwits+twitter_withretweets</td>\n",
       "      <td>ABB</td>\n",
       "      <td>2014-07-01T04:00:00Z</td>\n",
       "      <td>0.00</td>\n",
       "      <td>0.00</td>\n",
       "      <td>0.00</td>\n",
       "      <td>0</td>\n",
       "      <td>0</td>\n",
       "      <td>0</td>\n",
       "      <td>2</td>\n",
       "      <td>2014-07-01 04:00:00</td>\n",
       "      <td>NYSE</td>\n",
       "      <td>ABB Ltd.</td>\n",
       "      <td>NaN</td>\n",
       "      <td>NaN</td>\n",
       "      <td>NaN</td>\n",
       "    </tr>\n",
       "    <tr>\n",
       "      <th>2</th>\n",
       "      <td>stocktwits+twitter_withretweets</td>\n",
       "      <td>UGAZ</td>\n",
       "      <td>2014-08-20T04:00:00Z</td>\n",
       "      <td>1.61</td>\n",
       "      <td>2.45</td>\n",
       "      <td>-0.84</td>\n",
       "      <td>16</td>\n",
       "      <td>8</td>\n",
       "      <td>2</td>\n",
       "      <td>82</td>\n",
       "      <td>2014-08-20 04:00:00</td>\n",
       "      <td>NYSEArca</td>\n",
       "      <td>VelocityShares 3x Long Natural Gas ETN</td>\n",
       "      <td>NaN</td>\n",
       "      <td>NaN</td>\n",
       "      <td>NaN</td>\n",
       "    </tr>\n",
       "    <tr>\n",
       "      <th>3</th>\n",
       "      <td>stocktwits+twitter_withretweets</td>\n",
       "      <td>SEA</td>\n",
       "      <td>2014-03-11T04:00:00Z</td>\n",
       "      <td>0.00</td>\n",
       "      <td>0.00</td>\n",
       "      <td>0.00</td>\n",
       "      <td>0</td>\n",
       "      <td>0</td>\n",
       "      <td>0</td>\n",
       "      <td>1</td>\n",
       "      <td>2014-03-11 04:00:00</td>\n",
       "      <td>NYSEArca</td>\n",
       "      <td>Guggenheim Shipping</td>\n",
       "      <td>NaN</td>\n",
       "      <td>NaN</td>\n",
       "      <td>NaN</td>\n",
       "    </tr>\n",
       "    <tr>\n",
       "      <th>4</th>\n",
       "      <td>stocktwits+twitter_withretweets</td>\n",
       "      <td>SIR</td>\n",
       "      <td>2014-09-07T04:00:00Z</td>\n",
       "      <td>0.00</td>\n",
       "      <td>0.00</td>\n",
       "      <td>0.00</td>\n",
       "      <td>0</td>\n",
       "      <td>0</td>\n",
       "      <td>0</td>\n",
       "      <td>1</td>\n",
       "      <td>2014-09-07 04:00:00</td>\n",
       "      <td>NYSE</td>\n",
       "      <td>Select Income REIT</td>\n",
       "      <td>NaN</td>\n",
       "      <td>NaN</td>\n",
       "      <td>NaN</td>\n",
       "    </tr>\n",
       "  </tbody>\n",
       "</table>\n",
       "</div>"
      ],
      "text/plain": [
       "                            SOURCE SYMBOL         TIMESTAMP_UTC  \\\n",
       "0  stocktwits+twitter_withretweets    GPI  2014-01-12T05:00:00Z   \n",
       "1  stocktwits+twitter_withretweets    ABB  2014-07-01T04:00:00Z   \n",
       "2  stocktwits+twitter_withretweets   UGAZ  2014-08-20T04:00:00Z   \n",
       "3  stocktwits+twitter_withretweets    SEA  2014-03-11T04:00:00Z   \n",
       "4  stocktwits+twitter_withretweets    SIR  2014-09-07T04:00:00Z   \n",
       "\n",
       "   BULLISH_INTENSITY  BEARISH_INTENSITY  BULL_MINUS_BEAR  \\\n",
       "0               1.20               0.00             1.20   \n",
       "1               0.00               0.00             0.00   \n",
       "2               1.61               2.45            -0.84   \n",
       "3               0.00               0.00             0.00   \n",
       "4               0.00               0.00             0.00   \n",
       "\n",
       "   BULL_SCORED_MESSAGES  BEAR_SCORED_MESSAGES  BULL_BEAR_MSG_RATIO  \\\n",
       "0                     1                     0                    0   \n",
       "1                     0                     0                    0   \n",
       "2                    16                     8                    2   \n",
       "3                     0                     0                    0   \n",
       "4                     0                     0                    0   \n",
       "\n",
       "   TOTAL_SCANNED_MESSAGES            datetime  EXCHANGE  \\\n",
       "0                      19 2014-01-12 05:00:00      NYSE   \n",
       "1                       2 2014-07-01 04:00:00      NYSE   \n",
       "2                      82 2014-08-20 04:00:00  NYSEArca   \n",
       "3                       1 2014-03-11 04:00:00  NYSEArca   \n",
       "4                       1 2014-09-07 04:00:00      NYSE   \n",
       "\n",
       "                                    TITLE Unnamed: 3 Unnamed: 4 Unnamed: 5  \n",
       "0                 Group 1 Automotive Inc.        NaN        NaN        NaN  \n",
       "1                                ABB Ltd.        NaN        NaN        NaN  \n",
       "2  VelocityShares 3x Long Natural Gas ETN        NaN        NaN        NaN  \n",
       "3                     Guggenheim Shipping        NaN        NaN        NaN  \n",
       "4                      Select Income REIT        NaN        NaN        NaN  "
      ]
     },
     "execution_count": 49,
     "metadata": {},
     "output_type": "execute_result"
    }
   ],
   "source": [
    "subsampled_data.head()"
   ]
  },
  {
   "cell_type": "code",
   "execution_count": null,
   "metadata": {
    "collapsed": true
   },
   "outputs": [],
   "source": []
  }
 ],
 "metadata": {
  "kernelspec": {
   "display_name": "Python 2",
   "language": "python",
   "name": "python2"
  },
  "language_info": {
   "codemirror_mode": {
    "name": "ipython",
    "version": 2
   },
   "file_extension": ".py",
   "mimetype": "text/x-python",
   "name": "python",
   "nbconvert_exporter": "python",
   "pygments_lexer": "ipython2",
   "version": "2.7.10"
  }
 },
 "nbformat": 4,
 "nbformat_minor": 0
}
