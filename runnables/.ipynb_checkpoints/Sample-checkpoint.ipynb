{
 "cells": [
  {
   "cell_type": "code",
   "execution_count": 1,
   "metadata": {
    "collapsed": false
   },
   "outputs": [
    {
     "ename": "ImportError",
     "evalue": "No module named statsmodels.api",
     "output_type": "error",
     "traceback": [
      "\u001b[0;31m---------------------------------------------------------------------------\u001b[0m",
      "\u001b[0;31mImportError\u001b[0m                               Traceback (most recent call last)",
      "\u001b[0;32m<ipython-input-1-7cd36415d1c5>\u001b[0m in \u001b[0;36m<module>\u001b[0;34m()\u001b[0m\n\u001b[1;32m     22\u001b[0m \u001b[0mplt\u001b[0m\u001b[0;34m.\u001b[0m\u001b[0mstyle\u001b[0m\u001b[0;34m.\u001b[0m\u001b[0muse\u001b[0m\u001b[0;34m(\u001b[0m\u001b[0;34m'ggplot'\u001b[0m\u001b[0;34m)\u001b[0m\u001b[0;34m\u001b[0m\u001b[0m\n\u001b[1;32m     23\u001b[0m \u001b[0;34m\u001b[0m\u001b[0m\n\u001b[0;32m---> 24\u001b[0;31m \u001b[0;32mimport\u001b[0m \u001b[0mstatsmodels\u001b[0m\u001b[0;34m.\u001b[0m\u001b[0mapi\u001b[0m \u001b[0;32mas\u001b[0m \u001b[0msm\u001b[0m\u001b[0;34m\u001b[0m\u001b[0m\n\u001b[0m\u001b[1;32m     25\u001b[0m \u001b[0;32mfrom\u001b[0m \u001b[0mstatsmodels\u001b[0m\u001b[0;34m.\u001b[0m\u001b[0mgraphics\u001b[0m\u001b[0;34m.\u001b[0m\u001b[0mapi\u001b[0m \u001b[0;32mimport\u001b[0m \u001b[0mqqplot\u001b[0m\u001b[0;34m\u001b[0m\u001b[0m\n",
      "\u001b[0;31mImportError\u001b[0m: No module named statsmodels.api"
     ]
    }
   ],
   "source": [
    "import pandas as pd\n",
    "import numpy as np \n",
    "import pylab as P \n",
    "import ast\n",
    "import matplotlib.pyplot as plt\n",
    "import matplotlib.dates as mdates\n",
    "\n",
    "from datetime import datetime\n",
    "# from yahoo_finance import Share\n",
    "from pandas_datareader import data, wb\n",
    "\n",
    "from sklearn import metrics\n",
    "from sklearn.cluster import KMeans\n",
    "# from sklearn.datasets import load_digits\n",
    "from sklearn.decomposition import PCA\n",
    "from sklearn.preprocessing import scale\n",
    "\n",
    "import math\n",
    "import scipy.stats as s\n",
    "\n",
    "%matplotlib inline\n",
    "plt.style.use('ggplot')\n",
    "\n",
    "import statsmodels.api as sm\n",
    "from statsmodels.graphics.api import qqplot"
   ]
  },
  {
   "cell_type": "code",
   "execution_count": 3,
   "metadata": {
    "collapsed": true
   },
   "outputs": [],
   "source": [
    "def sub_data(filename_data, filename_symbology, dir_pickle, start_date, end_date, query_attribute, query_criteria,\n",
    "             include_avg):\n",
    "    query_criteria_filename = '-'.join(query_criteria[:3])\n",
    "    pickle_name = dir_pickle +'pickle_sentiment_'+ start_date +'_'+ end_date +'_'+ query_attribute + '_' + query_criteria_filename +'.p'\n",
    "    try: \n",
    "        data = pd.read_pickle(pickle_name)\n",
    "        print(\"Loaded from pre-created pickle\")\n",
    "    except:\n",
    "        print(\"Subsampling data from csv\")\n",
    "        # try to read first from pickle\n",
    "        # read csv\n",
    "        data = pd.read_csv(filename_data)\n",
    "        # merge with symbology csv for additional info\n",
    "        data_symbology = pd.read_csv(filename_symbology)\n",
    "        # convert headers to uppercase for ease of use\n",
    "        data_symbology.columns = [x.upper() for x in data_symbology.columns]\n",
    "        data = pd.merge(data, data_symbology, left_on='SYMBOL', right_on='SYMBOL', how = \"left\")\n",
    "        # perform filter query based on parameters\n",
    "        data = data[data[query_attribute].isin(query_criteria)]\n",
    "        # convert timestamps to datetime objects\n",
    "        data['DATE'] = data['TIMESTAMP_UTC'].apply(lambda x: datetime.strptime(x,'%Y-%m-%dT%H:%M:%SZ'))\n",
    "            # datetime.strftime('%x')   only keep date but type is string   09/12/10\n",
    "        data['DATE'] = data['DATE'].apply(lambda x: x.strftime('%x'))\n",
    "            # pd.to_datetime()   change string to datetime type   2010-10-20\n",
    "        data['DATE'] = data['DATE'].apply(lambda x: pd.to_datetime(x))\n",
    "        # query between start and end date\n",
    "        data = data[(data['DATE'] > start_date) & (data['DATE'] < end_date)]\n",
    "        \n",
    "        # remove columns which contain 'avg' in column name\n",
    "        if include_avg == False:\n",
    "            avg_cols = [col for col in data.columns if 'AVG' in col]\n",
    "            data.drop(avg_cols,inplace=True,axis=1)\n",
    "        # save as pickle\n",
    "        data.to_pickle(pickle_name)\n",
    "    # return dataframe\n",
    "    return data"
   ]
  },
  {
   "cell_type": "code",
   "execution_count": 4,
   "metadata": {
    "collapsed": true
   },
   "outputs": [],
   "source": [
    "# function to return historical finance data\n",
    "# takes a list of ticker symbols\n",
    "# if sum_data_frame is true -> create a summed value to form an indic (combine data frame together for diff companies)\n",
    "# else create a concatenated dataframe\n",
    "def get_data_finance(source, symbols, start_date, end_date, dir_pickle, sum_data_frame, sum_symbol):\n",
    "    symbols_filename = '-'.join(symbols[:3])\n",
    "    pickle_name = dir_pickle+'pickle_finance_'+str(sum_data_frame)+start_date+'_'+end_date+'_'+symbols_filename+'.p'\n",
    "    try: \n",
    "        data_finance = pd.read_pickle(pickle_name)\n",
    "        print(\"Loaded from pre-created pickle\")\n",
    "    except:\n",
    "        print(\"Scraping and saving data from Yahoo\")\n",
    "        # get finance data using pandas data reader\n",
    "        print(\"0: \" + symbols[0])\n",
    "        # create df from first symbol\n",
    "        try:\n",
    "            data_finance = data.DataReader(symbols[0], source, start_date, end_date)\n",
    "            # convert headers to uppercase for ease of use\n",
    "            data_finance.columns = [x.upper() for x in data_finance.columns]\n",
    "            if sum_data_frame:\n",
    "                data_finance['SYMBOL'] = sum_symbol\n",
    "            else:\n",
    "                data_finance['SYMBOL'] = symbols[0]\n",
    "        except: \n",
    "            print(\"Unable to retrieve data for: \" + symbols[0])\n",
    "            \n",
    "        # loop through remaining symbols and either add or concatenate\n",
    "        i = 1\n",
    "        for symbol in symbols[1:]:\n",
    "            print(str(i) + \": \" + symbol)\n",
    "            i += 1\n",
    "            try:\n",
    "                symbol_finance = data.DataReader(symbol, source, start_date, end_date)\n",
    "                # convert headers to uppercase for ease of use\n",
    "                symbol_finance.columns = [x.upper() for x in symbol_finance.columns]\n",
    "                # sum dataframes\n",
    "                if sum_data_frame:\n",
    "                    symbol_finance['SYMBOL'] = sum_symbol\n",
    "                    data_finance = data_finance + symbol_finance\n",
    "                    data_finance['SYMBOL'] = sum_symbol\n",
    "                # vertically concat dataframes\n",
    "                else:\n",
    "                    symbol_finance['SYMBOL'] = symbol\n",
    "                    data_finance = pd.concat([data_finance, symbol_finance], axis=0)\n",
    "            except: \n",
    "                print(\"Unable to retrieve data for: \" + symbol)\n",
    "        # reset index (optional)\n",
    "        data_finance.reset_index(level=0, inplace=True)\n",
    "        # convert headers to uppercase for ease of use\n",
    "        data_finance.columns = [x.upper() for x in data_finance.columns]\n",
    "            # Sort by date\n",
    "#         data_finance = data_finance.sort_values(['DATE'], ascending=[True])\n",
    "        data_finance.to_pickle(pickle_name)\n",
    "    # return as dataframe\n",
    "    return data_finance  "
   ]
  },
  {
   "cell_type": "code",
   "execution_count": 5,
   "metadata": {
    "collapsed": true
   },
   "outputs": [],
   "source": [
    "#preprocess sentiment data with additional columns for:\n",
    "def preprocess_data_sentiment(df):\n",
    "    # log bull messages\n",
    "    df['LOG_BULL_RETURN'] = np.log(1+df['BULL_SCORED_MESSAGES']).diff()\n",
    "    # log bear messages\n",
    "    df['LOG_BEAR_RETURN'] = np.log(1+df['BEAR_SCORED_MESSAGES']).diff()\n",
    "    # log bullishness\n",
    "    df['LOG_BULLISHNESS'] = np.log(1 + df['BULL_SCORED_MESSAGES']) - np.log(1 + df['BEAR_SCORED_MESSAGES'])\n",
    "    # log bull bear ratio\n",
    "    df['LOG_BULL_BEAR_RATIO'] = np.log(df['BULL_SCORED_MESSAGES']) - np.log(df['BEAR_SCORED_MESSAGES'])\n",
    "    # TISf\n",
    "    df['TISf'] = (1+df['BULL_SCORED_MESSAGES'])/(1+ df['BULL_SCORED_MESSAGES']+df['BEAR_SCORED_MESSAGES'])\n",
    "    # RTISf\n",
    "    df['RTISf'] = ((1+df['BULL_SCORED_MESSAGES'])/(1+ df['BULL_SCORED_MESSAGES']+df['BEAR_SCORED_MESSAGES'])).pct_change()\n",
    "    # diff in total scanned messages\n",
    "    df['TOTAL_SCANNED_MESSAGES_DIFF'] = df['TOTAL_SCANNED_MESSAGES'].diff()\n",
    "    # diff in total sentiment messages\n",
    "    df['TOTAL_SENTIMENT_MESSAGES_DIFF'] = np.log(1+df['BULL_SCORED_MESSAGES']+df['BEAR_SCORED_MESSAGES']).diff()\n",
    "def preprocess_data_finance(df):\n",
    "    # log return based on Adj close price\n",
    "    df['LOG_RETURN'] = np.log(df['ADJ CLOSE']) - np.log(df['ADJ CLOSE'].shift(1))\n",
    "    # volatitility\n",
    "    df['VOLATILITY'] = df['HIGH'] - df['LOW']\n",
    "    # difference in volume\n",
    "    df['LOG_VOLUME_DIFF'] = np.log(df['VOLUME']).diff()"
   ]
  },
  {
   "cell_type": "code",
   "execution_count": 6,
   "metadata": {
    "collapsed": false
   },
   "outputs": [],
   "source": [
    "def merge_sentiment_finance(data_sentiment, data_finance, with_symbol, to_sentiment, to_finance):\n",
    "    if with_symbol:\n",
    "        if to_finance:\n",
    "            return pd.merge(data_sentiment, data_finance, on=['DATE', 'SYMBOL'], how='right')\n",
    "        if to_sentiment:\n",
    "            return pd.merge(data_sentiment, data_finance, on=['DATE', 'SYMBOL'], how='left')\n",
    "    else:\n",
    "        if to_finance:\n",
    "            return pd.merge(data_sentiment, data_finance, on=['DATE'], how='right')\n",
    "        if to_sentiment:\n",
    "            return pd.merge(data_sentiment, data_finance, on=['DATE'], how='left')"
   ]
  },
  {
   "cell_type": "code",
   "execution_count": 7,
   "metadata": {
    "collapsed": false
   },
   "outputs": [],
   "source": [
    "# check autocorrelation\n",
    "def check_acf(df):\n",
    "    df_num = df.select_dtypes(include=[np.float, np.int])\n",
    "    for index in df_num.columns:\n",
    "        plt.figure(figsize=(8,10))\n",
    "        if index in ['LOG_BULL_RETURN', 'LOG_BEAR_RETURN','RTISf', 'TOTAL_SCANNED_MESSAGES_DIFF', 'TOTAL_SENTIMENT_MESSAGES_DIFF']:\n",
    "            fig = sm.graphics.tsa.plot_acf(df_num[index][1:],lags=40)\n",
    "            plt.title(index)\n",
    "        elif index in ['LOG_BULL_BEAR_RATIO']:\n",
    "            fig = sm.graphics.tsa.plot_acf(df_num[index][2:],lags=40)\n",
    "            plt.title(index)\n",
    "        else: \n",
    "            fig = sm.graphics.tsa.plot_acf(df_num[index],lags=40)\n",
    "            plt.title(index)\n",
    "    return fig"
   ]
  },
  {
   "cell_type": "markdown",
   "metadata": {},
   "source": [
    "# Bin selection"
   ]
  },
  {
   "cell_type": "code",
   "execution_count": 8,
   "metadata": {
    "collapsed": false
   },
   "outputs": [],
   "source": [
    "# Sturges’ formula: k = log_2 n + 1  \n",
    "def sturges_bin(df):\n",
    "    n = df.count()[1]\n",
    "    return math.ceil(np.log2(n)+1)\n",
    "# Rice Rule k = 2 n^{1/3}\n",
    "def rice_bin(df):\n",
    "    n = df.count()[1]\n",
    "    return math.ceil(2*n**(1/3)) \n",
    "# Doane’s formula for non-normal data.\n",
    "def doane_bin(data):\n",
    "    n = data.count()\n",
    "    std = np.std(data)\n",
    "    g = abs(s.moment(n,3)/(std**3))\n",
    "    u = math.sqrt(6*(n-1)/((n+1)*(n+3)))\n",
    "    return round(1 + np.log2(n) + np.log2(1+g/u))"
   ]
  },
  {
   "cell_type": "code",
   "execution_count": 9,
   "metadata": {
    "collapsed": true
   },
   "outputs": [],
   "source": [
    "def apply_rolling_window(df, width):\n",
    "    df = df.ix[1:, :]\n",
    "    df_num = df.select_dtypes(include=[np.float, np.int])\n",
    "    df_non_num = df.select_dtypes(exclude=[np.float, np.int])\n",
    "    df_num_window = pd.rolling_mean(df_num, width, min_periods=1)\n",
    "    df_window = pd.concat([df_non_num, df_num_window], axis=1)\n",
    "    return df_window\n",
    "\n",
    "def correlation_analysis(df):\n",
    "    i = 0\n",
    "    resCorr = pd.DataFrame(index = ['BULLISH_INTENSITY','BEARISH_INTENSITY','BULL_MINUS_BEAR','BULL_SCORED_MESSAGES',\n",
    "                                    'BEAR_SCORED_MESSAGES', 'LOG_BULL_RETURN', 'LOG_BULL_RETURN','LOG_BULLISHNESS',\n",
    "                                    'TOTAL_SENTIMENT_MESSAGES_DIFF','TISf','RTISf'],\n",
    "                           columns = ['LOG_RETURN','VOLUME','VOLATILITY'])\n",
    "    for column in resCorr.index:\n",
    "        resCorr.ix[i,0] = df['LOG_RETURN'].corr(df[column])\n",
    "        resCorr.ix[i,1] = df['VOLUME'].corr(df[column])\n",
    "        resCorr.ix[i,2] = df['VOLATILITY'].corr(df[column])\n",
    "        i += 1\n",
    "    return resCorr\n",
    "\n",
    "def calc_mutual_information(varsenti, varfinan):\n",
    "    bins = doane_bin(varsenti)\n",
    "    c_xy = np.histogram2d(varsenti, varfinan, bins)[0]\n",
    "    mi = metrics.mutual_info_score(None, None, contingency=c_xy)\n",
    "    return mi\n",
    "\n",
    "# shift vary (finance data); keep varx (sentiment data).\n",
    "def information_surplus(df, time_shift, varsenti, varfinan):   \n",
    "    output = []\n",
    "    for i in range(0, time_shift+1):\n",
    "        x = df[varsenti].ix[1+i:]\n",
    "        shift_y = df[varfinan].shift(i)\n",
    "        y = shift_y.ix[1+i:]\n",
    "        mi = calc_mutual_information(x, y)\n",
    "        if i == 0:\n",
    "            mi_origin = mi\n",
    "        output.append({'SHIFT': i, 'MUTUAL INFORMATION': mi, 'INFORMATION_SURPLUS_DIFF': mi - mi_origin, \n",
    "                       'INFORMATION_SURPLUS_PCT': (mi - mi_origin) / mi_origin * 100})\n",
    "    output_frame = pd.DataFrame(output)\n",
    "    return output_frame"
   ]
  },
  {
   "cell_type": "code",
   "execution_count": 10,
   "metadata": {
    "collapsed": false
   },
   "outputs": [],
   "source": [
    "# print(sturges_bin(df_s))\n",
    "# print(rice_bin(df_s))\n",
    "# print(doane_bin(df_s['BULL_MINUS_BEAR']))"
   ]
  },
  {
   "cell_type": "code",
   "execution_count": null,
   "metadata": {
    "collapsed": false
   },
   "outputs": [],
   "source": []
  },
  {
   "cell_type": "markdown",
   "metadata": {
    "collapsed": true
   },
   "source": [
    "# Application"
   ]
  },
  {
   "cell_type": "code",
   "execution_count": 11,
   "metadata": {
    "collapsed": false
   },
   "outputs": [],
   "source": [
    "# notebook-wide experiemental configuration\n",
    "data_primary = '../../data/csv/stocktwits_twitter_withretweets_daily.csv'\n",
    "data_symbology = '../../data/csv/symbology.csv'\n",
    "data_pickles = '../../data/pickles/'\n",
    "start_date = '2010-01-01'\n",
    "end_date = '2016-01-01'"
   ]
  },
  {
   "cell_type": "code",
   "execution_count": 12,
   "metadata": {
    "collapsed": false
   },
   "outputs": [
    {
     "name": "stdout",
     "output_type": "stream",
     "text": [
      "Loaded from pre-created pickle\n",
      "Loaded from pre-created pickle\n"
     ]
    }
   ],
   "source": [
    "data_s = sub_data(data_primary, data_symbology, data_pickles, start_date, end_date, 'SYMBOL', ['AAPL'], False)\n",
    "data_f = get_data_finance('yahoo', ['AAPL'], start_date, end_date, '../../data/pickles/', False, 'NAN')"
   ]
  },
  {
   "cell_type": "markdown",
   "metadata": {},
   "source": [
    "# autocorrelation test"
   ]
  },
  {
   "cell_type": "code",
   "execution_count": 13,
   "metadata": {
    "collapsed": false
   },
   "outputs": [],
   "source": [
    "# use roll window before data process and store in data\n",
    "# data = apply_rolling_window(data_s, 2)\n",
    "# preprocess_data_sentiment(data)\n",
    "preprocess_data_sentiment(data_s)\n",
    "preprocess_data_finance(data_f)\n",
    "# df_num = data_s.select_dtypes(include=[np.float, np.int])"
   ]
  },
  {
   "cell_type": "code",
   "execution_count": 1,
   "metadata": {
    "collapsed": true
   },
   "outputs": [
    {
     "ename": "NameError",
     "evalue": "name 'check_acf' is not defined",
     "output_type": "error",
     "traceback": [
      "\u001b[0;31m---------------------------------------------------------------------------\u001b[0m",
      "\u001b[0;31mNameError\u001b[0m                                 Traceback (most recent call last)",
      "\u001b[0;32m<ipython-input-1-22ef120ac918>\u001b[0m in \u001b[0;36m<module>\u001b[0;34m()\u001b[0m\n\u001b[0;32m----> 1\u001b[0;31m \u001b[0mcheck_acf\u001b[0m\u001b[0;34m(\u001b[0m\u001b[0mdata_s\u001b[0m\u001b[0;34m)\u001b[0m\u001b[0;34m\u001b[0m\u001b[0m\n\u001b[0m",
      "\u001b[0;31mNameError\u001b[0m: name 'check_acf' is not defined"
     ]
    }
   ],
   "source": [
    "check_acf(data_s)"
   ]
  },
  {
   "cell_type": "code",
   "execution_count": 14,
   "metadata": {
    "collapsed": true
   },
   "outputs": [],
   "source": [
    "data_m = apply_rolling_window(data_s, 7)\n"
   ]
  },
  {
   "cell_type": "markdown",
   "metadata": {},
   "source": [
    "# Merge dataset and Correlation"
   ]
  },
  {
   "cell_type": "code",
   "execution_count": 15,
   "metadata": {
    "collapsed": true
   },
   "outputs": [
    {
     "data": {
      "text/html": [
       "<div>\n",
       "<table border=\"1\" class=\"dataframe\">\n",
       "  <thead>\n",
       "    <tr style=\"text-align: right;\">\n",
       "      <th></th>\n",
       "      <th>LOG_RETURN</th>\n",
       "      <th>VOLUME</th>\n",
       "      <th>VOLATILITY</th>\n",
       "    </tr>\n",
       "  </thead>\n",
       "  <tbody>\n",
       "    <tr>\n",
       "      <th>BULLISH_INTENSITY</th>\n",
       "      <td>0.0478505</td>\n",
       "      <td>-0.29272</td>\n",
       "      <td>-0.0712347</td>\n",
       "    </tr>\n",
       "    <tr>\n",
       "      <th>BEARISH_INTENSITY</th>\n",
       "      <td>-0.0464487</td>\n",
       "      <td>-0.149899</td>\n",
       "      <td>0.0907993</td>\n",
       "    </tr>\n",
       "    <tr>\n",
       "      <th>BULL_MINUS_BEAR</th>\n",
       "      <td>0.0853085</td>\n",
       "      <td>-0.11557</td>\n",
       "      <td>-0.147427</td>\n",
       "    </tr>\n",
       "    <tr>\n",
       "      <th>BULL_SCORED_MESSAGES</th>\n",
       "      <td>-0.0161696</td>\n",
       "      <td>-0.125373</td>\n",
       "      <td>0.17115</td>\n",
       "    </tr>\n",
       "    <tr>\n",
       "      <th>BEAR_SCORED_MESSAGES</th>\n",
       "      <td>-0.0672175</td>\n",
       "      <td>-0.00865716</td>\n",
       "      <td>0.272141</td>\n",
       "    </tr>\n",
       "    <tr>\n",
       "      <th>LOG_BULL_RETURN</th>\n",
       "      <td>0.0323136</td>\n",
       "      <td>0.283697</td>\n",
       "      <td>0.180263</td>\n",
       "    </tr>\n",
       "    <tr>\n",
       "      <th>LOG_BULL_RETURN</th>\n",
       "      <td>0.0323136</td>\n",
       "      <td>0.283697</td>\n",
       "      <td>0.180263</td>\n",
       "    </tr>\n",
       "    <tr>\n",
       "      <th>LOG_BULLISHNESS</th>\n",
       "      <td>0.0587662</td>\n",
       "      <td>-0.350403</td>\n",
       "      <td>-0.191894</td>\n",
       "    </tr>\n",
       "    <tr>\n",
       "      <th>TOTAL_SENTIMENT_MESSAGES_DIFF</th>\n",
       "      <td>-0.0376858</td>\n",
       "      <td>0.299245</td>\n",
       "      <td>0.19332</td>\n",
       "    </tr>\n",
       "    <tr>\n",
       "      <th>TISf</th>\n",
       "      <td>0.0809261</td>\n",
       "      <td>-0.153082</td>\n",
       "      <td>-0.271667</td>\n",
       "    </tr>\n",
       "    <tr>\n",
       "      <th>RTISf</th>\n",
       "      <td>0.180084</td>\n",
       "      <td>0.09753</td>\n",
       "      <td>-0.124374</td>\n",
       "    </tr>\n",
       "  </tbody>\n",
       "</table>\n",
       "</div>"
      ],
      "text/plain": [
       "                              LOG_RETURN      VOLUME VOLATILITY\n",
       "BULLISH_INTENSITY              0.0478505    -0.29272 -0.0712347\n",
       "BEARISH_INTENSITY             -0.0464487   -0.149899  0.0907993\n",
       "BULL_MINUS_BEAR                0.0853085    -0.11557  -0.147427\n",
       "BULL_SCORED_MESSAGES          -0.0161696   -0.125373    0.17115\n",
       "BEAR_SCORED_MESSAGES          -0.0672175 -0.00865716   0.272141\n",
       "LOG_BULL_RETURN                0.0323136    0.283697   0.180263\n",
       "LOG_BULL_RETURN                0.0323136    0.283697   0.180263\n",
       "LOG_BULLISHNESS                0.0587662   -0.350403  -0.191894\n",
       "TOTAL_SENTIMENT_MESSAGES_DIFF -0.0376858    0.299245    0.19332\n",
       "TISf                           0.0809261   -0.153082  -0.271667\n",
       "RTISf                           0.180084     0.09753  -0.124374"
      ]
     },
     "execution_count": 15,
     "metadata": {},
     "output_type": "execute_result"
    }
   ],
   "source": [
    "merged = merge_sentiment_finance(data_m, data_f, True, False, True)\n",
    "correlation_analysis(merged)"
   ]
  },
  {
   "cell_type": "code",
   "execution_count": 18,
   "metadata": {
    "collapsed": true
   },
   "outputs": [
    {
     "data": {
      "text/plain": [
       "Index(['SOURCE', 'SYMBOL', 'TIMESTAMP_UTC', 'EXCHANGE', 'SECTOR', 'INDUSTRY',\n",
       "       'TITLE', 'DATE', 'BULLISH_INTENSITY', 'BEARISH_INTENSITY',\n",
       "       'BULL_MINUS_BEAR', 'BULL_SCORED_MESSAGES', 'BEAR_SCORED_MESSAGES',\n",
       "       'BULL_BEAR_MSG_RATIO', 'TOTAL_SCANNED_MESSAGES', 'LOG_BULL_RETURN',\n",
       "       'LOG_BEAR_RETURN', 'LOG_BULLISHNESS', 'LOG_BULL_BEAR_RATIO', 'TISf',\n",
       "       'RTISf', 'TOTAL_SCANNED_MESSAGES_DIFF', 'TOTAL_SENTIMENT_MESSAGES_DIFF',\n",
       "       'OPEN', 'HIGH', 'LOW', 'CLOSE', 'VOLUME', 'ADJ CLOSE', 'LOG_RETURN',\n",
       "       'VOLATILITY', 'LOG_VOLUME_DIFF'],\n",
       "      dtype='object')"
      ]
     },
     "execution_count": 18,
     "metadata": {},
     "output_type": "execute_result"
    }
   ],
   "source": [
    "merged.columns"
   ]
  },
  {
   "cell_type": "markdown",
   "metadata": {
    "collapsed": true
   },
   "source": [
    "# Information surplus"
   ]
  },
  {
   "cell_type": "code",
   "execution_count": null,
   "metadata": {
    "collapsed": true
   },
   "outputs": [],
   "source": [
    "def information_surplus_df(df, time_shift, varfinan):\n",
    "    result_df = pd.DataFrame(index = range(11),\n",
    "                           columns = ['BULLISH_INTENSITY','BEARISH_INTENSITY','BULL_MINUS_BEAR','LOG_BULLISHNESS',\n",
    "                                    'TOTAL_SENTIMENT_MESSAGES_DIFF','TISf'])\n",
    "    for column in res.columns:\n",
    "        information_theory_df = information_surplus(df, time_shift, df[column], varfinan)\n",
    "        res[column] = information_theory_df\n",
    "        i += 1\n",
    "    return resCorr"
   ]
  },
  {
   "cell_type": "code",
   "execution_count": null,
   "metadata": {
    "collapsed": true
   },
   "outputs": [],
   "source": []
  },
  {
   "cell_type": "code",
   "execution_count": 20,
   "metadata": {
    "collapsed": false
   },
   "outputs": [
    {
     "data": {
      "text/html": [
       "<div>\n",
       "<table border=\"1\" class=\"dataframe\">\n",
       "  <thead>\n",
       "    <tr style=\"text-align: right;\">\n",
       "      <th></th>\n",
       "      <th>INFORMATION_SURPLUS_DIFF</th>\n",
       "      <th>INFORMATION_SURPLUS_PCT</th>\n",
       "      <th>MUTUAL INFORMATION</th>\n",
       "      <th>SHIFT</th>\n",
       "    </tr>\n",
       "  </thead>\n",
       "  <tbody>\n",
       "    <tr>\n",
       "      <th>0</th>\n",
       "      <td>0.000000</td>\n",
       "      <td>0.000000</td>\n",
       "      <td>0.032590</td>\n",
       "      <td>0</td>\n",
       "    </tr>\n",
       "    <tr>\n",
       "      <th>1</th>\n",
       "      <td>0.010328</td>\n",
       "      <td>31.691676</td>\n",
       "      <td>0.042918</td>\n",
       "      <td>1</td>\n",
       "    </tr>\n",
       "    <tr>\n",
       "      <th>2</th>\n",
       "      <td>0.014618</td>\n",
       "      <td>44.853206</td>\n",
       "      <td>0.047208</td>\n",
       "      <td>2</td>\n",
       "    </tr>\n",
       "    <tr>\n",
       "      <th>3</th>\n",
       "      <td>0.013952</td>\n",
       "      <td>42.812173</td>\n",
       "      <td>0.046542</td>\n",
       "      <td>3</td>\n",
       "    </tr>\n",
       "    <tr>\n",
       "      <th>4</th>\n",
       "      <td>0.021507</td>\n",
       "      <td>65.991684</td>\n",
       "      <td>0.054097</td>\n",
       "      <td>4</td>\n",
       "    </tr>\n",
       "    <tr>\n",
       "      <th>5</th>\n",
       "      <td>0.018936</td>\n",
       "      <td>58.103198</td>\n",
       "      <td>0.051526</td>\n",
       "      <td>5</td>\n",
       "    </tr>\n",
       "    <tr>\n",
       "      <th>6</th>\n",
       "      <td>0.013437</td>\n",
       "      <td>41.231893</td>\n",
       "      <td>0.046027</td>\n",
       "      <td>6</td>\n",
       "    </tr>\n",
       "    <tr>\n",
       "      <th>7</th>\n",
       "      <td>0.002157</td>\n",
       "      <td>6.618896</td>\n",
       "      <td>0.034747</td>\n",
       "      <td>7</td>\n",
       "    </tr>\n",
       "    <tr>\n",
       "      <th>8</th>\n",
       "      <td>0.002086</td>\n",
       "      <td>6.401651</td>\n",
       "      <td>0.034676</td>\n",
       "      <td>8</td>\n",
       "    </tr>\n",
       "    <tr>\n",
       "      <th>9</th>\n",
       "      <td>-0.001396</td>\n",
       "      <td>-4.282890</td>\n",
       "      <td>0.031194</td>\n",
       "      <td>9</td>\n",
       "    </tr>\n",
       "    <tr>\n",
       "      <th>10</th>\n",
       "      <td>0.004658</td>\n",
       "      <td>14.291563</td>\n",
       "      <td>0.037248</td>\n",
       "      <td>10</td>\n",
       "    </tr>\n",
       "  </tbody>\n",
       "</table>\n",
       "</div>"
      ],
      "text/plain": [
       "    INFORMATION_SURPLUS_DIFF  INFORMATION_SURPLUS_PCT  MUTUAL INFORMATION  \\\n",
       "0                   0.000000                 0.000000            0.032590   \n",
       "1                   0.010328                31.691676            0.042918   \n",
       "2                   0.014618                44.853206            0.047208   \n",
       "3                   0.013952                42.812173            0.046542   \n",
       "4                   0.021507                65.991684            0.054097   \n",
       "5                   0.018936                58.103198            0.051526   \n",
       "6                   0.013437                41.231893            0.046027   \n",
       "7                   0.002157                 6.618896            0.034747   \n",
       "8                   0.002086                 6.401651            0.034676   \n",
       "9                  -0.001396                -4.282890            0.031194   \n",
       "10                  0.004658                14.291563            0.037248   \n",
       "\n",
       "    SHIFT  \n",
       "0       0  \n",
       "1       1  \n",
       "2       2  \n",
       "3       3  \n",
       "4       4  \n",
       "5       5  \n",
       "6       6  \n",
       "7       7  \n",
       "8       8  \n",
       "9       9  \n",
       "10     10  "
      ]
     },
     "execution_count": 20,
     "metadata": {},
     "output_type": "execute_result"
    }
   ],
   "source": [
    "information_surplus(merged, 10,'BULLISH_INTENSITY','LOG_RETURN')"
   ]
  },
  {
   "cell_type": "code",
   "execution_count": 22,
   "metadata": {
    "collapsed": false
   },
   "outputs": [
    {
     "data": {
      "text/html": [
       "<div>\n",
       "<table border=\"1\" class=\"dataframe\">\n",
       "  <thead>\n",
       "    <tr style=\"text-align: right;\">\n",
       "      <th></th>\n",
       "      <th>INFORMATION_SURPLUS_DIFF</th>\n",
       "      <th>INFORMATION_SURPLUS_PCT</th>\n",
       "      <th>MUTUAL INFORMATION</th>\n",
       "      <th>SHIFT</th>\n",
       "    </tr>\n",
       "  </thead>\n",
       "  <tbody>\n",
       "    <tr>\n",
       "      <th>0</th>\n",
       "      <td>0.000000</td>\n",
       "      <td>0.000000</td>\n",
       "      <td>0.032810</td>\n",
       "      <td>0</td>\n",
       "    </tr>\n",
       "    <tr>\n",
       "      <th>1</th>\n",
       "      <td>0.001190</td>\n",
       "      <td>3.627202</td>\n",
       "      <td>0.034000</td>\n",
       "      <td>1</td>\n",
       "    </tr>\n",
       "    <tr>\n",
       "      <th>2</th>\n",
       "      <td>-0.004397</td>\n",
       "      <td>-13.401844</td>\n",
       "      <td>0.028413</td>\n",
       "      <td>2</td>\n",
       "    </tr>\n",
       "    <tr>\n",
       "      <th>3</th>\n",
       "      <td>-0.006218</td>\n",
       "      <td>-18.950439</td>\n",
       "      <td>0.026593</td>\n",
       "      <td>3</td>\n",
       "    </tr>\n",
       "    <tr>\n",
       "      <th>4</th>\n",
       "      <td>-0.000179</td>\n",
       "      <td>-0.546834</td>\n",
       "      <td>0.032631</td>\n",
       "      <td>4</td>\n",
       "    </tr>\n",
       "    <tr>\n",
       "      <th>5</th>\n",
       "      <td>-0.002023</td>\n",
       "      <td>-6.165038</td>\n",
       "      <td>0.030788</td>\n",
       "      <td>5</td>\n",
       "    </tr>\n",
       "  </tbody>\n",
       "</table>\n",
       "</div>"
      ],
      "text/plain": [
       "   INFORMATION_SURPLUS_DIFF  INFORMATION_SURPLUS_PCT  MUTUAL INFORMATION  \\\n",
       "0                  0.000000                 0.000000            0.032810   \n",
       "1                  0.001190                 3.627202            0.034000   \n",
       "2                 -0.004397               -13.401844            0.028413   \n",
       "3                 -0.006218               -18.950439            0.026593   \n",
       "4                 -0.000179                -0.546834            0.032631   \n",
       "5                 -0.002023                -6.165038            0.030788   \n",
       "\n",
       "   SHIFT  \n",
       "0      0  \n",
       "1      1  \n",
       "2      2  \n",
       "3      3  \n",
       "4      4  \n",
       "5      5  "
      ]
     },
     "execution_count": 22,
     "metadata": {},
     "output_type": "execute_result"
    }
   ],
   "source": [
    "information_surplus(merged, 5,'BEARISH_INTENSITY','LOG_RETURN')"
   ]
  },
  {
   "cell_type": "code",
   "execution_count": 21,
   "metadata": {
    "collapsed": false
   },
   "outputs": [
    {
     "data": {
      "text/html": [
       "<div>\n",
       "<table border=\"1\" class=\"dataframe\">\n",
       "  <thead>\n",
       "    <tr style=\"text-align: right;\">\n",
       "      <th></th>\n",
       "      <th>INFORMATION_SURPLUS_DIFF</th>\n",
       "      <th>INFORMATION_SURPLUS_PCT</th>\n",
       "      <th>MUTUAL INFORMATION</th>\n",
       "      <th>SHIFT</th>\n",
       "    </tr>\n",
       "  </thead>\n",
       "  <tbody>\n",
       "    <tr>\n",
       "      <th>0</th>\n",
       "      <td>0.000000</td>\n",
       "      <td>0.000000</td>\n",
       "      <td>0.038514</td>\n",
       "      <td>0</td>\n",
       "    </tr>\n",
       "    <tr>\n",
       "      <th>1</th>\n",
       "      <td>0.008534</td>\n",
       "      <td>22.157241</td>\n",
       "      <td>0.047048</td>\n",
       "      <td>1</td>\n",
       "    </tr>\n",
       "    <tr>\n",
       "      <th>2</th>\n",
       "      <td>0.007355</td>\n",
       "      <td>19.097539</td>\n",
       "      <td>0.045869</td>\n",
       "      <td>2</td>\n",
       "    </tr>\n",
       "    <tr>\n",
       "      <th>3</th>\n",
       "      <td>0.010185</td>\n",
       "      <td>26.444829</td>\n",
       "      <td>0.048699</td>\n",
       "      <td>3</td>\n",
       "    </tr>\n",
       "    <tr>\n",
       "      <th>4</th>\n",
       "      <td>0.017186</td>\n",
       "      <td>44.622216</td>\n",
       "      <td>0.055700</td>\n",
       "      <td>4</td>\n",
       "    </tr>\n",
       "    <tr>\n",
       "      <th>5</th>\n",
       "      <td>0.003570</td>\n",
       "      <td>9.268857</td>\n",
       "      <td>0.042084</td>\n",
       "      <td>5</td>\n",
       "    </tr>\n",
       "    <tr>\n",
       "      <th>6</th>\n",
       "      <td>0.004267</td>\n",
       "      <td>11.077933</td>\n",
       "      <td>0.042781</td>\n",
       "      <td>6</td>\n",
       "    </tr>\n",
       "    <tr>\n",
       "      <th>7</th>\n",
       "      <td>0.001613</td>\n",
       "      <td>4.187363</td>\n",
       "      <td>0.040127</td>\n",
       "      <td>7</td>\n",
       "    </tr>\n",
       "    <tr>\n",
       "      <th>8</th>\n",
       "      <td>-0.007349</td>\n",
       "      <td>-19.081793</td>\n",
       "      <td>0.031165</td>\n",
       "      <td>8</td>\n",
       "    </tr>\n",
       "    <tr>\n",
       "      <th>9</th>\n",
       "      <td>0.000920</td>\n",
       "      <td>2.388030</td>\n",
       "      <td>0.039434</td>\n",
       "      <td>9</td>\n",
       "    </tr>\n",
       "    <tr>\n",
       "      <th>10</th>\n",
       "      <td>-0.001517</td>\n",
       "      <td>-3.938728</td>\n",
       "      <td>0.036997</td>\n",
       "      <td>10</td>\n",
       "    </tr>\n",
       "  </tbody>\n",
       "</table>\n",
       "</div>"
      ],
      "text/plain": [
       "    INFORMATION_SURPLUS_DIFF  INFORMATION_SURPLUS_PCT  MUTUAL INFORMATION  \\\n",
       "0                   0.000000                 0.000000            0.038514   \n",
       "1                   0.008534                22.157241            0.047048   \n",
       "2                   0.007355                19.097539            0.045869   \n",
       "3                   0.010185                26.444829            0.048699   \n",
       "4                   0.017186                44.622216            0.055700   \n",
       "5                   0.003570                 9.268857            0.042084   \n",
       "6                   0.004267                11.077933            0.042781   \n",
       "7                   0.001613                 4.187363            0.040127   \n",
       "8                  -0.007349               -19.081793            0.031165   \n",
       "9                   0.000920                 2.388030            0.039434   \n",
       "10                 -0.001517                -3.938728            0.036997   \n",
       "\n",
       "    SHIFT  \n",
       "0       0  \n",
       "1       1  \n",
       "2       2  \n",
       "3       3  \n",
       "4       4  \n",
       "5       5  \n",
       "6       6  \n",
       "7       7  \n",
       "8       8  \n",
       "9       9  \n",
       "10     10  "
      ]
     },
     "execution_count": 21,
     "metadata": {},
     "output_type": "execute_result"
    }
   ],
   "source": [
    "information_surplus(merged, 10,'BULL_MINUS_BEAR','LOG_RETURN')"
   ]
  },
  {
   "cell_type": "code",
   "execution_count": 23,
   "metadata": {
    "collapsed": true
   },
   "outputs": [
    {
     "data": {
      "text/html": [
       "<div>\n",
       "<table border=\"1\" class=\"dataframe\">\n",
       "  <thead>\n",
       "    <tr style=\"text-align: right;\">\n",
       "      <th></th>\n",
       "      <th>INFORMATION_SURPLUS_DIFF</th>\n",
       "      <th>INFORMATION_SURPLUS_PCT</th>\n",
       "      <th>MUTUAL INFORMATION</th>\n",
       "      <th>SHIFT</th>\n",
       "    </tr>\n",
       "  </thead>\n",
       "  <tbody>\n",
       "    <tr>\n",
       "      <th>0</th>\n",
       "      <td>0.000000</td>\n",
       "      <td>0.000000</td>\n",
       "      <td>0.059519</td>\n",
       "      <td>0</td>\n",
       "    </tr>\n",
       "    <tr>\n",
       "      <th>1</th>\n",
       "      <td>-0.022648</td>\n",
       "      <td>-38.051527</td>\n",
       "      <td>0.036871</td>\n",
       "      <td>1</td>\n",
       "    </tr>\n",
       "    <tr>\n",
       "      <th>2</th>\n",
       "      <td>-0.028108</td>\n",
       "      <td>-47.224978</td>\n",
       "      <td>0.031411</td>\n",
       "      <td>2</td>\n",
       "    </tr>\n",
       "    <tr>\n",
       "      <th>3</th>\n",
       "      <td>-0.030500</td>\n",
       "      <td>-51.244356</td>\n",
       "      <td>0.029019</td>\n",
       "      <td>3</td>\n",
       "    </tr>\n",
       "  </tbody>\n",
       "</table>\n",
       "</div>"
      ],
      "text/plain": [
       "   INFORMATION_SURPLUS_DIFF  INFORMATION_SURPLUS_PCT  MUTUAL INFORMATION  \\\n",
       "0                  0.000000                 0.000000            0.059519   \n",
       "1                 -0.022648               -38.051527            0.036871   \n",
       "2                 -0.028108               -47.224978            0.031411   \n",
       "3                 -0.030500               -51.244356            0.029019   \n",
       "\n",
       "   SHIFT  \n",
       "0      0  \n",
       "1      1  \n",
       "2      2  \n",
       "3      3  "
      ]
     },
     "execution_count": 23,
     "metadata": {},
     "output_type": "execute_result"
    }
   ],
   "source": [
    "information_surplus(merged, 3,'LOG_BULL_RETURN','LOG_RETURN')"
   ]
  },
  {
   "cell_type": "code",
   "execution_count": 24,
   "metadata": {
    "collapsed": false
   },
   "outputs": [
    {
     "data": {
      "text/html": [
       "<div>\n",
       "<table border=\"1\" class=\"dataframe\">\n",
       "  <thead>\n",
       "    <tr style=\"text-align: right;\">\n",
       "      <th></th>\n",
       "      <th>INFORMATION_SURPLUS_DIFF</th>\n",
       "      <th>INFORMATION_SURPLUS_PCT</th>\n",
       "      <th>MUTUAL INFORMATION</th>\n",
       "      <th>SHIFT</th>\n",
       "    </tr>\n",
       "  </thead>\n",
       "  <tbody>\n",
       "    <tr>\n",
       "      <th>0</th>\n",
       "      <td>0.000000</td>\n",
       "      <td>0.000000</td>\n",
       "      <td>0.067040</td>\n",
       "      <td>0</td>\n",
       "    </tr>\n",
       "    <tr>\n",
       "      <th>1</th>\n",
       "      <td>-0.025749</td>\n",
       "      <td>-38.407969</td>\n",
       "      <td>0.041291</td>\n",
       "      <td>1</td>\n",
       "    </tr>\n",
       "    <tr>\n",
       "      <th>2</th>\n",
       "      <td>-0.042197</td>\n",
       "      <td>-62.943634</td>\n",
       "      <td>0.024843</td>\n",
       "      <td>2</td>\n",
       "    </tr>\n",
       "    <tr>\n",
       "      <th>3</th>\n",
       "      <td>-0.040889</td>\n",
       "      <td>-60.991674</td>\n",
       "      <td>0.026151</td>\n",
       "      <td>3</td>\n",
       "    </tr>\n",
       "  </tbody>\n",
       "</table>\n",
       "</div>"
      ],
      "text/plain": [
       "   INFORMATION_SURPLUS_DIFF  INFORMATION_SURPLUS_PCT  MUTUAL INFORMATION  \\\n",
       "0                  0.000000                 0.000000            0.067040   \n",
       "1                 -0.025749               -38.407969            0.041291   \n",
       "2                 -0.042197               -62.943634            0.024843   \n",
       "3                 -0.040889               -60.991674            0.026151   \n",
       "\n",
       "   SHIFT  \n",
       "0      0  \n",
       "1      1  \n",
       "2      2  \n",
       "3      3  "
      ]
     },
     "execution_count": 24,
     "metadata": {},
     "output_type": "execute_result"
    }
   ],
   "source": [
    "information_surplus(merged, 3,'LOG_BEAR_RETURN','LOG_RETURN')"
   ]
  },
  {
   "cell_type": "code",
   "execution_count": 25,
   "metadata": {
    "collapsed": false
   },
   "outputs": [
    {
     "data": {
      "text/html": [
       "<div>\n",
       "<table border=\"1\" class=\"dataframe\">\n",
       "  <thead>\n",
       "    <tr style=\"text-align: right;\">\n",
       "      <th></th>\n",
       "      <th>INFORMATION_SURPLUS_DIFF</th>\n",
       "      <th>INFORMATION_SURPLUS_PCT</th>\n",
       "      <th>MUTUAL INFORMATION</th>\n",
       "      <th>SHIFT</th>\n",
       "    </tr>\n",
       "  </thead>\n",
       "  <tbody>\n",
       "    <tr>\n",
       "      <th>0</th>\n",
       "      <td>0.000000</td>\n",
       "      <td>0.000000</td>\n",
       "      <td>0.038411</td>\n",
       "      <td>0</td>\n",
       "    </tr>\n",
       "    <tr>\n",
       "      <th>1</th>\n",
       "      <td>0.012396</td>\n",
       "      <td>32.272346</td>\n",
       "      <td>0.050807</td>\n",
       "      <td>1</td>\n",
       "    </tr>\n",
       "    <tr>\n",
       "      <th>2</th>\n",
       "      <td>0.013146</td>\n",
       "      <td>34.225147</td>\n",
       "      <td>0.051557</td>\n",
       "      <td>2</td>\n",
       "    </tr>\n",
       "    <tr>\n",
       "      <th>3</th>\n",
       "      <td>0.017693</td>\n",
       "      <td>46.062784</td>\n",
       "      <td>0.056104</td>\n",
       "      <td>3</td>\n",
       "    </tr>\n",
       "    <tr>\n",
       "      <th>4</th>\n",
       "      <td>0.011289</td>\n",
       "      <td>29.389747</td>\n",
       "      <td>0.049700</td>\n",
       "      <td>4</td>\n",
       "    </tr>\n",
       "    <tr>\n",
       "      <th>5</th>\n",
       "      <td>-0.003214</td>\n",
       "      <td>-8.367761</td>\n",
       "      <td>0.035197</td>\n",
       "      <td>5</td>\n",
       "    </tr>\n",
       "    <tr>\n",
       "      <th>6</th>\n",
       "      <td>-0.008468</td>\n",
       "      <td>-22.045193</td>\n",
       "      <td>0.029943</td>\n",
       "      <td>6</td>\n",
       "    </tr>\n",
       "    <tr>\n",
       "      <th>7</th>\n",
       "      <td>-0.010428</td>\n",
       "      <td>-27.147478</td>\n",
       "      <td>0.027983</td>\n",
       "      <td>7</td>\n",
       "    </tr>\n",
       "    <tr>\n",
       "      <th>8</th>\n",
       "      <td>-0.009661</td>\n",
       "      <td>-25.150463</td>\n",
       "      <td>0.028751</td>\n",
       "      <td>8</td>\n",
       "    </tr>\n",
       "    <tr>\n",
       "      <th>9</th>\n",
       "      <td>-0.007536</td>\n",
       "      <td>-19.620304</td>\n",
       "      <td>0.030875</td>\n",
       "      <td>9</td>\n",
       "    </tr>\n",
       "    <tr>\n",
       "      <th>10</th>\n",
       "      <td>-0.005179</td>\n",
       "      <td>-13.481779</td>\n",
       "      <td>0.033233</td>\n",
       "      <td>10</td>\n",
       "    </tr>\n",
       "  </tbody>\n",
       "</table>\n",
       "</div>"
      ],
      "text/plain": [
       "    INFORMATION_SURPLUS_DIFF  INFORMATION_SURPLUS_PCT  MUTUAL INFORMATION  \\\n",
       "0                   0.000000                 0.000000            0.038411   \n",
       "1                   0.012396                32.272346            0.050807   \n",
       "2                   0.013146                34.225147            0.051557   \n",
       "3                   0.017693                46.062784            0.056104   \n",
       "4                   0.011289                29.389747            0.049700   \n",
       "5                  -0.003214                -8.367761            0.035197   \n",
       "6                  -0.008468               -22.045193            0.029943   \n",
       "7                  -0.010428               -27.147478            0.027983   \n",
       "8                  -0.009661               -25.150463            0.028751   \n",
       "9                  -0.007536               -19.620304            0.030875   \n",
       "10                 -0.005179               -13.481779            0.033233   \n",
       "\n",
       "    SHIFT  \n",
       "0       0  \n",
       "1       1  \n",
       "2       2  \n",
       "3       3  \n",
       "4       4  \n",
       "5       5  \n",
       "6       6  \n",
       "7       7  \n",
       "8       8  \n",
       "9       9  \n",
       "10     10  "
      ]
     },
     "execution_count": 25,
     "metadata": {},
     "output_type": "execute_result"
    }
   ],
   "source": [
    "information_surplus(merged, 10,'LOG_BULLISHNESS','LOG_RETURN')"
   ]
  },
  {
   "cell_type": "code",
   "execution_count": 26,
   "metadata": {
    "collapsed": true
   },
   "outputs": [
    {
     "data": {
      "text/html": [
       "<div>\n",
       "<table border=\"1\" class=\"dataframe\">\n",
       "  <thead>\n",
       "    <tr style=\"text-align: right;\">\n",
       "      <th></th>\n",
       "      <th>INFORMATION_SURPLUS_DIFF</th>\n",
       "      <th>INFORMATION_SURPLUS_PCT</th>\n",
       "      <th>MUTUAL INFORMATION</th>\n",
       "      <th>SHIFT</th>\n",
       "    </tr>\n",
       "  </thead>\n",
       "  <tbody>\n",
       "    <tr>\n",
       "      <th>0</th>\n",
       "      <td>0.000000</td>\n",
       "      <td>0.000000</td>\n",
       "      <td>0.039890</td>\n",
       "      <td>0</td>\n",
       "    </tr>\n",
       "    <tr>\n",
       "      <th>1</th>\n",
       "      <td>0.016308</td>\n",
       "      <td>40.882027</td>\n",
       "      <td>0.056198</td>\n",
       "      <td>1</td>\n",
       "    </tr>\n",
       "    <tr>\n",
       "      <th>2</th>\n",
       "      <td>0.017704</td>\n",
       "      <td>44.380899</td>\n",
       "      <td>0.057594</td>\n",
       "      <td>2</td>\n",
       "    </tr>\n",
       "    <tr>\n",
       "      <th>3</th>\n",
       "      <td>0.027327</td>\n",
       "      <td>68.504685</td>\n",
       "      <td>0.067217</td>\n",
       "      <td>3</td>\n",
       "    </tr>\n",
       "    <tr>\n",
       "      <th>4</th>\n",
       "      <td>0.018008</td>\n",
       "      <td>45.143000</td>\n",
       "      <td>0.057898</td>\n",
       "      <td>4</td>\n",
       "    </tr>\n",
       "    <tr>\n",
       "      <th>5</th>\n",
       "      <td>0.001702</td>\n",
       "      <td>4.267602</td>\n",
       "      <td>0.041593</td>\n",
       "      <td>5</td>\n",
       "    </tr>\n",
       "    <tr>\n",
       "      <th>6</th>\n",
       "      <td>-0.010749</td>\n",
       "      <td>-26.946986</td>\n",
       "      <td>0.029141</td>\n",
       "      <td>6</td>\n",
       "    </tr>\n",
       "    <tr>\n",
       "      <th>7</th>\n",
       "      <td>-0.009165</td>\n",
       "      <td>-22.976549</td>\n",
       "      <td>0.030725</td>\n",
       "      <td>7</td>\n",
       "    </tr>\n",
       "    <tr>\n",
       "      <th>8</th>\n",
       "      <td>-0.011011</td>\n",
       "      <td>-27.603258</td>\n",
       "      <td>0.028879</td>\n",
       "      <td>8</td>\n",
       "    </tr>\n",
       "    <tr>\n",
       "      <th>9</th>\n",
       "      <td>-0.010228</td>\n",
       "      <td>-25.641162</td>\n",
       "      <td>0.029662</td>\n",
       "      <td>9</td>\n",
       "    </tr>\n",
       "    <tr>\n",
       "      <th>10</th>\n",
       "      <td>-0.006805</td>\n",
       "      <td>-17.059621</td>\n",
       "      <td>0.033085</td>\n",
       "      <td>10</td>\n",
       "    </tr>\n",
       "  </tbody>\n",
       "</table>\n",
       "</div>"
      ],
      "text/plain": [
       "    INFORMATION_SURPLUS_DIFF  INFORMATION_SURPLUS_PCT  MUTUAL INFORMATION  \\\n",
       "0                   0.000000                 0.000000            0.039890   \n",
       "1                   0.016308                40.882027            0.056198   \n",
       "2                   0.017704                44.380899            0.057594   \n",
       "3                   0.027327                68.504685            0.067217   \n",
       "4                   0.018008                45.143000            0.057898   \n",
       "5                   0.001702                 4.267602            0.041593   \n",
       "6                  -0.010749               -26.946986            0.029141   \n",
       "7                  -0.009165               -22.976549            0.030725   \n",
       "8                  -0.011011               -27.603258            0.028879   \n",
       "9                  -0.010228               -25.641162            0.029662   \n",
       "10                 -0.006805               -17.059621            0.033085   \n",
       "\n",
       "    SHIFT  \n",
       "0       0  \n",
       "1       1  \n",
       "2       2  \n",
       "3       3  \n",
       "4       4  \n",
       "5       5  \n",
       "6       6  \n",
       "7       7  \n",
       "8       8  \n",
       "9       9  \n",
       "10     10  "
      ]
     },
     "execution_count": 26,
     "metadata": {},
     "output_type": "execute_result"
    }
   ],
   "source": [
    "information_surplus(merged, 10,'TISf','LOG_RETURN')"
   ]
  },
  {
   "cell_type": "code",
   "execution_count": 27,
   "metadata": {
    "collapsed": true
   },
   "outputs": [
    {
     "data": {
      "text/html": [
       "<div>\n",
       "<table border=\"1\" class=\"dataframe\">\n",
       "  <thead>\n",
       "    <tr style=\"text-align: right;\">\n",
       "      <th></th>\n",
       "      <th>INFORMATION_SURPLUS_DIFF</th>\n",
       "      <th>INFORMATION_SURPLUS_PCT</th>\n",
       "      <th>MUTUAL INFORMATION</th>\n",
       "      <th>SHIFT</th>\n",
       "    </tr>\n",
       "  </thead>\n",
       "  <tbody>\n",
       "    <tr>\n",
       "      <th>0</th>\n",
       "      <td>0.000000</td>\n",
       "      <td>0.000000</td>\n",
       "      <td>0.055988</td>\n",
       "      <td>0</td>\n",
       "    </tr>\n",
       "    <tr>\n",
       "      <th>1</th>\n",
       "      <td>-0.020993</td>\n",
       "      <td>-37.495572</td>\n",
       "      <td>0.034995</td>\n",
       "      <td>1</td>\n",
       "    </tr>\n",
       "    <tr>\n",
       "      <th>2</th>\n",
       "      <td>-0.032124</td>\n",
       "      <td>-57.377118</td>\n",
       "      <td>0.023864</td>\n",
       "      <td>2</td>\n",
       "    </tr>\n",
       "    <tr>\n",
       "      <th>3</th>\n",
       "      <td>-0.033440</td>\n",
       "      <td>-59.727917</td>\n",
       "      <td>0.022548</td>\n",
       "      <td>3</td>\n",
       "    </tr>\n",
       "  </tbody>\n",
       "</table>\n",
       "</div>"
      ],
      "text/plain": [
       "   INFORMATION_SURPLUS_DIFF  INFORMATION_SURPLUS_PCT  MUTUAL INFORMATION  \\\n",
       "0                  0.000000                 0.000000            0.055988   \n",
       "1                 -0.020993               -37.495572            0.034995   \n",
       "2                 -0.032124               -57.377118            0.023864   \n",
       "3                 -0.033440               -59.727917            0.022548   \n",
       "\n",
       "   SHIFT  \n",
       "0      0  \n",
       "1      1  \n",
       "2      2  \n",
       "3      3  "
      ]
     },
     "execution_count": 27,
     "metadata": {},
     "output_type": "execute_result"
    }
   ],
   "source": [
    "information_surplus(merged, 3,'TOTAL_SCANNED_MESSAGES_DIFF','LOG_RETURN')"
   ]
  },
  {
   "cell_type": "code",
   "execution_count": 28,
   "metadata": {
    "collapsed": true
   },
   "outputs": [
    {
     "data": {
      "text/html": [
       "<div>\n",
       "<table border=\"1\" class=\"dataframe\">\n",
       "  <thead>\n",
       "    <tr style=\"text-align: right;\">\n",
       "      <th></th>\n",
       "      <th>INFORMATION_SURPLUS_DIFF</th>\n",
       "      <th>INFORMATION_SURPLUS_PCT</th>\n",
       "      <th>MUTUAL INFORMATION</th>\n",
       "      <th>SHIFT</th>\n",
       "    </tr>\n",
       "  </thead>\n",
       "  <tbody>\n",
       "    <tr>\n",
       "      <th>0</th>\n",
       "      <td>0.000000</td>\n",
       "      <td>0.000000</td>\n",
       "      <td>0.069669</td>\n",
       "      <td>0</td>\n",
       "    </tr>\n",
       "    <tr>\n",
       "      <th>1</th>\n",
       "      <td>-0.034009</td>\n",
       "      <td>-48.815142</td>\n",
       "      <td>0.035660</td>\n",
       "      <td>1</td>\n",
       "    </tr>\n",
       "    <tr>\n",
       "      <th>2</th>\n",
       "      <td>-0.044117</td>\n",
       "      <td>-63.324386</td>\n",
       "      <td>0.025552</td>\n",
       "      <td>2</td>\n",
       "    </tr>\n",
       "    <tr>\n",
       "      <th>3</th>\n",
       "      <td>-0.043757</td>\n",
       "      <td>-62.807478</td>\n",
       "      <td>0.025912</td>\n",
       "      <td>3</td>\n",
       "    </tr>\n",
       "  </tbody>\n",
       "</table>\n",
       "</div>"
      ],
      "text/plain": [
       "   INFORMATION_SURPLUS_DIFF  INFORMATION_SURPLUS_PCT  MUTUAL INFORMATION  \\\n",
       "0                  0.000000                 0.000000            0.069669   \n",
       "1                 -0.034009               -48.815142            0.035660   \n",
       "2                 -0.044117               -63.324386            0.025552   \n",
       "3                 -0.043757               -62.807478            0.025912   \n",
       "\n",
       "   SHIFT  \n",
       "0      0  \n",
       "1      1  \n",
       "2      2  \n",
       "3      3  "
      ]
     },
     "execution_count": 28,
     "metadata": {},
     "output_type": "execute_result"
    }
   ],
   "source": [
    "information_surplus(merged, 3,'TOTAL_SENTIMENT_MESSAGES_DIFF','LOG_RETURN')"
   ]
  },
  {
   "cell_type": "code",
   "execution_count": 533,
   "metadata": {
    "collapsed": true
   },
   "outputs": [],
   "source": [
    "# bins = rice_bin(df_s)\n",
    "# bins = sturges_bin(df_s)\n",
    "# bins = doane_bin(df_s['LOG_BULLISHNESS'])\n",
    "# print(bins) "
   ]
  },
  {
   "cell_type": "markdown",
   "metadata": {},
   "source": [
    "# K-means"
   ]
  },
  {
   "cell_type": "code",
   "execution_count": 17,
   "metadata": {
    "collapsed": false
   },
   "outputs": [
    {
     "data": {
      "image/png": "[encoded data removed]",
      "text/plain": [
       "<matplotlib.figure.Figure at 0x111b03be0>"
      ]
     },
     "metadata": {},
     "output_type": "display_data"
    }
   ],
   "source": [
    "df = merged\n",
    "df_n = df.select_dtypes(include=[np.float, np.int])\n",
    "# print (df_n.info())\n",
    "df_num = df_n.ix[1:,['BULL_MINUS_BEAR', 'LOG_BULLISHNESS', 'LOG_RETURN']]\n",
    "# Convert DataFrame to matrix\n",
    "mat = df_num.as_matrix()\n",
    "km = KMeans()\n",
    "km.fit(mat)\n",
    "# Get cluster assignment labels\n",
    "labels = km.labels_\n",
    "data = mat\n",
    "reduced_data = PCA(n_components=2).fit_transform(data)\n",
    "kmeans = KMeans(init='k-means++', n_clusters=5, n_init=10)\n",
    "kmeans.fit(reduced_data)\n",
    "h = .02 \n",
    "# Plot the decision boundary. For that, we will assign a color to each\n",
    "x_min, x_max = reduced_data[:, 0].min() - 1, reduced_data[:, 0].max() + 1\n",
    "y_min, y_max = reduced_data[:, 1].min() - 1, reduced_data[:, 1].max() + 1\n",
    "xx, yy = np.meshgrid(np.arange(x_min, x_max, h), np.arange(y_min, y_max, h))\n",
    "# Obtain labels for each point in mesh. Use last trained model.\n",
    "Z = kmeans.predict(np.c_[xx.ravel(), yy.ravel()])\n",
    "\n",
    "# Put the result into a color plot\n",
    "Z = Z.reshape(xx.shape)\n",
    "plt.figure(1)\n",
    "plt.clf()\n",
    "plt.imshow(Z, interpolation='nearest',\n",
    "           extent=(xx.min(), xx.max(), yy.min(), yy.max()),\n",
    "           cmap=plt.cm.Paired,\n",
    "           aspect='auto', origin='lower')\n",
    "plt.plot(reduced_data[:, 0], reduced_data[:, 1], 'k.', markersize=2)\n",
    "\n",
    "# Plot the centroids as a white X\n",
    "centroids = kmeans.cluster_centers_\n",
    "plt.scatter(centroids[:, 0], centroids[:, 1],\n",
    "            marker='x', s=169, linewidths=3,\n",
    "            color='w', zorder=10)\n",
    "plt.title('K-means clustering on sentiment and finance metrics')\n",
    "plt.xlim(x_min, x_max)\n",
    "plt.ylim(y_min, y_max)\n",
    "plt.xticks(())\n",
    "plt.yticks(())\n",
    "plt.show()"
   ]
  },
  {
   "cell_type": "code",
   "execution_count": null,
   "metadata": {
    "collapsed": true
   },
   "outputs": [],
   "source": []
  },
  {
   "cell_type": "code",
   "execution_count": null,
   "metadata": {
    "collapsed": true
   },
   "outputs": [],
   "source": []
  }
 ],
 "metadata": {
  "kernelspec": {
   "display_name": "Python 2",
   "language": "python",
   "name": "python2"
  },
  "language_info": {
   "codemirror_mode": {
    "name": "ipython",
    "version": 2
   },
   "file_extension": ".py",
   "mimetype": "text/x-python",
   "name": "python",
   "nbconvert_exporter": "python",
   "pygments_lexer": "ipython2",
   "version": "2.7.10"
  }
 },
 "nbformat": 4,
 "nbformat_minor": 0
}
