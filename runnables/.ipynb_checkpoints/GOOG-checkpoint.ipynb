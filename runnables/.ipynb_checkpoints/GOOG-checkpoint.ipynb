{
 "cells": [
  {
   "cell_type": "code",
   "execution_count": 1,
   "metadata": {
    "collapsed": false
   },
   "outputs": [],
   "source": [
    "%load_ext autoreload\n",
    "%autoreload 2"
   ]
  },
  {
   "cell_type": "code",
   "execution_count": 2,
   "metadata": {
    "collapsed": false
   },
   "outputs": [],
   "source": [
    "import sentisignal"
   ]
  },
  {
   "cell_type": "code",
   "execution_count": 3,
   "metadata": {
    "collapsed": true
   },
   "outputs": [],
   "source": [
    "# notebook-wide experiemental configuration\n",
    "data_primary = '../../data/csv/stocktwits_twitter_withretweets_daily.csv'\n",
    "data_symbology = '../../data/csv/symbology.csv'\n",
    "data_pickles = '../../data/pickles/'\n",
    "start_date = '2014-01-01'\n",
    "end_date = '2015-01-01'"
   ]
  },
  {
   "cell_type": "code",
   "execution_count": 12,
   "metadata": {
    "collapsed": false
   },
   "outputs": [
    {
     "name": "stdout",
     "output_type": "stream",
     "text": [
      "Loaded from pre-created pickle\n"
     ]
    }
   ],
   "source": [
    "data_sentiment = sentisignal.subsample_data(data_primary, data_symbology, data_pickles, start_date, end_date, 'SYMBOL', ['GOOG'], False)"
   ]
  },
  {
   "cell_type": "code",
   "execution_count": 23,
   "metadata": {
    "collapsed": true
   },
   "outputs": [],
   "source": [
    "sentisignal.preprocess_data_sentiment(data_sentiment)"
   ]
  },
  {
   "cell_type": "code",
   "execution_count": 15,
   "metadata": {
    "collapsed": false
   },
   "outputs": [
    {
     "name": "stdout",
     "output_type": "stream",
     "text": [
      "Loaded from pre-created pickle\n"
     ]
    }
   ],
   "source": [
    "data_finance = sentisignal.get_data_finance('yahoo', ['GOOG'], start_date, end_date, '../../data/pickles/', False, 'NaN')"
   ]
  },
  {
   "cell_type": "code",
   "execution_count": 25,
   "metadata": {
    "collapsed": true
   },
   "outputs": [],
   "source": [
    "sentisignal.preprocess_data_finance(data_finance)"
   ]
  },
  {
   "cell_type": "code",
   "execution_count": 26,
   "metadata": {
    "collapsed": true
   },
   "outputs": [],
   "source": [
    "data_merged = sentisignal.merge_sentiment_finance(data_sentiment, data_finance, False, False, True)"
   ]
  },
  {
   "cell_type": "code",
   "execution_count": 27,
   "metadata": {
    "collapsed": false
   },
   "outputs": [
    {
     "data": {
      "text/html": [
       "<div>\n",
       "<table border=\"1\" class=\"dataframe\">\n",
       "  <thead>\n",
       "    <tr style=\"text-align: right;\">\n",
       "      <th></th>\n",
       "      <th>LOG_RETURN</th>\n",
       "      <th>VOLUME</th>\n",
       "    </tr>\n",
       "  </thead>\n",
       "  <tbody>\n",
       "    <tr>\n",
       "      <th>BULLISH_INTENSITY</th>\n",
       "      <td>-0.0697029</td>\n",
       "      <td>-0.0653596</td>\n",
       "    </tr>\n",
       "    <tr>\n",
       "      <th>BEARISH_INTENSITY</th>\n",
       "      <td>-0.158159</td>\n",
       "      <td>-0.0111159</td>\n",
       "    </tr>\n",
       "    <tr>\n",
       "      <th>BULL_MINUS_BEAR</th>\n",
       "      <td>0.0922146</td>\n",
       "      <td>-0.0296183</td>\n",
       "    </tr>\n",
       "    <tr>\n",
       "      <th>BULL_SCORED_MESSAGES</th>\n",
       "      <td>0.0915588</td>\n",
       "      <td>-0.0269719</td>\n",
       "    </tr>\n",
       "    <tr>\n",
       "      <th>BEAR_SCORED_MESSAGES</th>\n",
       "      <td>-0.0609541</td>\n",
       "      <td>0.391739</td>\n",
       "    </tr>\n",
       "    <tr>\n",
       "      <th>LOG_BULLISHNESS</th>\n",
       "      <td>0.23189</td>\n",
       "      <td>-0.161136</td>\n",
       "    </tr>\n",
       "    <tr>\n",
       "      <th>TISf</th>\n",
       "      <td>0.271245</td>\n",
       "      <td>-0.207196</td>\n",
       "    </tr>\n",
       "    <tr>\n",
       "      <th>RTISf</th>\n",
       "      <td>0.0632289</td>\n",
       "      <td>-0.0547546</td>\n",
       "    </tr>\n",
       "  </tbody>\n",
       "</table>\n",
       "</div>"
      ],
      "text/plain": [
       "                     LOG_RETURN     VOLUME\n",
       "BULLISH_INTENSITY    -0.0697029 -0.0653596\n",
       "BEARISH_INTENSITY     -0.158159 -0.0111159\n",
       "BULL_MINUS_BEAR       0.0922146 -0.0296183\n",
       "BULL_SCORED_MESSAGES  0.0915588 -0.0269719\n",
       "BEAR_SCORED_MESSAGES -0.0609541   0.391739\n",
       "LOG_BULLISHNESS         0.23189  -0.161136\n",
       "TISf                   0.271245  -0.207196\n",
       "RTISf                 0.0632289 -0.0547546"
      ]
     },
     "execution_count": 27,
     "metadata": {},
     "output_type": "execute_result"
    }
   ],
   "source": [
    "sentisignal.correlation_analysis(data_merged)"
   ]
  },
  {
   "cell_type": "code",
   "execution_count": 28,
   "metadata": {
    "collapsed": false
   },
   "outputs": [
    {
     "data": {
      "text/html": [
       "<div>\n",
       "<table border=\"1\" class=\"dataframe\">\n",
       "  <thead>\n",
       "    <tr style=\"text-align: right;\">\n",
       "      <th></th>\n",
       "      <th>INFORMATION_SURPLUS_DIFF</th>\n",
       "      <th>INFORMATION_SURPLUS_PCT</th>\n",
       "      <th>MUTUAL INFORMATION</th>\n",
       "      <th>SHIFT</th>\n",
       "    </tr>\n",
       "  </thead>\n",
       "  <tbody>\n",
       "    <tr>\n",
       "      <th>0</th>\n",
       "      <td>0.000000</td>\n",
       "      <td>0.000000</td>\n",
       "      <td>4.252880</td>\n",
       "      <td>0</td>\n",
       "    </tr>\n",
       "    <tr>\n",
       "      <th>1</th>\n",
       "      <td>0.015702</td>\n",
       "      <td>0.369200</td>\n",
       "      <td>4.268581</td>\n",
       "      <td>1</td>\n",
       "    </tr>\n",
       "    <tr>\n",
       "      <th>2</th>\n",
       "      <td>-0.001956</td>\n",
       "      <td>-0.045991</td>\n",
       "      <td>4.250924</td>\n",
       "      <td>2</td>\n",
       "    </tr>\n",
       "    <tr>\n",
       "      <th>3</th>\n",
       "      <td>0.004871</td>\n",
       "      <td>0.114533</td>\n",
       "      <td>4.257751</td>\n",
       "      <td>3</td>\n",
       "    </tr>\n",
       "    <tr>\n",
       "      <th>4</th>\n",
       "      <td>0.014933</td>\n",
       "      <td>0.351119</td>\n",
       "      <td>4.267812</td>\n",
       "      <td>4</td>\n",
       "    </tr>\n",
       "    <tr>\n",
       "      <th>5</th>\n",
       "      <td>0.014604</td>\n",
       "      <td>0.343397</td>\n",
       "      <td>4.267484</td>\n",
       "      <td>5</td>\n",
       "    </tr>\n",
       "  </tbody>\n",
       "</table>\n",
       "</div>"
      ],
      "text/plain": [
       "   INFORMATION_SURPLUS_DIFF  INFORMATION_SURPLUS_PCT  MUTUAL INFORMATION  \\\n",
       "0                  0.000000                 0.000000            4.252880   \n",
       "1                  0.015702                 0.369200            4.268581   \n",
       "2                 -0.001956                -0.045991            4.250924   \n",
       "3                  0.004871                 0.114533            4.257751   \n",
       "4                  0.014933                 0.351119            4.267812   \n",
       "5                  0.014604                 0.343397            4.267484   \n",
       "\n",
       "   SHIFT  \n",
       "0      0  \n",
       "1      1  \n",
       "2      2  \n",
       "3      3  \n",
       "4      4  \n",
       "5      5  "
      ]
     },
     "execution_count": 28,
     "metadata": {},
     "output_type": "execute_result"
    }
   ],
   "source": [
    "sentisignal.information_surplus(data_merged, 5, 'LOG_RETURN', 'LOG_BULL_BEAR_RATIO', 500)"
   ]
  },
  {
   "cell_type": "code",
   "execution_count": 29,
   "metadata": {
    "collapsed": false
   },
   "outputs": [],
   "source": [
    "data_merged_window = sentisignal.apply_rolling_window(data_merged, 30)"
   ]
  },
  {
   "cell_type": "code",
   "execution_count": 33,
   "metadata": {
    "collapsed": false
   },
   "outputs": [
    {
     "data": {
      "text/html": [
       "<div>\n",
       "<table border=\"1\" class=\"dataframe\">\n",
       "  <thead>\n",
       "    <tr style=\"text-align: right;\">\n",
       "      <th></th>\n",
       "      <th>LOG_RETURN</th>\n",
       "      <th>VOLUME</th>\n",
       "    </tr>\n",
       "  </thead>\n",
       "  <tbody>\n",
       "    <tr>\n",
       "      <th>BULLISH_INTENSITY</th>\n",
       "      <td>0.540503</td>\n",
       "      <td>-0.0421826</td>\n",
       "    </tr>\n",
       "    <tr>\n",
       "      <th>BEARISH_INTENSITY</th>\n",
       "      <td>-0.270306</td>\n",
       "      <td>0.187718</td>\n",
       "    </tr>\n",
       "    <tr>\n",
       "      <th>BULL_MINUS_BEAR</th>\n",
       "      <td>0.506135</td>\n",
       "      <td>-0.143336</td>\n",
       "    </tr>\n",
       "    <tr>\n",
       "      <th>BULL_SCORED_MESSAGES</th>\n",
       "      <td>0.5181</td>\n",
       "      <td>-0.00547715</td>\n",
       "    </tr>\n",
       "    <tr>\n",
       "      <th>BEAR_SCORED_MESSAGES</th>\n",
       "      <td>-0.46523</td>\n",
       "      <td>0.657202</td>\n",
       "    </tr>\n",
       "    <tr>\n",
       "      <th>LOG_BULLISHNESS</th>\n",
       "      <td>0.687506</td>\n",
       "      <td>-0.282567</td>\n",
       "    </tr>\n",
       "    <tr>\n",
       "      <th>TISf</th>\n",
       "      <td>0.699641</td>\n",
       "      <td>-0.389913</td>\n",
       "    </tr>\n",
       "    <tr>\n",
       "      <th>RTISf</th>\n",
       "      <td>0.0717468</td>\n",
       "      <td>-0.483833</td>\n",
       "    </tr>\n",
       "  </tbody>\n",
       "</table>\n",
       "</div>"
      ],
      "text/plain": [
       "                     LOG_RETURN      VOLUME\n",
       "BULLISH_INTENSITY      0.540503  -0.0421826\n",
       "BEARISH_INTENSITY     -0.270306    0.187718\n",
       "BULL_MINUS_BEAR        0.506135   -0.143336\n",
       "BULL_SCORED_MESSAGES     0.5181 -0.00547715\n",
       "BEAR_SCORED_MESSAGES   -0.46523    0.657202\n",
       "LOG_BULLISHNESS        0.687506   -0.282567\n",
       "TISf                   0.699641   -0.389913\n",
       "RTISf                 0.0717468   -0.483833"
      ]
     },
     "execution_count": 33,
     "metadata": {},
     "output_type": "execute_result"
    }
   ],
   "source": [
    "sentisignal.correlation_analysis(data_merged_window)"
   ]
  },
  {
   "cell_type": "code",
   "execution_count": 32,
   "metadata": {
    "collapsed": false
   },
   "outputs": [
    {
     "data": {
      "text/html": [
       "<div>\n",
       "<table border=\"1\" class=\"dataframe\">\n",
       "  <thead>\n",
       "    <tr style=\"text-align: right;\">\n",
       "      <th></th>\n",
       "      <th>INFORMATION_SURPLUS_DIFF</th>\n",
       "      <th>INFORMATION_SURPLUS_PCT</th>\n",
       "      <th>MUTUAL INFORMATION</th>\n",
       "      <th>SHIFT</th>\n",
       "    </tr>\n",
       "  </thead>\n",
       "  <tbody>\n",
       "    <tr>\n",
       "      <th>0</th>\n",
       "      <td>0.000000</td>\n",
       "      <td>0.000000</td>\n",
       "      <td>4.624084</td>\n",
       "      <td>0</td>\n",
       "    </tr>\n",
       "    <tr>\n",
       "      <th>1</th>\n",
       "      <td>0.005920</td>\n",
       "      <td>0.128018</td>\n",
       "      <td>4.630004</td>\n",
       "      <td>1</td>\n",
       "    </tr>\n",
       "    <tr>\n",
       "      <th>2</th>\n",
       "      <td>0.004671</td>\n",
       "      <td>0.101004</td>\n",
       "      <td>4.628755</td>\n",
       "      <td>2</td>\n",
       "    </tr>\n",
       "    <tr>\n",
       "      <th>3</th>\n",
       "      <td>-0.003861</td>\n",
       "      <td>-0.083487</td>\n",
       "      <td>4.620224</td>\n",
       "      <td>3</td>\n",
       "    </tr>\n",
       "    <tr>\n",
       "      <th>4</th>\n",
       "      <td>-0.005119</td>\n",
       "      <td>-0.110705</td>\n",
       "      <td>4.618965</td>\n",
       "      <td>4</td>\n",
       "    </tr>\n",
       "    <tr>\n",
       "      <th>5</th>\n",
       "      <td>-0.010954</td>\n",
       "      <td>-0.236881</td>\n",
       "      <td>4.613131</td>\n",
       "      <td>5</td>\n",
       "    </tr>\n",
       "  </tbody>\n",
       "</table>\n",
       "</div>"
      ],
      "text/plain": [
       "   INFORMATION_SURPLUS_DIFF  INFORMATION_SURPLUS_PCT  MUTUAL INFORMATION  \\\n",
       "0                  0.000000                 0.000000            4.624084   \n",
       "1                  0.005920                 0.128018            4.630004   \n",
       "2                  0.004671                 0.101004            4.628755   \n",
       "3                 -0.003861                -0.083487            4.620224   \n",
       "4                 -0.005119                -0.110705            4.618965   \n",
       "5                 -0.010954                -0.236881            4.613131   \n",
       "\n",
       "   SHIFT  \n",
       "0      0  \n",
       "1      1  \n",
       "2      2  \n",
       "3      3  \n",
       "4      4  \n",
       "5      5  "
      ]
     },
     "execution_count": 32,
     "metadata": {},
     "output_type": "execute_result"
    }
   ],
   "source": [
    "sentisignal.information_surplus(data_merged_window, 5, 'LOG_RETURN', 'LOG_BULL_BEAR_RATIO', 500)"
   ]
  }
 ],
 "metadata": {
  "kernelspec": {
   "display_name": "Python 2",
   "language": "python",
   "name": "python2"
  },
  "language_info": {
   "codemirror_mode": {
    "name": "ipython",
    "version": 2
   },
   "file_extension": ".py",
   "mimetype": "text/x-python",
   "name": "python",
   "nbconvert_exporter": "python",
   "pygments_lexer": "ipython2",
   "version": "2.7.10"
  }
 },
 "nbformat": 4,
 "nbformat_minor": 0
}
