{
 "cells": [
  {
   "cell_type": "code",
   "execution_count": 68,
   "metadata": {
    "collapsed": false
   },
   "outputs": [
    {
     "name": "stdout",
     "output_type": "stream",
     "text": [
      "The autoreload extension is already loaded. To reload it, use:\n",
      "  %reload_ext autoreload\n"
     ]
    }
   ],
   "source": [
    "%load_ext autoreload\n",
    "%autoreload 2"
   ]
  },
  {
   "cell_type": "code",
   "execution_count": 74,
   "metadata": {
    "collapsed": false
   },
   "outputs": [],
   "source": [
    "import sentisignal"
   ]
  },
  {
   "cell_type": "code",
   "execution_count": 131,
   "metadata": {
    "collapsed": true
   },
   "outputs": [],
   "source": [
    "# notebook-wide experiemental configuration\n",
    "data_primary = '../../data/csv/stocktwits_twitter_withretweets_daily.csv'\n",
    "data_symbology = '../../data/csv/symbology.csv'\n",
    "data_pickles = '../../data/pickles/'\n",
    "start_date = '2014-01-01'\n",
    "end_date = '2015-01-01'"
   ]
  },
  {
   "cell_type": "code",
   "execution_count": 133,
   "metadata": {
    "collapsed": false
   },
   "outputs": [
    {
     "name": "stdout",
     "output_type": "stream",
     "text": [
      "Loaded from pre-created pickle\n"
     ]
    }
   ],
   "source": [
    "data_sentiment = sentisignal.subsample_data(data_primary, data_symbology, data_pickles, start_date, end_date, 'SYMBOL', ['AAPL'], False)"
   ]
  },
  {
   "cell_type": "code",
   "execution_count": 134,
   "metadata": {
    "collapsed": true
   },
   "outputs": [],
   "source": [
    "sentisignal.preprocess_data_sentiment(data_sentiment)"
   ]
  },
  {
   "cell_type": "code",
   "execution_count": 135,
   "metadata": {
    "collapsed": false
   },
   "outputs": [
    {
     "name": "stdout",
     "output_type": "stream",
     "text": [
      "Loaded from pre-created pickle\n"
     ]
    }
   ],
   "source": [
    "data_finance = sentisignal.get_data_finance('yahoo', ['AAPL'], start_date, end_date, '../../data/pickles/', False)"
   ]
  },
  {
   "cell_type": "code",
   "execution_count": 136,
   "metadata": {
    "collapsed": true
   },
   "outputs": [],
   "source": [
    "data_merged = sentisignal.merge_sentiment_finance(data_sentiment, data_finance, False, False, True)"
   ]
  },
  {
   "cell_type": "code",
   "execution_count": 137,
   "metadata": {
    "collapsed": false
   },
   "outputs": [
    {
     "data": {
      "text/html": [
       "<div>\n",
       "<table border=\"1\" class=\"dataframe\">\n",
       "  <thead>\n",
       "    <tr style=\"text-align: right;\">\n",
       "      <th></th>\n",
       "      <th>LOG_RETURN</th>\n",
       "      <th>VOLUME</th>\n",
       "    </tr>\n",
       "  </thead>\n",
       "  <tbody>\n",
       "    <tr>\n",
       "      <th>BULLISH_INTENSITY</th>\n",
       "      <td>0.377723</td>\n",
       "      <td>0.0621829</td>\n",
       "    </tr>\n",
       "    <tr>\n",
       "      <th>BEARISH_INTENSITY</th>\n",
       "      <td>-0.141744</td>\n",
       "      <td>0.265486</td>\n",
       "    </tr>\n",
       "    <tr>\n",
       "      <th>BULL_MINUS_BEAR</th>\n",
       "      <td>0.329187</td>\n",
       "      <td>-0.160042</td>\n",
       "    </tr>\n",
       "    <tr>\n",
       "      <th>BULL_SCORED_MESSAGES</th>\n",
       "      <td>-0.0252297</td>\n",
       "      <td>0.609434</td>\n",
       "    </tr>\n",
       "    <tr>\n",
       "      <th>BEAR_SCORED_MESSAGES</th>\n",
       "      <td>-0.259244</td>\n",
       "      <td>0.639318</td>\n",
       "    </tr>\n",
       "    <tr>\n",
       "      <th>LOG_BULLISHNESS</th>\n",
       "      <td>0.389907</td>\n",
       "      <td>-0.0229399</td>\n",
       "    </tr>\n",
       "    <tr>\n",
       "      <th>TISf</th>\n",
       "      <td>0.415389</td>\n",
       "      <td>-0.0236365</td>\n",
       "    </tr>\n",
       "    <tr>\n",
       "      <th>RTISf</th>\n",
       "      <td>0.271594</td>\n",
       "      <td>-0.00781899</td>\n",
       "    </tr>\n",
       "  </tbody>\n",
       "</table>\n",
       "</div>"
      ],
      "text/plain": [
       "                     LOG_RETURN      VOLUME\n",
       "BULLISH_INTENSITY      0.377723   0.0621829\n",
       "BEARISH_INTENSITY     -0.141744    0.265486\n",
       "BULL_MINUS_BEAR        0.329187   -0.160042\n",
       "BULL_SCORED_MESSAGES -0.0252297    0.609434\n",
       "BEAR_SCORED_MESSAGES  -0.259244    0.639318\n",
       "LOG_BULLISHNESS        0.389907  -0.0229399\n",
       "TISf                   0.415389  -0.0236365\n",
       "RTISf                  0.271594 -0.00781899"
      ]
     },
     "execution_count": 137,
     "metadata": {},
     "output_type": "execute_result"
    }
   ],
   "source": [
    "sentisignal.correlation_analysis(data_merged)"
   ]
  },
  {
   "cell_type": "code",
   "execution_count": 138,
   "metadata": {
    "collapsed": false
   },
   "outputs": [
    {
     "data": {
      "text/html": [
       "<div>\n",
       "<table border=\"1\" class=\"dataframe\">\n",
       "  <thead>\n",
       "    <tr style=\"text-align: right;\">\n",
       "      <th></th>\n",
       "      <th>INFORMATION_SURPLUS_DIFF</th>\n",
       "      <th>INFORMATION_SURPLUS_PCT</th>\n",
       "      <th>MUTUAL INFORMATION</th>\n",
       "      <th>SHIFT</th>\n",
       "    </tr>\n",
       "  </thead>\n",
       "  <tbody>\n",
       "    <tr>\n",
       "      <th>0</th>\n",
       "      <td>0.000000</td>\n",
       "      <td>0.000000</td>\n",
       "      <td>3.849851</td>\n",
       "      <td>0</td>\n",
       "    </tr>\n",
       "    <tr>\n",
       "      <th>1</th>\n",
       "      <td>0.019124</td>\n",
       "      <td>0.496758</td>\n",
       "      <td>3.868975</td>\n",
       "      <td>1</td>\n",
       "    </tr>\n",
       "    <tr>\n",
       "      <th>2</th>\n",
       "      <td>-0.006858</td>\n",
       "      <td>-0.178130</td>\n",
       "      <td>3.842993</td>\n",
       "      <td>2</td>\n",
       "    </tr>\n",
       "    <tr>\n",
       "      <th>3</th>\n",
       "      <td>0.015906</td>\n",
       "      <td>0.413149</td>\n",
       "      <td>3.865756</td>\n",
       "      <td>3</td>\n",
       "    </tr>\n",
       "    <tr>\n",
       "      <th>4</th>\n",
       "      <td>0.010807</td>\n",
       "      <td>0.280712</td>\n",
       "      <td>3.860658</td>\n",
       "      <td>4</td>\n",
       "    </tr>\n",
       "    <tr>\n",
       "      <th>5</th>\n",
       "      <td>0.016954</td>\n",
       "      <td>0.440383</td>\n",
       "      <td>3.866805</td>\n",
       "      <td>5</td>\n",
       "    </tr>\n",
       "  </tbody>\n",
       "</table>\n",
       "</div>"
      ],
      "text/plain": [
       "   INFORMATION_SURPLUS_DIFF  INFORMATION_SURPLUS_PCT  MUTUAL INFORMATION  \\\n",
       "0                  0.000000                 0.000000            3.849851   \n",
       "1                  0.019124                 0.496758            3.868975   \n",
       "2                 -0.006858                -0.178130            3.842993   \n",
       "3                  0.015906                 0.413149            3.865756   \n",
       "4                  0.010807                 0.280712            3.860658   \n",
       "5                  0.016954                 0.440383            3.866805   \n",
       "\n",
       "   SHIFT  \n",
       "0      0  \n",
       "1      1  \n",
       "2      2  \n",
       "3      3  \n",
       "4      4  \n",
       "5      5  "
      ]
     },
     "execution_count": 138,
     "metadata": {},
     "output_type": "execute_result"
    }
   ],
   "source": [
    "sentisignal.information_surplus(data_merged, 5, 'LOG_RETURN', 'LOG_BULL_BEAR_RATIO', 500)"
   ]
  },
  {
   "cell_type": "code",
   "execution_count": null,
   "metadata": {
    "collapsed": true
   },
   "outputs": [],
   "source": []
  }
 ],
 "metadata": {
  "kernelspec": {
   "display_name": "Python 2",
   "language": "python",
   "name": "python2"
  },
  "language_info": {
   "codemirror_mode": {
    "name": "ipython",
    "version": 2
   },
   "file_extension": ".py",
   "mimetype": "text/x-python",
   "name": "python",
   "nbconvert_exporter": "python",
   "pygments_lexer": "ipython2",
   "version": "2.7.10"
  }
 },
 "nbformat": 4,
 "nbformat_minor": 0
}
