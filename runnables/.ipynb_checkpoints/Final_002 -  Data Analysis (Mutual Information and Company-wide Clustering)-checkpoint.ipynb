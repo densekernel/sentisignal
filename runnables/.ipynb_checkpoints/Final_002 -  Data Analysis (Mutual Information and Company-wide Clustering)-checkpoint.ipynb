{
 "cells": [
  {
   "cell_type": "markdown",
   "metadata": {},
   "source": [
    "# Final Notebook 002 - Data Analysis"
   ]
  },
  {
   "cell_type": "markdown",
   "metadata": {},
   "source": [
    "## Import"
   ]
  },
  {
   "cell_type": "code",
   "execution_count": 1,
   "metadata": {
    "collapsed": false
   },
   "outputs": [],
   "source": [
    "import sentisignal\n",
    "%load_ext autoreload\n",
    "%autoreload 2\n",
    "%matplotlib inline"
   ]
  },
  {
   "cell_type": "code",
   "execution_count": 2,
   "metadata": {
    "collapsed": false
   },
   "outputs": [],
   "source": [
    "import pandas as pd\n",
    "import numpy as np \n",
    "import pylab as P \n",
    "import ast\n",
    "import matplotlib.pyplot as plt\n",
    "import matplotlib.dates as mdates\n",
    "import math\n",
    "import scipy.stats as s\n",
    "import statsmodels.api as sm\n",
    "import pprint\n",
    "import seaborn as sns\n",
    "\n",
    "from sklearn import metrics\n",
    "from sklearn.cluster import KMeans\n",
    "from sklearn.decomposition import PCA\n",
    "from sklearn.preprocessing import scale\n",
    "from datetime import datetime\n",
    "from yahoo_finance import Share\n",
    "from pandas_datareader import data, wb\n",
    "from statsmodels.graphics.api import qqplot\n",
    "from operator import itemgetter\n",
    "from decimal import *\n",
    "from sklearn.neighbors.kde import KernelDensity\n",
    "\n",
    "# plt.style.use('ggplot')\n",
    "# sns.set_style(\"darkgrid\")\n",
    "# sns.set_context(\"notebook\")"
   ]
  },
  {
   "cell_type": "markdown",
   "metadata": {},
   "source": [
    "## Configuration"
   ]
  },
  {
   "cell_type": "code",
   "execution_count": 3,
   "metadata": {
    "collapsed": true
   },
   "outputs": [],
   "source": [
    "data_primary_path = '../../data/csv/stocktwits_twitter_withretweets_daily.csv'\n",
    "data_symbology_path = '../../data/csv/symbology.csv'\n",
    "data_pickles_path = '../../data/pickles/'\n",
    "data_nasdaq_company_list_path = '../../data/nasdaq/companylist.csv'\n",
    "start_date = '2012-01-01'\n",
    "end_date = '2016-01-01'"
   ]
  },
  {
   "cell_type": "markdown",
   "metadata": {},
   "source": [
    "## Reload Data"
   ]
  },
  {
   "cell_type": "code",
   "execution_count": 4,
   "metadata": {
    "collapsed": true
   },
   "outputs": [],
   "source": [
    "data_symbology = pd.read_csv(data_symbology_path)"
   ]
  },
  {
   "cell_type": "markdown",
   "metadata": {},
   "source": [
    "### Use NASDAQ data to get top 100 companies by MarketCap"
   ]
  },
  {
   "cell_type": "code",
   "execution_count": 5,
   "metadata": {
    "collapsed": false
   },
   "outputs": [],
   "source": [
    "data_nasdaq_company_list = pd.read_csv(data_nasdaq_company_list_path)\n",
    "data_nasdaq_top_100_mkt_cap = data_nasdaq_company_list.head(100)\n",
    "data_nasdaq_top_100_mkt_cap_symbols = data_nasdaq_top_100_mkt_cap['Symbol'].unique()"
   ]
  },
  {
   "cell_type": "markdown",
   "metadata": {},
   "source": [
    "### Load results from intermediate pickle"
   ]
  },
  {
   "cell_type": "code",
   "execution_count": 6,
   "metadata": {
    "collapsed": false
   },
   "outputs": [],
   "source": [
    "data_nasdaq_top_100_preprocessed_merge = pd.read_pickle(data_pickles_path+'intermediate/'+'data_nasdaq_top_100_preprocessed_merge_'+start_date+'_'+end_date)"
   ]
  },
  {
   "cell_type": "markdown",
   "metadata": {},
   "source": [
    "### Load window results from intermediate pickle"
   ]
  },
  {
   "cell_type": "code",
   "execution_count": 7,
   "metadata": {
    "collapsed": false
   },
   "outputs": [],
   "source": [
    "data_nasdaq_top_100_preprocessed_merge_window_30 = pd.read_pickle(data_pickles_path+'intermediate/'+'data_nasdaq_top_100_preprocessed_merge_'+start_date+'_'+end_date+'_window_30')"
   ]
  },
  {
   "cell_type": "markdown",
   "metadata": {
    "collapsed": true
   },
   "source": [
    "## Data Analytics (No window)"
   ]
  },
  {
   "cell_type": "markdown",
   "metadata": {},
   "source": [
    "### MI (Mutual Information)"
   ]
  },
  {
   "cell_type": "code",
   "execution_count": null,
   "metadata": {
    "collapsed": false
   },
   "outputs": [],
   "source": [
    "# def shift\n",
    "# data_nasdaq_top_100_preprocessed_mi_res = sentisignal.split_apply_combine(data_nasdaq_top_100_preprocessed_merge, 'SYMBOL', sentisignal.information_surplus, 10, 'PCA_SENTIMENT', 'PCA_FINANCE', -1, True)\n",
    "# def shift (validate)\n",
    "# data_nasdaq_top_100_preprocessed_mi_res_validate = sentisignal.split_apply_combine(data_nasdaq_top_100_preprocessed_merge, 'SYMBOL', sentisignal.information_surplus, 10, 'PCA_SENTIMENT', 'PCA_FINANCE', -1, False)"
   ]
  },
  {
   "cell_type": "code",
   "execution_count": null,
   "metadata": {
    "collapsed": false
   },
   "outputs": [],
   "source": [
    "data_nasdaq_top_100_preprocessed_merge_mi_res_net = sentisignal.split_apply_combine(data_nasdaq_top_100_preprocessed_merge, 'SYMBOL', sentisignal.net_information_surplus, 10, 'PCA_SENTIMENT', 'PCA_FINANCE', -1)\n",
    "data_nasdaq_top_100_preprocessed_merge_mi_res_net_constrained = sentisignal.constrain_mi_res(data_nasdaq_top_100_preprocessed_merge_mi_res_net)\n",
    "sentisignal.plot_inf_res(data_nasdaq_top_100_preprocessed_merge_mi_res_net_constrained)"
   ]
  },
  {
   "cell_type": "code",
   "execution_count": null,
   "metadata": {
    "collapsed": false
   },
   "outputs": [],
   "source": [
    "data_nasdaq_top_100_preprocessed_merge_mi_res_net = sentisignal.split_apply_combine(data_nasdaq_top_100_preprocessed_merge, 'SYMBOL', sentisignal.net_information_surplus, 10, 'BULL_MINUS_BEAR', 'LOG_RETURN', -1)\n",
    "data_nasdaq_top_100_preprocessed_merge_mi_res_net_constrained = sentisignal.constrain_mi_res(data_nasdaq_top_100_preprocessed_merge_mi_res_net)\n",
    "sentisignal.plot_inf_res(data_nasdaq_top_100_preprocessed_merge_mi_res_net_constrained)"
   ]
  },
  {
   "cell_type": "code",
   "execution_count": null,
   "metadata": {
    "collapsed": false
   },
   "outputs": [],
   "source": [
    "data_nasdaq_top_100_preprocessed_merge_mi_res_net = sentisignal.split_apply_combine(data_nasdaq_top_100_preprocessed_merge, 'SYMBOL', sentisignal.net_information_surplus, 10, 'RTISf', 'VOLUME', -1)\n",
    "data_nasdaq_top_100_preprocessed_merge_mi_res_net_constrained = sentisignal.constrain_mi_res(data_nasdaq_top_100_preprocessed_merge_mi_res_net)\n",
    "sentisignal.plot_inf_res(data_nasdaq_top_100_preprocessed_merge_mi_res_net_constrained)"
   ]
  },
  {
   "cell_type": "code",
   "execution_count": null,
   "metadata": {
    "collapsed": false
   },
   "outputs": [],
   "source": [
    "data_nasdaq_top_100_preprocessed_merge_mi_res_net = sentisignal.split_apply_combine(data_nasdaq_top_100_preprocessed_merge, 'SYMBOL', sentisignal.net_information_surplus, 10, 'BULL_MINUS_BEAR', 'VOLATILITY', -1)\n",
    "data_nasdaq_top_100_preprocessed_merge_mi_res_net_constrained = sentisignal.constrain_mi_res(data_nasdaq_top_100_preprocessed_merge_mi_res_net)\n",
    "sentisignal.plot_inf_res(data_nasdaq_top_100_preprocessed_merge_mi_res_net_constrained)"
   ]
  },
  {
   "cell_type": "markdown",
   "metadata": {},
   "source": [
    "### PMI (Pointwise Mutual Information)\n",
    "#### Form a time series of mutual information values from single events per company"
   ]
  },
  {
   "cell_type": "code",
   "execution_count": null,
   "metadata": {
    "collapsed": false
   },
   "outputs": [],
   "source": [
    "# pmi_func(data_nasdaq_top_100_preprocessed_merge, 'PCA_SENTIMENT', 'PCA_FINANCE')\n",
    "sentisignal.kernel_pmi_func(data_nasdaq_top_100_preprocessed_merge, 'PCA_SENTIMENT', 'PCA_FINANCE', 1.0, 0)\n",
    "\n",
    "plt.plot(data_nasdaq_top_100_preprocessed_merge['PMI_0'])\n",
    "plt.show()"
   ]
  },
  {
   "cell_type": "code",
   "execution_count": null,
   "metadata": {
    "collapsed": false
   },
   "outputs": [],
   "source": [
    "data_nasdaq_top_100_preprocessed_merge.info()"
   ]
  },
  {
   "cell_type": "code",
   "execution_count": null,
   "metadata": {
    "collapsed": false
   },
   "outputs": [],
   "source": [
    "data_nasdaq_top_100_preprocessed_merge_daily_pmi = sentisignal.split_apply_combine(data_nasdaq_top_100_preprocessed_merge, ['SYMBOL'], sentisignal.net_daily_pmi_info_surplus, 2, 'PCA_SENTIMENT', 'PCA_FINANCE', True)\n",
    "data_nasdaq_top_100_preprocessed_merge_daily_pmi.head()"
   ]
  },
  {
   "cell_type": "code",
   "execution_count": 8,
   "metadata": {
    "collapsed": false
   },
   "outputs": [
    {
     "data": {
      "text/html": [
       "<div>\n",
       "<table border=\"1\" class=\"dataframe\">\n",
       "  <thead>\n",
       "    <tr style=\"text-align: right;\">\n",
       "      <th></th>\n",
       "      <th></th>\n",
       "      <th>SOURCE</th>\n",
       "      <th>SYMBOL</th>\n",
       "      <th>TIMESTAMP_UTC</th>\n",
       "      <th>BULLISH_INTENSITY</th>\n",
       "      <th>BEARISH_INTENSITY</th>\n",
       "      <th>BULL_MINUS_BEAR</th>\n",
       "      <th>BULL_SCORED_MESSAGES</th>\n",
       "      <th>BEAR_SCORED_MESSAGES</th>\n",
       "      <th>BULL_BEAR_MSG_RATIO</th>\n",
       "      <th>TOTAL_SCANNED_MESSAGES</th>\n",
       "      <th>...</th>\n",
       "      <th>PCA_FINANCE</th>\n",
       "      <th>shift_PCA_SENTIMENT_0</th>\n",
       "      <th>shift_PCA_SENTIMENT_-1</th>\n",
       "      <th>shift_PCA_SENTIMENT_-2</th>\n",
       "      <th>PMI_0</th>\n",
       "      <th>pmi_is_0</th>\n",
       "      <th>PMI_-1</th>\n",
       "      <th>pmi_is_-1</th>\n",
       "      <th>PMI_-2</th>\n",
       "      <th>pmi_is_-2</th>\n",
       "    </tr>\n",
       "    <tr>\n",
       "      <th>SYMBOL</th>\n",
       "      <th></th>\n",
       "      <th></th>\n",
       "      <th></th>\n",
       "      <th></th>\n",
       "      <th></th>\n",
       "      <th></th>\n",
       "      <th></th>\n",
       "      <th></th>\n",
       "      <th></th>\n",
       "      <th></th>\n",
       "      <th></th>\n",
       "      <th></th>\n",
       "      <th></th>\n",
       "      <th></th>\n",
       "      <th></th>\n",
       "      <th></th>\n",
       "      <th></th>\n",
       "      <th></th>\n",
       "      <th></th>\n",
       "      <th></th>\n",
       "      <th></th>\n",
       "      <th></th>\n",
       "    </tr>\n",
       "  </thead>\n",
       "  <tbody>\n",
       "    <tr>\n",
       "      <th rowspan=\"5\" valign=\"top\">AAL</th>\n",
       "      <th>0</th>\n",
       "      <td>stocktwits+twitter_withretweets</td>\n",
       "      <td>AAL</td>\n",
       "      <td>2012-01-03T05:00:00Z</td>\n",
       "      <td>0</td>\n",
       "      <td>1.5</td>\n",
       "      <td>-1.5</td>\n",
       "      <td>0</td>\n",
       "      <td>1</td>\n",
       "      <td>0</td>\n",
       "      <td>2</td>\n",
       "      <td>...</td>\n",
       "      <td>-1335582.492857</td>\n",
       "      <td>-60.638367</td>\n",
       "      <td>-62.202768</td>\n",
       "      <td>-60.167295</td>\n",
       "      <td>2.214825</td>\n",
       "      <td>0</td>\n",
       "      <td>2.310193</td>\n",
       "      <td>4.305897</td>\n",
       "      <td>2.279029</td>\n",
       "      <td>2.898871</td>\n",
       "    </tr>\n",
       "    <tr>\n",
       "      <th>1</th>\n",
       "      <td>stocktwits+twitter_withretweets</td>\n",
       "      <td>AAL</td>\n",
       "      <td>2012-01-04T05:00:00Z</td>\n",
       "      <td>0</td>\n",
       "      <td>0.0</td>\n",
       "      <td>0.0</td>\n",
       "      <td>0</td>\n",
       "      <td>0</td>\n",
       "      <td>0</td>\n",
       "      <td>1</td>\n",
       "      <td>...</td>\n",
       "      <td>-1726699.494002</td>\n",
       "      <td>-62.202768</td>\n",
       "      <td>-60.167295</td>\n",
       "      <td>-59.350832</td>\n",
       "      <td>2.306997</td>\n",
       "      <td>0</td>\n",
       "      <td>2.277701</td>\n",
       "      <td>-1.269854</td>\n",
       "      <td>2.396625</td>\n",
       "      <td>3.885071</td>\n",
       "    </tr>\n",
       "    <tr>\n",
       "      <th>2</th>\n",
       "      <td>stocktwits+twitter_withretweets</td>\n",
       "      <td>AAL</td>\n",
       "      <td>2012-01-05T05:00:00Z</td>\n",
       "      <td>0</td>\n",
       "      <td>0.0</td>\n",
       "      <td>0.0</td>\n",
       "      <td>0</td>\n",
       "      <td>0</td>\n",
       "      <td>0</td>\n",
       "      <td>2</td>\n",
       "      <td>...</td>\n",
       "      <td>-2175218.470130</td>\n",
       "      <td>-60.167295</td>\n",
       "      <td>-59.350832</td>\n",
       "      <td>-62.598267</td>\n",
       "      <td>2.268318</td>\n",
       "      <td>0</td>\n",
       "      <td>2.396422</td>\n",
       "      <td>5.647534</td>\n",
       "      <td>2.455259</td>\n",
       "      <td>8.241401</td>\n",
       "    </tr>\n",
       "    <tr>\n",
       "      <th>3</th>\n",
       "      <td>stocktwits+twitter_withretweets</td>\n",
       "      <td>AAL</td>\n",
       "      <td>2012-01-06T05:00:00Z</td>\n",
       "      <td>0</td>\n",
       "      <td>0.0</td>\n",
       "      <td>0.0</td>\n",
       "      <td>0</td>\n",
       "      <td>0</td>\n",
       "      <td>0</td>\n",
       "      <td>3</td>\n",
       "      <td>...</td>\n",
       "      <td>-2727558.457286</td>\n",
       "      <td>-59.350832</td>\n",
       "      <td>-62.598267</td>\n",
       "      <td>-61.232706</td>\n",
       "      <td>2.391257</td>\n",
       "      <td>0</td>\n",
       "      <td>2.443692</td>\n",
       "      <td>2.192780</td>\n",
       "      <td>2.196028</td>\n",
       "      <td>-8.164316</td>\n",
       "    </tr>\n",
       "    <tr>\n",
       "      <th>4</th>\n",
       "      <td>stocktwits+twitter_withretweets</td>\n",
       "      <td>AAL</td>\n",
       "      <td>2012-01-09T05:00:00Z</td>\n",
       "      <td>0</td>\n",
       "      <td>0.0</td>\n",
       "      <td>0.0</td>\n",
       "      <td>0</td>\n",
       "      <td>0</td>\n",
       "      <td>0</td>\n",
       "      <td>1</td>\n",
       "      <td>...</td>\n",
       "      <td>-2048155.473899</td>\n",
       "      <td>-62.598267</td>\n",
       "      <td>-61.232706</td>\n",
       "      <td>-61.664165</td>\n",
       "      <td>2.441872</td>\n",
       "      <td>0</td>\n",
       "      <td>2.189982</td>\n",
       "      <td>-10.315458</td>\n",
       "      <td>2.218019</td>\n",
       "      <td>-9.167274</td>\n",
       "    </tr>\n",
       "  </tbody>\n",
       "</table>\n",
       "<p>5 rows × 43 columns</p>\n",
       "</div>"
      ],
      "text/plain": [
       "                                   SOURCE SYMBOL         TIMESTAMP_UTC  \\\n",
       "SYMBOL                                                                   \n",
       "AAL    0  stocktwits+twitter_withretweets    AAL  2012-01-03T05:00:00Z   \n",
       "       1  stocktwits+twitter_withretweets    AAL  2012-01-04T05:00:00Z   \n",
       "       2  stocktwits+twitter_withretweets    AAL  2012-01-05T05:00:00Z   \n",
       "       3  stocktwits+twitter_withretweets    AAL  2012-01-06T05:00:00Z   \n",
       "       4  stocktwits+twitter_withretweets    AAL  2012-01-09T05:00:00Z   \n",
       "\n",
       "          BULLISH_INTENSITY  BEARISH_INTENSITY  BULL_MINUS_BEAR  \\\n",
       "SYMBOL                                                            \n",
       "AAL    0                  0                1.5             -1.5   \n",
       "       1                  0                0.0              0.0   \n",
       "       2                  0                0.0              0.0   \n",
       "       3                  0                0.0              0.0   \n",
       "       4                  0                0.0              0.0   \n",
       "\n",
       "          BULL_SCORED_MESSAGES  BEAR_SCORED_MESSAGES  BULL_BEAR_MSG_RATIO  \\\n",
       "SYMBOL                                                                      \n",
       "AAL    0                     0                     1                    0   \n",
       "       1                     0                     0                    0   \n",
       "       2                     0                     0                    0   \n",
       "       3                     0                     0                    0   \n",
       "       4                     0                     0                    0   \n",
       "\n",
       "          TOTAL_SCANNED_MESSAGES    ...         PCA_FINANCE  \\\n",
       "SYMBOL                              ...                       \n",
       "AAL    0                       2    ...     -1335582.492857   \n",
       "       1                       1    ...     -1726699.494002   \n",
       "       2                       2    ...     -2175218.470130   \n",
       "       3                       3    ...     -2727558.457286   \n",
       "       4                       1    ...     -2048155.473899   \n",
       "\n",
       "         shift_PCA_SENTIMENT_0 shift_PCA_SENTIMENT_-1 shift_PCA_SENTIMENT_-2  \\\n",
       "SYMBOL                                                                         \n",
       "AAL    0            -60.638367             -62.202768             -60.167295   \n",
       "       1            -62.202768             -60.167295             -59.350832   \n",
       "       2            -60.167295             -59.350832             -62.598267   \n",
       "       3            -59.350832             -62.598267             -61.232706   \n",
       "       4            -62.598267             -61.232706             -61.664165   \n",
       "\n",
       "             PMI_0  pmi_is_0    PMI_-1  pmi_is_-1    PMI_-2  pmi_is_-2  \n",
       "SYMBOL                                                                  \n",
       "AAL    0  2.214825         0  2.310193   4.305897  2.279029   2.898871  \n",
       "       1  2.306997         0  2.277701  -1.269854  2.396625   3.885071  \n",
       "       2  2.268318         0  2.396422   5.647534  2.455259   8.241401  \n",
       "       3  2.391257         0  2.443692   2.192780  2.196028  -8.164316  \n",
       "       4  2.441872         0  2.189982 -10.315458  2.218019  -9.167274  \n",
       "\n",
       "[5 rows x 43 columns]"
      ]
     },
     "execution_count": 8,
     "metadata": {},
     "output_type": "execute_result"
    }
   ],
   "source": [
    "data_nasdaq_top_100_preprocessed_merge_daily_pmi = sentisignal.split_apply_combine(data_nasdaq_top_100_preprocessed_merge, ['SYMBOL'], sentisignal.daily_pmi_info_surplus, 2, 'PCA_SENTIMENT', 'PCA_FINANCE', True)\n",
    "data_nasdaq_top_100_preprocessed_merge_daily_pmi.head()"
   ]
  },
  {
   "cell_type": "code",
   "execution_count": 9,
   "metadata": {
    "collapsed": false
   },
   "outputs": [
    {
     "data": {
      "text/html": [
       "<div>\n",
       "<table border=\"1\" class=\"dataframe\">\n",
       "  <thead>\n",
       "    <tr style=\"text-align: right;\">\n",
       "      <th></th>\n",
       "      <th></th>\n",
       "      <th>SOURCE</th>\n",
       "      <th>SYMBOL</th>\n",
       "      <th>TIMESTAMP_UTC</th>\n",
       "      <th>BULLISH_INTENSITY</th>\n",
       "      <th>BEARISH_INTENSITY</th>\n",
       "      <th>BULL_MINUS_BEAR</th>\n",
       "      <th>BULL_SCORED_MESSAGES</th>\n",
       "      <th>BEAR_SCORED_MESSAGES</th>\n",
       "      <th>BULL_BEAR_MSG_RATIO</th>\n",
       "      <th>TOTAL_SCANNED_MESSAGES</th>\n",
       "      <th>...</th>\n",
       "      <th>PCA_FINANCE</th>\n",
       "      <th>shift_PCA_SENTIMENT_0</th>\n",
       "      <th>shift_PCA_SENTIMENT_1</th>\n",
       "      <th>shift_PCA_SENTIMENT_2</th>\n",
       "      <th>PMI_0</th>\n",
       "      <th>pmi_is_0</th>\n",
       "      <th>PMI_1</th>\n",
       "      <th>pmi_is_1</th>\n",
       "      <th>PMI_2</th>\n",
       "      <th>pmi_is_2</th>\n",
       "    </tr>\n",
       "    <tr>\n",
       "      <th>SYMBOL</th>\n",
       "      <th></th>\n",
       "      <th></th>\n",
       "      <th></th>\n",
       "      <th></th>\n",
       "      <th></th>\n",
       "      <th></th>\n",
       "      <th></th>\n",
       "      <th></th>\n",
       "      <th></th>\n",
       "      <th></th>\n",
       "      <th></th>\n",
       "      <th></th>\n",
       "      <th></th>\n",
       "      <th></th>\n",
       "      <th></th>\n",
       "      <th></th>\n",
       "      <th></th>\n",
       "      <th></th>\n",
       "      <th></th>\n",
       "      <th></th>\n",
       "      <th></th>\n",
       "      <th></th>\n",
       "    </tr>\n",
       "  </thead>\n",
       "  <tbody>\n",
       "    <tr>\n",
       "      <th rowspan=\"5\" valign=\"top\">AAL</th>\n",
       "      <th>2</th>\n",
       "      <td>stocktwits+twitter_withretweets</td>\n",
       "      <td>AAL</td>\n",
       "      <td>2012-01-05T05:00:00Z</td>\n",
       "      <td>0.0</td>\n",
       "      <td>0</td>\n",
       "      <td>0.0</td>\n",
       "      <td>0</td>\n",
       "      <td>0</td>\n",
       "      <td>0</td>\n",
       "      <td>2</td>\n",
       "      <td>...</td>\n",
       "      <td>-2175218.470130</td>\n",
       "      <td>-60.167295</td>\n",
       "      <td>-62.202768</td>\n",
       "      <td>-60.638367</td>\n",
       "      <td>2.455259</td>\n",
       "      <td>0</td>\n",
       "      <td>2.396422</td>\n",
       "      <td>-2.396372</td>\n",
       "      <td>2.268318</td>\n",
       "      <td>-7.613908</td>\n",
       "    </tr>\n",
       "    <tr>\n",
       "      <th>3</th>\n",
       "      <td>stocktwits+twitter_withretweets</td>\n",
       "      <td>AAL</td>\n",
       "      <td>2012-01-06T05:00:00Z</td>\n",
       "      <td>0.0</td>\n",
       "      <td>0</td>\n",
       "      <td>0.0</td>\n",
       "      <td>0</td>\n",
       "      <td>0</td>\n",
       "      <td>0</td>\n",
       "      <td>3</td>\n",
       "      <td>...</td>\n",
       "      <td>-2727558.457286</td>\n",
       "      <td>-59.350832</td>\n",
       "      <td>-60.167295</td>\n",
       "      <td>-62.202768</td>\n",
       "      <td>2.196028</td>\n",
       "      <td>0</td>\n",
       "      <td>2.443692</td>\n",
       "      <td>11.277856</td>\n",
       "      <td>2.391257</td>\n",
       "      <td>8.890135</td>\n",
       "    </tr>\n",
       "    <tr>\n",
       "      <th>4</th>\n",
       "      <td>stocktwits+twitter_withretweets</td>\n",
       "      <td>AAL</td>\n",
       "      <td>2012-01-09T05:00:00Z</td>\n",
       "      <td>0.0</td>\n",
       "      <td>0</td>\n",
       "      <td>0.0</td>\n",
       "      <td>0</td>\n",
       "      <td>0</td>\n",
       "      <td>0</td>\n",
       "      <td>1</td>\n",
       "      <td>...</td>\n",
       "      <td>-2048155.473899</td>\n",
       "      <td>-62.598267</td>\n",
       "      <td>-59.350832</td>\n",
       "      <td>-60.167295</td>\n",
       "      <td>2.218019</td>\n",
       "      <td>0</td>\n",
       "      <td>2.189982</td>\n",
       "      <td>-1.264065</td>\n",
       "      <td>2.441872</td>\n",
       "      <td>10.092479</td>\n",
       "    </tr>\n",
       "    <tr>\n",
       "      <th>5</th>\n",
       "      <td>stocktwits+twitter_withretweets</td>\n",
       "      <td>AAL</td>\n",
       "      <td>2012-01-10T05:00:00Z</td>\n",
       "      <td>2.2</td>\n",
       "      <td>0</td>\n",
       "      <td>2.2</td>\n",
       "      <td>1</td>\n",
       "      <td>0</td>\n",
       "      <td>0</td>\n",
       "      <td>1</td>\n",
       "      <td>...</td>\n",
       "      <td>-714120.526253</td>\n",
       "      <td>-61.232706</td>\n",
       "      <td>-62.598267</td>\n",
       "      <td>-59.350832</td>\n",
       "      <td>2.279029</td>\n",
       "      <td>0</td>\n",
       "      <td>2.209472</td>\n",
       "      <td>-3.052063</td>\n",
       "      <td>2.181927</td>\n",
       "      <td>-4.260674</td>\n",
       "    </tr>\n",
       "    <tr>\n",
       "      <th>6</th>\n",
       "      <td>stocktwits+twitter_withretweets</td>\n",
       "      <td>AAL</td>\n",
       "      <td>2012-01-11T05:00:00Z</td>\n",
       "      <td>0.0</td>\n",
       "      <td>0</td>\n",
       "      <td>0.0</td>\n",
       "      <td>0</td>\n",
       "      <td>0</td>\n",
       "      <td>0</td>\n",
       "      <td>1</td>\n",
       "      <td>...</td>\n",
       "      <td>-1481736.519819</td>\n",
       "      <td>-61.664165</td>\n",
       "      <td>-61.232706</td>\n",
       "      <td>-62.598267</td>\n",
       "      <td>2.284907</td>\n",
       "      <td>0</td>\n",
       "      <td>2.277701</td>\n",
       "      <td>-0.315343</td>\n",
       "      <td>2.203675</td>\n",
       "      <td>-3.555139</td>\n",
       "    </tr>\n",
       "  </tbody>\n",
       "</table>\n",
       "<p>5 rows × 43 columns</p>\n",
       "</div>"
      ],
      "text/plain": [
       "                                   SOURCE SYMBOL         TIMESTAMP_UTC  \\\n",
       "SYMBOL                                                                   \n",
       "AAL    2  stocktwits+twitter_withretweets    AAL  2012-01-05T05:00:00Z   \n",
       "       3  stocktwits+twitter_withretweets    AAL  2012-01-06T05:00:00Z   \n",
       "       4  stocktwits+twitter_withretweets    AAL  2012-01-09T05:00:00Z   \n",
       "       5  stocktwits+twitter_withretweets    AAL  2012-01-10T05:00:00Z   \n",
       "       6  stocktwits+twitter_withretweets    AAL  2012-01-11T05:00:00Z   \n",
       "\n",
       "          BULLISH_INTENSITY  BEARISH_INTENSITY  BULL_MINUS_BEAR  \\\n",
       "SYMBOL                                                            \n",
       "AAL    2                0.0                  0              0.0   \n",
       "       3                0.0                  0              0.0   \n",
       "       4                0.0                  0              0.0   \n",
       "       5                2.2                  0              2.2   \n",
       "       6                0.0                  0              0.0   \n",
       "\n",
       "          BULL_SCORED_MESSAGES  BEAR_SCORED_MESSAGES  BULL_BEAR_MSG_RATIO  \\\n",
       "SYMBOL                                                                      \n",
       "AAL    2                     0                     0                    0   \n",
       "       3                     0                     0                    0   \n",
       "       4                     0                     0                    0   \n",
       "       5                     1                     0                    0   \n",
       "       6                     0                     0                    0   \n",
       "\n",
       "          TOTAL_SCANNED_MESSAGES    ...         PCA_FINANCE  \\\n",
       "SYMBOL                              ...                       \n",
       "AAL    2                       2    ...     -2175218.470130   \n",
       "       3                       3    ...     -2727558.457286   \n",
       "       4                       1    ...     -2048155.473899   \n",
       "       5                       1    ...      -714120.526253   \n",
       "       6                       1    ...     -1481736.519819   \n",
       "\n",
       "         shift_PCA_SENTIMENT_0 shift_PCA_SENTIMENT_1 shift_PCA_SENTIMENT_2  \\\n",
       "SYMBOL                                                                       \n",
       "AAL    2            -60.167295            -62.202768            -60.638367   \n",
       "       3            -59.350832            -60.167295            -62.202768   \n",
       "       4            -62.598267            -59.350832            -60.167295   \n",
       "       5            -61.232706            -62.598267            -59.350832   \n",
       "       6            -61.664165            -61.232706            -62.598267   \n",
       "\n",
       "             PMI_0  pmi_is_0     PMI_1   pmi_is_1     PMI_2   pmi_is_2  \n",
       "SYMBOL                                                                  \n",
       "AAL    2  2.455259         0  2.396422  -2.396372  2.268318  -7.613908  \n",
       "       3  2.196028         0  2.443692  11.277856  2.391257   8.890135  \n",
       "       4  2.218019         0  2.189982  -1.264065  2.441872  10.092479  \n",
       "       5  2.279029         0  2.209472  -3.052063  2.181927  -4.260674  \n",
       "       6  2.284907         0  2.277701  -0.315343  2.203675  -3.555139  \n",
       "\n",
       "[5 rows x 43 columns]"
      ]
     },
     "execution_count": 9,
     "metadata": {},
     "output_type": "execute_result"
    }
   ],
   "source": [
    "data_nasdaq_top_100_preprocessed_merge_daily_pmi_valid = sentisignal.split_apply_combine(data_nasdaq_top_100_preprocessed_merge, ['SYMBOL'], sentisignal.daily_pmi_info_surplus, 2, 'PCA_SENTIMENT', 'PCA_FINANCE', False)\n",
    "data_nasdaq_top_100_preprocessed_merge_daily_pmi_valid.head()"
   ]
  },
  {
   "cell_type": "code",
   "execution_count": null,
   "metadata": {
    "collapsed": true
   },
   "outputs": [],
   "source": [
    "data_nasdaq_top_100_preprocessed_merge_daily_pmi_net = sentisignal.split_apply_combine(data_nasdaq_top_100_preprocessed_merge, ['SYMBOL'], sentisignal.net_daily_pmi_info_surplus, 2, 'PCA_SENTIMENT', 'PCA_FINANCE')\n",
    "data_nasdaq_top_100_preprocessed_merge_daily_pmi_net.head()"
   ]
  },
  {
   "cell_type": "code",
   "execution_count": null,
   "metadata": {
    "collapsed": false
   },
   "outputs": [],
   "source": [
    "# data_nasdaq_top_100_preprocessed_merge.groupby('SYMBOL')\n",
    "years = mdates.YearLocator()   # every year\n",
    "months = mdates.MonthLocator()  # every month\n",
    "yearsFmt = mdates.DateFormatter('%Y')\n",
    "\n",
    "df = data_nasdaq_top_100_preprocessed_merge\n",
    "\n",
    "fig, ax = plt.subplots(figsize=(15,5))\n",
    "for key, grp in df.groupby('SYMBOL'):\n",
    "#     print \"key\", key\n",
    "#     grp.reset_index()\n",
    "#     print grp.DATE\n",
    "    ax.plot(grp.DATE.reset_index(drop=True), grp['PMI_0'], label=key)\n",
    "#     grp['D'] = pd.rolling_mean(grp['B'], window=5)    \n",
    "#     plt.plot(grp['D'], label='rolling ({k})'.format(k=key))\n",
    "\n",
    "# datemin = (df.DATE.min().year)\n",
    "# datemax = (df.DATE.max().year + 1)\n",
    "# print datemin, datemax\n",
    "# ax.set_xlim(datemin, datemax)\n",
    "\n",
    "\n",
    "plt.legend(loc='best')\n",
    "plt.ylabel('PMI')\n",
    "fig.autofmt_xdate()\n",
    "plt.show()"
   ]
  },
  {
   "cell_type": "markdown",
   "metadata": {},
   "source": [
    "#### Shift finance data and and calculate PMI (per company)\n"
   ]
  },
  {
   "cell_type": "markdown",
   "metadata": {},
   "source": [
    "## Data Analytics (with window)"
   ]
  },
  {
   "cell_type": "markdown",
   "metadata": {},
   "source": [
    "### MI (Mutual Information)"
   ]
  },
  {
   "cell_type": "code",
   "execution_count": null,
   "metadata": {
    "collapsed": false
   },
   "outputs": [],
   "source": [
    "# def shift\n",
    "data_nasdaq_top_100_preprocessed_window_30_mi_res_net = sentisignal.split_apply_combine(data_nasdaq_top_100_preprocessed_merge_window_30, 'SYMBOL', sentisignal.net_information_surplus, 10, 'PCA_SENTIMENT', 'PCA_FINANCE', -1)\n",
    "data_nasdaq_top_100_preprocessed_window_30_mi_res_net_constrained = sentisignal.constrain_mi_res(data_nasdaq_top_100_preprocessed_window_30_mi_res_net)\n",
    "sentisignal.plot_inf_res(data_nasdaq_top_100_preprocessed_window_30_mi_res_net_constrained)"
   ]
  },
  {
   "cell_type": "code",
   "execution_count": null,
   "metadata": {
    "collapsed": false
   },
   "outputs": [],
   "source": [
    "# def shift\n",
    "data_nasdaq_top_100_preprocessed_window_30_mi_res_net = sentisignal.split_apply_combine(data_nasdaq_top_100_preprocessed_merge_window_30, 'SYMBOL', sentisignal.net_information_surplus, 10, 'BULL_MINUS_BEAR', 'LOG_RETURN', -1)\n",
    "data_nasdaq_top_100_preprocessed_window_30_mi_res_net_constrained = sentisignal.constrain_mi_res(data_nasdaq_top_100_preprocessed_window_30_mi_res_net)\n",
    "sentisignal.plot_inf_res(data_nasdaq_top_100_preprocessed_window_30_mi_res_net_constrained)"
   ]
  },
  {
   "cell_type": "code",
   "execution_count": null,
   "metadata": {
    "collapsed": true
   },
   "outputs": [],
   "source": []
  }
 ],
 "metadata": {
  "kernelspec": {
   "display_name": "Python 2",
   "language": "python",
   "name": "python2"
  },
  "language_info": {
   "codemirror_mode": {
    "name": "ipython",
    "version": 2
   },
   "file_extension": ".py",
   "mimetype": "text/x-python",
   "name": "python",
   "nbconvert_exporter": "python",
   "pygments_lexer": "ipython2",
   "version": "2.7.10"
  }
 },
 "nbformat": 4,
 "nbformat_minor": 0
}
