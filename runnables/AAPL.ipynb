{
 "cells": [
  {
   "cell_type": "code",
   "execution_count": 1,
   "metadata": {
    "collapsed": false
   },
   "outputs": [],
   "source": [
    "%load_ext autoreload\n",
    "%autoreload 2\n"
   ]
  },
  {
   "cell_type": "code",
   "execution_count": 2,
   "metadata": {
    "collapsed": true
   },
   "outputs": [],
   "source": [
    "%matplotlib inline"
   ]
  },
  {
   "cell_type": "code",
   "execution_count": 3,
   "metadata": {
    "collapsed": false
   },
   "outputs": [],
   "source": [
    "import sentisignal"
   ]
  },
  {
   "cell_type": "code",
   "execution_count": 4,
   "metadata": {
    "collapsed": true
   },
   "outputs": [],
   "source": [
    "# notebook-wide experiemental configuration\n",
    "data_primary = '../../data/csv/stocktwits_twitter_withretweets_daily.csv'\n",
    "data_symbology = '../../data/csv/symbology.csv'\n",
    "data_pickles = '../../data/pickles/'\n",
    "start_date = '2014-01-01'\n",
    "end_date = '2015-01-01'"
   ]
  },
  {
   "cell_type": "code",
   "execution_count": 5,
   "metadata": {
    "collapsed": false
   },
   "outputs": [
    {
     "name": "stdout",
     "output_type": "stream",
     "text": [
      "Loaded from pre-created pickle\n"
     ]
    }
   ],
   "source": [
    "data_sentiment = sentisignal.subsample_data(data_primary, data_symbology, data_pickles, start_date, end_date, 'SYMBOL', ['AAPL'], False)"
   ]
  },
  {
   "cell_type": "code",
   "execution_count": 6,
   "metadata": {
    "collapsed": true
   },
   "outputs": [],
   "source": [
    "sentisignal.preprocess_data_sentiment(data_sentiment)"
   ]
  },
  {
   "cell_type": "code",
   "execution_count": 7,
   "metadata": {
    "collapsed": false
   },
   "outputs": [
    {
     "name": "stdout",
     "output_type": "stream",
     "text": [
      "Loaded from pre-created pickle\n"
     ]
    }
   ],
   "source": [
    "data_finance = sentisignal.get_data_finance('yahoo', ['AAPL'], start_date, end_date, '../../data/pickles/', False, 'NaN')"
   ]
  },
  {
   "cell_type": "code",
   "execution_count": 8,
   "metadata": {
    "collapsed": false
   },
   "outputs": [],
   "source": [
    "sentisignal.preprocess_data_finance(data_finance)"
   ]
  },
  {
   "cell_type": "code",
   "execution_count": 9,
   "metadata": {
    "collapsed": true
   },
   "outputs": [],
   "source": [
    "data_merged = sentisignal.merge_sentiment_finance(data_sentiment, data_finance, False, False, True)"
   ]
  },
  {
   "cell_type": "code",
   "execution_count": 10,
   "metadata": {
    "collapsed": false
   },
   "outputs": [
    {
     "data": {
      "text/html": [
       "<div>\n",
       "<table border=\"1\" class=\"dataframe\">\n",
       "  <thead>\n",
       "    <tr style=\"text-align: right;\">\n",
       "      <th></th>\n",
       "      <th>SOURCE</th>\n",
       "      <th>SYMBOL_x</th>\n",
       "      <th>TIMESTAMP_UTC</th>\n",
       "      <th>BULLISH_INTENSITY</th>\n",
       "      <th>BEARISH_INTENSITY</th>\n",
       "      <th>BULL_MINUS_BEAR</th>\n",
       "      <th>BULL_SCORED_MESSAGES</th>\n",
       "      <th>BEAR_SCORED_MESSAGES</th>\n",
       "      <th>BULL_BEAR_MSG_RATIO</th>\n",
       "      <th>TOTAL_SCANNED_MESSAGES</th>\n",
       "      <th>...</th>\n",
       "      <th>HIGH</th>\n",
       "      <th>LOW</th>\n",
       "      <th>CLOSE</th>\n",
       "      <th>VOLUME</th>\n",
       "      <th>ADJ CLOSE</th>\n",
       "      <th>SYMBOL_y</th>\n",
       "      <th>CHANGE</th>\n",
       "      <th>LOG_RETURN</th>\n",
       "      <th>VOLATILITY</th>\n",
       "      <th>VOLUME_DIFF</th>\n",
       "    </tr>\n",
       "  </thead>\n",
       "  <tbody>\n",
       "    <tr>\n",
       "      <th>0</th>\n",
       "      <td>stocktwits+twitter_withretweets</td>\n",
       "      <td>AAPL</td>\n",
       "      <td>2014-01-02T05:00:00Z</td>\n",
       "      <td>1.72</td>\n",
       "      <td>1.78</td>\n",
       "      <td>-0.06</td>\n",
       "      <td>609</td>\n",
       "      <td>390</td>\n",
       "      <td>1.56</td>\n",
       "      <td>3125</td>\n",
       "      <td>...</td>\n",
       "      <td>557.029999</td>\n",
       "      <td>552.020004</td>\n",
       "      <td>553.129990</td>\n",
       "      <td>58671200</td>\n",
       "      <td>75.682745</td>\n",
       "      <td>AAPL</td>\n",
       "      <td>NaN</td>\n",
       "      <td>NaN</td>\n",
       "      <td>5.009995</td>\n",
       "      <td>NaN</td>\n",
       "    </tr>\n",
       "    <tr>\n",
       "      <th>1</th>\n",
       "      <td>stocktwits+twitter_withretweets</td>\n",
       "      <td>AAPL</td>\n",
       "      <td>2014-01-03T05:00:00Z</td>\n",
       "      <td>1.58</td>\n",
       "      <td>1.79</td>\n",
       "      <td>-0.21</td>\n",
       "      <td>870</td>\n",
       "      <td>585</td>\n",
       "      <td>1.49</td>\n",
       "      <td>4157</td>\n",
       "      <td>...</td>\n",
       "      <td>553.699989</td>\n",
       "      <td>540.429993</td>\n",
       "      <td>540.980019</td>\n",
       "      <td>98116900</td>\n",
       "      <td>74.020309</td>\n",
       "      <td>AAPL</td>\n",
       "      <td>-0.021966</td>\n",
       "      <td>-0.022211</td>\n",
       "      <td>13.269996</td>\n",
       "      <td>39445700</td>\n",
       "    </tr>\n",
       "    <tr>\n",
       "      <th>2</th>\n",
       "      <td>stocktwits+twitter_withretweets</td>\n",
       "      <td>AAPL</td>\n",
       "      <td>2014-01-06T05:00:00Z</td>\n",
       "      <td>1.66</td>\n",
       "      <td>1.68</td>\n",
       "      <td>-0.02</td>\n",
       "      <td>870</td>\n",
       "      <td>533</td>\n",
       "      <td>1.63</td>\n",
       "      <td>4374</td>\n",
       "      <td>...</td>\n",
       "      <td>546.800018</td>\n",
       "      <td>533.599983</td>\n",
       "      <td>543.929993</td>\n",
       "      <td>103152700</td>\n",
       "      <td>74.423944</td>\n",
       "      <td>AAPL</td>\n",
       "      <td>0.005453</td>\n",
       "      <td>0.005438</td>\n",
       "      <td>13.200035</td>\n",
       "      <td>5035800</td>\n",
       "    </tr>\n",
       "    <tr>\n",
       "      <th>3</th>\n",
       "      <td>stocktwits+twitter_withretweets</td>\n",
       "      <td>AAPL</td>\n",
       "      <td>2014-01-07T05:00:00Z</td>\n",
       "      <td>1.68</td>\n",
       "      <td>1.76</td>\n",
       "      <td>-0.08</td>\n",
       "      <td>675</td>\n",
       "      <td>462</td>\n",
       "      <td>1.46</td>\n",
       "      <td>3911</td>\n",
       "      <td>...</td>\n",
       "      <td>545.959999</td>\n",
       "      <td>537.919975</td>\n",
       "      <td>540.040024</td>\n",
       "      <td>79302300</td>\n",
       "      <td>73.891693</td>\n",
       "      <td>AAPL</td>\n",
       "      <td>-0.007152</td>\n",
       "      <td>-0.007177</td>\n",
       "      <td>8.040024</td>\n",
       "      <td>-23850400</td>\n",
       "    </tr>\n",
       "    <tr>\n",
       "      <th>4</th>\n",
       "      <td>stocktwits+twitter_withretweets</td>\n",
       "      <td>AAPL</td>\n",
       "      <td>2014-01-08T05:00:00Z</td>\n",
       "      <td>1.70</td>\n",
       "      <td>1.71</td>\n",
       "      <td>-0.01</td>\n",
       "      <td>491</td>\n",
       "      <td>244</td>\n",
       "      <td>2.01</td>\n",
       "      <td>2316</td>\n",
       "      <td>...</td>\n",
       "      <td>545.559990</td>\n",
       "      <td>538.689980</td>\n",
       "      <td>543.460022</td>\n",
       "      <td>64632400</td>\n",
       "      <td>74.359639</td>\n",
       "      <td>AAPL</td>\n",
       "      <td>0.006333</td>\n",
       "      <td>0.006313</td>\n",
       "      <td>6.870010</td>\n",
       "      <td>-14669900</td>\n",
       "    </tr>\n",
       "  </tbody>\n",
       "</table>\n",
       "<p>5 rows × 32 columns</p>\n",
       "</div>"
      ],
      "text/plain": [
       "                            SOURCE SYMBOL_x         TIMESTAMP_UTC  \\\n",
       "0  stocktwits+twitter_withretweets     AAPL  2014-01-02T05:00:00Z   \n",
       "1  stocktwits+twitter_withretweets     AAPL  2014-01-03T05:00:00Z   \n",
       "2  stocktwits+twitter_withretweets     AAPL  2014-01-06T05:00:00Z   \n",
       "3  stocktwits+twitter_withretweets     AAPL  2014-01-07T05:00:00Z   \n",
       "4  stocktwits+twitter_withretweets     AAPL  2014-01-08T05:00:00Z   \n",
       "\n",
       "   BULLISH_INTENSITY  BEARISH_INTENSITY  BULL_MINUS_BEAR  \\\n",
       "0               1.72               1.78            -0.06   \n",
       "1               1.58               1.79            -0.21   \n",
       "2               1.66               1.68            -0.02   \n",
       "3               1.68               1.76            -0.08   \n",
       "4               1.70               1.71            -0.01   \n",
       "\n",
       "   BULL_SCORED_MESSAGES  BEAR_SCORED_MESSAGES  BULL_BEAR_MSG_RATIO  \\\n",
       "0                   609                   390                 1.56   \n",
       "1                   870                   585                 1.49   \n",
       "2                   870                   533                 1.63   \n",
       "3                   675                   462                 1.46   \n",
       "4                   491                   244                 2.01   \n",
       "\n",
       "   TOTAL_SCANNED_MESSAGES     ...             HIGH         LOW       CLOSE  \\\n",
       "0                    3125     ...       557.029999  552.020004  553.129990   \n",
       "1                    4157     ...       553.699989  540.429993  540.980019   \n",
       "2                    4374     ...       546.800018  533.599983  543.929993   \n",
       "3                    3911     ...       545.959999  537.919975  540.040024   \n",
       "4                    2316     ...       545.559990  538.689980  543.460022   \n",
       "\n",
       "      VOLUME  ADJ CLOSE  SYMBOL_y    CHANGE  LOG_RETURN  VOLATILITY  \\\n",
       "0   58671200  75.682745      AAPL       NaN         NaN    5.009995   \n",
       "1   98116900  74.020309      AAPL -0.021966   -0.022211   13.269996   \n",
       "2  103152700  74.423944      AAPL  0.005453    0.005438   13.200035   \n",
       "3   79302300  73.891693      AAPL -0.007152   -0.007177    8.040024   \n",
       "4   64632400  74.359639      AAPL  0.006333    0.006313    6.870010   \n",
       "\n",
       "   VOLUME_DIFF  \n",
       "0          NaN  \n",
       "1     39445700  \n",
       "2      5035800  \n",
       "3    -23850400  \n",
       "4    -14669900  \n",
       "\n",
       "[5 rows x 32 columns]"
      ]
     },
     "execution_count": 10,
     "metadata": {},
     "output_type": "execute_result"
    }
   ],
   "source": [
    "data_merged.head()"
   ]
  },
  {
   "cell_type": "code",
   "execution_count": 11,
   "metadata": {
    "collapsed": false
   },
   "outputs": [
    {
     "name": "stdout",
     "output_type": "stream",
     "text": [
      "<class 'pandas.core.frame.DataFrame'>\n",
      "Int64Index: 252 entries, 0 to 251\n",
      "Data columns (total 32 columns):\n",
      "SOURCE                           252 non-null object\n",
      "SYMBOL_x                         252 non-null object\n",
      "TIMESTAMP_UTC                    252 non-null object\n",
      "BULLISH_INTENSITY                252 non-null float64\n",
      "BEARISH_INTENSITY                252 non-null float64\n",
      "BULL_MINUS_BEAR                  252 non-null float64\n",
      "BULL_SCORED_MESSAGES             252 non-null int64\n",
      "BEAR_SCORED_MESSAGES             252 non-null int64\n",
      "BULL_BEAR_MSG_RATIO              252 non-null float64\n",
      "TOTAL_SCANNED_MESSAGES           252 non-null int64\n",
      "EXCHANGE                         252 non-null object\n",
      "SECTOR                           252 non-null object\n",
      "INDUSTRY                         252 non-null object\n",
      "TITLE                            252 non-null object\n",
      "DATE                             252 non-null datetime64[ns]\n",
      "LOG_BULLISHNESS                  252 non-null float64\n",
      "LOG_BULL_BEAR_RATIO              252 non-null float64\n",
      "TISf                             252 non-null float64\n",
      "RTISf                            251 non-null float64\n",
      "TOTAL_SCANNED_MESSAGES_DIFF      251 non-null float64\n",
      "TOTAL_SENTIMENT_MESSAGES_DIFF    251 non-null float64\n",
      "OPEN                             252 non-null float64\n",
      "HIGH                             252 non-null float64\n",
      "LOW                              252 non-null float64\n",
      "CLOSE                            252 non-null float64\n",
      "VOLUME                           252 non-null int64\n",
      "ADJ CLOSE                        252 non-null float64\n",
      "SYMBOL_y                         252 non-null object\n",
      "CHANGE                           251 non-null float64\n",
      "LOG_RETURN                       251 non-null float64\n",
      "VOLATILITY                       252 non-null float64\n",
      "VOLUME_DIFF                      251 non-null float64\n",
      "dtypes: datetime64[ns](1), float64(19), int64(4), object(8)\n",
      "memory usage: 65.0+ KB\n"
     ]
    }
   ],
   "source": [
    "data_merged.info()"
   ]
  },
  {
   "cell_type": "code",
   "execution_count": 12,
   "metadata": {
    "collapsed": false
   },
   "outputs": [
    {
     "data": {
      "text/html": [
       "<div>\n",
       "<table border=\"1\" class=\"dataframe\">\n",
       "  <thead>\n",
       "    <tr style=\"text-align: right;\">\n",
       "      <th></th>\n",
       "      <th>LOG_RETURN</th>\n",
       "      <th>VOLUME</th>\n",
       "    </tr>\n",
       "  </thead>\n",
       "  <tbody>\n",
       "    <tr>\n",
       "      <th>BULLISH_INTENSITY</th>\n",
       "      <td>0.377723</td>\n",
       "      <td>0.0621829</td>\n",
       "    </tr>\n",
       "    <tr>\n",
       "      <th>BEARISH_INTENSITY</th>\n",
       "      <td>-0.141744</td>\n",
       "      <td>0.265486</td>\n",
       "    </tr>\n",
       "    <tr>\n",
       "      <th>BULL_MINUS_BEAR</th>\n",
       "      <td>0.329187</td>\n",
       "      <td>-0.160042</td>\n",
       "    </tr>\n",
       "    <tr>\n",
       "      <th>BULL_SCORED_MESSAGES</th>\n",
       "      <td>-0.0252297</td>\n",
       "      <td>0.609434</td>\n",
       "    </tr>\n",
       "    <tr>\n",
       "      <th>BEAR_SCORED_MESSAGES</th>\n",
       "      <td>-0.259244</td>\n",
       "      <td>0.639318</td>\n",
       "    </tr>\n",
       "    <tr>\n",
       "      <th>LOG_BULLISHNESS</th>\n",
       "      <td>0.389907</td>\n",
       "      <td>-0.0229399</td>\n",
       "    </tr>\n",
       "    <tr>\n",
       "      <th>TISf</th>\n",
       "      <td>0.415389</td>\n",
       "      <td>-0.0236365</td>\n",
       "    </tr>\n",
       "    <tr>\n",
       "      <th>RTISf</th>\n",
       "      <td>0.271594</td>\n",
       "      <td>-0.00781899</td>\n",
       "    </tr>\n",
       "  </tbody>\n",
       "</table>\n",
       "</div>"
      ],
      "text/plain": [
       "                     LOG_RETURN      VOLUME\n",
       "BULLISH_INTENSITY      0.377723   0.0621829\n",
       "BEARISH_INTENSITY     -0.141744    0.265486\n",
       "BULL_MINUS_BEAR        0.329187   -0.160042\n",
       "BULL_SCORED_MESSAGES -0.0252297    0.609434\n",
       "BEAR_SCORED_MESSAGES  -0.259244    0.639318\n",
       "LOG_BULLISHNESS        0.389907  -0.0229399\n",
       "TISf                   0.415389  -0.0236365\n",
       "RTISf                  0.271594 -0.00781899"
      ]
     },
     "execution_count": 12,
     "metadata": {},
     "output_type": "execute_result"
    }
   ],
   "source": [
    "sentisignal.correlation_analysis(data_merged)"
   ]
  },
  {
   "cell_type": "code",
   "execution_count": 13,
   "metadata": {
    "collapsed": false
   },
   "outputs": [
    {
     "data": {
      "text/html": [
       "<div>\n",
       "<table border=\"1\" class=\"dataframe\">\n",
       "  <thead>\n",
       "    <tr style=\"text-align: right;\">\n",
       "      <th></th>\n",
       "      <th>INFORMATION_SURPLUS_DIFF</th>\n",
       "      <th>INFORMATION_SURPLUS_PCT</th>\n",
       "      <th>MUTUAL INFORMATION</th>\n",
       "      <th>SHIFT</th>\n",
       "    </tr>\n",
       "  </thead>\n",
       "  <tbody>\n",
       "    <tr>\n",
       "      <th>0</th>\n",
       "      <td>0.000000</td>\n",
       "      <td>0.000000</td>\n",
       "      <td>3.849851</td>\n",
       "      <td>0</td>\n",
       "    </tr>\n",
       "    <tr>\n",
       "      <th>1</th>\n",
       "      <td>0.019124</td>\n",
       "      <td>0.496758</td>\n",
       "      <td>3.868975</td>\n",
       "      <td>1</td>\n",
       "    </tr>\n",
       "    <tr>\n",
       "      <th>2</th>\n",
       "      <td>-0.006858</td>\n",
       "      <td>-0.178130</td>\n",
       "      <td>3.842993</td>\n",
       "      <td>2</td>\n",
       "    </tr>\n",
       "    <tr>\n",
       "      <th>3</th>\n",
       "      <td>0.015906</td>\n",
       "      <td>0.413149</td>\n",
       "      <td>3.865756</td>\n",
       "      <td>3</td>\n",
       "    </tr>\n",
       "    <tr>\n",
       "      <th>4</th>\n",
       "      <td>0.010807</td>\n",
       "      <td>0.280712</td>\n",
       "      <td>3.860658</td>\n",
       "      <td>4</td>\n",
       "    </tr>\n",
       "    <tr>\n",
       "      <th>5</th>\n",
       "      <td>0.016954</td>\n",
       "      <td>0.440383</td>\n",
       "      <td>3.866805</td>\n",
       "      <td>5</td>\n",
       "    </tr>\n",
       "  </tbody>\n",
       "</table>\n",
       "</div>"
      ],
      "text/plain": [
       "   INFORMATION_SURPLUS_DIFF  INFORMATION_SURPLUS_PCT  MUTUAL INFORMATION  \\\n",
       "0                  0.000000                 0.000000            3.849851   \n",
       "1                  0.019124                 0.496758            3.868975   \n",
       "2                 -0.006858                -0.178130            3.842993   \n",
       "3                  0.015906                 0.413149            3.865756   \n",
       "4                  0.010807                 0.280712            3.860658   \n",
       "5                  0.016954                 0.440383            3.866805   \n",
       "\n",
       "   SHIFT  \n",
       "0      0  \n",
       "1      1  \n",
       "2      2  \n",
       "3      3  \n",
       "4      4  \n",
       "5      5  "
      ]
     },
     "execution_count": 13,
     "metadata": {},
     "output_type": "execute_result"
    }
   ],
   "source": [
    "sentisignal.information_surplus(data_merged, 5, 'LOG_RETURN', 'LOG_BULL_BEAR_RATIO', 500)"
   ]
  },
  {
   "cell_type": "code",
   "execution_count": 14,
   "metadata": {
    "collapsed": false
   },
   "outputs": [],
   "source": [
    "data_merged_window = sentisignal.apply_rolling_window(data_merged, 30)"
   ]
  },
  {
   "cell_type": "code",
   "execution_count": 15,
   "metadata": {
    "collapsed": false
   },
   "outputs": [
    {
     "data": {
      "text/html": [
       "<div>\n",
       "<table border=\"1\" class=\"dataframe\">\n",
       "  <thead>\n",
       "    <tr style=\"text-align: right;\">\n",
       "      <th></th>\n",
       "      <th>LOG_RETURN</th>\n",
       "      <th>VOLUME</th>\n",
       "    </tr>\n",
       "  </thead>\n",
       "  <tbody>\n",
       "    <tr>\n",
       "      <th>BULLISH_INTENSITY</th>\n",
       "      <td>0.835777</td>\n",
       "      <td>-0.436076</td>\n",
       "    </tr>\n",
       "    <tr>\n",
       "      <th>BEARISH_INTENSITY</th>\n",
       "      <td>-0.156759</td>\n",
       "      <td>0.531509</td>\n",
       "    </tr>\n",
       "    <tr>\n",
       "      <th>BULL_MINUS_BEAR</th>\n",
       "      <td>0.459322</td>\n",
       "      <td>-0.600253</td>\n",
       "    </tr>\n",
       "    <tr>\n",
       "      <th>BULL_SCORED_MESSAGES</th>\n",
       "      <td>-0.281851</td>\n",
       "      <td>0.634367</td>\n",
       "    </tr>\n",
       "    <tr>\n",
       "      <th>BEAR_SCORED_MESSAGES</th>\n",
       "      <td>-0.548945</td>\n",
       "      <td>0.59246</td>\n",
       "    </tr>\n",
       "    <tr>\n",
       "      <th>LOG_BULLISHNESS</th>\n",
       "      <td>0.380566</td>\n",
       "      <td>-0.104466</td>\n",
       "    </tr>\n",
       "    <tr>\n",
       "      <th>TISf</th>\n",
       "      <td>0.390485</td>\n",
       "      <td>-0.0955996</td>\n",
       "    </tr>\n",
       "    <tr>\n",
       "      <th>RTISf</th>\n",
       "      <td>0.0585236</td>\n",
       "      <td>-0.279416</td>\n",
       "    </tr>\n",
       "  </tbody>\n",
       "</table>\n",
       "</div>"
      ],
      "text/plain": [
       "                     LOG_RETURN     VOLUME\n",
       "BULLISH_INTENSITY      0.835777  -0.436076\n",
       "BEARISH_INTENSITY     -0.156759   0.531509\n",
       "BULL_MINUS_BEAR        0.459322  -0.600253\n",
       "BULL_SCORED_MESSAGES  -0.281851   0.634367\n",
       "BEAR_SCORED_MESSAGES  -0.548945    0.59246\n",
       "LOG_BULLISHNESS        0.380566  -0.104466\n",
       "TISf                   0.390485 -0.0955996\n",
       "RTISf                 0.0585236  -0.279416"
      ]
     },
     "execution_count": 15,
     "metadata": {},
     "output_type": "execute_result"
    }
   ],
   "source": [
    "sentisignal.correlation_analysis(data_merged_window)"
   ]
  },
  {
   "cell_type": "code",
   "execution_count": 16,
   "metadata": {
    "collapsed": false
   },
   "outputs": [
    {
     "data": {
      "text/html": [
       "<div>\n",
       "<table border=\"1\" class=\"dataframe\">\n",
       "  <thead>\n",
       "    <tr style=\"text-align: right;\">\n",
       "      <th></th>\n",
       "      <th>INFORMATION_SURPLUS_DIFF</th>\n",
       "      <th>INFORMATION_SURPLUS_PCT</th>\n",
       "      <th>MUTUAL INFORMATION</th>\n",
       "      <th>SHIFT</th>\n",
       "    </tr>\n",
       "  </thead>\n",
       "  <tbody>\n",
       "    <tr>\n",
       "      <th>0</th>\n",
       "      <td>0.000000</td>\n",
       "      <td>0.000000</td>\n",
       "      <td>4.112396</td>\n",
       "      <td>0</td>\n",
       "    </tr>\n",
       "    <tr>\n",
       "      <th>1</th>\n",
       "      <td>0.023627</td>\n",
       "      <td>0.574527</td>\n",
       "      <td>4.136022</td>\n",
       "      <td>1</td>\n",
       "    </tr>\n",
       "    <tr>\n",
       "      <th>2</th>\n",
       "      <td>0.035238</td>\n",
       "      <td>0.856871</td>\n",
       "      <td>4.147634</td>\n",
       "      <td>2</td>\n",
       "    </tr>\n",
       "    <tr>\n",
       "      <th>3</th>\n",
       "      <td>0.040350</td>\n",
       "      <td>0.981183</td>\n",
       "      <td>4.152746</td>\n",
       "      <td>3</td>\n",
       "    </tr>\n",
       "    <tr>\n",
       "      <th>4</th>\n",
       "      <td>0.027307</td>\n",
       "      <td>0.664011</td>\n",
       "      <td>4.139702</td>\n",
       "      <td>4</td>\n",
       "    </tr>\n",
       "    <tr>\n",
       "      <th>5</th>\n",
       "      <td>0.025444</td>\n",
       "      <td>0.618727</td>\n",
       "      <td>4.137840</td>\n",
       "      <td>5</td>\n",
       "    </tr>\n",
       "  </tbody>\n",
       "</table>\n",
       "</div>"
      ],
      "text/plain": [
       "   INFORMATION_SURPLUS_DIFF  INFORMATION_SURPLUS_PCT  MUTUAL INFORMATION  \\\n",
       "0                  0.000000                 0.000000            4.112396   \n",
       "1                  0.023627                 0.574527            4.136022   \n",
       "2                  0.035238                 0.856871            4.147634   \n",
       "3                  0.040350                 0.981183            4.152746   \n",
       "4                  0.027307                 0.664011            4.139702   \n",
       "5                  0.025444                 0.618727            4.137840   \n",
       "\n",
       "   SHIFT  \n",
       "0      0  \n",
       "1      1  \n",
       "2      2  \n",
       "3      3  \n",
       "4      4  \n",
       "5      5  "
      ]
     },
     "execution_count": 16,
     "metadata": {},
     "output_type": "execute_result"
    }
   ],
   "source": [
    "sentisignal.information_surplus(data_merged_window, 5, 'LOG_RETURN', 'LOG_BULL_BEAR_RATIO', 500)"
   ]
  },
  {
   "cell_type": "code",
   "execution_count": 17,
   "metadata": {
    "collapsed": false
   },
   "outputs": [
    {
     "name": "stdout",
     "output_type": "stream",
     "text": [
      "<class 'pandas.core.frame.DataFrame'>\n",
      "Int64Index: 251 entries, 1 to 251\n",
      "Data columns (total 32 columns):\n",
      "SOURCE                           251 non-null object\n",
      "SYMBOL_x                         251 non-null object\n",
      "TIMESTAMP_UTC                    251 non-null object\n",
      "EXCHANGE                         251 non-null object\n",
      "SECTOR                           251 non-null object\n",
      "INDUSTRY                         251 non-null object\n",
      "TITLE                            251 non-null object\n",
      "DATE                             251 non-null datetime64[ns]\n",
      "SYMBOL_y                         251 non-null object\n",
      "BULLISH_INTENSITY                251 non-null float64\n",
      "BEARISH_INTENSITY                251 non-null float64\n",
      "BULL_MINUS_BEAR                  251 non-null float64\n",
      "BULL_SCORED_MESSAGES             251 non-null float64\n",
      "BEAR_SCORED_MESSAGES             251 non-null float64\n",
      "BULL_BEAR_MSG_RATIO              251 non-null float64\n",
      "TOTAL_SCANNED_MESSAGES           251 non-null float64\n",
      "LOG_BULLISHNESS                  251 non-null float64\n",
      "LOG_BULL_BEAR_RATIO              251 non-null float64\n",
      "TISf                             251 non-null float64\n",
      "RTISf                            251 non-null float64\n",
      "TOTAL_SCANNED_MESSAGES_DIFF      251 non-null float64\n",
      "TOTAL_SENTIMENT_MESSAGES_DIFF    251 non-null float64\n",
      "OPEN                             251 non-null float64\n",
      "HIGH                             251 non-null float64\n",
      "LOW                              251 non-null float64\n",
      "CLOSE                            251 non-null float64\n",
      "VOLUME                           251 non-null float64\n",
      "ADJ CLOSE                        251 non-null float64\n",
      "CHANGE                           251 non-null float64\n",
      "LOG_RETURN                       251 non-null float64\n",
      "VOLATILITY                       251 non-null float64\n",
      "VOLUME_DIFF                      251 non-null float64\n",
      "dtypes: datetime64[ns](1), float64(23), object(8)\n",
      "memory usage: 64.7+ KB\n"
     ]
    }
   ],
   "source": [
    "data_merged_window.info()"
   ]
  },
  {
   "cell_type": "code",
   "execution_count": 20,
   "metadata": {
    "collapsed": false
   },
   "outputs": [
    {
     "data": {
      "image/png": "[encoded data removed]",
      "text/plain": [
       "<matplotlib.figure.Figure at 0x10998ce10>"
      ]
     },
     "metadata": {},
     "output_type": "display_data"
    }
   ],
   "source": [
    "df = data_merged_window\n",
    "df_num = df.select_dtypes(include=[sentisignal.np.float, sentisignal.np.int])\n",
    "# print df_num.info()\n",
    "df_num = df_num[['BULL_MINUS_BEAR', 'LOG_BULL_BEAR_RATIO', 'LOG_RETURN', 'VOLATILITY']]\n",
    "# Convert DataFrame to matrix\n",
    "mat = df_num.as_matrix()\n",
    "# Using sklearn\n",
    "km = sentisignal.KMeans()\n",
    "km.fit(mat)\n",
    "# Get cluster assignment labels\n",
    "labels = km.labels_\n",
    "# Format results as a DataFrame\n",
    "# results = pandas.DataFrame([dataset.index,labels]).T\n",
    "\n",
    "data = mat\n",
    "\n",
    "reduced_data = sentisignal.PCA(n_components=2).fit_transform(data)\n",
    "kmeans = sentisignal.KMeans(init='k-means++', n_clusters=8, n_init=10)\n",
    "kmeans.fit(reduced_data)\n",
    "\n",
    "# Step size of the mesh. Decrease to increase the quality of the VQ.\n",
    "h = .02     # point in the mesh [x_min, m_max]x[y_min, y_max].\n",
    "\n",
    "# Plot the decision boundary. For that, we will assign a color to each\n",
    "x_min, x_max = reduced_data[:, 0].min() - 1, reduced_data[:, 0].max() + 1\n",
    "y_min, y_max = reduced_data[:, 1].min() - 1, reduced_data[:, 1].max() + 1\n",
    "xx, yy = sentisignal.np.meshgrid(sentisignal.np.arange(x_min, x_max, h), sentisignal.np.arange(y_min, y_max, h))\n",
    "\n",
    "# Obtain labels for each point in mesh. Use last trained model.\n",
    "Z = kmeans.predict(sentisignal.np.c_[xx.ravel(), yy.ravel()])\n",
    "\n",
    "# Put the result into a color plot\n",
    "Z = Z.reshape(xx.shape)\n",
    "sentisignal.plt.figure(1)\n",
    "sentisignal.plt.clf()\n",
    "sentisignal.plt.imshow(Z, interpolation='nearest',\n",
    "           extent=(xx.min(), xx.max(), yy.min(), yy.max()),\n",
    "           cmap=sentisignal.plt.cm.Paired,\n",
    "           aspect='auto', origin='lower')\n",
    "\n",
    "sentisignal.plt.plot(reduced_data[:, 0], reduced_data[:, 1], 'k.', markersize=2)\n",
    "# Plot the centroids as a white X\n",
    "centroids = kmeans.cluster_centers_\n",
    "sentisignal.plt.scatter(centroids[:, 0], centroids[:, 1],\n",
    "            marker='x', s=169, linewidths=3,\n",
    "            color='w', zorder=10)\n",
    "sentisignal.plt.title('K-means clustering on sentiment and finance metrics')\n",
    "sentisignal.plt.xlim(x_min, x_max)\n",
    "sentisignal.plt.ylim(y_min, y_max)\n",
    "sentisignal.plt.xticks(())\n",
    "sentisignal.plt.yticks(())\n",
    "sentisignal.plt.show()\n"
   ]
  },
  {
   "cell_type": "code",
   "execution_count": null,
   "metadata": {
    "collapsed": true
   },
   "outputs": [],
   "source": []
  }
 ],
 "metadata": {
  "kernelspec": {
   "display_name": "Python 2",
   "language": "python",
   "name": "python2"
  },
  "language_info": {
   "codemirror_mode": {
    "name": "ipython",
    "version": 2
   },
   "file_extension": ".py",
   "mimetype": "text/x-python",
   "name": "python",
   "nbconvert_exporter": "python",
   "pygments_lexer": "ipython2",
   "version": "2.7.10"
  }
 },
 "nbformat": 4,
 "nbformat_minor": 0
}
