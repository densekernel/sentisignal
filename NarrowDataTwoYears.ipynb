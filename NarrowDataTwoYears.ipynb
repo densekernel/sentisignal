{
 "cells": [
  {
   "cell_type": "code",
   "execution_count": 1,
   "metadata": {
    "collapsed": true
   },
   "outputs": [],
   "source": [
    "import pandas as pd\n",
    "import numpy as np \n",
    "import pylab as P \n",
    "# Import the module for plotting\n",
    "import matplotlib.pyplot as plt\n",
    "from pandas import Series,DataFrame,merge,concat\n",
    "import pylab as P \n",
    "from datetime import datetime"
   ]
  },
  {
   "cell_type": "code",
   "execution_count": 2,
   "metadata": {
    "collapsed": false
   },
   "outputs": [],
   "source": [
    "# data import using the Data combined by Sectors\n",
    "data = pd.read_csv('~/psychSignalData/output/DataBySectors.csv')"
   ]
  },
  {
   "cell_type": "code",
   "execution_count": 4,
   "metadata": {
    "collapsed": true
   },
   "outputs": [
    {
     "data": {
      "text/html": [
       "<div>\n",
       "<table border=\"1\" class=\"dataframe\">\n",
       "  <thead>\n",
       "    <tr style=\"text-align: right;\">\n",
       "      <th></th>\n",
       "      <th>SECTOR</th>\n",
       "      <th>Sector_Index</th>\n",
       "      <th>SOURCE</th>\n",
       "      <th>SYMBOL</th>\n",
       "      <th>TIMESTAMP_UTC</th>\n",
       "      <th>BULLISH_INTENSITY</th>\n",
       "      <th>BEARISH_INTENSITY</th>\n",
       "      <th>BULL_MINUS_BEAR</th>\n",
       "      <th>BULL_SCORED_MESSAGES</th>\n",
       "      <th>BEAR_SCORED_MESSAGES</th>\n",
       "      <th>BULL_BEAR_MSG_RATIO</th>\n",
       "      <th>TOTAL_SCANNED_MESSAGES</th>\n",
       "      <th>TITLE</th>\n",
       "      <th>EXCHANGE</th>\n",
       "      <th>BUSINESS_SECTOR</th>\n",
       "    </tr>\n",
       "  </thead>\n",
       "  <tbody>\n",
       "    <tr>\n",
       "      <th>0</th>\n",
       "      <td>Matrial</td>\n",
       "      <td>0</td>\n",
       "      <td>stocktwits+twitter_withretweets</td>\n",
       "      <td>AA</td>\n",
       "      <td>2009-08-24T04:00:00Z</td>\n",
       "      <td>1.19</td>\n",
       "      <td>0.0</td>\n",
       "      <td>1.19</td>\n",
       "      <td>1</td>\n",
       "      <td>0</td>\n",
       "      <td>0</td>\n",
       "      <td>2</td>\n",
       "      <td>Alcoa Inc.</td>\n",
       "      <td>NYSE</td>\n",
       "      <td>Material</td>\n",
       "    </tr>\n",
       "    <tr>\n",
       "      <th>1</th>\n",
       "      <td>Matrial</td>\n",
       "      <td>1</td>\n",
       "      <td>stocktwits+twitter_withretweets</td>\n",
       "      <td>AA</td>\n",
       "      <td>2009-09-03T04:00:00Z</td>\n",
       "      <td>1.33</td>\n",
       "      <td>0.0</td>\n",
       "      <td>1.33</td>\n",
       "      <td>1</td>\n",
       "      <td>0</td>\n",
       "      <td>0</td>\n",
       "      <td>2</td>\n",
       "      <td>Alcoa Inc.</td>\n",
       "      <td>NYSE</td>\n",
       "      <td>Material</td>\n",
       "    </tr>\n",
       "    <tr>\n",
       "      <th>2</th>\n",
       "      <td>Matrial</td>\n",
       "      <td>2</td>\n",
       "      <td>stocktwits+twitter_withretweets</td>\n",
       "      <td>AA</td>\n",
       "      <td>2009-09-10T04:00:00Z</td>\n",
       "      <td>2.50</td>\n",
       "      <td>2.3</td>\n",
       "      <td>0.20</td>\n",
       "      <td>1</td>\n",
       "      <td>1</td>\n",
       "      <td>1</td>\n",
       "      <td>2</td>\n",
       "      <td>Alcoa Inc.</td>\n",
       "      <td>NYSE</td>\n",
       "      <td>Material</td>\n",
       "    </tr>\n",
       "    <tr>\n",
       "      <th>3</th>\n",
       "      <td>Matrial</td>\n",
       "      <td>3</td>\n",
       "      <td>stocktwits+twitter_withretweets</td>\n",
       "      <td>AA</td>\n",
       "      <td>2009-09-11T04:00:00Z</td>\n",
       "      <td>2.40</td>\n",
       "      <td>0.0</td>\n",
       "      <td>2.40</td>\n",
       "      <td>1</td>\n",
       "      <td>0</td>\n",
       "      <td>0</td>\n",
       "      <td>2</td>\n",
       "      <td>Alcoa Inc.</td>\n",
       "      <td>NYSE</td>\n",
       "      <td>Material</td>\n",
       "    </tr>\n",
       "    <tr>\n",
       "      <th>4</th>\n",
       "      <td>Matrial</td>\n",
       "      <td>4</td>\n",
       "      <td>stocktwits+twitter_withretweets</td>\n",
       "      <td>AA</td>\n",
       "      <td>2009-09-15T04:00:00Z</td>\n",
       "      <td>0.00</td>\n",
       "      <td>0.0</td>\n",
       "      <td>0.00</td>\n",
       "      <td>0</td>\n",
       "      <td>0</td>\n",
       "      <td>0</td>\n",
       "      <td>2</td>\n",
       "      <td>Alcoa Inc.</td>\n",
       "      <td>NYSE</td>\n",
       "      <td>Material</td>\n",
       "    </tr>\n",
       "  </tbody>\n",
       "</table>\n",
       "</div>"
      ],
      "text/plain": [
       "    SECTOR  Sector_Index                           SOURCE SYMBOL  \\\n",
       "0  Matrial             0  stocktwits+twitter_withretweets     AA   \n",
       "1  Matrial             1  stocktwits+twitter_withretweets     AA   \n",
       "2  Matrial             2  stocktwits+twitter_withretweets     AA   \n",
       "3  Matrial             3  stocktwits+twitter_withretweets     AA   \n",
       "4  Matrial             4  stocktwits+twitter_withretweets     AA   \n",
       "\n",
       "          TIMESTAMP_UTC  BULLISH_INTENSITY  BEARISH_INTENSITY  \\\n",
       "0  2009-08-24T04:00:00Z               1.19                0.0   \n",
       "1  2009-09-03T04:00:00Z               1.33                0.0   \n",
       "2  2009-09-10T04:00:00Z               2.50                2.3   \n",
       "3  2009-09-11T04:00:00Z               2.40                0.0   \n",
       "4  2009-09-15T04:00:00Z               0.00                0.0   \n",
       "\n",
       "   BULL_MINUS_BEAR  BULL_SCORED_MESSAGES  BEAR_SCORED_MESSAGES  \\\n",
       "0             1.19                     1                     0   \n",
       "1             1.33                     1                     0   \n",
       "2             0.20                     1                     1   \n",
       "3             2.40                     1                     0   \n",
       "4             0.00                     0                     0   \n",
       "\n",
       "   BULL_BEAR_MSG_RATIO  TOTAL_SCANNED_MESSAGES       TITLE EXCHANGE  \\\n",
       "0                    0                       2  Alcoa Inc.     NYSE   \n",
       "1                    0                       2  Alcoa Inc.     NYSE   \n",
       "2                    1                       2  Alcoa Inc.     NYSE   \n",
       "3                    0                       2  Alcoa Inc.     NYSE   \n",
       "4                    0                       2  Alcoa Inc.     NYSE   \n",
       "\n",
       "  BUSINESS_SECTOR  \n",
       "0        Material  \n",
       "1        Material  \n",
       "2        Material  \n",
       "3        Material  \n",
       "4        Material  "
      ]
     },
     "execution_count": 4,
     "metadata": {},
     "output_type": "execute_result"
    }
   ],
   "source": [
    "# data.columns\n",
    "data.head()"
   ]
  },
  {
   "cell_type": "markdown",
   "metadata": {
    "collapsed": false
   },
   "source": [
    "# Compute the neutral scored message"
   ]
  },
  {
   "cell_type": "code",
   "execution_count": 5,
   "metadata": {
    "collapsed": true
   },
   "outputs": [],
   "source": [
    "neutralNum = data['TOTAL_SCANNED_MESSAGES']-data['BULL_SCORED_MESSAGES']-data['BEAR_SCORED_MESSAGES']"
   ]
  },
  {
   "cell_type": "code",
   "execution_count": 6,
   "metadata": {
    "collapsed": false
   },
   "outputs": [
    {
     "data": {
      "text/plain": [
       "Index(['SECTOR', 'Sector_Index', 'SOURCE', 'SYMBOL', 'TIMESTAMP_UTC',\n",
       "       'BULLISH_INTENSITY', 'BEARISH_INTENSITY', 'BULL_MINUS_BEAR',\n",
       "       'BULL_SCORED_MESSAGES', 'BEAR_SCORED_MESSAGES', 'BULL_BEAR_MSG_RATIO',\n",
       "       'NEUTRAL_SCORED_MESSAGES', 'TOTAL_SCANNED_MESSAGES', 'TITLE',\n",
       "       'EXCHANGE', 'BUSINESS_SECTOR'],\n",
       "      dtype='object')"
      ]
     },
     "execution_count": 6,
     "metadata": {},
     "output_type": "execute_result"
    }
   ],
   "source": [
    "# insert number of neutral message counts\n",
    "data.insert(11, 'NEUTRAL_SCORED_MESSAGES', neutralNum)\n",
    "data.columns"
   ]
  },
  {
   "cell_type": "code",
   "execution_count": 7,
   "metadata": {
    "collapsed": true
   },
   "outputs": [],
   "source": [
    "sentiNum = data['TOTAL_SCANNED_MESSAGES'] - data['NEUTRAL_SCORED_MESSAGES']"
   ]
  },
  {
   "cell_type": "code",
   "execution_count": 8,
   "metadata": {
    "collapsed": false
   },
   "outputs": [
    {
     "data": {
      "text/plain": [
       "Index(['SECTOR', 'Sector_Index', 'SOURCE', 'SYMBOL', 'TIMESTAMP_UTC',\n",
       "       'BULLISH_INTENSITY', 'BEARISH_INTENSITY', 'BULL_MINUS_BEAR',\n",
       "       'BULL_SCORED_MESSAGES', 'BEAR_SCORED_MESSAGES', 'BULL_BEAR_MSG_RATIO',\n",
       "       'NEUTRAL_SCORED_MESSAGES', 'TOTAL_SENTIMENT_MESSAGES',\n",
       "       'TOTAL_SCANNED_MESSAGES', 'TITLE', 'EXCHANGE', 'BUSINESS_SECTOR'],\n",
       "      dtype='object')"
      ]
     },
     "execution_count": 8,
     "metadata": {},
     "output_type": "execute_result"
    }
   ],
   "source": [
    "data.insert(12, 'TOTAL_SENTIMENT_MESSAGES',sentiNum)\n",
    "data.columns"
   ]
  },
  {
   "cell_type": "code",
   "execution_count": 9,
   "metadata": {
    "collapsed": false
   },
   "outputs": [],
   "source": [
    "# remove useless columns\n",
    "data = data.ix[:,3:]"
   ]
  },
  {
   "cell_type": "markdown",
   "metadata": {},
   "source": [
    "# Select sub dataset \n",
    "- based on timestamp select tweets in 2014 and 2015"
   ]
  },
  {
   "cell_type": "code",
   "execution_count": 10,
   "metadata": {
    "collapsed": true
   },
   "outputs": [
    {
     "name": "stdout",
     "output_type": "stream",
     "text": [
      "<class 'pandas.core.frame.DataFrame'>\n",
      "Int64Index: 6025544 entries, 0 to 6025543\n",
      "Data columns (total 14 columns):\n",
      "SYMBOL                      object\n",
      "TIMESTAMP_UTC               datetime64[ns]\n",
      "BULLISH_INTENSITY           float64\n",
      "BEARISH_INTENSITY           float64\n",
      "BULL_MINUS_BEAR             float64\n",
      "BULL_SCORED_MESSAGES        float64\n",
      "BEAR_SCORED_MESSAGES        float64\n",
      "BULL_BEAR_MSG_RATIO         float64\n",
      "NEUTRAL_SCORED_MESSAGES     float64\n",
      "TOTAL_SENTIMENT_MESSAGES    float64\n",
      "TOTAL_SCANNED_MESSAGES      float64\n",
      "TITLE                       object\n",
      "EXCHANGE                    object\n",
      "BUSINESS_SECTOR             object\n",
      "dtypes: datetime64[ns](1), float64(9), object(4)\n",
      "memory usage: 689.6+ MB\n"
     ]
    }
   ],
   "source": [
    "data['TIMESTAMP_UTC'] = data['TIMESTAMP_UTC'].apply(lambda x: datetime.strptime(x,'%Y-%m-%dT%H:%M:%SZ'))\n",
    "data.info()"
   ]
  },
  {
   "cell_type": "code",
   "execution_count": 11,
   "metadata": {
    "collapsed": true
   },
   "outputs": [],
   "source": [
    "dateConstr = data[(data['TIMESTAMP_UTC'] > '2014-01-01') & (data['TIMESTAMP_UTC'] <= '2016-01-01')]"
   ]
  },
  {
   "cell_type": "code",
   "execution_count": 12,
   "metadata": {
    "collapsed": true
   },
   "outputs": [
    {
     "data": {
      "text/html": [
       "<div>\n",
       "<table border=\"1\" class=\"dataframe\">\n",
       "  <thead>\n",
       "    <tr style=\"text-align: right;\">\n",
       "      <th></th>\n",
       "      <th>SYMBOL</th>\n",
       "      <th>TIMESTAMP_UTC</th>\n",
       "      <th>BULLISH_INTENSITY</th>\n",
       "      <th>BEARISH_INTENSITY</th>\n",
       "      <th>BULL_MINUS_BEAR</th>\n",
       "      <th>BULL_SCORED_MESSAGES</th>\n",
       "      <th>BEAR_SCORED_MESSAGES</th>\n",
       "      <th>BULL_BEAR_MSG_RATIO</th>\n",
       "      <th>NEUTRAL_SCORED_MESSAGES</th>\n",
       "      <th>TOTAL_SENTIMENT_MESSAGES</th>\n",
       "      <th>TOTAL_SCANNED_MESSAGES</th>\n",
       "      <th>TITLE</th>\n",
       "      <th>EXCHANGE</th>\n",
       "      <th>BUSINESS_SECTOR</th>\n",
       "    </tr>\n",
       "  </thead>\n",
       "  <tbody>\n",
       "    <tr>\n",
       "      <th>1303</th>\n",
       "      <td>AA</td>\n",
       "      <td>2014-01-01 05:00:00</td>\n",
       "      <td>2.05</td>\n",
       "      <td>0.00</td>\n",
       "      <td>2.05</td>\n",
       "      <td>1</td>\n",
       "      <td>0</td>\n",
       "      <td>0.00</td>\n",
       "      <td>16</td>\n",
       "      <td>1</td>\n",
       "      <td>17</td>\n",
       "      <td>Alcoa Inc.</td>\n",
       "      <td>NYSE</td>\n",
       "      <td>Material</td>\n",
       "    </tr>\n",
       "    <tr>\n",
       "      <th>1304</th>\n",
       "      <td>AA</td>\n",
       "      <td>2014-01-02 05:00:00</td>\n",
       "      <td>1.90</td>\n",
       "      <td>1.80</td>\n",
       "      <td>0.10</td>\n",
       "      <td>18</td>\n",
       "      <td>1</td>\n",
       "      <td>18.00</td>\n",
       "      <td>51</td>\n",
       "      <td>19</td>\n",
       "      <td>70</td>\n",
       "      <td>Alcoa Inc.</td>\n",
       "      <td>NYSE</td>\n",
       "      <td>Material</td>\n",
       "    </tr>\n",
       "    <tr>\n",
       "      <th>1305</th>\n",
       "      <td>AA</td>\n",
       "      <td>2014-01-03 05:00:00</td>\n",
       "      <td>2.11</td>\n",
       "      <td>0.53</td>\n",
       "      <td>1.58</td>\n",
       "      <td>5</td>\n",
       "      <td>6</td>\n",
       "      <td>0.83</td>\n",
       "      <td>74</td>\n",
       "      <td>11</td>\n",
       "      <td>85</td>\n",
       "      <td>Alcoa Inc.</td>\n",
       "      <td>NYSE</td>\n",
       "      <td>Material</td>\n",
       "    </tr>\n",
       "    <tr>\n",
       "      <th>1306</th>\n",
       "      <td>AA</td>\n",
       "      <td>2014-01-04 05:00:00</td>\n",
       "      <td>2.28</td>\n",
       "      <td>0.00</td>\n",
       "      <td>2.28</td>\n",
       "      <td>5</td>\n",
       "      <td>0</td>\n",
       "      <td>0.00</td>\n",
       "      <td>27</td>\n",
       "      <td>5</td>\n",
       "      <td>32</td>\n",
       "      <td>Alcoa Inc.</td>\n",
       "      <td>NYSE</td>\n",
       "      <td>Material</td>\n",
       "    </tr>\n",
       "    <tr>\n",
       "      <th>1307</th>\n",
       "      <td>AA</td>\n",
       "      <td>2014-01-05 05:00:00</td>\n",
       "      <td>2.05</td>\n",
       "      <td>0.00</td>\n",
       "      <td>2.05</td>\n",
       "      <td>7</td>\n",
       "      <td>0</td>\n",
       "      <td>0.00</td>\n",
       "      <td>65</td>\n",
       "      <td>7</td>\n",
       "      <td>72</td>\n",
       "      <td>Alcoa Inc.</td>\n",
       "      <td>NYSE</td>\n",
       "      <td>Material</td>\n",
       "    </tr>\n",
       "  </tbody>\n",
       "</table>\n",
       "</div>"
      ],
      "text/plain": [
       "     SYMBOL       TIMESTAMP_UTC  BULLISH_INTENSITY  BEARISH_INTENSITY  \\\n",
       "1303     AA 2014-01-01 05:00:00               2.05               0.00   \n",
       "1304     AA 2014-01-02 05:00:00               1.90               1.80   \n",
       "1305     AA 2014-01-03 05:00:00               2.11               0.53   \n",
       "1306     AA 2014-01-04 05:00:00               2.28               0.00   \n",
       "1307     AA 2014-01-05 05:00:00               2.05               0.00   \n",
       "\n",
       "      BULL_MINUS_BEAR  BULL_SCORED_MESSAGES  BEAR_SCORED_MESSAGES  \\\n",
       "1303             2.05                     1                     0   \n",
       "1304             0.10                    18                     1   \n",
       "1305             1.58                     5                     6   \n",
       "1306             2.28                     5                     0   \n",
       "1307             2.05                     7                     0   \n",
       "\n",
       "      BULL_BEAR_MSG_RATIO  NEUTRAL_SCORED_MESSAGES  TOTAL_SENTIMENT_MESSAGES  \\\n",
       "1303                 0.00                       16                         1   \n",
       "1304                18.00                       51                        19   \n",
       "1305                 0.83                       74                        11   \n",
       "1306                 0.00                       27                         5   \n",
       "1307                 0.00                       65                         7   \n",
       "\n",
       "      TOTAL_SCANNED_MESSAGES       TITLE EXCHANGE BUSINESS_SECTOR  \n",
       "1303                      17  Alcoa Inc.     NYSE        Material  \n",
       "1304                      70  Alcoa Inc.     NYSE        Material  \n",
       "1305                      85  Alcoa Inc.     NYSE        Material  \n",
       "1306                      32  Alcoa Inc.     NYSE        Material  \n",
       "1307                      72  Alcoa Inc.     NYSE        Material  "
      ]
     },
     "execution_count": 12,
     "metadata": {},
     "output_type": "execute_result"
    }
   ],
   "source": [
    "dateConstr.head()"
   ]
  },
  {
   "cell_type": "code",
   "execution_count": null,
   "metadata": {
    "collapsed": true
   },
   "outputs": [],
   "source": [
    "# export the stock exchanges mereged dataset\n",
    "dateConstr.to_csv('~/psychSignalData/output/selectedYear.csv', encoding='utf-8')"
   ]
  },
  {
   "cell_type": "markdown",
   "metadata": {},
   "source": [
    "# select top 30 companies based on the total sentiment messages count"
   ]
  },
  {
   "cell_type": "code",
   "execution_count": 14,
   "metadata": {
    "collapsed": true
   },
   "outputs": [],
   "source": [
    "groupedCom = dateConstr.groupby(dateConstr['SYMBOL'])"
   ]
  },
  {
   "cell_type": "code",
   "execution_count": 17,
   "metadata": {
    "collapsed": true
   },
   "outputs": [],
   "source": [
    "sd = groupedCom.sum()"
   ]
  },
  {
   "cell_type": "code",
   "execution_count": 19,
   "metadata": {
    "collapsed": false
   },
   "outputs": [
    {
     "name": "stderr",
     "output_type": "stream",
     "text": [
      "/Users/jessia/software/Anaconda/anaconda/lib/python3.5/site-packages/ipykernel/__main__.py:2: FutureWarning: sort(columns=....) is deprecated, use sort_values(by=.....)\n",
      "  from ipykernel import kernelapp as app\n"
     ]
    }
   ],
   "source": [
    "# sort data\n",
    "sortedData = sd.sort('TOTAL_SENTIMENT_MESSAGES', ascending=False)\n",
    "topCom = sortedData.head(30)"
   ]
  },
  {
   "cell_type": "code",
   "execution_count": null,
   "metadata": {
    "collapsed": true
   },
   "outputs": [],
   "source": [
    "topCom.to_csv('~/psychSignalData/output/top30compSum.csv', encoding='utf-8')"
   ]
  }
 ],
 "metadata": {
  "kernelspec": {
   "display_name": "Python 3",
   "language": "python",
   "name": "python3"
  },
  "language_info": {
   "codemirror_mode": {
    "name": "ipython",
    "version": 3
   },
   "file_extension": ".py",
   "mimetype": "text/x-python",
   "name": "python",
   "nbconvert_exporter": "python",
   "pygments_lexer": "ipython3",
   "version": "3.5.1"
  }
 },
 "nbformat": 4,
 "nbformat_minor": 0
}
