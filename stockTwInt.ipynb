{
 "cells": [
  {
   "cell_type": "code",
   "execution_count": 1,
   "metadata": {
    "collapsed": true
   },
   "outputs": [],
   "source": [
    "import pandas as pd\n",
    "import numpy as np \n",
    "import pylab as P "
   ]
  },
  {
   "cell_type": "code",
   "execution_count": 2,
   "metadata": {
    "collapsed": true
   },
   "outputs": [],
   "source": [
    "# data import\n",
    "intradayData = pd.read_csv('/Users/jessia/psychSignalData/data/stocktwits_twitter_withretweets_intraday.csv')"
   ]
  },
  {
   "cell_type": "code",
   "execution_count": 3,
   "metadata": {
    "collapsed": true
   },
   "outputs": [],
   "source": [
    "# symbols\n",
    "symbStocks = pd.read_csv('/Users/jessia/psychSignalData/data/symbols/stocks.csv')\n",
    "# section symbols\n",
    "secMat = pd.read_csv('/Users/jessia/psychSignalData/data/symbols/basic_materials.csv')\n",
    "secCong = pd.read_csv('/Users/jessia/psychSignalData/data/symbols/conglomerates.csv')\n",
    "secConsu = pd.read_csv('/Users/jessia/psychSignalData/data/symbols/consumer_goods.csv')\n",
    "secFinan = pd.read_csv('/Users/jessia/psychSignalData/data/symbols/financial.csv')\n",
    "secHealth = pd.read_csv('/Users/jessia/psychSignalData/data/symbols/healthcare.csv')\n",
    "secIndus = pd.read_csv('/Users/jessia/psychSignalData/data/symbols/industrial_goods.csv')\n",
    "secServ = pd.read_csv('/Users/jessia/psychSignalData/data/symbols/services.csv')\n",
    "secTech = pd.read_csv('/Users/jessia/psychSignalData/data/symbols/technology.csv')\n",
    "secUtil = pd.read_csv('/Users/jessia/psychSignalData/data/symbols/utilities.csv')"
   ]
  },
  {
   "cell_type": "code",
   "execution_count": 4,
   "metadata": {
    "collapsed": false
   },
   "outputs": [
    {
     "data": {
      "text/plain": [
       "SOURCE                     object\n",
       "SYMBOL                     object\n",
       "TIMESTAMP_UTC              object\n",
       "BULLISH_INTENSITY         float64\n",
       "BEARISH_INTENSITY         float64\n",
       "BULL_MINUS_BEAR           float64\n",
       "BULL_SCORED_MESSAGES        int64\n",
       "BEAR_SCORED_MESSAGES        int64\n",
       "BULL_BEAR_MSG_RATIO       float64\n",
       "TOTAL_SCANNED_MESSAGES      int64\n",
       "dtype: object"
      ]
     },
     "execution_count": 4,
     "metadata": {},
     "output_type": "execute_result"
    }
   ],
   "source": [
    "intradayData.dtypes"
   ]
  },
  {
   "cell_type": "code",
   "execution_count": 5,
   "metadata": {
    "collapsed": false
   },
   "outputs": [
    {
     "name": "stdout",
     "output_type": "stream",
     "text": [
      "<class 'pandas.core.frame.DataFrame'>\n",
      "Int64Index: 98081845 entries, 0 to 98081844\n",
      "Data columns (total 10 columns):\n",
      "SOURCE                    object\n",
      "SYMBOL                    object\n",
      "TIMESTAMP_UTC             object\n",
      "BULLISH_INTENSITY         float64\n",
      "BEARISH_INTENSITY         float64\n",
      "BULL_MINUS_BEAR           float64\n",
      "BULL_SCORED_MESSAGES      int64\n",
      "BEAR_SCORED_MESSAGES      int64\n",
      "BULL_BEAR_MSG_RATIO       float64\n",
      "TOTAL_SCANNED_MESSAGES    int64\n",
      "dtypes: float64(4), int64(3), object(3)\n",
      "memory usage: 8.0+ GB\n"
     ]
    }
   ],
   "source": [
    "# intraday data rows = 980,881,844\n",
    "intradayData.info()"
   ]
  },
  {
   "cell_type": "code",
   "execution_count": null,
   "metadata": {
    "collapsed": true
   },
   "outputs": [],
   "source": [
    "intradayData.describe()"
   ]
  },
  {
   "cell_type": "code",
   "execution_count": null,
   "metadata": {
    "collapsed": true
   },
   "outputs": [],
   "source": []
  }
 ],
 "metadata": {
  "kernelspec": {
   "display_name": "Python 3",
   "language": "python",
   "name": "python3"
  },
  "language_info": {
   "codemirror_mode": {
    "name": "ipython",
    "version": 3
   },
   "file_extension": ".py",
   "mimetype": "text/x-python",
   "name": "python",
   "nbconvert_exporter": "python",
   "pygments_lexer": "ipython3",
   "version": "3.5.1"
  }
 },
 "nbformat": 4,
 "nbformat_minor": 0
}
