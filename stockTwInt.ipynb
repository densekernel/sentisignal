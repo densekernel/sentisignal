{
 "cells": [
  {
   "cell_type": "code",
   "execution_count": 5,
   "metadata": {
    "collapsed": false
   },
   "outputs": [],
   "source": [
    "import pandas as pd\n",
    "import numpy as np \n",
    "import pylab as P "
   ]
  },
  {
   "cell_type": "code",
   "execution_count": 6,
   "metadata": {
    "collapsed": true
   },
   "outputs": [],
   "source": [
    "# data import\n",
    "intradayData = pd.read_csv('../data/csv/stocktwits_twitter_withretweets_intraday.csv')"
   ]
  },
  {
   "cell_type": "code",
   "execution_count": 7,
   "metadata": {
    "collapsed": true
   },
   "outputs": [],
   "source": [
    "# symbols\n",
    "symbStocks = pd.read_csv('../data/csv/symbols/stocks.csv')\n",
    "# section symbols\n",
    "secMat = pd.read_csv('../data/csv/symbols/basic_materials.csv')\n",
    "secCong = pd.read_csv('../data/csv/symbols/conglomerates.csv')\n",
    "secConsu = pd.read_csv('../data/csv/symbols/consumer_goods.csv')\n",
    "secFinan = pd.read_csv('../data/csv/symbols/financial.csv')\n",
    "secHealth = pd.read_csv('../data/csv/symbols/healthcare.csv')\n",
    "secIndus = pd.read_csv('../data/csv/symbols/industrial_goods.csv')\n",
    "secServ = pd.read_csv('../data/csv/symbols/services.csv')\n",
    "secTech = pd.read_csv('../data/csv/symbols/technology.csv')\n",
    "secUtil = pd.read_csv('../data/csv/symbols/utilities.csv')"
   ]
  },
  {
   "cell_type": "code",
   "execution_count": 8,
   "metadata": {
    "collapsed": false
   },
   "outputs": [
    {
     "data": {
      "text/plain": [
       "SOURCE                     object\n",
       "SYMBOL                     object\n",
       "TIMESTAMP_UTC              object\n",
       "BULLISH_INTENSITY         float64\n",
       "BEARISH_INTENSITY         float64\n",
       "BULL_MINUS_BEAR           float64\n",
       "BULL_SCORED_MESSAGES        int64\n",
       "BEAR_SCORED_MESSAGES        int64\n",
       "BULL_BEAR_MSG_RATIO       float64\n",
       "TOTAL_SCANNED_MESSAGES      int64\n",
       "dtype: object"
      ]
     },
     "execution_count": 8,
     "metadata": {},
     "output_type": "execute_result"
    }
   ],
   "source": [
    "intradayData.dtypes"
   ]
  },
  {
   "cell_type": "code",
   "execution_count": 9,
   "metadata": {
    "collapsed": false
   },
   "outputs": [
    {
     "name": "stdout",
     "output_type": "stream",
     "text": [
      "<class 'pandas.core.frame.DataFrame'>\n",
      "Int64Index: 98081845 entries, 0 to 98081844\n",
      "Data columns (total 10 columns):\n",
      "SOURCE                    object\n",
      "SYMBOL                    object\n",
      "TIMESTAMP_UTC             object\n",
      "BULLISH_INTENSITY         float64\n",
      "BEARISH_INTENSITY         float64\n",
      "BULL_MINUS_BEAR           float64\n",
      "BULL_SCORED_MESSAGES      int64\n",
      "BEAR_SCORED_MESSAGES      int64\n",
      "BULL_BEAR_MSG_RATIO       float64\n",
      "TOTAL_SCANNED_MESSAGES    int64\n",
      "dtypes: float64(4), int64(3), object(3)\n",
      "memory usage: 8.0+ GB\n"
     ]
    }
   ],
   "source": [
    "# intraday data rows = 980,881,844\n",
    "intradayData.info()"
   ]
  },
  {
   "cell_type": "code",
   "execution_count": 10,
   "metadata": {
    "collapsed": false
   },
   "outputs": [
    {
     "data": {
      "text/html": [
       "<div>\n",
       "<table border=\"1\" class=\"dataframe\">\n",
       "  <thead>\n",
       "    <tr style=\"text-align: right;\">\n",
       "      <th></th>\n",
       "      <th>BULLISH_INTENSITY</th>\n",
       "      <th>BEARISH_INTENSITY</th>\n",
       "      <th>BULL_MINUS_BEAR</th>\n",
       "      <th>BULL_SCORED_MESSAGES</th>\n",
       "      <th>BEAR_SCORED_MESSAGES</th>\n",
       "      <th>BULL_BEAR_MSG_RATIO</th>\n",
       "      <th>TOTAL_SCANNED_MESSAGES</th>\n",
       "    </tr>\n",
       "  </thead>\n",
       "  <tbody>\n",
       "    <tr>\n",
       "      <th>count</th>\n",
       "      <td>98081845.000000</td>\n",
       "      <td>98081845.000000</td>\n",
       "      <td>98081845.000000</td>\n",
       "      <td>98081845.000000</td>\n",
       "      <td>98081845.000000</td>\n",
       "      <td>98081845.000000</td>\n",
       "      <td>98081845.000000</td>\n",
       "    </tr>\n",
       "    <tr>\n",
       "      <th>mean</th>\n",
       "      <td>0.473509</td>\n",
       "      <td>0.265185</td>\n",
       "      <td>0.208324</td>\n",
       "      <td>0.618603</td>\n",
       "      <td>0.305421</td>\n",
       "      <td>0.122788</td>\n",
       "      <td>3.663451</td>\n",
       "    </tr>\n",
       "    <tr>\n",
       "      <th>std</th>\n",
       "      <td>0.875588</td>\n",
       "      <td>0.711327</td>\n",
       "      <td>1.070778</td>\n",
       "      <td>2.864977</td>\n",
       "      <td>1.421841</td>\n",
       "      <td>1.040810</td>\n",
       "      <td>12.622940</td>\n",
       "    </tr>\n",
       "    <tr>\n",
       "      <th>min</th>\n",
       "      <td>0.000000</td>\n",
       "      <td>0.000000</td>\n",
       "      <td>-4.000000</td>\n",
       "      <td>0.000000</td>\n",
       "      <td>0.000000</td>\n",
       "      <td>0.000000</td>\n",
       "      <td>1.000000</td>\n",
       "    </tr>\n",
       "    <tr>\n",
       "      <th>25%</th>\n",
       "      <td>0.000000</td>\n",
       "      <td>0.000000</td>\n",
       "      <td>0.000000</td>\n",
       "      <td>0.000000</td>\n",
       "      <td>0.000000</td>\n",
       "      <td>0.000000</td>\n",
       "      <td>1.000000</td>\n",
       "    </tr>\n",
       "    <tr>\n",
       "      <th>50%</th>\n",
       "      <td>0.000000</td>\n",
       "      <td>0.000000</td>\n",
       "      <td>0.000000</td>\n",
       "      <td>0.000000</td>\n",
       "      <td>0.000000</td>\n",
       "      <td>0.000000</td>\n",
       "      <td>1.000000</td>\n",
       "    </tr>\n",
       "    <tr>\n",
       "      <th>75%</th>\n",
       "      <td>0.220000</td>\n",
       "      <td>0.000000</td>\n",
       "      <td>0.000000</td>\n",
       "      <td>1.000000</td>\n",
       "      <td>0.000000</td>\n",
       "      <td>0.000000</td>\n",
       "      <td>2.000000</td>\n",
       "    </tr>\n",
       "    <tr>\n",
       "      <th>max</th>\n",
       "      <td>3.890000</td>\n",
       "      <td>4.000000</td>\n",
       "      <td>3.890000</td>\n",
       "      <td>4335.000000</td>\n",
       "      <td>1159.000000</td>\n",
       "      <td>1884.000000</td>\n",
       "      <td>7654.000000</td>\n",
       "    </tr>\n",
       "  </tbody>\n",
       "</table>\n",
       "</div>"
      ],
      "text/plain": [
       "       BULLISH_INTENSITY  BEARISH_INTENSITY  BULL_MINUS_BEAR  \\\n",
       "count    98081845.000000    98081845.000000  98081845.000000   \n",
       "mean            0.473509           0.265185         0.208324   \n",
       "std             0.875588           0.711327         1.070778   \n",
       "min             0.000000           0.000000        -4.000000   \n",
       "25%             0.000000           0.000000         0.000000   \n",
       "50%             0.000000           0.000000         0.000000   \n",
       "75%             0.220000           0.000000         0.000000   \n",
       "max             3.890000           4.000000         3.890000   \n",
       "\n",
       "       BULL_SCORED_MESSAGES  BEAR_SCORED_MESSAGES  BULL_BEAR_MSG_RATIO  \\\n",
       "count       98081845.000000       98081845.000000      98081845.000000   \n",
       "mean               0.618603              0.305421             0.122788   \n",
       "std                2.864977              1.421841             1.040810   \n",
       "min                0.000000              0.000000             0.000000   \n",
       "25%                0.000000              0.000000             0.000000   \n",
       "50%                0.000000              0.000000             0.000000   \n",
       "75%                1.000000              0.000000             0.000000   \n",
       "max             4335.000000           1159.000000          1884.000000   \n",
       "\n",
       "       TOTAL_SCANNED_MESSAGES  \n",
       "count         98081845.000000  \n",
       "mean                 3.663451  \n",
       "std                 12.622940  \n",
       "min                  1.000000  \n",
       "25%                  1.000000  \n",
       "50%                  1.000000  \n",
       "75%                  2.000000  \n",
       "max               7654.000000  "
      ]
     },
     "execution_count": 10,
     "metadata": {},
     "output_type": "execute_result"
    }
   ],
   "source": [
    "intradayData.describe()"
   ]
  },
  {
   "cell_type": "code",
   "execution_count": null,
   "metadata": {
    "collapsed": true
   },
   "outputs": [],
   "source": []
  }
 ],
 "metadata": {
  "kernelspec": {
   "display_name": "Python 2",
   "language": "python",
   "name": "python2"
  },
  "language_info": {
   "codemirror_mode": {
    "name": "ipython",
    "version": 2
   },
   "file_extension": ".py",
   "mimetype": "text/x-python",
   "name": "python",
   "nbconvert_exporter": "python",
   "pygments_lexer": "ipython2",
   "version": "2.7.10"
  }
 },
 "nbformat": 4,
 "nbformat_minor": 0
}
