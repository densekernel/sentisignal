{
 "cells": [
  {
   "cell_type": "code",
   "execution_count": 1,
   "metadata": {
    "collapsed": true
   },
   "outputs": [],
   "source": [
    "import pandas as pd\n",
    "import numpy as np \n",
    "import pylab as P \n",
    "# Import the module for plotting\n",
    "import matplotlib.pyplot as plt\n",
    "from pandas import Series,DataFrame,merge"
   ]
  },
  {
   "cell_type": "code",
   "execution_count": 2,
   "metadata": {
    "collapsed": true
   },
   "outputs": [],
   "source": [
    "# data import\n",
    "dailyData = pd.read_csv('/Users/jessia/psychSignalData/data/stocktwits_twitter_withretweets_daily.csv')"
   ]
  },
  {
   "cell_type": "code",
   "execution_count": 3,
   "metadata": {
    "collapsed": false
   },
   "outputs": [],
   "source": [
    "# symbols import\n",
    "symbStocks = pd.read_csv('/Users/jessia/psychSignalData/data/symbols/stocks.csv')\n",
    "# section symbols\n",
    "secMat = pd.read_csv('/Users/jessia/psychSignalData/data/symbols/basic_materials.csv')\n",
    "secCong = pd.read_csv('/Users/jessia/psychSignalData/data/symbols/conglomerates.csv')\n",
    "secConsu = pd.read_csv('/Users/jessia/psychSignalData/data/symbols/consumer_goods.csv')\n",
    "secFinan = pd.read_csv('/Users/jessia/psychSignalData/data/symbols/financial.csv')\n",
    "secHealth = pd.read_csv('/Users/jessia/psychSignalData/data/symbols/healthcare.csv')\n",
    "secIndus = pd.read_csv('/Users/jessia/psychSignalData/data/symbols/industrial_goods.csv')\n",
    "secServ = pd.read_csv('/Users/jessia/psychSignalData/data/symbols/services.csv')\n",
    "secTech = pd.read_csv('/Users/jessia/psychSignalData/data/symbols/technology.csv')\n",
    "secUtil = pd.read_csv('/Users/jessia/psychSignalData/data/symbols/utilities.csv')\n"
   ]
  },
  {
   "cell_type": "code",
   "execution_count": 4,
   "metadata": {
    "collapsed": false
   },
   "outputs": [],
   "source": [
    "symbStocks.dtypes\n",
    "symbStocks = symbStocks.ix[:,0:3]"
   ]
  },
  {
   "cell_type": "code",
   "execution_count": 5,
   "metadata": {
    "collapsed": false
   },
   "outputs": [
    {
     "name": "stdout",
     "output_type": "stream",
     "text": [
      "<class 'pandas.core.frame.DataFrame'>\n",
      "Int64Index: 9060 entries, 0 to 9059\n",
      "Data columns (total 3 columns):\n",
      "EXCHANGE    9060 non-null object\n",
      " SYMBOL     9060 non-null object\n",
      " TITLE      9060 non-null object\n",
      "dtypes: object(3)\n",
      "memory usage: 283.1+ KB\n"
     ]
    }
   ],
   "source": [
    "symbStocks.info()"
   ]
  },
  {
   "cell_type": "code",
   "execution_count": null,
   "metadata": {
    "collapsed": false
   },
   "outputs": [],
   "source": [
    "# type of sector data\n",
    "print(secMat.dtypes)\n",
    "print(secCong.dtypes)\n",
    "print(secConsu.dtypes)\n",
    "print(secFinan.dtypes)\n",
    "print(secHealth.dtypes)\n",
    "print(secIndus.dtypes)\n",
    "print(secServ.dtypes)\n",
    "print(secTech.dtypes)\n",
    "print(secUtil.dtypes)"
   ]
  },
  {
   "cell_type": "code",
   "execution_count": null,
   "metadata": {
    "collapsed": false
   },
   "outputs": [],
   "source": [
    "dailyData.dtypes"
   ]
  },
  {
   "cell_type": "code",
   "execution_count": null,
   "metadata": {
    "collapsed": false
   },
   "outputs": [],
   "source": [
    "# information for data set\n",
    "# daily data rows = 7,120,506\n",
    "dailyData.info() "
   ]
  },
  {
   "cell_type": "code",
   "execution_count": 7,
   "metadata": {
    "collapsed": false
   },
   "outputs": [
    {
     "data": {
      "text/html": [
       "<div>\n",
       "<table border=\"1\" class=\"dataframe\">\n",
       "  <thead>\n",
       "    <tr style=\"text-align: right;\">\n",
       "      <th></th>\n",
       "      <th>SOURCE</th>\n",
       "      <th>SYMBOL</th>\n",
       "      <th>TIMESTAMP_UTC</th>\n",
       "      <th>BULLISH_INTENSITY</th>\n",
       "      <th>BEARISH_INTENSITY</th>\n",
       "      <th>BULL_MINUS_BEAR</th>\n",
       "      <th>BULL_SCORED_MESSAGES</th>\n",
       "      <th>BEAR_SCORED_MESSAGES</th>\n",
       "      <th>BULL_BEAR_MSG_RATIO</th>\n",
       "      <th>TOTAL_SCANNED_MESSAGES</th>\n",
       "    </tr>\n",
       "  </thead>\n",
       "  <tbody>\n",
       "    <tr>\n",
       "      <th>0</th>\n",
       "      <td>stocktwits+twitter_withretweets</td>\n",
       "      <td>10GEN</td>\n",
       "      <td>2011-04-08T04:00:00Z</td>\n",
       "      <td>0</td>\n",
       "      <td>0</td>\n",
       "      <td>0</td>\n",
       "      <td>0</td>\n",
       "      <td>0</td>\n",
       "      <td>0</td>\n",
       "      <td>2</td>\n",
       "    </tr>\n",
       "    <tr>\n",
       "      <th>1</th>\n",
       "      <td>stocktwits+twitter_withretweets</td>\n",
       "      <td>10GEN</td>\n",
       "      <td>2011-04-16T04:00:00Z</td>\n",
       "      <td>0</td>\n",
       "      <td>0</td>\n",
       "      <td>0</td>\n",
       "      <td>0</td>\n",
       "      <td>0</td>\n",
       "      <td>0</td>\n",
       "      <td>3</td>\n",
       "    </tr>\n",
       "    <tr>\n",
       "      <th>2</th>\n",
       "      <td>stocktwits+twitter_withretweets</td>\n",
       "      <td>10GEN</td>\n",
       "      <td>2011-04-17T04:00:00Z</td>\n",
       "      <td>0</td>\n",
       "      <td>0</td>\n",
       "      <td>0</td>\n",
       "      <td>0</td>\n",
       "      <td>0</td>\n",
       "      <td>0</td>\n",
       "      <td>2</td>\n",
       "    </tr>\n",
       "    <tr>\n",
       "      <th>3</th>\n",
       "      <td>stocktwits+twitter_withretweets</td>\n",
       "      <td>10GEN</td>\n",
       "      <td>2011-04-20T04:00:00Z</td>\n",
       "      <td>0</td>\n",
       "      <td>0</td>\n",
       "      <td>0</td>\n",
       "      <td>0</td>\n",
       "      <td>0</td>\n",
       "      <td>0</td>\n",
       "      <td>1</td>\n",
       "    </tr>\n",
       "    <tr>\n",
       "      <th>4</th>\n",
       "      <td>stocktwits+twitter_withretweets</td>\n",
       "      <td>10GEN</td>\n",
       "      <td>2011-07-19T04:00:00Z</td>\n",
       "      <td>0</td>\n",
       "      <td>0</td>\n",
       "      <td>0</td>\n",
       "      <td>0</td>\n",
       "      <td>0</td>\n",
       "      <td>0</td>\n",
       "      <td>3</td>\n",
       "    </tr>\n",
       "  </tbody>\n",
       "</table>\n",
       "</div>"
      ],
      "text/plain": [
       "                            SOURCE SYMBOL         TIMESTAMP_UTC  \\\n",
       "0  stocktwits+twitter_withretweets  10GEN  2011-04-08T04:00:00Z   \n",
       "1  stocktwits+twitter_withretweets  10GEN  2011-04-16T04:00:00Z   \n",
       "2  stocktwits+twitter_withretweets  10GEN  2011-04-17T04:00:00Z   \n",
       "3  stocktwits+twitter_withretweets  10GEN  2011-04-20T04:00:00Z   \n",
       "4  stocktwits+twitter_withretweets  10GEN  2011-07-19T04:00:00Z   \n",
       "\n",
       "   BULLISH_INTENSITY  BEARISH_INTENSITY  BULL_MINUS_BEAR  \\\n",
       "0                  0                  0                0   \n",
       "1                  0                  0                0   \n",
       "2                  0                  0                0   \n",
       "3                  0                  0                0   \n",
       "4                  0                  0                0   \n",
       "\n",
       "   BULL_SCORED_MESSAGES  BEAR_SCORED_MESSAGES  BULL_BEAR_MSG_RATIO  \\\n",
       "0                     0                     0                    0   \n",
       "1                     0                     0                    0   \n",
       "2                     0                     0                    0   \n",
       "3                     0                     0                    0   \n",
       "4                     0                     0                    0   \n",
       "\n",
       "   TOTAL_SCANNED_MESSAGES  \n",
       "0                       2  \n",
       "1                       3  \n",
       "2                       2  \n",
       "3                       1  \n",
       "4                       3  "
      ]
     },
     "execution_count": 7,
     "metadata": {},
     "output_type": "execute_result"
    }
   ],
   "source": [
    "dailyData.head()"
   ]
  },
  {
   "cell_type": "code",
   "execution_count": null,
   "metadata": {
    "collapsed": false
   },
   "outputs": [],
   "source": [
    "dailyData.describe()"
   ]
  },
  {
   "cell_type": "code",
   "execution_count": 16,
   "metadata": {
    "collapsed": false
   },
   "outputs": [],
   "source": [
    "# PLOT A SAMPLE: TOTAL SCANNED MESSAGES BETWEEN 1 TO 11\n",
    "dailyData['TOTAL_SCANNED_MESSAGES'].hist(range=(1,10))\n",
    "P.show()"
   ]
  },
  {
   "cell_type": "code",
   "execution_count": null,
   "metadata": {
    "collapsed": false
   },
   "outputs": [],
   "source": [
    "# plt.show(dailyData.plot(kind = 'box'))"
   ]
  },
  {
   "cell_type": "code",
   "execution_count": 17,
   "metadata": {
    "collapsed": false
   },
   "outputs": [],
   "source": [
    "# merge dataset left join\n",
    "dailyStockSymb = merge(dailyData,symbStocks,left_on='SYMBOL',right_on = ' SYMBOL',how = \"left\")"
   ]
  },
  {
   "cell_type": "code",
   "execution_count": 18,
   "metadata": {
    "collapsed": false
   },
   "outputs": [
    {
     "data": {
      "text/plain": [
       "Index(['SYMBOL', 'TIMESTAMP_UTC', 'BULLISH_INTENSITY', 'BEARISH_INTENSITY',\n",
       "       'BULL_MINUS_BEAR', 'BULL_SCORED_MESSAGES', 'BEAR_SCORED_MESSAGES',\n",
       "       'BULL_BEAR_MSG_RATIO', 'TOTAL_SCANNED_MESSAGES', 'EXCHANGE'],\n",
       "      dtype='object')"
      ]
     },
     "execution_count": 18,
     "metadata": {},
     "output_type": "execute_result"
    }
   ],
   "source": [
    "dailyStockSymb = dailyStockSymb.ix[:,1:11]\n",
    "dailyStockSymb.columns"
   ]
  },
  {
   "cell_type": "code",
   "execution_count": 27,
   "metadata": {
    "collapsed": false
   },
   "outputs": [
    {
     "name": "stdout",
     "output_type": "stream",
     "text": [
      "Index(['BULLISH_INTENSITY', 'BEARISH_INTENSITY', 'BULL_MINUS_BEAR',\n",
      "       'BULL_SCORED_MESSAGES', 'BEAR_SCORED_MESSAGES', 'BULL_BEAR_MSG_RATIO',\n",
      "       'TOTAL_SCANNED_MESSAGES'],\n",
      "      dtype='object')\n"
     ]
    }
   ],
   "source": [
    "# Group By Stock Exchange\n",
    "exchangeGrouped = dailyStockSymb.groupby(dailyStockSymb['EXCHANGE'])\n",
    "sumByExchange = exchangeGrouped.sum()\n",
    "print(sumByExchange.columns)\n",
    "# sumByExchange"
   ]
  },
  {
   "cell_type": "code",
   "execution_count": 29,
   "metadata": {
    "collapsed": false
   },
   "outputs": [],
   "source": [
    "# statistic description for bull bear messages ratio by exchanges\n",
    "statByExchange_Ratio = exchangeGrouped['BULL_BEAR_MSG_RATIO'].describe()\n",
    "statByExchange = exchangeGrouped.describe()\n",
    "# export the statistic description by exchanges\n",
    "statByExchange.to_csv('/Users/jessia/psychSignalData/data/statByExchange.csv', encoding='utf-8')"
   ]
  },
  {
   "cell_type": "code",
   "execution_count": null,
   "metadata": {
    "collapsed": false
   },
   "outputs": [],
   "source": [
    "# a table only contains the total quality of bullish, bearish and total messages for each exchange\n",
    "messagesTable = sumByExchange.ix[:,[3,4,6]]\n",
    "messagesTable"
   ]
  },
  {
   "cell_type": "code",
   "execution_count": null,
   "metadata": {
    "collapsed": false
   },
   "outputs": [],
   "source": [
    "# the percentage of bull messages \n",
    "bullPerc = messagesTable['BULL_SCORED_MESSAGES']/messagesTable['TOTAL_SCANNED_MESSAGES']\n",
    "# the percentage of bear messages\n",
    "bearPerc = messagesTable['BEAR_SCORED_MESSAGES']/messagesTable['TOTAL_SCANNED_MESSAGES']"
   ]
  },
  {
   "cell_type": "code",
   "execution_count": null,
   "metadata": {
    "collapsed": false
   },
   "outputs": [],
   "source": [
    "# neutral = total - bull - bear\n",
    "neutralCounts = messagesTable['TOTAL_SCANNED_MESSAGES']-messagesTable['BULL_SCORED_MESSAGES']-messagesTable['BEAR_SCORED_MESSAGES']\n",
    "# print (neutralCounts)\n",
    "neutralPerc = neutralCounts/messagesTable['TOTAL_SCANNED_MESSAGES']"
   ]
  },
  {
   "cell_type": "code",
   "execution_count": null,
   "metadata": {
    "collapsed": false
   },
   "outputs": [],
   "source": [
    "# check the total percentage = 1 or not\n",
    "totalPerc = bullPerc + bearPerc + neutralPerc\n",
    "# totalPerc"
   ]
  },
  {
   "cell_type": "code",
   "execution_count": null,
   "metadata": {
    "collapsed": false
   },
   "outputs": [],
   "source": [
    "# add new columns to the table. by using 'insert(idx, col_name, value)'\n",
    "messagesTable.insert(2, 'NEUTRAL_SCORED_MESSAGES', neutralCounts)\n",
    "# messagesTable"
   ]
  },
  {
   "cell_type": "code",
   "execution_count": null,
   "metadata": {
    "collapsed": false
   },
   "outputs": [],
   "source": [
    "# change data format to %\n",
    "bullPerc = bullPerc.apply(lambda x: format(x, '.2%'))\n",
    "bearPerc = bearPerc.apply(lambda x: format(x, '.2%'))\n",
    "neutralPerc = neutralPerc.apply(lambda x: format(x, '.2%'))"
   ]
  },
  {
   "cell_type": "code",
   "execution_count": null,
   "metadata": {
    "collapsed": false
   },
   "outputs": [],
   "source": [
    "# sentiment summary by stock exchange\n",
    "sentiOutcome = messagesTable\n",
    "sentiOutcome.insert(1,'BULL_PERC', bullPerc)\n",
    "sentiOutcome.insert(3,'BEAR_PERC', bearPerc)\n",
    "sentiOutcome.insert(5,'NEUTRAL_PERC', neutralPerc)\n",
    "# sentiOutcome"
   ]
  },
  {
   "cell_type": "code",
   "execution_count": null,
   "metadata": {
    "collapsed": false
   },
   "outputs": [],
   "source": [
    "# export to a csv file\n",
    "sentiOutcome.to_csv('/Users/jessia/psychSignalData/data/sentimentSummaryByExchange.csv', encoding='utf-8')"
   ]
  },
  {
   "cell_type": "code",
   "execution_count": null,
   "metadata": {
    "collapsed": false
   },
   "outputs": [],
   "source": []
  },
  {
   "cell_type": "code",
   "execution_count": null,
   "metadata": {
    "collapsed": true
   },
   "outputs": [],
   "source": []
  }
 ],
 "metadata": {
  "kernelspec": {
   "display_name": "Python 3",
   "language": "python",
   "name": "python3"
  },
  "language_info": {
   "codemirror_mode": {
    "name": "ipython",
    "version": 3
   },
   "file_extension": ".py",
   "mimetype": "text/x-python",
   "name": "python",
   "nbconvert_exporter": "python",
   "pygments_lexer": "ipython3",
   "version": "3.5.1"
  }
 },
 "nbformat": 4,
 "nbformat_minor": 0
}
