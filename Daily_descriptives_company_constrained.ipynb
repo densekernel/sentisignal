{
 "cells": [
  {
   "cell_type": "markdown",
   "metadata": {},
   "source": [
    "# Daily descriptives (Company-wise)\n",
    "## Select and describe top 30 companies for data from 01/JAN/14 - 31 DEC 2015"
   ]
  },
  {
   "cell_type": "markdown",
   "metadata": {},
   "source": [
    "import python libraries"
   ]
  },
  {
   "cell_type": "code",
   "execution_count": 1,
   "metadata": {
    "collapsed": false
   },
   "outputs": [],
   "source": [
    "import pandas as pd\n",
    "import numpy as np \n",
    "import pylab as P \n",
    "from datetime import datetime\n",
    "# Import the module for plotting\n",
    "import matplotlib.pyplot as plt\n",
    "from pandas import Series,DataFrame,merge\n",
    "plt.style.use('ggplot')"
   ]
  },
  {
   "cell_type": "markdown",
   "metadata": {},
   "source": [
    "# Import daily data"
   ]
  },
  {
   "cell_type": "code",
   "execution_count": 2,
   "metadata": {
    "collapsed": false
   },
   "outputs": [
    {
     "data": {
      "text/html": [
       "<div>\n",
       "<table border=\"1\" class=\"dataframe\">\n",
       "  <thead>\n",
       "    <tr style=\"text-align: right;\">\n",
       "      <th></th>\n",
       "      <th>SOURCE</th>\n",
       "      <th>SYMBOL</th>\n",
       "      <th>TIMESTAMP_UTC</th>\n",
       "      <th>BULLISH_INTENSITY</th>\n",
       "      <th>BEARISH_INTENSITY</th>\n",
       "      <th>BULL_MINUS_BEAR</th>\n",
       "      <th>BULL_SCORED_MESSAGES</th>\n",
       "      <th>BEAR_SCORED_MESSAGES</th>\n",
       "      <th>BULL_BEAR_MSG_RATIO</th>\n",
       "      <th>TOTAL_SCANNED_MESSAGES</th>\n",
       "    </tr>\n",
       "  </thead>\n",
       "  <tbody>\n",
       "    <tr>\n",
       "      <th>0</th>\n",
       "      <td>stocktwits+twitter_withretweets</td>\n",
       "      <td>10GEN</td>\n",
       "      <td>2011-04-08T04:00:00Z</td>\n",
       "      <td>0</td>\n",
       "      <td>0</td>\n",
       "      <td>0</td>\n",
       "      <td>0</td>\n",
       "      <td>0</td>\n",
       "      <td>0</td>\n",
       "      <td>2</td>\n",
       "    </tr>\n",
       "    <tr>\n",
       "      <th>1</th>\n",
       "      <td>stocktwits+twitter_withretweets</td>\n",
       "      <td>10GEN</td>\n",
       "      <td>2011-04-16T04:00:00Z</td>\n",
       "      <td>0</td>\n",
       "      <td>0</td>\n",
       "      <td>0</td>\n",
       "      <td>0</td>\n",
       "      <td>0</td>\n",
       "      <td>0</td>\n",
       "      <td>3</td>\n",
       "    </tr>\n",
       "    <tr>\n",
       "      <th>2</th>\n",
       "      <td>stocktwits+twitter_withretweets</td>\n",
       "      <td>10GEN</td>\n",
       "      <td>2011-04-17T04:00:00Z</td>\n",
       "      <td>0</td>\n",
       "      <td>0</td>\n",
       "      <td>0</td>\n",
       "      <td>0</td>\n",
       "      <td>0</td>\n",
       "      <td>0</td>\n",
       "      <td>2</td>\n",
       "    </tr>\n",
       "    <tr>\n",
       "      <th>3</th>\n",
       "      <td>stocktwits+twitter_withretweets</td>\n",
       "      <td>10GEN</td>\n",
       "      <td>2011-04-20T04:00:00Z</td>\n",
       "      <td>0</td>\n",
       "      <td>0</td>\n",
       "      <td>0</td>\n",
       "      <td>0</td>\n",
       "      <td>0</td>\n",
       "      <td>0</td>\n",
       "      <td>1</td>\n",
       "    </tr>\n",
       "    <tr>\n",
       "      <th>4</th>\n",
       "      <td>stocktwits+twitter_withretweets</td>\n",
       "      <td>10GEN</td>\n",
       "      <td>2011-07-19T04:00:00Z</td>\n",
       "      <td>0</td>\n",
       "      <td>0</td>\n",
       "      <td>0</td>\n",
       "      <td>0</td>\n",
       "      <td>0</td>\n",
       "      <td>0</td>\n",
       "      <td>3</td>\n",
       "    </tr>\n",
       "  </tbody>\n",
       "</table>\n",
       "</div>"
      ],
      "text/plain": [
       "                            SOURCE SYMBOL         TIMESTAMP_UTC  \\\n",
       "0  stocktwits+twitter_withretweets  10GEN  2011-04-08T04:00:00Z   \n",
       "1  stocktwits+twitter_withretweets  10GEN  2011-04-16T04:00:00Z   \n",
       "2  stocktwits+twitter_withretweets  10GEN  2011-04-17T04:00:00Z   \n",
       "3  stocktwits+twitter_withretweets  10GEN  2011-04-20T04:00:00Z   \n",
       "4  stocktwits+twitter_withretweets  10GEN  2011-07-19T04:00:00Z   \n",
       "\n",
       "   BULLISH_INTENSITY  BEARISH_INTENSITY  BULL_MINUS_BEAR  \\\n",
       "0                  0                  0                0   \n",
       "1                  0                  0                0   \n",
       "2                  0                  0                0   \n",
       "3                  0                  0                0   \n",
       "4                  0                  0                0   \n",
       "\n",
       "   BULL_SCORED_MESSAGES  BEAR_SCORED_MESSAGES  BULL_BEAR_MSG_RATIO  \\\n",
       "0                     0                     0                    0   \n",
       "1                     0                     0                    0   \n",
       "2                     0                     0                    0   \n",
       "3                     0                     0                    0   \n",
       "4                     0                     0                    0   \n",
       "\n",
       "   TOTAL_SCANNED_MESSAGES  \n",
       "0                       2  \n",
       "1                       3  \n",
       "2                       2  \n",
       "3                       1  \n",
       "4                       3  "
      ]
     },
     "execution_count": 2,
     "metadata": {},
     "output_type": "execute_result"
    }
   ],
   "source": [
    "# data import\n",
    "dailyData = pd.read_csv('../data/csv/stocktwits_twitter_withretweets_daily.csv')\n",
    "dailyData.head()"
   ]
  },
  {
   "cell_type": "code",
   "execution_count": 106,
   "metadata": {
    "collapsed": false
   },
   "outputs": [
    {
     "name": "stdout",
     "output_type": "stream",
     "text": [
      "<class 'pandas.core.frame.DataFrame'>\n",
      "Int64Index: 7120506 entries, 0 to 7120505\n",
      "Data columns (total 11 columns):\n",
      "SOURCE                    object\n",
      "SYMBOL                    object\n",
      "TIMESTAMP_UTC             object\n",
      "BULLISH_INTENSITY         float64\n",
      "BEARISH_INTENSITY         float64\n",
      "BULL_MINUS_BEAR           float64\n",
      "BULL_SCORED_MESSAGES      int64\n",
      "BEAR_SCORED_MESSAGES      int64\n",
      "BULL_BEAR_MSG_RATIO       float64\n",
      "TOTAL_SCANNED_MESSAGES    int64\n",
      "datetime                  datetime64[ns]\n",
      "dtypes: datetime64[ns](1), float64(4), int64(3), object(3)\n",
      "memory usage: 651.9+ MB\n"
     ]
    }
   ],
   "source": [
    "dailyData.info()"
   ]
  },
  {
   "cell_type": "markdown",
   "metadata": {},
   "source": [
    "### Filter to daterange - 01/JAN/14 - 31 DEC 2015"
   ]
  },
  {
   "cell_type": "code",
   "execution_count": 107,
   "metadata": {
    "collapsed": false
   },
   "outputs": [],
   "source": [
    "# convert all UTC time to datetime objects\n",
    "#df['Mycol'] = df['Mycol'].apply(lambda x: \n",
    "dailyData['datetime'] = dailyData['TIMESTAMP_UTC'].apply(lambda x: datetime.strptime(x,'%Y-%m-%dT%H:%M:%SZ'))"
   ]
  },
  {
   "cell_type": "markdown",
   "metadata": {},
   "source": [
    "query between dates 01/JAN/14 - 31 DEC 2016"
   ]
  },
  {
   "cell_type": "code",
   "execution_count": 108,
   "metadata": {
    "collapsed": false
   },
   "outputs": [],
   "source": [
    "dailyDataConstrained = dailyData[(dailyData['datetime'] > '2013-12-31') & (dailyData['datetime'] <= '2016-01-01')]"
   ]
  },
  {
   "cell_type": "code",
   "execution_count": 109,
   "metadata": {
    "collapsed": false
   },
   "outputs": [
    {
     "data": {
      "text/plain": [
       "730"
      ]
     },
     "execution_count": 109,
     "metadata": {},
     "output_type": "execute_result"
    }
   ],
   "source": [
    "# set global epoch variable to numbers of days\n",
    "# utcmax = datetime.strptime(dailyData['TIMESTAMP_UTC'].max(), '%Y-%m-%dT%H:%M:%SZ')\n",
    "# utcmin = datetime.strptime(dailyData['TIMESTAMP_UTC'].min(), '%Y-%m-%dT%H:%M:%SZ')\n",
    "startDate = dailyDataConstrained['datetime'].min()\n",
    "endDate = dailyDataConstrained['datetime'].max()\n",
    "epoch = (endDate-startDate).days\n",
    "epoch\n",
    "# dt.strptime()"
   ]
  },
  {
   "cell_type": "markdown",
   "metadata": {},
   "source": [
    "# Import stocks information"
   ]
  },
  {
   "cell_type": "code",
   "execution_count": 110,
   "metadata": {
    "collapsed": false
   },
   "outputs": [
    {
     "data": {
      "text/html": [
       "<div>\n",
       "<table border=\"1\" class=\"dataframe\">\n",
       "  <thead>\n",
       "    <tr style=\"text-align: right;\">\n",
       "      <th></th>\n",
       "      <th>EXCHANGE</th>\n",
       "      <th>SYMBOL</th>\n",
       "      <th>TITLE</th>\n",
       "      <th>Unnamed: 3</th>\n",
       "      <th>Unnamed: 4</th>\n",
       "      <th>Unnamed: 5</th>\n",
       "    </tr>\n",
       "  </thead>\n",
       "  <tbody>\n",
       "    <tr>\n",
       "      <th>0</th>\n",
       "      <td>CME</td>\n",
       "      <td>6A_F</td>\n",
       "      <td>AUD/USD Futures</td>\n",
       "      <td>NaN</td>\n",
       "      <td>NaN</td>\n",
       "      <td>NaN</td>\n",
       "    </tr>\n",
       "    <tr>\n",
       "      <th>1</th>\n",
       "      <td>CME</td>\n",
       "      <td>6B_F</td>\n",
       "      <td>GBP/USD Futures</td>\n",
       "      <td>NaN</td>\n",
       "      <td>NaN</td>\n",
       "      <td>NaN</td>\n",
       "    </tr>\n",
       "    <tr>\n",
       "      <th>2</th>\n",
       "      <td>CME</td>\n",
       "      <td>6C_F</td>\n",
       "      <td>CAD/USD Futures</td>\n",
       "      <td>NaN</td>\n",
       "      <td>NaN</td>\n",
       "      <td>NaN</td>\n",
       "    </tr>\n",
       "    <tr>\n",
       "      <th>3</th>\n",
       "      <td>CME</td>\n",
       "      <td>6E_F</td>\n",
       "      <td>EUR/USD Futures</td>\n",
       "      <td>NaN</td>\n",
       "      <td>NaN</td>\n",
       "      <td>NaN</td>\n",
       "    </tr>\n",
       "    <tr>\n",
       "      <th>4</th>\n",
       "      <td>CME</td>\n",
       "      <td>6J_F</td>\n",
       "      <td>JPY/USD Futures</td>\n",
       "      <td>NaN</td>\n",
       "      <td>NaN</td>\n",
       "      <td>NaN</td>\n",
       "    </tr>\n",
       "  </tbody>\n",
       "</table>\n",
       "</div>"
      ],
      "text/plain": [
       "  EXCHANGE SYMBOL            TITLE Unnamed: 3 Unnamed: 4 Unnamed: 5\n",
       "0      CME   6A_F  AUD/USD Futures        NaN        NaN        NaN\n",
       "1      CME   6B_F  GBP/USD Futures        NaN        NaN        NaN\n",
       "2      CME   6C_F  CAD/USD Futures        NaN        NaN        NaN\n",
       "3      CME   6E_F  EUR/USD Futures        NaN        NaN        NaN\n",
       "4      CME   6J_F  JPY/USD Futures        NaN        NaN        NaN"
      ]
     },
     "execution_count": 110,
     "metadata": {},
     "output_type": "execute_result"
    }
   ],
   "source": [
    "stocks = pd.read_csv('../data/csv/symbols/stocks.csv')\n",
    "stocks.head()"
   ]
  },
  {
   "cell_type": "code",
   "execution_count": 111,
   "metadata": {
    "collapsed": false
   },
   "outputs": [
    {
     "name": "stdout",
     "output_type": "stream",
     "text": [
      "<class 'pandas.core.frame.DataFrame'>\n",
      "Int64Index: 9060 entries, 0 to 9059\n",
      "Data columns (total 6 columns):\n",
      "EXCHANGE      9060 non-null object\n",
      "SYMBOL        9060 non-null object\n",
      "TITLE         9060 non-null object\n",
      "Unnamed: 3    1521 non-null object\n",
      "Unnamed: 4    5 non-null object\n",
      "Unnamed: 5    1 non-null object\n",
      "dtypes: object(6)\n",
      "memory usage: 495.5+ KB\n"
     ]
    }
   ],
   "source": [
    "stocks.info()"
   ]
  },
  {
   "cell_type": "code",
   "execution_count": 112,
   "metadata": {
    "collapsed": false
   },
   "outputs": [
    {
     "data": {
      "text/plain": [
       "array(['CME', 'EUREX', 'FX', 'ICE', 'INDEX', 'MISC', 'NASDAQ', 'NYSE',\n",
       "       'NYSEArca', 'NYSEMkt', 'OTC', 'OTCBB', 'PRIVATE', 'TSX', 'TSXV'], dtype=object)"
      ]
     },
     "execution_count": 112,
     "metadata": {},
     "output_type": "execute_result"
    }
   ],
   "source": [
    "stocks.EXCHANGE.unique()"
   ]
  },
  {
   "cell_type": "code",
   "execution_count": 113,
   "metadata": {
    "collapsed": false
   },
   "outputs": [
    {
     "data": {
      "text/html": [
       "<div>\n",
       "<table border=\"1\" class=\"dataframe\">\n",
       "  <thead>\n",
       "    <tr style=\"text-align: right;\">\n",
       "      <th></th>\n",
       "      <th>EXCHANGE</th>\n",
       "      <th>SYMBOL</th>\n",
       "      <th>TITLE</th>\n",
       "      <th>Unnamed: 3</th>\n",
       "      <th>Unnamed: 4</th>\n",
       "      <th>Unnamed: 5</th>\n",
       "    </tr>\n",
       "  </thead>\n",
       "  <tbody>\n",
       "    <tr>\n",
       "      <th>count</th>\n",
       "      <td>9060</td>\n",
       "      <td>9060</td>\n",
       "      <td>9060</td>\n",
       "      <td>1521</td>\n",
       "      <td>5</td>\n",
       "      <td>1</td>\n",
       "    </tr>\n",
       "    <tr>\n",
       "      <th>unique</th>\n",
       "      <td>15</td>\n",
       "      <td>9057</td>\n",
       "      <td>8909</td>\n",
       "      <td>50</td>\n",
       "      <td>4</td>\n",
       "      <td>1</td>\n",
       "    </tr>\n",
       "    <tr>\n",
       "      <th>top</th>\n",
       "      <td>NASDAQ</td>\n",
       "      <td>PNP.CA</td>\n",
       "      <td>Merrill Lynch Depositor\\</td>\n",
       "      <td>Inc.</td>\n",
       "      <td>Inc.</td>\n",
       "      <td>Oyo Oilfield</td>\n",
       "    </tr>\n",
       "    <tr>\n",
       "      <th>freq</th>\n",
       "      <td>3071</td>\n",
       "      <td>2</td>\n",
       "      <td>11</td>\n",
       "      <td>1331</td>\n",
       "      <td>2</td>\n",
       "      <td>1</td>\n",
       "    </tr>\n",
       "  </tbody>\n",
       "</table>\n",
       "</div>"
      ],
      "text/plain": [
       "       EXCHANGE  SYMBOL                     TITLE Unnamed: 3 Unnamed: 4  \\\n",
       "count      9060    9060                      9060       1521          5   \n",
       "unique       15    9057                      8909         50          4   \n",
       "top      NASDAQ  PNP.CA  Merrill Lynch Depositor\\       Inc.       Inc.   \n",
       "freq       3071       2                        11       1331          2   \n",
       "\n",
       "           Unnamed: 5  \n",
       "count               1  \n",
       "unique              1  \n",
       "top      Oyo Oilfield  \n",
       "freq                1  "
      ]
     },
     "execution_count": 113,
     "metadata": {},
     "output_type": "execute_result"
    }
   ],
   "source": [
    "stocks.describe()"
   ]
  },
  {
   "cell_type": "markdown",
   "metadata": {},
   "source": [
    "# Merge daily data and stocks tables"
   ]
  },
  {
   "cell_type": "code",
   "execution_count": 114,
   "metadata": {
    "collapsed": false
   },
   "outputs": [],
   "source": [
    "# merge dataset left join\n",
    "dailyStocks = merge(dailyDataConstrained, stocks, left_on='SYMBOL', right_on='SYMBOL', how = \"left\")"
   ]
  },
  {
   "cell_type": "code",
   "execution_count": 115,
   "metadata": {
    "collapsed": false
   },
   "outputs": [
    {
     "data": {
      "text/html": [
       "<div>\n",
       "<table border=\"1\" class=\"dataframe\">\n",
       "  <thead>\n",
       "    <tr style=\"text-align: right;\">\n",
       "      <th></th>\n",
       "      <th>SYMBOL</th>\n",
       "      <th>TIMESTAMP_UTC</th>\n",
       "      <th>BULLISH_INTENSITY</th>\n",
       "      <th>BEARISH_INTENSITY</th>\n",
       "      <th>BULL_MINUS_BEAR</th>\n",
       "      <th>BULL_SCORED_MESSAGES</th>\n",
       "      <th>BEAR_SCORED_MESSAGES</th>\n",
       "      <th>BULL_BEAR_MSG_RATIO</th>\n",
       "      <th>TOTAL_SCANNED_MESSAGES</th>\n",
       "      <th>datetime</th>\n",
       "      <th>EXCHANGE</th>\n",
       "    </tr>\n",
       "  </thead>\n",
       "  <tbody>\n",
       "    <tr>\n",
       "      <th>0</th>\n",
       "      <td>10GEN</td>\n",
       "      <td>2014-01-28T05:00:00Z</td>\n",
       "      <td>0.0</td>\n",
       "      <td>0</td>\n",
       "      <td>0.0</td>\n",
       "      <td>0</td>\n",
       "      <td>0</td>\n",
       "      <td>0</td>\n",
       "      <td>2</td>\n",
       "      <td>2014-01-28 05:00:00</td>\n",
       "      <td>PRIVATE</td>\n",
       "    </tr>\n",
       "    <tr>\n",
       "      <th>1</th>\n",
       "      <td>10GEN</td>\n",
       "      <td>2014-02-22T05:00:00Z</td>\n",
       "      <td>1.9</td>\n",
       "      <td>0</td>\n",
       "      <td>1.9</td>\n",
       "      <td>2</td>\n",
       "      <td>0</td>\n",
       "      <td>0</td>\n",
       "      <td>2</td>\n",
       "      <td>2014-02-22 05:00:00</td>\n",
       "      <td>PRIVATE</td>\n",
       "    </tr>\n",
       "    <tr>\n",
       "      <th>2</th>\n",
       "      <td>10GEN</td>\n",
       "      <td>2014-03-10T04:00:00Z</td>\n",
       "      <td>0.0</td>\n",
       "      <td>0</td>\n",
       "      <td>0.0</td>\n",
       "      <td>0</td>\n",
       "      <td>0</td>\n",
       "      <td>0</td>\n",
       "      <td>2</td>\n",
       "      <td>2014-03-10 04:00:00</td>\n",
       "      <td>PRIVATE</td>\n",
       "    </tr>\n",
       "    <tr>\n",
       "      <th>3</th>\n",
       "      <td>10GEN</td>\n",
       "      <td>2014-03-25T04:00:00Z</td>\n",
       "      <td>0.0</td>\n",
       "      <td>0</td>\n",
       "      <td>0.0</td>\n",
       "      <td>0</td>\n",
       "      <td>0</td>\n",
       "      <td>0</td>\n",
       "      <td>1</td>\n",
       "      <td>2014-03-25 04:00:00</td>\n",
       "      <td>PRIVATE</td>\n",
       "    </tr>\n",
       "    <tr>\n",
       "      <th>4</th>\n",
       "      <td>10GEN</td>\n",
       "      <td>2014-06-11T04:00:00Z</td>\n",
       "      <td>0.0</td>\n",
       "      <td>0</td>\n",
       "      <td>0.0</td>\n",
       "      <td>0</td>\n",
       "      <td>0</td>\n",
       "      <td>0</td>\n",
       "      <td>1</td>\n",
       "      <td>2014-06-11 04:00:00</td>\n",
       "      <td>PRIVATE</td>\n",
       "    </tr>\n",
       "  </tbody>\n",
       "</table>\n",
       "</div>"
      ],
      "text/plain": [
       "  SYMBOL         TIMESTAMP_UTC  BULLISH_INTENSITY  BEARISH_INTENSITY  \\\n",
       "0  10GEN  2014-01-28T05:00:00Z                0.0                  0   \n",
       "1  10GEN  2014-02-22T05:00:00Z                1.9                  0   \n",
       "2  10GEN  2014-03-10T04:00:00Z                0.0                  0   \n",
       "3  10GEN  2014-03-25T04:00:00Z                0.0                  0   \n",
       "4  10GEN  2014-06-11T04:00:00Z                0.0                  0   \n",
       "\n",
       "   BULL_MINUS_BEAR  BULL_SCORED_MESSAGES  BEAR_SCORED_MESSAGES  \\\n",
       "0              0.0                     0                     0   \n",
       "1              1.9                     2                     0   \n",
       "2              0.0                     0                     0   \n",
       "3              0.0                     0                     0   \n",
       "4              0.0                     0                     0   \n",
       "\n",
       "   BULL_BEAR_MSG_RATIO  TOTAL_SCANNED_MESSAGES            datetime EXCHANGE  \n",
       "0                    0                       2 2014-01-28 05:00:00  PRIVATE  \n",
       "1                    0                       2 2014-02-22 05:00:00  PRIVATE  \n",
       "2                    0                       2 2014-03-10 04:00:00  PRIVATE  \n",
       "3                    0                       1 2014-03-25 04:00:00  PRIVATE  \n",
       "4                    0                       1 2014-06-11 04:00:00  PRIVATE  "
      ]
     },
     "execution_count": 115,
     "metadata": {},
     "output_type": "execute_result"
    }
   ],
   "source": [
    "# crop to important information\n",
    "dailyStocks = dailyStocks.ix[:,1:12]\n",
    "dailyStocks.head()"
   ]
  },
  {
   "cell_type": "code",
   "execution_count": 116,
   "metadata": {
    "collapsed": false
   },
   "outputs": [],
   "source": [
    "# Group By Company Ticker Symbol\n",
    "# Sum statistics\n",
    "companyGrouped = dailyStocks.groupby(['SYMBOL'])\n",
    "sumByCompany = companyGrouped.sum()"
   ]
  },
  {
   "cell_type": "code",
   "execution_count": 117,
   "metadata": {
    "collapsed": false
   },
   "outputs": [
    {
     "data": {
      "text/html": [
       "<div>\n",
       "<table border=\"1\" class=\"dataframe\">\n",
       "  <thead>\n",
       "    <tr style=\"text-align: right;\">\n",
       "      <th></th>\n",
       "      <th>BULLISH_INTENSITY</th>\n",
       "      <th>BEARISH_INTENSITY</th>\n",
       "      <th>BULL_MINUS_BEAR</th>\n",
       "      <th>BULL_SCORED_MESSAGES</th>\n",
       "      <th>BEAR_SCORED_MESSAGES</th>\n",
       "      <th>BULL_BEAR_MSG_RATIO</th>\n",
       "      <th>TOTAL_SCANNED_MESSAGES</th>\n",
       "    </tr>\n",
       "    <tr>\n",
       "      <th>SYMBOL</th>\n",
       "      <th></th>\n",
       "      <th></th>\n",
       "      <th></th>\n",
       "      <th></th>\n",
       "      <th></th>\n",
       "      <th></th>\n",
       "      <th></th>\n",
       "    </tr>\n",
       "  </thead>\n",
       "  <tbody>\n",
       "    <tr>\n",
       "      <th>10GEN</th>\n",
       "      <td>3.06</td>\n",
       "      <td>0.00</td>\n",
       "      <td>3.06</td>\n",
       "      <td>3</td>\n",
       "      <td>0</td>\n",
       "      <td>0.00</td>\n",
       "      <td>11</td>\n",
       "    </tr>\n",
       "    <tr>\n",
       "      <th>1KM</th>\n",
       "      <td>1.91</td>\n",
       "      <td>0.00</td>\n",
       "      <td>1.91</td>\n",
       "      <td>1</td>\n",
       "      <td>0</td>\n",
       "      <td>0.00</td>\n",
       "      <td>1</td>\n",
       "    </tr>\n",
       "    <tr>\n",
       "      <th>4SQ</th>\n",
       "      <td>4.10</td>\n",
       "      <td>2.57</td>\n",
       "      <td>1.53</td>\n",
       "      <td>2</td>\n",
       "      <td>1</td>\n",
       "      <td>0.00</td>\n",
       "      <td>19</td>\n",
       "    </tr>\n",
       "    <tr>\n",
       "      <th>6A_F</th>\n",
       "      <td>391.30</td>\n",
       "      <td>260.73</td>\n",
       "      <td>130.57</td>\n",
       "      <td>527</td>\n",
       "      <td>318</td>\n",
       "      <td>81.06</td>\n",
       "      <td>2504</td>\n",
       "    </tr>\n",
       "    <tr>\n",
       "      <th>6B_F</th>\n",
       "      <td>147.90</td>\n",
       "      <td>144.65</td>\n",
       "      <td>3.25</td>\n",
       "      <td>183</td>\n",
       "      <td>131</td>\n",
       "      <td>24.38</td>\n",
       "      <td>1202</td>\n",
       "    </tr>\n",
       "  </tbody>\n",
       "</table>\n",
       "</div>"
      ],
      "text/plain": [
       "        BULLISH_INTENSITY  BEARISH_INTENSITY  BULL_MINUS_BEAR  \\\n",
       "SYMBOL                                                          \n",
       "10GEN                3.06               0.00             3.06   \n",
       "1KM                  1.91               0.00             1.91   \n",
       "4SQ                  4.10               2.57             1.53   \n",
       "6A_F               391.30             260.73           130.57   \n",
       "6B_F               147.90             144.65             3.25   \n",
       "\n",
       "        BULL_SCORED_MESSAGES  BEAR_SCORED_MESSAGES  BULL_BEAR_MSG_RATIO  \\\n",
       "SYMBOL                                                                    \n",
       "10GEN                      3                     0                 0.00   \n",
       "1KM                        1                     0                 0.00   \n",
       "4SQ                        2                     1                 0.00   \n",
       "6A_F                     527                   318                81.06   \n",
       "6B_F                     183                   131                24.38   \n",
       "\n",
       "        TOTAL_SCANNED_MESSAGES  \n",
       "SYMBOL                          \n",
       "10GEN                       11  \n",
       "1KM                          1  \n",
       "4SQ                         19  \n",
       "6A_F                      2504  \n",
       "6B_F                      1202  "
      ]
     },
     "execution_count": 117,
     "metadata": {},
     "output_type": "execute_result"
    }
   ],
   "source": [
    "sumByCompany.head()"
   ]
  },
  {
   "cell_type": "markdown",
   "metadata": {},
   "source": [
    "# Form descriptive statistics and save output to file"
   ]
  },
  {
   "cell_type": "code",
   "execution_count": 118,
   "metadata": {
    "collapsed": false
   },
   "outputs": [],
   "source": [
    "# statistic description for bull bear messages ratio by exchanges\n",
    "statByCompany_Ratio = companyGrouped['BULL_BEAR_MSG_RATIO'].describe()\n",
    "statByCompany = companyGrouped.describe()\n",
    "# export the statistic description by exchanges\n",
    "statByCompany.to_csv('../data/output/statByCompany.csv', encoding='utf-8')"
   ]
  },
  {
   "cell_type": "code",
   "execution_count": 119,
   "metadata": {
    "collapsed": false
   },
   "outputs": [],
   "source": [
    "# a table only contains the total quality of bullish, bearish and total messages for each exchange\n",
    "messagesTable = sumByCompany.ix[:,[3,4,6]]"
   ]
  },
  {
   "cell_type": "markdown",
   "metadata": {},
   "source": [
    "### Calculate total number of sentiment messages and sort"
   ]
  },
  {
   "cell_type": "code",
   "execution_count": 120,
   "metadata": {
    "collapsed": false
   },
   "outputs": [
    {
     "name": "stderr",
     "output_type": "stream",
     "text": [
      "/Library/Frameworks/Python.framework/Versions/2.7/lib/python2.7/site-packages/ipykernel/__main__.py:5: SettingWithCopyWarning: \n",
      "A value is trying to be set on a copy of a slice from a DataFrame.\n",
      "Try using .loc[row_indexer,col_indexer] = value instead\n",
      "\n",
      "See the caveats in the documentation: http://pandas.pydata.org/pandas-docs/stable/indexing.html#indexing-view-versus-copy\n"
     ]
    }
   ],
   "source": [
    "def sum_sentiment(x):    \n",
    "    x['BULL_SCORED_MESSAGES'] + x['BEAR_SCORED_MESSAGES']\n",
    "    \n",
    "sentiment_totals = messagesTable['BULL_SCORED_MESSAGES'] + messagesTable['BEAR_SCORED_MESSAGES']\n",
    "messagesTable['TOTAL_SENTIMENT_MESSAGES'] = sentiment_totals\n"
   ]
  },
  {
   "cell_type": "code",
   "execution_count": 134,
   "metadata": {
    "collapsed": false
   },
   "outputs": [
    {
     "name": "stderr",
     "output_type": "stream",
     "text": [
      "/Library/Frameworks/Python.framework/Versions/2.7/lib/python2.7/site-packages/ipykernel/__main__.py:2: FutureWarning: sort(columns=....) is deprecated, use sort_values(by=.....)\n",
      "  from ipykernel import kernelapp as app\n"
     ]
    },
    {
     "data": {
      "text/html": [
       "<div>\n",
       "<table border=\"1\" class=\"dataframe\">\n",
       "  <thead>\n",
       "    <tr style=\"text-align: right;\">\n",
       "      <th></th>\n",
       "      <th>BULL_SCORED_MESSAGES</th>\n",
       "      <th>BEAR_SCORED_MESSAGES</th>\n",
       "      <th>TOTAL_SCANNED_MESSAGES</th>\n",
       "      <th>TOTAL_SENTIMENT_MESSAGES</th>\n",
       "    </tr>\n",
       "    <tr>\n",
       "      <th>SYMBOL</th>\n",
       "      <th></th>\n",
       "      <th></th>\n",
       "      <th></th>\n",
       "      <th></th>\n",
       "    </tr>\n",
       "  </thead>\n",
       "  <tbody>\n",
       "    <tr>\n",
       "      <th>MARKET</th>\n",
       "      <td>10620628</td>\n",
       "      <td>5463359</td>\n",
       "      <td>63780940</td>\n",
       "      <td>16083987</td>\n",
       "    </tr>\n",
       "    <tr>\n",
       "      <th>SP500</th>\n",
       "      <td>4871722</td>\n",
       "      <td>2006550</td>\n",
       "      <td>31009202</td>\n",
       "      <td>6878272</td>\n",
       "    </tr>\n",
       "    <tr>\n",
       "      <th>TECHNOLOGY</th>\n",
       "      <td>2379759</td>\n",
       "      <td>1021102</td>\n",
       "      <td>13708171</td>\n",
       "      <td>3400861</td>\n",
       "    </tr>\n",
       "    <tr>\n",
       "      <th>FINANCIAL</th>\n",
       "      <td>2082749</td>\n",
       "      <td>1088710</td>\n",
       "      <td>14643843</td>\n",
       "      <td>3171459</td>\n",
       "    </tr>\n",
       "    <tr>\n",
       "      <th>SERVICES</th>\n",
       "      <td>1442325</td>\n",
       "      <td>614418</td>\n",
       "      <td>9526903</td>\n",
       "      <td>2056743</td>\n",
       "    </tr>\n",
       "  </tbody>\n",
       "</table>\n",
       "</div>"
      ],
      "text/plain": [
       "            BULL_SCORED_MESSAGES  BEAR_SCORED_MESSAGES  \\\n",
       "SYMBOL                                                   \n",
       "MARKET                  10620628               5463359   \n",
       "SP500                    4871722               2006550   \n",
       "TECHNOLOGY               2379759               1021102   \n",
       "FINANCIAL                2082749               1088710   \n",
       "SERVICES                 1442325                614418   \n",
       "\n",
       "            TOTAL_SCANNED_MESSAGES  TOTAL_SENTIMENT_MESSAGES  \n",
       "SYMBOL                                                        \n",
       "MARKET                    63780940                  16083987  \n",
       "SP500                     31009202                   6878272  \n",
       "TECHNOLOGY                13708171                   3400861  \n",
       "FINANCIAL                 14643843                   3171459  \n",
       "SERVICES                   9526903                   2056743  "
      ]
     },
     "execution_count": 134,
     "metadata": {},
     "output_type": "execute_result"
    }
   ],
   "source": [
    "# messagesTable.sort(messagesTable['TOTAL_SENTIMENT_MESSAGES'], ascending=False)\n",
    "messagesTableSorted = messagesTable.sort('TOTAL_SENTIMENT_MESSAGES', ascending=False)\n",
    "messagesTableSorted.head()"
   ]
  },
  {
   "cell_type": "markdown",
   "metadata": {},
   "source": [
    "# Filter top 30 companies"
   ]
  },
  {
   "cell_type": "code",
   "execution_count": 135,
   "metadata": {
    "collapsed": false
   },
   "outputs": [
    {
     "data": {
      "text/plain": [
       "array(['INDUSTRIAL_GOODS', 'HEALTHCARE', 'FINANCIAL', 'SERVICES',\n",
       "       'UTILITIES', 'TECHNOLOGY', 'BASIC_MATERIALS', 'CONSUMER_GOODS',\n",
       "       'CONGLOMERATES'], \n",
       "      dtype='|S16')"
      ]
     },
     "execution_count": 135,
     "metadata": {},
     "output_type": "execute_result"
    }
   ],
   "source": [
    "# filter data to remove sectors\n",
    "\n",
    "sectorArray = ['INDUSTRIAL_GOODS', 'HEALTHCARE', 'FINANCIAL', 'SERVICES',\n",
    "               'UTILITIES', 'TECHNOLOGY', 'BASIC_MATERIALS', 'CONSUMER_GOODS',\n",
    "               'CONGLOMERATES']\n",
    "indexArray = stocks.loc[~stocks['EXCHANGE'].isin(['NASDAQ', 'NYSE', 'NYSEArca', 'NYSEMkt', ''])].SYMBOL.unique()\n",
    "# filterArray = np.concatenate([indexArray, sectorArray, ['MARKET', 'SP500']])\n",
    "filterArray = np.concatenate([sectorArray, indexArray])\n",
    "filterArray"
   ]
  },
  {
   "cell_type": "code",
   "execution_count": 136,
   "metadata": {
    "collapsed": false
   },
   "outputs": [],
   "source": [
    "#apply filter array\n",
    "messagesTableSorted = messagesTableSorted[~messagesTableSorted.index.isin(filterArray)]"
   ]
  },
  {
   "cell_type": "code",
   "execution_count": 137,
   "metadata": {
    "collapsed": false
   },
   "outputs": [],
   "source": [
    "top30 = messagesTableSorted.head(30)\n",
    "top30.reset_index(level=0, inplace=True)"
   ]
  },
  {
   "cell_type": "code",
   "execution_count": 138,
   "metadata": {
    "collapsed": false
   },
   "outputs": [
    {
     "data": {
      "text/html": [
       "<div>\n",
       "<table border=\"1\" class=\"dataframe\">\n",
       "  <thead>\n",
       "    <tr style=\"text-align: right;\">\n",
       "      <th></th>\n",
       "      <th>SYMBOL</th>\n",
       "      <th>BULL_SCORED_MESSAGES</th>\n",
       "      <th>BEAR_SCORED_MESSAGES</th>\n",
       "      <th>TOTAL_SCANNED_MESSAGES</th>\n",
       "      <th>TOTAL_SENTIMENT_MESSAGES</th>\n",
       "      <th>EXCHANGE</th>\n",
       "    </tr>\n",
       "  </thead>\n",
       "  <tbody>\n",
       "    <tr>\n",
       "      <th>0</th>\n",
       "      <td>MARKET</td>\n",
       "      <td>10620628</td>\n",
       "      <td>5463359</td>\n",
       "      <td>63780940</td>\n",
       "      <td>16083987</td>\n",
       "      <td>MISC</td>\n",
       "    </tr>\n",
       "    <tr>\n",
       "      <th>1</th>\n",
       "      <td>SP500</td>\n",
       "      <td>4871722</td>\n",
       "      <td>2006550</td>\n",
       "      <td>31009202</td>\n",
       "      <td>6878272</td>\n",
       "      <td>NaN</td>\n",
       "    </tr>\n",
       "    <tr>\n",
       "      <th>2</th>\n",
       "      <td>SPY</td>\n",
       "      <td>383357</td>\n",
       "      <td>270208</td>\n",
       "      <td>1918368</td>\n",
       "      <td>653565</td>\n",
       "      <td>NYSEArca</td>\n",
       "    </tr>\n",
       "    <tr>\n",
       "      <th>3</th>\n",
       "      <td>AAPL</td>\n",
       "      <td>407060</td>\n",
       "      <td>220227</td>\n",
       "      <td>2288524</td>\n",
       "      <td>627287</td>\n",
       "      <td>NASDAQ</td>\n",
       "    </tr>\n",
       "    <tr>\n",
       "      <th>4</th>\n",
       "      <td>FB</td>\n",
       "      <td>195675</td>\n",
       "      <td>81437</td>\n",
       "      <td>1005429</td>\n",
       "      <td>277112</td>\n",
       "      <td>NASDAQ</td>\n",
       "    </tr>\n",
       "  </tbody>\n",
       "</table>\n",
       "</div>"
      ],
      "text/plain": [
       "   SYMBOL  BULL_SCORED_MESSAGES  BEAR_SCORED_MESSAGES  TOTAL_SCANNED_MESSAGES  \\\n",
       "0  MARKET              10620628               5463359                63780940   \n",
       "1   SP500               4871722               2006550                31009202   \n",
       "2     SPY                383357                270208                 1918368   \n",
       "3    AAPL                407060                220227                 2288524   \n",
       "4      FB                195675                 81437                 1005429   \n",
       "\n",
       "   TOTAL_SENTIMENT_MESSAGES  EXCHANGE  \n",
       "0                  16083987      MISC  \n",
       "1                   6878272       NaN  \n",
       "2                    653565  NYSEArca  \n",
       "3                    627287    NASDAQ  \n",
       "4                    277112    NASDAQ  "
      ]
     },
     "execution_count": 138,
     "metadata": {},
     "output_type": "execute_result"
    }
   ],
   "source": [
    "top30merge = top30.merge(stocks, on='SYMBOL', how='left')\n",
    "top30merge = top30merge.ix[:,[0,1,2,3,4,5]]\n",
    "top30merge.head()"
   ]
  },
  {
   "cell_type": "code",
   "execution_count": 139,
   "metadata": {
    "collapsed": false
   },
   "outputs": [],
   "source": [
    "# remove values for with no stock exchange\n",
    "top30merge = top30merge[pd.notnull(top30merge['EXCHANGE'])]\n",
    "# df = df[np.isfinite(df['EPS'])]"
   ]
  },
  {
   "cell_type": "code",
   "execution_count": 140,
   "metadata": {
    "collapsed": false
   },
   "outputs": [
    {
     "data": {
      "text/html": [
       "<div>\n",
       "<table border=\"1\" class=\"dataframe\">\n",
       "  <thead>\n",
       "    <tr style=\"text-align: right;\">\n",
       "      <th></th>\n",
       "      <th>SYMBOL</th>\n",
       "      <th>EXCHANGE</th>\n",
       "      <th>BULL_SCORED_MESSAGES</th>\n",
       "      <th>BULL_MEAN</th>\n",
       "      <th>BEAR_SCORED_MESSAGES</th>\n",
       "      <th>BEAR_MEAN</th>\n",
       "      <th>TOTAL_SCANNED_MESSAGES</th>\n",
       "      <th>TOTAL_SENTIMENT_MESSAGES</th>\n",
       "    </tr>\n",
       "  </thead>\n",
       "  <tbody>\n",
       "    <tr>\n",
       "      <th>0</th>\n",
       "      <td>MARKET</td>\n",
       "      <td>MISC</td>\n",
       "      <td>10620628</td>\n",
       "      <td>14548</td>\n",
       "      <td>5463359</td>\n",
       "      <td>7484</td>\n",
       "      <td>63780940</td>\n",
       "      <td>16083987</td>\n",
       "    </tr>\n",
       "    <tr>\n",
       "      <th>2</th>\n",
       "      <td>SPY</td>\n",
       "      <td>NYSEArca</td>\n",
       "      <td>383357</td>\n",
       "      <td>525</td>\n",
       "      <td>270208</td>\n",
       "      <td>370</td>\n",
       "      <td>1918368</td>\n",
       "      <td>653565</td>\n",
       "    </tr>\n",
       "    <tr>\n",
       "      <th>3</th>\n",
       "      <td>AAPL</td>\n",
       "      <td>NASDAQ</td>\n",
       "      <td>407060</td>\n",
       "      <td>557</td>\n",
       "      <td>220227</td>\n",
       "      <td>301</td>\n",
       "      <td>2288524</td>\n",
       "      <td>627287</td>\n",
       "    </tr>\n",
       "    <tr>\n",
       "      <th>4</th>\n",
       "      <td>FB</td>\n",
       "      <td>NASDAQ</td>\n",
       "      <td>195675</td>\n",
       "      <td>268</td>\n",
       "      <td>81437</td>\n",
       "      <td>111</td>\n",
       "      <td>1005429</td>\n",
       "      <td>277112</td>\n",
       "    </tr>\n",
       "    <tr>\n",
       "      <th>5</th>\n",
       "      <td>SPX</td>\n",
       "      <td>INDEX</td>\n",
       "      <td>146962</td>\n",
       "      <td>201</td>\n",
       "      <td>104578</td>\n",
       "      <td>143</td>\n",
       "      <td>708476</td>\n",
       "      <td>251540</td>\n",
       "    </tr>\n",
       "    <tr>\n",
       "      <th>6</th>\n",
       "      <td>TWTR</td>\n",
       "      <td>PRIVATE</td>\n",
       "      <td>155058</td>\n",
       "      <td>212</td>\n",
       "      <td>77566</td>\n",
       "      <td>106</td>\n",
       "      <td>853386</td>\n",
       "      <td>232624</td>\n",
       "    </tr>\n",
       "    <tr>\n",
       "      <th>7</th>\n",
       "      <td>EURUSD</td>\n",
       "      <td>FX</td>\n",
       "      <td>107697</td>\n",
       "      <td>147</td>\n",
       "      <td>110027</td>\n",
       "      <td>150</td>\n",
       "      <td>666440</td>\n",
       "      <td>217724</td>\n",
       "    </tr>\n",
       "    <tr>\n",
       "      <th>8</th>\n",
       "      <td>TSLA</td>\n",
       "      <td>NASDAQ</td>\n",
       "      <td>113198</td>\n",
       "      <td>155</td>\n",
       "      <td>71879</td>\n",
       "      <td>98</td>\n",
       "      <td>654629</td>\n",
       "      <td>185077</td>\n",
       "    </tr>\n",
       "    <tr>\n",
       "      <th>9</th>\n",
       "      <td>NFLX</td>\n",
       "      <td>NASDAQ</td>\n",
       "      <td>98532</td>\n",
       "      <td>134</td>\n",
       "      <td>64946</td>\n",
       "      <td>88</td>\n",
       "      <td>529379</td>\n",
       "      <td>163478</td>\n",
       "    </tr>\n",
       "    <tr>\n",
       "      <th>10</th>\n",
       "      <td>QQQ</td>\n",
       "      <td>NASDAQ</td>\n",
       "      <td>85039</td>\n",
       "      <td>116</td>\n",
       "      <td>64652</td>\n",
       "      <td>88</td>\n",
       "      <td>454583</td>\n",
       "      <td>149691</td>\n",
       "    </tr>\n",
       "    <tr>\n",
       "      <th>11</th>\n",
       "      <td>ES_F</td>\n",
       "      <td>CME</td>\n",
       "      <td>78010</td>\n",
       "      <td>106</td>\n",
       "      <td>67961</td>\n",
       "      <td>93</td>\n",
       "      <td>428069</td>\n",
       "      <td>145971</td>\n",
       "    </tr>\n",
       "    <tr>\n",
       "      <th>12</th>\n",
       "      <td>AMZN</td>\n",
       "      <td>NASDAQ</td>\n",
       "      <td>102393</td>\n",
       "      <td>140</td>\n",
       "      <td>37303</td>\n",
       "      <td>51</td>\n",
       "      <td>526159</td>\n",
       "      <td>139696</td>\n",
       "    </tr>\n",
       "    <tr>\n",
       "      <th>13</th>\n",
       "      <td>GPRO</td>\n",
       "      <td>NASDAQ</td>\n",
       "      <td>78167</td>\n",
       "      <td>107</td>\n",
       "      <td>52421</td>\n",
       "      <td>71</td>\n",
       "      <td>361720</td>\n",
       "      <td>130588</td>\n",
       "    </tr>\n",
       "    <tr>\n",
       "      <th>14</th>\n",
       "      <td>PLUG</td>\n",
       "      <td>NASDAQ</td>\n",
       "      <td>85260</td>\n",
       "      <td>116</td>\n",
       "      <td>43854</td>\n",
       "      <td>60</td>\n",
       "      <td>384941</td>\n",
       "      <td>129114</td>\n",
       "    </tr>\n",
       "    <tr>\n",
       "      <th>18</th>\n",
       "      <td>GBPUSD</td>\n",
       "      <td>FX</td>\n",
       "      <td>55511</td>\n",
       "      <td>76</td>\n",
       "      <td>55369</td>\n",
       "      <td>75</td>\n",
       "      <td>267348</td>\n",
       "      <td>110880</td>\n",
       "    </tr>\n",
       "    <tr>\n",
       "      <th>19</th>\n",
       "      <td>IWM</td>\n",
       "      <td>NYSEArca</td>\n",
       "      <td>63477</td>\n",
       "      <td>86</td>\n",
       "      <td>46124</td>\n",
       "      <td>63</td>\n",
       "      <td>348948</td>\n",
       "      <td>109601</td>\n",
       "    </tr>\n",
       "    <tr>\n",
       "      <th>20</th>\n",
       "      <td>GOOG</td>\n",
       "      <td>NASDAQ</td>\n",
       "      <td>81705</td>\n",
       "      <td>111</td>\n",
       "      <td>25454</td>\n",
       "      <td>34</td>\n",
       "      <td>486848</td>\n",
       "      <td>107159</td>\n",
       "    </tr>\n",
       "    <tr>\n",
       "      <th>21</th>\n",
       "      <td>USDJPY</td>\n",
       "      <td>FX</td>\n",
       "      <td>61985</td>\n",
       "      <td>84</td>\n",
       "      <td>43458</td>\n",
       "      <td>59</td>\n",
       "      <td>307551</td>\n",
       "      <td>105443</td>\n",
       "    </tr>\n",
       "    <tr>\n",
       "      <th>22</th>\n",
       "      <td>GLD</td>\n",
       "      <td>NYSEArca</td>\n",
       "      <td>57001</td>\n",
       "      <td>78</td>\n",
       "      <td>32797</td>\n",
       "      <td>44</td>\n",
       "      <td>342805</td>\n",
       "      <td>89798</td>\n",
       "    </tr>\n",
       "    <tr>\n",
       "      <th>23</th>\n",
       "      <td>GILD</td>\n",
       "      <td>NASDAQ</td>\n",
       "      <td>60146</td>\n",
       "      <td>82</td>\n",
       "      <td>26385</td>\n",
       "      <td>36</td>\n",
       "      <td>296111</td>\n",
       "      <td>86531</td>\n",
       "    </tr>\n",
       "    <tr>\n",
       "      <th>24</th>\n",
       "      <td>CL_F</td>\n",
       "      <td>CME</td>\n",
       "      <td>45157</td>\n",
       "      <td>61</td>\n",
       "      <td>40234</td>\n",
       "      <td>55</td>\n",
       "      <td>219347</td>\n",
       "      <td>85391</td>\n",
       "    </tr>\n",
       "    <tr>\n",
       "      <th>25</th>\n",
       "      <td>MNKD</td>\n",
       "      <td>NASDAQ</td>\n",
       "      <td>49691</td>\n",
       "      <td>68</td>\n",
       "      <td>30786</td>\n",
       "      <td>42</td>\n",
       "      <td>255007</td>\n",
       "      <td>80477</td>\n",
       "    </tr>\n",
       "    <tr>\n",
       "      <th>26</th>\n",
       "      <td>UGAZ</td>\n",
       "      <td>NYSEArca</td>\n",
       "      <td>49820</td>\n",
       "      <td>68</td>\n",
       "      <td>29628</td>\n",
       "      <td>40</td>\n",
       "      <td>226096</td>\n",
       "      <td>79448</td>\n",
       "    </tr>\n",
       "    <tr>\n",
       "      <th>28</th>\n",
       "      <td>AUDUSD</td>\n",
       "      <td>FX</td>\n",
       "      <td>33503</td>\n",
       "      <td>45</td>\n",
       "      <td>34573</td>\n",
       "      <td>47</td>\n",
       "      <td>165465</td>\n",
       "      <td>68076</td>\n",
       "    </tr>\n",
       "    <tr>\n",
       "      <th>29</th>\n",
       "      <td>USO</td>\n",
       "      <td>NYSEArca</td>\n",
       "      <td>39852</td>\n",
       "      <td>54</td>\n",
       "      <td>28098</td>\n",
       "      <td>38</td>\n",
       "      <td>270807</td>\n",
       "      <td>67950</td>\n",
       "    </tr>\n",
       "  </tbody>\n",
       "</table>\n",
       "</div>"
      ],
      "text/plain": [
       "    SYMBOL  EXCHANGE  BULL_SCORED_MESSAGES  BULL_MEAN  BEAR_SCORED_MESSAGES  \\\n",
       "0   MARKET      MISC              10620628      14548               5463359   \n",
       "2      SPY  NYSEArca                383357        525                270208   \n",
       "3     AAPL    NASDAQ                407060        557                220227   \n",
       "4       FB    NASDAQ                195675        268                 81437   \n",
       "5      SPX     INDEX                146962        201                104578   \n",
       "6     TWTR   PRIVATE                155058        212                 77566   \n",
       "7   EURUSD        FX                107697        147                110027   \n",
       "8     TSLA    NASDAQ                113198        155                 71879   \n",
       "9     NFLX    NASDAQ                 98532        134                 64946   \n",
       "10     QQQ    NASDAQ                 85039        116                 64652   \n",
       "11    ES_F       CME                 78010        106                 67961   \n",
       "12    AMZN    NASDAQ                102393        140                 37303   \n",
       "13    GPRO    NASDAQ                 78167        107                 52421   \n",
       "14    PLUG    NASDAQ                 85260        116                 43854   \n",
       "18  GBPUSD        FX                 55511         76                 55369   \n",
       "19     IWM  NYSEArca                 63477         86                 46124   \n",
       "20    GOOG    NASDAQ                 81705        111                 25454   \n",
       "21  USDJPY        FX                 61985         84                 43458   \n",
       "22     GLD  NYSEArca                 57001         78                 32797   \n",
       "23    GILD    NASDAQ                 60146         82                 26385   \n",
       "24    CL_F       CME                 45157         61                 40234   \n",
       "25    MNKD    NASDAQ                 49691         68                 30786   \n",
       "26    UGAZ  NYSEArca                 49820         68                 29628   \n",
       "28  AUDUSD        FX                 33503         45                 34573   \n",
       "29     USO  NYSEArca                 39852         54                 28098   \n",
       "\n",
       "    BEAR_MEAN  TOTAL_SCANNED_MESSAGES  TOTAL_SENTIMENT_MESSAGES  \n",
       "0        7484                63780940                  16083987  \n",
       "2         370                 1918368                    653565  \n",
       "3         301                 2288524                    627287  \n",
       "4         111                 1005429                    277112  \n",
       "5         143                  708476                    251540  \n",
       "6         106                  853386                    232624  \n",
       "7         150                  666440                    217724  \n",
       "8          98                  654629                    185077  \n",
       "9          88                  529379                    163478  \n",
       "10         88                  454583                    149691  \n",
       "11         93                  428069                    145971  \n",
       "12         51                  526159                    139696  \n",
       "13         71                  361720                    130588  \n",
       "14         60                  384941                    129114  \n",
       "18         75                  267348                    110880  \n",
       "19         63                  348948                    109601  \n",
       "20         34                  486848                    107159  \n",
       "21         59                  307551                    105443  \n",
       "22         44                  342805                     89798  \n",
       "23         36                  296111                     86531  \n",
       "24         55                  219347                     85391  \n",
       "25         42                  255007                     80477  \n",
       "26         40                  226096                     79448  \n",
       "28         47                  165465                     68076  \n",
       "29         38                  270807                     67950  "
      ]
     },
     "execution_count": 140,
     "metadata": {},
     "output_type": "execute_result"
    }
   ],
   "source": [
    "#add daily mean columns\n",
    "# df['e'] = e\n",
    "# df.apply(func, axis=1)\n",
    "def daily_bull_mean(row):\n",
    "        return row['BULL_SCORED_MESSAGES']/epoch\n",
    "def daily_bear_mean(row):\n",
    "    return row['BEAR_SCORED_MESSAGES']/epoch\n",
    "top30merge['BULL_MEAN'] = top30merge.apply(daily_bull_mean, axis=1)\n",
    "top30merge['BEAR_MEAN'] = top30merge.apply(daily_bear_mean, axis=1)\n",
    "top30merge.ix[:,['SYMBOL', 'EXCHANGE', 'BULL_SCORED_MESSAGES', 'BULL_MEAN', 'BEAR_SCORED_MESSAGES', 'BEAR_MEAN', 'TOTAL_SCANNED_MESSAGES', 'TOTAL_SENTIMENT_MESSAGES']]"
   ]
  },
  {
   "cell_type": "code",
   "execution_count": 48,
   "metadata": {
    "collapsed": false
   },
   "outputs": [
    {
     "data": {
      "text/html": [
       "<div>\n",
       "<table border=\"1\" class=\"dataframe\">\n",
       "  <thead>\n",
       "    <tr style=\"text-align: right;\">\n",
       "      <th></th>\n",
       "      <th>BULL_SCORED_MESSAGES</th>\n",
       "      <th>BEAR_SCORED_MESSAGES</th>\n",
       "      <th>TOTAL_SCANNED_MESSAGES</th>\n",
       "      <th>TOTAL_SENTIMENT_MESSAGES</th>\n",
       "      <th>BULL_MEAN</th>\n",
       "      <th>BEAR_MEAN</th>\n",
       "    </tr>\n",
       "  </thead>\n",
       "  <tbody>\n",
       "    <tr>\n",
       "      <th>count</th>\n",
       "      <td>30.000000</td>\n",
       "      <td>30.000000</td>\n",
       "      <td>30.000000</td>\n",
       "      <td>30.000000</td>\n",
       "      <td>30.00000</td>\n",
       "      <td>30.000000</td>\n",
       "    </tr>\n",
       "    <tr>\n",
       "      <th>mean</th>\n",
       "      <td>57408.900000</td>\n",
       "      <td>30698.533333</td>\n",
       "      <td>272277.566667</td>\n",
       "      <td>88107.433333</td>\n",
       "      <td>78.20000</td>\n",
       "      <td>41.600000</td>\n",
       "    </tr>\n",
       "    <tr>\n",
       "      <th>std</th>\n",
       "      <td>67088.699013</td>\n",
       "      <td>37005.440666</td>\n",
       "      <td>332343.368627</td>\n",
       "      <td>103613.302378</td>\n",
       "      <td>91.93641</td>\n",
       "      <td>50.620699</td>\n",
       "    </tr>\n",
       "    <tr>\n",
       "      <th>min</th>\n",
       "      <td>23207.000000</td>\n",
       "      <td>6188.000000</td>\n",
       "      <td>83661.000000</td>\n",
       "      <td>36060.000000</td>\n",
       "      <td>31.00000</td>\n",
       "      <td>8.000000</td>\n",
       "    </tr>\n",
       "    <tr>\n",
       "      <th>25%</th>\n",
       "      <td>27228.000000</td>\n",
       "      <td>13780.750000</td>\n",
       "      <td>125755.000000</td>\n",
       "      <td>43743.500000</td>\n",
       "      <td>37.00000</td>\n",
       "      <td>18.250000</td>\n",
       "    </tr>\n",
       "    <tr>\n",
       "      <th>50%</th>\n",
       "      <td>34124.000000</td>\n",
       "      <td>17639.000000</td>\n",
       "      <td>162266.000000</td>\n",
       "      <td>50306.500000</td>\n",
       "      <td>46.50000</td>\n",
       "      <td>24.000000</td>\n",
       "    </tr>\n",
       "    <tr>\n",
       "      <th>75%</th>\n",
       "      <td>57839.750000</td>\n",
       "      <td>35806.750000</td>\n",
       "      <td>282351.250000</td>\n",
       "      <td>96854.250000</td>\n",
       "      <td>78.50000</td>\n",
       "      <td>48.750000</td>\n",
       "    </tr>\n",
       "    <tr>\n",
       "      <th>max</th>\n",
       "      <td>361594.000000</td>\n",
       "      <td>203669.000000</td>\n",
       "      <td>1835147.000000</td>\n",
       "      <td>565263.000000</td>\n",
       "      <td>495.00000</td>\n",
       "      <td>278.000000</td>\n",
       "    </tr>\n",
       "  </tbody>\n",
       "</table>\n",
       "</div>"
      ],
      "text/plain": [
       "       BULL_SCORED_MESSAGES  BEAR_SCORED_MESSAGES  TOTAL_SCANNED_MESSAGES  \\\n",
       "count             30.000000             30.000000               30.000000   \n",
       "mean           57408.900000          30698.533333           272277.566667   \n",
       "std            67088.699013          37005.440666           332343.368627   \n",
       "min            23207.000000           6188.000000            83661.000000   \n",
       "25%            27228.000000          13780.750000           125755.000000   \n",
       "50%            34124.000000          17639.000000           162266.000000   \n",
       "75%            57839.750000          35806.750000           282351.250000   \n",
       "max           361594.000000         203669.000000          1835147.000000   \n",
       "\n",
       "       TOTAL_SENTIMENT_MESSAGES  BULL_MEAN   BEAR_MEAN  \n",
       "count                 30.000000   30.00000   30.000000  \n",
       "mean               88107.433333   78.20000   41.600000  \n",
       "std               103613.302378   91.93641   50.620699  \n",
       "min                36060.000000   31.00000    8.000000  \n",
       "25%                43743.500000   37.00000   18.250000  \n",
       "50%                50306.500000   46.50000   24.000000  \n",
       "75%                96854.250000   78.50000   48.750000  \n",
       "max               565263.000000  495.00000  278.000000  "
      ]
     },
     "execution_count": 48,
     "metadata": {},
     "output_type": "execute_result"
    }
   ],
   "source": [
    "top30merge.describe()"
   ]
  },
  {
   "cell_type": "code",
   "execution_count": 62,
   "metadata": {
    "collapsed": false
   },
   "outputs": [],
   "source": [
    "# the percentage of bull messages \n",
    "bullPerc = top30merge['BULL_SCORED_MESSAGES']/top30merge['TOTAL_SCANNED_MESSAGES']\n",
    "# the percentage of bear messages\n",
    "bearPerc = top30merge['BEAR_SCORED_MESSAGES']/top30merge['TOTAL_SCANNED_MESSAGES']"
   ]
  },
  {
   "cell_type": "code",
   "execution_count": 63,
   "metadata": {
    "collapsed": false
   },
   "outputs": [],
   "source": [
    "# neutral = total - bull - bear\n",
    "neutralCounts = top30merge['TOTAL_SCANNED_MESSAGES']-top30merge['TOTAL_SENTIMENT_MESSAGES']\n",
    "# print (neutralCounts)\n",
    "neutralPerc = neutralCounts/messagesTable['TOTAL_SCANNED_MESSAGES']"
   ]
  },
  {
   "cell_type": "code",
   "execution_count": 64,
   "metadata": {
    "collapsed": false
   },
   "outputs": [],
   "source": [
    "# check the total percentage = 1 or not\n",
    "totalPerc = bullPerc + bearPerc + neutralPerc\n",
    "# totalPerc"
   ]
  },
  {
   "cell_type": "code",
   "execution_count": 65,
   "metadata": {
    "collapsed": false
   },
   "outputs": [
    {
     "ename": "ValueError",
     "evalue": "cannot insert NEUTRAL_SCORED_MESSAGES, already exists",
     "output_type": "error",
     "traceback": [
      "\u001b[0;31m---------------------------------------------------------------------------\u001b[0m",
      "\u001b[0;31mValueError\u001b[0m                                Traceback (most recent call last)",
      "\u001b[0;32m<ipython-input-65-5a35c5285c11>\u001b[0m in \u001b[0;36m<module>\u001b[0;34m()\u001b[0m\n\u001b[1;32m      1\u001b[0m \u001b[0;31m# add new columns to the table. by using 'insert(idx, col_name, value)'\u001b[0m\u001b[0;34m\u001b[0m\u001b[0;34m\u001b[0m\u001b[0m\n\u001b[0;32m----> 2\u001b[0;31m \u001b[0mtop30merge\u001b[0m\u001b[0;34m.\u001b[0m\u001b[0minsert\u001b[0m\u001b[0;34m(\u001b[0m\u001b[0;36m2\u001b[0m\u001b[0;34m,\u001b[0m \u001b[0;34m'NEUTRAL_SCORED_MESSAGES'\u001b[0m\u001b[0;34m,\u001b[0m \u001b[0mneutralCounts\u001b[0m\u001b[0;34m)\u001b[0m\u001b[0;34m\u001b[0m\u001b[0m\n\u001b[0m\u001b[1;32m      3\u001b[0m \u001b[0;31m# messagesTable\u001b[0m\u001b[0;34m\u001b[0m\u001b[0;34m\u001b[0m\u001b[0m\n",
      "\u001b[0;32m/Library/Frameworks/Python.framework/Versions/2.7/lib/python2.7/site-packages/pandas/core/frame.pyc\u001b[0m in \u001b[0;36minsert\u001b[0;34m(self, loc, column, value, allow_duplicates)\u001b[0m\n\u001b[1;32m   2390\u001b[0m         \u001b[0mvalue\u001b[0m \u001b[0;34m=\u001b[0m \u001b[0mself\u001b[0m\u001b[0;34m.\u001b[0m\u001b[0m_sanitize_column\u001b[0m\u001b[0;34m(\u001b[0m\u001b[0mcolumn\u001b[0m\u001b[0;34m,\u001b[0m \u001b[0mvalue\u001b[0m\u001b[0;34m)\u001b[0m\u001b[0;34m\u001b[0m\u001b[0m\n\u001b[1;32m   2391\u001b[0m         self._data.insert(\n\u001b[0;32m-> 2392\u001b[0;31m             loc, column, value, allow_duplicates=allow_duplicates)\n\u001b[0m\u001b[1;32m   2393\u001b[0m \u001b[0;34m\u001b[0m\u001b[0m\n\u001b[1;32m   2394\u001b[0m     \u001b[0;32mdef\u001b[0m \u001b[0massign\u001b[0m\u001b[0;34m(\u001b[0m\u001b[0mself\u001b[0m\u001b[0;34m,\u001b[0m \u001b[0;34m**\u001b[0m\u001b[0mkwargs\u001b[0m\u001b[0;34m)\u001b[0m\u001b[0;34m:\u001b[0m\u001b[0;34m\u001b[0m\u001b[0m\n",
      "\u001b[0;32m/Library/Frameworks/Python.framework/Versions/2.7/lib/python2.7/site-packages/pandas/core/internals.pyc\u001b[0m in \u001b[0;36minsert\u001b[0;34m(self, loc, item, value, allow_duplicates)\u001b[0m\n\u001b[1;32m   3424\u001b[0m         \u001b[0;32mif\u001b[0m \u001b[0;32mnot\u001b[0m \u001b[0mallow_duplicates\u001b[0m \u001b[0;32mand\u001b[0m \u001b[0mitem\u001b[0m \u001b[0;32min\u001b[0m \u001b[0mself\u001b[0m\u001b[0;34m.\u001b[0m\u001b[0mitems\u001b[0m\u001b[0;34m:\u001b[0m\u001b[0;34m\u001b[0m\u001b[0m\n\u001b[1;32m   3425\u001b[0m             \u001b[0;31m# Should this be a different kind of error??\u001b[0m\u001b[0;34m\u001b[0m\u001b[0;34m\u001b[0m\u001b[0m\n\u001b[0;32m-> 3426\u001b[0;31m             \u001b[0;32mraise\u001b[0m \u001b[0mValueError\u001b[0m\u001b[0;34m(\u001b[0m\u001b[0;34m'cannot insert %s, already exists'\u001b[0m \u001b[0;34m%\u001b[0m \u001b[0mitem\u001b[0m\u001b[0;34m)\u001b[0m\u001b[0;34m\u001b[0m\u001b[0m\n\u001b[0m\u001b[1;32m   3427\u001b[0m \u001b[0;34m\u001b[0m\u001b[0m\n\u001b[1;32m   3428\u001b[0m         \u001b[0;32mif\u001b[0m \u001b[0;32mnot\u001b[0m \u001b[0misinstance\u001b[0m\u001b[0;34m(\u001b[0m\u001b[0mloc\u001b[0m\u001b[0;34m,\u001b[0m \u001b[0mint\u001b[0m\u001b[0;34m)\u001b[0m\u001b[0;34m:\u001b[0m\u001b[0;34m\u001b[0m\u001b[0m\n",
      "\u001b[0;31mValueError\u001b[0m: cannot insert NEUTRAL_SCORED_MESSAGES, already exists"
     ]
    }
   ],
   "source": [
    "# add new columns to the table. by using 'insert(idx, col_name, value)'\n",
    "top30merge.insert(2, 'NEUTRAL_SCORED_MESSAGES', neutralCounts)\n",
    "# messagesTable"
   ]
  },
  {
   "cell_type": "code",
   "execution_count": 55,
   "metadata": {
    "collapsed": false
   },
   "outputs": [],
   "source": [
    "# change data format to %\n",
    "bullPerc = bullPerc.apply(lambda x: format(x, '.2%'))\n",
    "bearPerc = bearPerc.apply(lambda x: format(x, '.2%'))\n",
    "neutralPerc = neutralPerc.apply(lambda x: format(x, '.2%'))"
   ]
  },
  {
   "cell_type": "code",
   "execution_count": 47,
   "metadata": {
    "collapsed": false
   },
   "outputs": [],
   "source": [
    "# sentiment summary by stock exchange\n",
    "sentiOutcome = top30merge\n",
    "sentiOutcome.insert(1,'BULL_PERC', bullPerc)\n",
    "sentiOutcome.insert(3,'BEAR_PERC', bearPerc)\n",
    "sentiOutcome.insert(5,'NEUTRAL_PERC', neutralPerc)\n",
    "# sentiOutcome"
   ]
  },
  {
   "cell_type": "code",
   "execution_count": null,
   "metadata": {
    "collapsed": false
   },
   "outputs": [],
   "source": [
    "# export to a csv file\n",
    "sentiOutcome.to_csv('../data/output/sentimentSummaryByCompany.csv', encoding='utf-8')"
   ]
  },
  {
   "cell_type": "code",
   "execution_count": null,
   "metadata": {
    "collapsed": false
   },
   "outputs": [],
   "source": []
  },
  {
   "cell_type": "code",
   "execution_count": null,
   "metadata": {
    "collapsed": true
   },
   "outputs": [],
   "source": []
  }
 ],
 "metadata": {
  "kernelspec": {
   "display_name": "Python 2",
   "language": "python",
   "name": "python2"
  },
  "language_info": {
   "codemirror_mode": {
    "name": "ipython",
    "version": 2
   },
   "file_extension": ".py",
   "mimetype": "text/x-python",
   "name": "python",
   "nbconvert_exporter": "python",
   "pygments_lexer": "ipython2",
   "version": "2.7.10"
  }
 },
 "nbformat": 4,
 "nbformat_minor": 0
}
