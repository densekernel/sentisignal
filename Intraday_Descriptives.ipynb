{
 "cells": [
  {
   "cell_type": "code",
   "execution_count": 2,
   "metadata": {
    "collapsed": true
   },
   "outputs": [],
   "source": [
    "import pandas as pd\n",
    "import numpy as np \n",
    "import pylab as P \n",
    "# Import the module for plotting\n",
    "import matplotlib.pyplot as plt\n",
    "from pandas import Series,DataFrame,merge"
   ]
  },
  {
   "cell_type": "code",
   "execution_count": null,
   "metadata": {
    "collapsed": false
   },
   "outputs": [],
   "source": [
    "# symbols import\n",
    "symbStocks = pd.read_csv('C:/Users/Derek/Desktop/Data Analytics/Data/SYMBOLOGY.csv')\n",
    "# section symbols\n",
    "secMat = pd.read_csv('C:/Users/Derek/Desktop/Data Analytics/Data/basic_materials.csv')\n",
    "secCong = pd.read_csv('C:/Users/Derek/Desktop/Data Analytics/Data/conglomerates.csv')\n",
    "secConsu = pd.read_csv('C:/Users/Derek/Desktop/Data Analytics/Data/consumer_goods.csv')\n",
    "secFinan = pd.read_csv('C:/Users/Derek/Desktop/Data Analytics/Data/financial.csv')\n",
    "secHealth = pd.read_csv('C:/Users/Derek/Desktop/Data Analytics/Data/healthcare.csv')\n",
    "secIndus = pd.read_csv('C:/Users/Derek/Desktop/Data Analytics/Data/industrial_goods.csv')\n",
    "secServ = pd.read_csv('C:/Users/Derek/Desktop/Data Analytics/Data/services.csv')\n",
    "secTech = pd.read_csv('C:/Users/Derek/Desktop/Data Analytics/Data/technology.csv')\n",
    "secUtil = pd.read_csv('C:/Users/Derek/Desktop/Data Analytics/Data/utilities.csv')\n",
    "\n",
    "\n",
    "\n"
   ]
  },
  {
   "cell_type": "code",
   "execution_count": 4,
   "metadata": {
    "collapsed": true
   },
   "outputs": [],
   "source": [
    "symbStocks.dtypes\n",
    "symbStocks = symbStocks.ix[:,0:3]"
   ]
  },
  {
   "cell_type": "code",
   "execution_count": null,
   "metadata": {
    "collapsed": true
   },
   "outputs": [],
   "source": [
    "# data import\n",
    "intradayData = pd.read_csv('C:/Users/Derek/Desktop/Data Analytics/Data/Intraday.csv')"
   ]
  },
  {
   "cell_type": "code",
   "execution_count": null,
   "metadata": {
    "collapsed": true
   },
   "outputs": [],
   "source": [
    "intraData.head()"
   ]
  }
 ],
 "metadata": {
  "kernelspec": {
   "display_name": "Python 2",
   "language": "python",
   "name": "python2"
  },
  "language_info": {
   "codemirror_mode": {
    "name": "ipython",
    "version": 2
   },
   "file_extension": ".py",
   "mimetype": "text/x-python",
   "name": "python",
   "nbconvert_exporter": "python",
   "pygments_lexer": "ipython2",
   "version": "2.7.11"
  }
 },
 "nbformat": 4,
 "nbformat_minor": 0
}
